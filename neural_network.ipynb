{
 "cells": [
  {
   "cell_type": "markdown",
   "id": "1611a70b",
   "metadata": {},
   "source": [
    "## Import Libraries and Dependencies"
   ]
  },
  {
   "cell_type": "code",
   "execution_count": 1,
   "id": "c0cf552c",
   "metadata": {},
   "outputs": [],
   "source": [
    "# Import our dependencies\n",
    "from pathlib import Path\n",
    "import numpy as np\n",
    "import pandas as pd\n",
    "from sklearn.metrics import confusion_matrix\n",
    "from sklearn.model_selection import train_test_split\n",
    "from sklearn.preprocessing import StandardScaler, OneHotEncoder\n",
    "from sklearn.metrics import balanced_accuracy_score\n",
    "from sklearn.metrics import confusion_matrix, ConfusionMatrixDisplay\n",
    "from sklearn.metrics import f1_score, accuracy_score, precision_score, recall_score, classification_report\n",
    "import sklearn as skl\n",
    "import tensorflow as tf"
   ]
  },
  {
   "cell_type": "code",
   "execution_count": 2,
   "id": "91450368",
   "metadata": {
    "scrolled": false
   },
   "outputs": [
    {
     "data": {
      "text/html": [
       "<div>\n",
       "<style scoped>\n",
       "    .dataframe tbody tr th:only-of-type {\n",
       "        vertical-align: middle;\n",
       "    }\n",
       "\n",
       "    .dataframe tbody tr th {\n",
       "        vertical-align: top;\n",
       "    }\n",
       "\n",
       "    .dataframe thead th {\n",
       "        text-align: right;\n",
       "    }\n",
       "</style>\n",
       "<table border=\"1\" class=\"dataframe\">\n",
       "  <thead>\n",
       "    <tr style=\"text-align: right;\">\n",
       "      <th></th>\n",
       "      <th>gender</th>\n",
       "      <th>age</th>\n",
       "      <th>hypertension</th>\n",
       "      <th>heart_disease</th>\n",
       "      <th>ever_married</th>\n",
       "      <th>work_type</th>\n",
       "      <th>Residence_type</th>\n",
       "      <th>avg_glucose_level</th>\n",
       "      <th>bmi</th>\n",
       "      <th>smoking_status</th>\n",
       "      <th>stroke</th>\n",
       "    </tr>\n",
       "    <tr>\n",
       "      <th>id</th>\n",
       "      <th></th>\n",
       "      <th></th>\n",
       "      <th></th>\n",
       "      <th></th>\n",
       "      <th></th>\n",
       "      <th></th>\n",
       "      <th></th>\n",
       "      <th></th>\n",
       "      <th></th>\n",
       "      <th></th>\n",
       "      <th></th>\n",
       "    </tr>\n",
       "  </thead>\n",
       "  <tbody>\n",
       "    <tr>\n",
       "      <th>9046</th>\n",
       "      <td>Male</td>\n",
       "      <td>67.0</td>\n",
       "      <td>0</td>\n",
       "      <td>1</td>\n",
       "      <td>Yes</td>\n",
       "      <td>Private</td>\n",
       "      <td>Urban</td>\n",
       "      <td>228.69</td>\n",
       "      <td>36.6</td>\n",
       "      <td>formerly smoked</td>\n",
       "      <td>1</td>\n",
       "    </tr>\n",
       "    <tr>\n",
       "      <th>31112</th>\n",
       "      <td>Male</td>\n",
       "      <td>80.0</td>\n",
       "      <td>0</td>\n",
       "      <td>1</td>\n",
       "      <td>Yes</td>\n",
       "      <td>Private</td>\n",
       "      <td>Rural</td>\n",
       "      <td>105.92</td>\n",
       "      <td>32.5</td>\n",
       "      <td>never smoked</td>\n",
       "      <td>1</td>\n",
       "    </tr>\n",
       "    <tr>\n",
       "      <th>60182</th>\n",
       "      <td>Female</td>\n",
       "      <td>49.0</td>\n",
       "      <td>0</td>\n",
       "      <td>0</td>\n",
       "      <td>Yes</td>\n",
       "      <td>Private</td>\n",
       "      <td>Urban</td>\n",
       "      <td>171.23</td>\n",
       "      <td>34.4</td>\n",
       "      <td>smokes</td>\n",
       "      <td>1</td>\n",
       "    </tr>\n",
       "    <tr>\n",
       "      <th>1665</th>\n",
       "      <td>Female</td>\n",
       "      <td>79.0</td>\n",
       "      <td>1</td>\n",
       "      <td>0</td>\n",
       "      <td>Yes</td>\n",
       "      <td>Self-employed</td>\n",
       "      <td>Rural</td>\n",
       "      <td>174.12</td>\n",
       "      <td>24.0</td>\n",
       "      <td>never smoked</td>\n",
       "      <td>1</td>\n",
       "    </tr>\n",
       "    <tr>\n",
       "      <th>56669</th>\n",
       "      <td>Male</td>\n",
       "      <td>81.0</td>\n",
       "      <td>0</td>\n",
       "      <td>0</td>\n",
       "      <td>Yes</td>\n",
       "      <td>Private</td>\n",
       "      <td>Urban</td>\n",
       "      <td>186.21</td>\n",
       "      <td>29.0</td>\n",
       "      <td>formerly smoked</td>\n",
       "      <td>1</td>\n",
       "    </tr>\n",
       "    <tr>\n",
       "      <th>...</th>\n",
       "      <td>...</td>\n",
       "      <td>...</td>\n",
       "      <td>...</td>\n",
       "      <td>...</td>\n",
       "      <td>...</td>\n",
       "      <td>...</td>\n",
       "      <td>...</td>\n",
       "      <td>...</td>\n",
       "      <td>...</td>\n",
       "      <td>...</td>\n",
       "      <td>...</td>\n",
       "    </tr>\n",
       "    <tr>\n",
       "      <th>14180</th>\n",
       "      <td>Female</td>\n",
       "      <td>13.0</td>\n",
       "      <td>0</td>\n",
       "      <td>0</td>\n",
       "      <td>No</td>\n",
       "      <td>children</td>\n",
       "      <td>Rural</td>\n",
       "      <td>103.08</td>\n",
       "      <td>18.6</td>\n",
       "      <td>Unknown</td>\n",
       "      <td>0</td>\n",
       "    </tr>\n",
       "    <tr>\n",
       "      <th>44873</th>\n",
       "      <td>Female</td>\n",
       "      <td>81.0</td>\n",
       "      <td>0</td>\n",
       "      <td>0</td>\n",
       "      <td>Yes</td>\n",
       "      <td>Self-employed</td>\n",
       "      <td>Urban</td>\n",
       "      <td>125.20</td>\n",
       "      <td>40.0</td>\n",
       "      <td>never smoked</td>\n",
       "      <td>0</td>\n",
       "    </tr>\n",
       "    <tr>\n",
       "      <th>19723</th>\n",
       "      <td>Female</td>\n",
       "      <td>35.0</td>\n",
       "      <td>0</td>\n",
       "      <td>0</td>\n",
       "      <td>Yes</td>\n",
       "      <td>Self-employed</td>\n",
       "      <td>Rural</td>\n",
       "      <td>82.99</td>\n",
       "      <td>30.6</td>\n",
       "      <td>never smoked</td>\n",
       "      <td>0</td>\n",
       "    </tr>\n",
       "    <tr>\n",
       "      <th>37544</th>\n",
       "      <td>Male</td>\n",
       "      <td>51.0</td>\n",
       "      <td>0</td>\n",
       "      <td>0</td>\n",
       "      <td>Yes</td>\n",
       "      <td>Private</td>\n",
       "      <td>Rural</td>\n",
       "      <td>166.29</td>\n",
       "      <td>25.6</td>\n",
       "      <td>formerly smoked</td>\n",
       "      <td>0</td>\n",
       "    </tr>\n",
       "    <tr>\n",
       "      <th>44679</th>\n",
       "      <td>Female</td>\n",
       "      <td>44.0</td>\n",
       "      <td>0</td>\n",
       "      <td>0</td>\n",
       "      <td>Yes</td>\n",
       "      <td>Govt_job</td>\n",
       "      <td>Urban</td>\n",
       "      <td>85.28</td>\n",
       "      <td>26.2</td>\n",
       "      <td>Unknown</td>\n",
       "      <td>0</td>\n",
       "    </tr>\n",
       "  </tbody>\n",
       "</table>\n",
       "<p>4909 rows × 11 columns</p>\n",
       "</div>"
      ],
      "text/plain": [
       "       gender   age  hypertension  heart_disease ever_married      work_type  \\\n",
       "id                                                                             \n",
       "9046     Male  67.0             0              1          Yes        Private   \n",
       "31112    Male  80.0             0              1          Yes        Private   \n",
       "60182  Female  49.0             0              0          Yes        Private   \n",
       "1665   Female  79.0             1              0          Yes  Self-employed   \n",
       "56669    Male  81.0             0              0          Yes        Private   \n",
       "...       ...   ...           ...            ...          ...            ...   \n",
       "14180  Female  13.0             0              0           No       children   \n",
       "44873  Female  81.0             0              0          Yes  Self-employed   \n",
       "19723  Female  35.0             0              0          Yes  Self-employed   \n",
       "37544    Male  51.0             0              0          Yes        Private   \n",
       "44679  Female  44.0             0              0          Yes       Govt_job   \n",
       "\n",
       "      Residence_type  avg_glucose_level   bmi   smoking_status  stroke  \n",
       "id                                                                      \n",
       "9046           Urban             228.69  36.6  formerly smoked       1  \n",
       "31112          Rural             105.92  32.5     never smoked       1  \n",
       "60182          Urban             171.23  34.4           smokes       1  \n",
       "1665           Rural             174.12  24.0     never smoked       1  \n",
       "56669          Urban             186.21  29.0  formerly smoked       1  \n",
       "...              ...                ...   ...              ...     ...  \n",
       "14180          Rural             103.08  18.6          Unknown       0  \n",
       "44873          Urban             125.20  40.0     never smoked       0  \n",
       "19723          Rural              82.99  30.6     never smoked       0  \n",
       "37544          Rural             166.29  25.6  formerly smoked       0  \n",
       "44679          Urban              85.28  26.2          Unknown       0  \n",
       "\n",
       "[4909 rows x 11 columns]"
      ]
     },
     "execution_count": 2,
     "metadata": {},
     "output_type": "execute_result"
    }
   ],
   "source": [
    "# Load the data\n",
    "file_path = Path(\"resources/processed_stroke_db_w_cat.csv\")\n",
    "df = pd.read_csv(file_path, index_col=[0])\n",
    "df"
   ]
  },
  {
   "cell_type": "code",
   "execution_count": 3,
   "id": "ffefb5b4",
   "metadata": {},
   "outputs": [
    {
     "data": {
      "text/plain": [
       "(4909, 11)"
      ]
     },
     "execution_count": 3,
     "metadata": {},
     "output_type": "execute_result"
    }
   ],
   "source": [
    "df.shape"
   ]
  },
  {
   "cell_type": "markdown",
   "id": "f0864b02",
   "metadata": {},
   "source": [
    "One-hot Encoding for Categotical Data & StandScaler for Numerical Data"
   ]
  },
  {
   "cell_type": "code",
   "execution_count": 4,
   "id": "24b1316b",
   "metadata": {},
   "outputs": [
    {
     "name": "stdout",
     "output_type": "stream",
     "text": [
      "['gender', 'ever_married', 'work_type', 'Residence_type', 'smoking_status']\n",
      "gender            3\n",
      "ever_married      2\n",
      "work_type         5\n",
      "Residence_type    2\n",
      "smoking_status    4\n",
      "dtype: int64\n"
     ]
    }
   ],
   "source": [
    "# Generate our categorical variable list\n",
    "cat_labels= df.dtypes[df.dtypes == \"object\"].index.tolist()\n",
    "print(cat_labels)\n",
    "\n",
    "# Check the number of unique values in each column\n",
    "print(df[cat_labels].nunique())"
   ]
  },
  {
   "cell_type": "code",
   "execution_count": 5,
   "id": "c757f63a",
   "metadata": {},
   "outputs": [
    {
     "data": {
      "text/html": [
       "<div>\n",
       "<style scoped>\n",
       "    .dataframe tbody tr th:only-of-type {\n",
       "        vertical-align: middle;\n",
       "    }\n",
       "\n",
       "    .dataframe tbody tr th {\n",
       "        vertical-align: top;\n",
       "    }\n",
       "\n",
       "    .dataframe thead th {\n",
       "        text-align: right;\n",
       "    }\n",
       "</style>\n",
       "<table border=\"1\" class=\"dataframe\">\n",
       "  <thead>\n",
       "    <tr style=\"text-align: right;\">\n",
       "      <th></th>\n",
       "      <th>gender_Female</th>\n",
       "      <th>gender_Male</th>\n",
       "      <th>gender_Other</th>\n",
       "      <th>ever_married_No</th>\n",
       "      <th>ever_married_Yes</th>\n",
       "      <th>work_type_Govt_job</th>\n",
       "      <th>work_type_Never_worked</th>\n",
       "      <th>work_type_Private</th>\n",
       "      <th>work_type_Self-employed</th>\n",
       "      <th>work_type_children</th>\n",
       "      <th>Residence_type_Rural</th>\n",
       "      <th>Residence_type_Urban</th>\n",
       "      <th>smoking_status_Unknown</th>\n",
       "      <th>smoking_status_formerly smoked</th>\n",
       "      <th>smoking_status_never smoked</th>\n",
       "      <th>smoking_status_smokes</th>\n",
       "    </tr>\n",
       "    <tr>\n",
       "      <th>id</th>\n",
       "      <th></th>\n",
       "      <th></th>\n",
       "      <th></th>\n",
       "      <th></th>\n",
       "      <th></th>\n",
       "      <th></th>\n",
       "      <th></th>\n",
       "      <th></th>\n",
       "      <th></th>\n",
       "      <th></th>\n",
       "      <th></th>\n",
       "      <th></th>\n",
       "      <th></th>\n",
       "      <th></th>\n",
       "      <th></th>\n",
       "      <th></th>\n",
       "    </tr>\n",
       "  </thead>\n",
       "  <tbody>\n",
       "    <tr>\n",
       "      <th>9046</th>\n",
       "      <td>0.0</td>\n",
       "      <td>1.0</td>\n",
       "      <td>0.0</td>\n",
       "      <td>0.0</td>\n",
       "      <td>1.0</td>\n",
       "      <td>0.0</td>\n",
       "      <td>0.0</td>\n",
       "      <td>1.0</td>\n",
       "      <td>0.0</td>\n",
       "      <td>0.0</td>\n",
       "      <td>0.0</td>\n",
       "      <td>1.0</td>\n",
       "      <td>0.0</td>\n",
       "      <td>1.0</td>\n",
       "      <td>0.0</td>\n",
       "      <td>0.0</td>\n",
       "    </tr>\n",
       "    <tr>\n",
       "      <th>31112</th>\n",
       "      <td>0.0</td>\n",
       "      <td>1.0</td>\n",
       "      <td>0.0</td>\n",
       "      <td>0.0</td>\n",
       "      <td>1.0</td>\n",
       "      <td>0.0</td>\n",
       "      <td>0.0</td>\n",
       "      <td>1.0</td>\n",
       "      <td>0.0</td>\n",
       "      <td>0.0</td>\n",
       "      <td>1.0</td>\n",
       "      <td>0.0</td>\n",
       "      <td>0.0</td>\n",
       "      <td>0.0</td>\n",
       "      <td>1.0</td>\n",
       "      <td>0.0</td>\n",
       "    </tr>\n",
       "    <tr>\n",
       "      <th>60182</th>\n",
       "      <td>1.0</td>\n",
       "      <td>0.0</td>\n",
       "      <td>0.0</td>\n",
       "      <td>0.0</td>\n",
       "      <td>1.0</td>\n",
       "      <td>0.0</td>\n",
       "      <td>0.0</td>\n",
       "      <td>1.0</td>\n",
       "      <td>0.0</td>\n",
       "      <td>0.0</td>\n",
       "      <td>0.0</td>\n",
       "      <td>1.0</td>\n",
       "      <td>0.0</td>\n",
       "      <td>0.0</td>\n",
       "      <td>0.0</td>\n",
       "      <td>1.0</td>\n",
       "    </tr>\n",
       "    <tr>\n",
       "      <th>1665</th>\n",
       "      <td>1.0</td>\n",
       "      <td>0.0</td>\n",
       "      <td>0.0</td>\n",
       "      <td>0.0</td>\n",
       "      <td>1.0</td>\n",
       "      <td>0.0</td>\n",
       "      <td>0.0</td>\n",
       "      <td>0.0</td>\n",
       "      <td>1.0</td>\n",
       "      <td>0.0</td>\n",
       "      <td>1.0</td>\n",
       "      <td>0.0</td>\n",
       "      <td>0.0</td>\n",
       "      <td>0.0</td>\n",
       "      <td>1.0</td>\n",
       "      <td>0.0</td>\n",
       "    </tr>\n",
       "    <tr>\n",
       "      <th>56669</th>\n",
       "      <td>0.0</td>\n",
       "      <td>1.0</td>\n",
       "      <td>0.0</td>\n",
       "      <td>0.0</td>\n",
       "      <td>1.0</td>\n",
       "      <td>0.0</td>\n",
       "      <td>0.0</td>\n",
       "      <td>1.0</td>\n",
       "      <td>0.0</td>\n",
       "      <td>0.0</td>\n",
       "      <td>0.0</td>\n",
       "      <td>1.0</td>\n",
       "      <td>0.0</td>\n",
       "      <td>1.0</td>\n",
       "      <td>0.0</td>\n",
       "      <td>0.0</td>\n",
       "    </tr>\n",
       "  </tbody>\n",
       "</table>\n",
       "</div>"
      ],
      "text/plain": [
       "       gender_Female  gender_Male  gender_Other  ever_married_No  \\\n",
       "id                                                                 \n",
       "9046             0.0          1.0           0.0              0.0   \n",
       "31112            0.0          1.0           0.0              0.0   \n",
       "60182            1.0          0.0           0.0              0.0   \n",
       "1665             1.0          0.0           0.0              0.0   \n",
       "56669            0.0          1.0           0.0              0.0   \n",
       "\n",
       "       ever_married_Yes  work_type_Govt_job  work_type_Never_worked  \\\n",
       "id                                                                    \n",
       "9046                1.0                 0.0                     0.0   \n",
       "31112               1.0                 0.0                     0.0   \n",
       "60182               1.0                 0.0                     0.0   \n",
       "1665                1.0                 0.0                     0.0   \n",
       "56669               1.0                 0.0                     0.0   \n",
       "\n",
       "       work_type_Private  work_type_Self-employed  work_type_children  \\\n",
       "id                                                                      \n",
       "9046                 1.0                      0.0                 0.0   \n",
       "31112                1.0                      0.0                 0.0   \n",
       "60182                1.0                      0.0                 0.0   \n",
       "1665                 0.0                      1.0                 0.0   \n",
       "56669                1.0                      0.0                 0.0   \n",
       "\n",
       "       Residence_type_Rural  Residence_type_Urban  smoking_status_Unknown  \\\n",
       "id                                                                          \n",
       "9046                    0.0                   1.0                     0.0   \n",
       "31112                   1.0                   0.0                     0.0   \n",
       "60182                   0.0                   1.0                     0.0   \n",
       "1665                    1.0                   0.0                     0.0   \n",
       "56669                   0.0                   1.0                     0.0   \n",
       "\n",
       "       smoking_status_formerly smoked  smoking_status_never smoked  \\\n",
       "id                                                                   \n",
       "9046                              1.0                          0.0   \n",
       "31112                             0.0                          1.0   \n",
       "60182                             0.0                          0.0   \n",
       "1665                              0.0                          1.0   \n",
       "56669                             1.0                          0.0   \n",
       "\n",
       "       smoking_status_smokes  \n",
       "id                            \n",
       "9046                     0.0  \n",
       "31112                    0.0  \n",
       "60182                    1.0  \n",
       "1665                     0.0  \n",
       "56669                    0.0  "
      ]
     },
     "execution_count": 5,
     "metadata": {},
     "output_type": "execute_result"
    }
   ],
   "source": [
    "# Create the OneHotEncoder instance\n",
    "enc = OneHotEncoder(sparse=False)\n",
    "\n",
    "# Create a OneHotEncoder instance\n",
    "enc = OneHotEncoder(sparse=False)\n",
    "\n",
    "# Fit and transform the OneHotEncoder using the categorical variable list\n",
    "encode_df = pd.DataFrame(enc.fit_transform(df[cat_labels]))\n",
    "\n",
    "encode_df.index = df.index\n",
    "\n",
    "# Add the encoded variable names to the DataFrame\n",
    "encode_df.columns = enc.get_feature_names(cat_labels)\n",
    "encode_df.head()"
   ]
  },
  {
   "cell_type": "code",
   "execution_count": 6,
   "id": "a76a70f5",
   "metadata": {},
   "outputs": [
    {
     "data": {
      "text/plain": [
       "(4909, 16)"
      ]
     },
     "execution_count": 6,
     "metadata": {},
     "output_type": "execute_result"
    }
   ],
   "source": [
    "encode_df.shape"
   ]
  },
  {
   "cell_type": "code",
   "execution_count": 7,
   "id": "350453ea",
   "metadata": {},
   "outputs": [
    {
     "name": "stderr",
     "output_type": "stream",
     "text": [
      "C:\\Users\\Kristen\\anaconda3\\envs\\mlenv\\lib\\site-packages\\ipykernel_launcher.py:3: FutureWarning: In a future version of pandas all arguments of DataFrame.drop except for the argument 'labels' will be keyword-only\n",
      "  This is separate from the ipykernel package so we can avoid doing imports until\n"
     ]
    },
    {
     "data": {
      "text/plain": [
       "(4909, 22)"
      ]
     },
     "execution_count": 7,
     "metadata": {},
     "output_type": "execute_result"
    }
   ],
   "source": [
    "# Merge one-hot encoded features and drop the originals\n",
    "df = df.merge(encode_df,left_index=True, right_index=True)\n",
    "df = df.drop(cat_labels,1)\n",
    "df.shape"
   ]
  },
  {
   "cell_type": "code",
   "execution_count": 8,
   "id": "bc3f592d",
   "metadata": {},
   "outputs": [
    {
     "name": "stderr",
     "output_type": "stream",
     "text": [
      "C:\\Users\\Kristen\\anaconda3\\envs\\mlenv\\lib\\site-packages\\ipykernel_launcher.py:3: FutureWarning: In a future version of pandas all arguments of DataFrame.drop except for the argument 'labels' will be keyword-only\n",
      "  This is separate from the ipykernel package so we can avoid doing imports until\n"
     ]
    }
   ],
   "source": [
    "# Split our preprocessed data into our features and target arrays\n",
    "y = df[\"stroke\"].values\n",
    "X = df.drop([\"stroke\"],1).values"
   ]
  },
  {
   "cell_type": "code",
   "execution_count": 9,
   "id": "e61bb187",
   "metadata": {},
   "outputs": [],
   "source": [
    "# Split the preprocessed data into a training and testing dataset\n",
    "X_train, X_test, y_train, y_test = train_test_split(X, y, random_state=12, stratify=y)"
   ]
  },
  {
   "cell_type": "code",
   "execution_count": 10,
   "id": "ec3ec7fb",
   "metadata": {},
   "outputs": [
    {
     "data": {
      "text/plain": [
       "(3681, 21)"
      ]
     },
     "execution_count": 10,
     "metadata": {},
     "output_type": "execute_result"
    }
   ],
   "source": [
    "# Create the StandardScaler instance\n",
    "scaler = StandardScaler()\n",
    "\n",
    "# Fit the StandardScaler\n",
    "X_scaler = scaler.fit(X_train)\n",
    "\n",
    "# Scale the data\n",
    "X_train_scaled = X_scaler.transform(X_train)\n",
    "X_test_scaled = X_scaler.transform(X_test)\n",
    "X_train_scaled.shape"
   ]
  },
  {
   "cell_type": "code",
   "execution_count": 11,
   "id": "61eec56e",
   "metadata": {},
   "outputs": [
    {
     "data": {
      "text/plain": [
       "Counter({0: 3524, 1: 3542})"
      ]
     },
     "execution_count": 11,
     "metadata": {},
     "output_type": "execute_result"
    }
   ],
   "source": [
    "from collections import Counter\n",
    "\n",
    "# Resample the training data with SMOTE\n",
    "# from imblearn.over_sampling import SMOTE\n",
    "# Instantiate the model\n",
    "# smote = SMOTE(random_state=1)\n",
    "\n",
    "\n",
    "# Resample the training data with ADASYN\n",
    "from imblearn.over_sampling import ADASYN\n",
    "# Instantiate the model\n",
    "smote = ADASYN(random_state=1)\n",
    "\n",
    "\n",
    "# Resample the targets\n",
    "X_resampled, y_resampled = smote.fit_resample(X_train_scaled, y_train)\n",
    "Counter(y_resampled)"
   ]
  },
  {
   "cell_type": "markdown",
   "id": "57b08d8f",
   "metadata": {},
   "source": [
    "## Single Neuron / Single Layer Neural Network"
   ]
  },
  {
   "cell_type": "markdown",
   "id": "732cf3c4",
   "metadata": {},
   "source": [
    "### Train, Fit, Evaluate, Predict Model"
   ]
  },
  {
   "cell_type": "code",
   "execution_count": 12,
   "id": "5d2f3c7a",
   "metadata": {
    "scrolled": true
   },
   "outputs": [
    {
     "name": "stdout",
     "output_type": "stream",
     "text": [
      "Model: \"sequential\"\n",
      "_________________________________________________________________\n",
      " Layer (type)                Output Shape              Param #   \n",
      "=================================================================\n",
      " dense (Dense)               (None, 1)                 22        \n",
      "                                                                 \n",
      " dense_1 (Dense)             (None, 1)                 2         \n",
      "                                                                 \n",
      "=================================================================\n",
      "Total params: 24\n",
      "Trainable params: 24\n",
      "Non-trainable params: 0\n",
      "_________________________________________________________________\n"
     ]
    }
   ],
   "source": [
    "# Create the Keras Sequential model\n",
    "nn_model = tf.keras.models.Sequential()\n",
    "\n",
    "# Add our first Dense layer, including the input layer\n",
    "nn_model.add(tf.keras.layers.Dense(units=1, activation=\"relu\", input_dim=21))\n",
    "\n",
    "# Add the output layer that uses a probability activation function\n",
    "nn_model.add(tf.keras.layers.Dense(units=1, activation=\"sigmoid\"))\n",
    "\n",
    "# Check the structure of the Sequential model\n",
    "nn_model.summary()"
   ]
  },
  {
   "cell_type": "code",
   "execution_count": 13,
   "id": "c26f2a30",
   "metadata": {},
   "outputs": [],
   "source": [
    "# Compile the Sequential model together and customize metrics\n",
    "nn_model.compile(loss=\"binary_crossentropy\", optimizer=\"adam\", metrics=[\"accuracy\"])"
   ]
  },
  {
   "cell_type": "code",
   "execution_count": 14,
   "id": "363453f8",
   "metadata": {
    "scrolled": true
   },
   "outputs": [
    {
     "name": "stdout",
     "output_type": "stream",
     "text": [
      "Epoch 1/100\n",
      "221/221 [==============================] - 1s 2ms/step - loss: 0.7138 - accuracy: 0.5079 - val_loss: 0.7468 - val_accuracy: 0.6572\n",
      "Epoch 2/100\n",
      "221/221 [==============================] - 0s 1ms/step - loss: 0.6784 - accuracy: 0.5872 - val_loss: 0.7172 - val_accuracy: 0.6832\n",
      "Epoch 3/100\n",
      "221/221 [==============================] - 0s 1ms/step - loss: 0.6449 - accuracy: 0.6618 - val_loss: 0.7089 - val_accuracy: 0.7182\n",
      "Epoch 4/100\n",
      "221/221 [==============================] - 0s 1ms/step - loss: 0.6141 - accuracy: 0.7053 - val_loss: 0.7030 - val_accuracy: 0.7166\n",
      "Epoch 5/100\n",
      "221/221 [==============================] - 0s 1ms/step - loss: 0.5880 - accuracy: 0.7431 - val_loss: 0.6670 - val_accuracy: 0.7288\n",
      "Epoch 6/100\n",
      "221/221 [==============================] - 0s 1ms/step - loss: 0.5680 - accuracy: 0.7590 - val_loss: 0.6437 - val_accuracy: 0.7345\n",
      "Epoch 7/100\n",
      "221/221 [==============================] - 0s 1ms/step - loss: 0.5516 - accuracy: 0.7655 - val_loss: 0.6331 - val_accuracy: 0.7305\n",
      "Epoch 8/100\n",
      "221/221 [==============================] - 0s 1ms/step - loss: 0.5376 - accuracy: 0.7744 - val_loss: 0.6089 - val_accuracy: 0.7362\n",
      "Epoch 9/100\n",
      "221/221 [==============================] - 0s 1ms/step - loss: 0.5252 - accuracy: 0.7798 - val_loss: 0.5935 - val_accuracy: 0.7427\n",
      "Epoch 10/100\n",
      "221/221 [==============================] - 0s 1ms/step - loss: 0.5153 - accuracy: 0.7802 - val_loss: 0.5753 - val_accuracy: 0.7467\n",
      "Epoch 11/100\n",
      "221/221 [==============================] - 0s 1ms/step - loss: 0.5070 - accuracy: 0.7845 - val_loss: 0.5598 - val_accuracy: 0.7516\n",
      "Epoch 12/100\n",
      "221/221 [==============================] - 0s 1ms/step - loss: 0.5003 - accuracy: 0.7857 - val_loss: 0.5541 - val_accuracy: 0.7467\n",
      "Epoch 13/100\n",
      "221/221 [==============================] - 0s 1ms/step - loss: 0.4951 - accuracy: 0.7845 - val_loss: 0.5361 - val_accuracy: 0.7492\n",
      "Epoch 14/100\n",
      "221/221 [==============================] - 0s 1ms/step - loss: 0.4908 - accuracy: 0.7863 - val_loss: 0.5241 - val_accuracy: 0.7541\n",
      "Epoch 15/100\n",
      "221/221 [==============================] - 0s 1ms/step - loss: 0.4871 - accuracy: 0.7869 - val_loss: 0.5152 - val_accuracy: 0.7573\n",
      "Epoch 16/100\n",
      "221/221 [==============================] - 0s 1ms/step - loss: 0.4843 - accuracy: 0.7874 - val_loss: 0.5079 - val_accuracy: 0.7598\n",
      "Epoch 17/100\n",
      "221/221 [==============================] - 0s 1ms/step - loss: 0.4819 - accuracy: 0.7873 - val_loss: 0.5056 - val_accuracy: 0.7581\n",
      "Epoch 18/100\n",
      "221/221 [==============================] - 0s 1ms/step - loss: 0.4800 - accuracy: 0.7893 - val_loss: 0.5012 - val_accuracy: 0.7581\n",
      "Epoch 19/100\n",
      "221/221 [==============================] - 0s 1ms/step - loss: 0.4782 - accuracy: 0.7864 - val_loss: 0.5003 - val_accuracy: 0.7590\n",
      "Epoch 20/100\n",
      "221/221 [==============================] - 0s 1ms/step - loss: 0.4767 - accuracy: 0.7873 - val_loss: 0.5054 - val_accuracy: 0.7581\n",
      "Epoch 21/100\n",
      "221/221 [==============================] - 0s 1ms/step - loss: 0.4754 - accuracy: 0.7883 - val_loss: 0.4903 - val_accuracy: 0.7598\n",
      "Epoch 22/100\n",
      "221/221 [==============================] - 0s 1ms/step - loss: 0.4743 - accuracy: 0.7884 - val_loss: 0.4845 - val_accuracy: 0.7606\n",
      "Epoch 23/100\n",
      "221/221 [==============================] - 0s 1ms/step - loss: 0.4734 - accuracy: 0.7842 - val_loss: 0.4951 - val_accuracy: 0.7581\n",
      "Epoch 24/100\n",
      "221/221 [==============================] - 0s 1ms/step - loss: 0.4726 - accuracy: 0.7856 - val_loss: 0.4943 - val_accuracy: 0.7581\n",
      "Epoch 25/100\n",
      "221/221 [==============================] - 0s 1ms/step - loss: 0.4719 - accuracy: 0.7864 - val_loss: 0.4895 - val_accuracy: 0.7590\n",
      "Epoch 26/100\n",
      "221/221 [==============================] - 0s 1ms/step - loss: 0.4712 - accuracy: 0.7876 - val_loss: 0.4783 - val_accuracy: 0.7590\n",
      "Epoch 27/100\n",
      "221/221 [==============================] - 0s 1ms/step - loss: 0.4709 - accuracy: 0.7873 - val_loss: 0.4829 - val_accuracy: 0.7598\n",
      "Epoch 28/100\n",
      "221/221 [==============================] - 0s 1ms/step - loss: 0.4701 - accuracy: 0.7864 - val_loss: 0.4851 - val_accuracy: 0.7598\n",
      "Epoch 29/100\n",
      "221/221 [==============================] - 0s 1ms/step - loss: 0.4697 - accuracy: 0.7871 - val_loss: 0.4760 - val_accuracy: 0.7606\n",
      "Epoch 30/100\n",
      "221/221 [==============================] - 0s 1ms/step - loss: 0.4693 - accuracy: 0.7856 - val_loss: 0.4825 - val_accuracy: 0.7590\n",
      "Epoch 31/100\n",
      "221/221 [==============================] - 0s 1ms/step - loss: 0.4689 - accuracy: 0.7856 - val_loss: 0.4851 - val_accuracy: 0.7581\n",
      "Epoch 32/100\n",
      "221/221 [==============================] - 0s 1ms/step - loss: 0.4686 - accuracy: 0.7873 - val_loss: 0.4799 - val_accuracy: 0.7598\n",
      "Epoch 33/100\n",
      "221/221 [==============================] - 0s 1ms/step - loss: 0.4683 - accuracy: 0.7863 - val_loss: 0.4764 - val_accuracy: 0.7590\n",
      "Epoch 34/100\n",
      "221/221 [==============================] - 0s 1ms/step - loss: 0.4679 - accuracy: 0.7853 - val_loss: 0.4745 - val_accuracy: 0.7598\n",
      "Epoch 35/100\n",
      "221/221 [==============================] - 0s 1ms/step - loss: 0.4675 - accuracy: 0.7855 - val_loss: 0.4956 - val_accuracy: 0.7557\n",
      "Epoch 36/100\n",
      "221/221 [==============================] - 0s 1ms/step - loss: 0.4673 - accuracy: 0.7890 - val_loss: 0.4578 - val_accuracy: 0.7663\n",
      "Epoch 37/100\n",
      "221/221 [==============================] - 0s 1ms/step - loss: 0.4672 - accuracy: 0.7850 - val_loss: 0.4760 - val_accuracy: 0.7598\n",
      "Epoch 38/100\n",
      "221/221 [==============================] - 0s 1ms/step - loss: 0.4668 - accuracy: 0.7849 - val_loss: 0.4836 - val_accuracy: 0.7581\n",
      "Epoch 39/100\n",
      "221/221 [==============================] - 0s 1ms/step - loss: 0.4668 - accuracy: 0.7845 - val_loss: 0.4736 - val_accuracy: 0.7606\n",
      "Epoch 40/100\n",
      "221/221 [==============================] - 0s 1ms/step - loss: 0.4666 - accuracy: 0.7850 - val_loss: 0.4639 - val_accuracy: 0.7614\n",
      "Epoch 41/100\n",
      "221/221 [==============================] - 0s 1ms/step - loss: 0.4662 - accuracy: 0.7855 - val_loss: 0.4766 - val_accuracy: 0.7598\n",
      "Epoch 42/100\n",
      "221/221 [==============================] - 0s 1ms/step - loss: 0.4663 - accuracy: 0.7849 - val_loss: 0.4746 - val_accuracy: 0.7598\n",
      "Epoch 43/100\n",
      "221/221 [==============================] - 0s 1ms/step - loss: 0.4660 - accuracy: 0.7852 - val_loss: 0.4782 - val_accuracy: 0.7590\n",
      "Epoch 44/100\n",
      "221/221 [==============================] - 0s 1ms/step - loss: 0.4660 - accuracy: 0.7847 - val_loss: 0.4790 - val_accuracy: 0.7581\n",
      "Epoch 45/100\n",
      "221/221 [==============================] - 0s 1ms/step - loss: 0.4658 - accuracy: 0.7870 - val_loss: 0.4724 - val_accuracy: 0.7598\n",
      "Epoch 46/100\n",
      "221/221 [==============================] - 0s 1ms/step - loss: 0.4655 - accuracy: 0.7864 - val_loss: 0.4696 - val_accuracy: 0.7590\n",
      "Epoch 47/100\n",
      "221/221 [==============================] - 0s 1ms/step - loss: 0.4654 - accuracy: 0.7850 - val_loss: 0.4703 - val_accuracy: 0.7606\n",
      "Epoch 48/100\n",
      "221/221 [==============================] - 0s 1ms/step - loss: 0.4653 - accuracy: 0.7857 - val_loss: 0.4856 - val_accuracy: 0.7565\n",
      "Epoch 49/100\n",
      "221/221 [==============================] - 0s 1ms/step - loss: 0.4652 - accuracy: 0.7856 - val_loss: 0.4627 - val_accuracy: 0.7598\n",
      "Epoch 50/100\n",
      "221/221 [==============================] - 0s 1ms/step - loss: 0.4651 - accuracy: 0.7826 - val_loss: 0.4791 - val_accuracy: 0.7581\n",
      "Epoch 51/100\n",
      "221/221 [==============================] - 0s 1ms/step - loss: 0.4650 - accuracy: 0.7853 - val_loss: 0.4540 - val_accuracy: 0.7647\n",
      "Epoch 52/100\n",
      "221/221 [==============================] - 0s 1ms/step - loss: 0.4647 - accuracy: 0.7823 - val_loss: 0.4788 - val_accuracy: 0.7590\n",
      "Epoch 53/100\n",
      "221/221 [==============================] - 0s 1ms/step - loss: 0.4647 - accuracy: 0.7847 - val_loss: 0.4837 - val_accuracy: 0.7557\n",
      "Epoch 54/100\n",
      "221/221 [==============================] - 0s 1ms/step - loss: 0.4649 - accuracy: 0.7863 - val_loss: 0.4698 - val_accuracy: 0.7581\n",
      "Epoch 55/100\n",
      "221/221 [==============================] - 0s 1ms/step - loss: 0.4646 - accuracy: 0.7849 - val_loss: 0.4746 - val_accuracy: 0.7590\n",
      "Epoch 56/100\n",
      "221/221 [==============================] - 0s 1ms/step - loss: 0.4645 - accuracy: 0.7853 - val_loss: 0.4667 - val_accuracy: 0.7606\n",
      "Epoch 57/100\n",
      "221/221 [==============================] - 0s 1ms/step - loss: 0.4645 - accuracy: 0.7849 - val_loss: 0.4543 - val_accuracy: 0.7638\n"
     ]
    },
    {
     "name": "stdout",
     "output_type": "stream",
     "text": [
      "Epoch 58/100\n",
      "221/221 [==============================] - 0s 1ms/step - loss: 0.4643 - accuracy: 0.7874 - val_loss: 0.4613 - val_accuracy: 0.7606\n",
      "Epoch 59/100\n",
      "221/221 [==============================] - 0s 1ms/step - loss: 0.4643 - accuracy: 0.7843 - val_loss: 0.4798 - val_accuracy: 0.7581\n",
      "Epoch 60/100\n",
      "221/221 [==============================] - 0s 1ms/step - loss: 0.4644 - accuracy: 0.7853 - val_loss: 0.4798 - val_accuracy: 0.7573\n",
      "Epoch 61/100\n",
      "221/221 [==============================] - 0s 1ms/step - loss: 0.4644 - accuracy: 0.7873 - val_loss: 0.4609 - val_accuracy: 0.7606\n",
      "Epoch 62/100\n",
      "221/221 [==============================] - 0s 1ms/step - loss: 0.4642 - accuracy: 0.7849 - val_loss: 0.4559 - val_accuracy: 0.7630\n",
      "Epoch 63/100\n",
      "221/221 [==============================] - 0s 1ms/step - loss: 0.4642 - accuracy: 0.7862 - val_loss: 0.4610 - val_accuracy: 0.7622\n",
      "Epoch 64/100\n",
      "221/221 [==============================] - 0s 1ms/step - loss: 0.4636 - accuracy: 0.7864 - val_loss: 0.4856 - val_accuracy: 0.7549\n",
      "Epoch 65/100\n",
      "221/221 [==============================] - 0s 1ms/step - loss: 0.4640 - accuracy: 0.7864 - val_loss: 0.4827 - val_accuracy: 0.7565\n",
      "Epoch 66/100\n",
      "221/221 [==============================] - 0s 1ms/step - loss: 0.4642 - accuracy: 0.7866 - val_loss: 0.4619 - val_accuracy: 0.7606\n",
      "Epoch 67/100\n",
      "221/221 [==============================] - 0s 1ms/step - loss: 0.4637 - accuracy: 0.7852 - val_loss: 0.4636 - val_accuracy: 0.7614\n",
      "Epoch 68/100\n",
      "221/221 [==============================] - 0s 1ms/step - loss: 0.4638 - accuracy: 0.7862 - val_loss: 0.4658 - val_accuracy: 0.7614\n",
      "Epoch 69/100\n",
      "221/221 [==============================] - 0s 1ms/step - loss: 0.4637 - accuracy: 0.7857 - val_loss: 0.4680 - val_accuracy: 0.7614\n",
      "Epoch 70/100\n",
      "221/221 [==============================] - 0s 1ms/step - loss: 0.4638 - accuracy: 0.7876 - val_loss: 0.4609 - val_accuracy: 0.7622\n",
      "Epoch 71/100\n",
      "221/221 [==============================] - 0s 1ms/step - loss: 0.4638 - accuracy: 0.7846 - val_loss: 0.4609 - val_accuracy: 0.7622\n",
      "Epoch 72/100\n",
      "221/221 [==============================] - 0s 1ms/step - loss: 0.4636 - accuracy: 0.7852 - val_loss: 0.4609 - val_accuracy: 0.7622\n",
      "Epoch 73/100\n",
      "221/221 [==============================] - 0s 1ms/step - loss: 0.4636 - accuracy: 0.7860 - val_loss: 0.4543 - val_accuracy: 0.7622\n",
      "Epoch 74/100\n",
      "221/221 [==============================] - 0s 1ms/step - loss: 0.4636 - accuracy: 0.7871 - val_loss: 0.4665 - val_accuracy: 0.7606\n",
      "Epoch 75/100\n",
      "221/221 [==============================] - 0s 1ms/step - loss: 0.4637 - accuracy: 0.7850 - val_loss: 0.4537 - val_accuracy: 0.7638\n",
      "Epoch 76/100\n",
      "221/221 [==============================] - 0s 1ms/step - loss: 0.4635 - accuracy: 0.7855 - val_loss: 0.4668 - val_accuracy: 0.7598\n",
      "Epoch 77/100\n",
      "221/221 [==============================] - 0s 1ms/step - loss: 0.4636 - accuracy: 0.7842 - val_loss: 0.4731 - val_accuracy: 0.7598\n",
      "Epoch 78/100\n",
      "221/221 [==============================] - 0s 1ms/step - loss: 0.4634 - accuracy: 0.7871 - val_loss: 0.4662 - val_accuracy: 0.7614\n",
      "Epoch 79/100\n",
      "221/221 [==============================] - 0s 1ms/step - loss: 0.4634 - accuracy: 0.7846 - val_loss: 0.4664 - val_accuracy: 0.7606\n",
      "Epoch 80/100\n",
      "221/221 [==============================] - 0s 1ms/step - loss: 0.4632 - accuracy: 0.7853 - val_loss: 0.4513 - val_accuracy: 0.7655\n",
      "Epoch 81/100\n",
      "221/221 [==============================] - 0s 1ms/step - loss: 0.4632 - accuracy: 0.7838 - val_loss: 0.4685 - val_accuracy: 0.7606\n",
      "Epoch 82/100\n",
      "221/221 [==============================] - 0s 1ms/step - loss: 0.4634 - accuracy: 0.7855 - val_loss: 0.4621 - val_accuracy: 0.7614\n",
      "Epoch 83/100\n",
      "221/221 [==============================] - 0s 1ms/step - loss: 0.4633 - accuracy: 0.7857 - val_loss: 0.4635 - val_accuracy: 0.7606\n",
      "Epoch 84/100\n",
      "221/221 [==============================] - 0s 1ms/step - loss: 0.4632 - accuracy: 0.7869 - val_loss: 0.4632 - val_accuracy: 0.7606\n",
      "Epoch 85/100\n",
      "221/221 [==============================] - 0s 1ms/step - loss: 0.4634 - accuracy: 0.7855 - val_loss: 0.4728 - val_accuracy: 0.7590\n",
      "Epoch 86/100\n",
      "221/221 [==============================] - 0s 1ms/step - loss: 0.4631 - accuracy: 0.7859 - val_loss: 0.4588 - val_accuracy: 0.7622\n",
      "Epoch 87/100\n",
      "221/221 [==============================] - 0s 1ms/step - loss: 0.4632 - accuracy: 0.7863 - val_loss: 0.4679 - val_accuracy: 0.7598\n",
      "Epoch 88/100\n",
      "221/221 [==============================] - 0s 1ms/step - loss: 0.4632 - accuracy: 0.7857 - val_loss: 0.4558 - val_accuracy: 0.7614\n",
      "Epoch 89/100\n",
      "221/221 [==============================] - 0s 1ms/step - loss: 0.4631 - accuracy: 0.7836 - val_loss: 0.4612 - val_accuracy: 0.7614\n",
      "Epoch 90/100\n",
      "221/221 [==============================] - 0s 1ms/step - loss: 0.4631 - accuracy: 0.7874 - val_loss: 0.4671 - val_accuracy: 0.7606\n",
      "Epoch 91/100\n",
      "221/221 [==============================] - 0s 1ms/step - loss: 0.4631 - accuracy: 0.7870 - val_loss: 0.4714 - val_accuracy: 0.7581\n",
      "Epoch 92/100\n",
      "221/221 [==============================] - 0s 1ms/step - loss: 0.4631 - accuracy: 0.7843 - val_loss: 0.4714 - val_accuracy: 0.7590\n",
      "Epoch 93/100\n",
      "221/221 [==============================] - 0s 1ms/step - loss: 0.4633 - accuracy: 0.7855 - val_loss: 0.4610 - val_accuracy: 0.7598\n",
      "Epoch 94/100\n",
      "221/221 [==============================] - 0s 1ms/step - loss: 0.4631 - accuracy: 0.7849 - val_loss: 0.4569 - val_accuracy: 0.7622\n",
      "Epoch 95/100\n",
      "221/221 [==============================] - 0s 1ms/step - loss: 0.4631 - accuracy: 0.7856 - val_loss: 0.4556 - val_accuracy: 0.7622\n",
      "Epoch 96/100\n",
      "221/221 [==============================] - 0s 1ms/step - loss: 0.4631 - accuracy: 0.7853 - val_loss: 0.4641 - val_accuracy: 0.7606\n",
      "Epoch 97/100\n",
      "221/221 [==============================] - 0s 1ms/step - loss: 0.4629 - accuracy: 0.7845 - val_loss: 0.4485 - val_accuracy: 0.7663\n",
      "Epoch 98/100\n",
      "221/221 [==============================] - 0s 1ms/step - loss: 0.4630 - accuracy: 0.7849 - val_loss: 0.4593 - val_accuracy: 0.7614\n",
      "Epoch 99/100\n",
      "221/221 [==============================] - 0s 1ms/step - loss: 0.4629 - accuracy: 0.7853 - val_loss: 0.4764 - val_accuracy: 0.7573\n",
      "Epoch 100/100\n",
      "221/221 [==============================] - 0s 1ms/step - loss: 0.4631 - accuracy: 0.7847 - val_loss: 0.4681 - val_accuracy: 0.7598\n"
     ]
    }
   ],
   "source": [
    "# Fit the model to the training data\n",
    "fit_model = nn_model.fit(X_resampled, y_resampled, validation_data = (X_test_scaled, y_test), epochs=100)"
   ]
  },
  {
   "cell_type": "code",
   "execution_count": 15,
   "id": "570f76d7",
   "metadata": {},
   "outputs": [
    {
     "data": {
      "text/html": [
       "<div>\n",
       "<style scoped>\n",
       "    .dataframe tbody tr th:only-of-type {\n",
       "        vertical-align: middle;\n",
       "    }\n",
       "\n",
       "    .dataframe tbody tr th {\n",
       "        vertical-align: top;\n",
       "    }\n",
       "\n",
       "    .dataframe thead th {\n",
       "        text-align: right;\n",
       "    }\n",
       "</style>\n",
       "<table border=\"1\" class=\"dataframe\">\n",
       "  <thead>\n",
       "    <tr style=\"text-align: right;\">\n",
       "      <th></th>\n",
       "      <th>loss</th>\n",
       "      <th>accuracy</th>\n",
       "      <th>val_loss</th>\n",
       "      <th>val_accuracy</th>\n",
       "    </tr>\n",
       "  </thead>\n",
       "  <tbody>\n",
       "    <tr>\n",
       "      <th>1</th>\n",
       "      <td>0.713844</td>\n",
       "      <td>0.507925</td>\n",
       "      <td>0.746775</td>\n",
       "      <td>0.657166</td>\n",
       "    </tr>\n",
       "    <tr>\n",
       "      <th>2</th>\n",
       "      <td>0.678450</td>\n",
       "      <td>0.587178</td>\n",
       "      <td>0.717243</td>\n",
       "      <td>0.683225</td>\n",
       "    </tr>\n",
       "    <tr>\n",
       "      <th>3</th>\n",
       "      <td>0.644857</td>\n",
       "      <td>0.661761</td>\n",
       "      <td>0.708856</td>\n",
       "      <td>0.718241</td>\n",
       "    </tr>\n",
       "    <tr>\n",
       "      <th>4</th>\n",
       "      <td>0.614085</td>\n",
       "      <td>0.705350</td>\n",
       "      <td>0.703032</td>\n",
       "      <td>0.716612</td>\n",
       "    </tr>\n",
       "    <tr>\n",
       "      <th>5</th>\n",
       "      <td>0.588036</td>\n",
       "      <td>0.743136</td>\n",
       "      <td>0.667045</td>\n",
       "      <td>0.728827</td>\n",
       "    </tr>\n",
       "    <tr>\n",
       "      <th>...</th>\n",
       "      <td>...</td>\n",
       "      <td>...</td>\n",
       "      <td>...</td>\n",
       "      <td>...</td>\n",
       "    </tr>\n",
       "    <tr>\n",
       "      <th>96</th>\n",
       "      <td>0.463053</td>\n",
       "      <td>0.785310</td>\n",
       "      <td>0.464055</td>\n",
       "      <td>0.760586</td>\n",
       "    </tr>\n",
       "    <tr>\n",
       "      <th>97</th>\n",
       "      <td>0.462851</td>\n",
       "      <td>0.784461</td>\n",
       "      <td>0.448533</td>\n",
       "      <td>0.766287</td>\n",
       "    </tr>\n",
       "    <tr>\n",
       "      <th>98</th>\n",
       "      <td>0.463020</td>\n",
       "      <td>0.784885</td>\n",
       "      <td>0.459308</td>\n",
       "      <td>0.761401</td>\n",
       "    </tr>\n",
       "    <tr>\n",
       "      <th>99</th>\n",
       "      <td>0.462937</td>\n",
       "      <td>0.785310</td>\n",
       "      <td>0.476352</td>\n",
       "      <td>0.757329</td>\n",
       "    </tr>\n",
       "    <tr>\n",
       "      <th>100</th>\n",
       "      <td>0.463058</td>\n",
       "      <td>0.784744</td>\n",
       "      <td>0.468126</td>\n",
       "      <td>0.759772</td>\n",
       "    </tr>\n",
       "  </tbody>\n",
       "</table>\n",
       "<p>100 rows × 4 columns</p>\n",
       "</div>"
      ],
      "text/plain": [
       "         loss  accuracy  val_loss  val_accuracy\n",
       "1    0.713844  0.507925  0.746775      0.657166\n",
       "2    0.678450  0.587178  0.717243      0.683225\n",
       "3    0.644857  0.661761  0.708856      0.718241\n",
       "4    0.614085  0.705350  0.703032      0.716612\n",
       "5    0.588036  0.743136  0.667045      0.728827\n",
       "..        ...       ...       ...           ...\n",
       "96   0.463053  0.785310  0.464055      0.760586\n",
       "97   0.462851  0.784461  0.448533      0.766287\n",
       "98   0.463020  0.784885  0.459308      0.761401\n",
       "99   0.462937  0.785310  0.476352      0.757329\n",
       "100  0.463058  0.784744  0.468126      0.759772\n",
       "\n",
       "[100 rows x 4 columns]"
      ]
     },
     "execution_count": 15,
     "metadata": {},
     "output_type": "execute_result"
    }
   ],
   "source": [
    "# Create a DataFrame containing training history\n",
    "nn_history_df = pd.DataFrame(fit_model.history, index=range(1,len(fit_model.history[\"loss\"])+1))\n",
    "nn_history_df"
   ]
  },
  {
   "cell_type": "code",
   "execution_count": 16,
   "id": "681ef2d2",
   "metadata": {},
   "outputs": [
    {
     "data": {
      "image/png": "[encoded data removed]",
      "text/plain": [
       "<Figure size 432x288 with 1 Axes>"
      ]
     },
     "metadata": {
      "needs_background": "light"
     },
     "output_type": "display_data"
    }
   ],
   "source": [
    "# Plot the history\n",
    "nn_history_plot = nn_history_df.plot(title = \"Single Perceptron History\",colormap= \"viridis\")"
   ]
  },
  {
   "cell_type": "code",
   "execution_count": 17,
   "id": "44cbd379",
   "metadata": {},
   "outputs": [
    {
     "data": {
      "text/plain": [
       "<AxesSubplot:>"
      ]
     },
     "execution_count": 17,
     "metadata": {},
     "output_type": "execute_result"
    },
    {
     "data": {
      "image/png": "[encoded data removed]",
      "text/plain": [
       "<Figure size 432x288 with 1 Axes>"
      ]
     },
     "metadata": {
      "needs_background": "light"
     },
     "output_type": "display_data"
    }
   ],
   "source": [
    "# Plot the loss\n",
    "nn_history_df.plot(y=[\"loss\", \"val_loss\"], colormap= \"viridis\")"
   ]
  },
  {
   "cell_type": "code",
   "execution_count": 18,
   "id": "cd8cd5e6",
   "metadata": {},
   "outputs": [
    {
     "data": {
      "text/plain": [
       "<AxesSubplot:>"
      ]
     },
     "execution_count": 18,
     "metadata": {},
     "output_type": "execute_result"
    },
    {
     "data": {
      "image/png": "[encoded data removed]",
      "text/plain": [
       "<Figure size 432x288 with 1 Axes>"
      ]
     },
     "metadata": {
      "needs_background": "light"
     },
     "output_type": "display_data"
    }
   ],
   "source": [
    "# Plot the accuracy\n",
    "nn_history_df.plot(y=[\"accuracy\", \"val_accuracy\"], colormap= \"viridis\")"
   ]
  },
  {
   "cell_type": "code",
   "execution_count": 19,
   "id": "f866aae8",
   "metadata": {},
   "outputs": [
    {
     "name": "stdout",
     "output_type": "stream",
     "text": [
      " The loss for the single perceptron model is: 0.46812647581100464, The accuracy is: 0.759772002696991\n"
     ]
    }
   ],
   "source": [
    "# Evaluate the model using the test data\n",
    "nn_model_loss,nn_model_accuracy = nn_model.evaluate(X_test_scaled,y_test,verbose=0)\n",
    "print(f\" The loss for the single perceptron model is: {nn_model_loss}, The accuracy is: {nn_model_accuracy}\")"
   ]
  },
  {
   "cell_type": "code",
   "execution_count": 20,
   "id": "eff94761",
   "metadata": {
    "scrolled": true
   },
   "outputs": [],
   "source": [
    "# Y_pred: flatten & convert prediction probabilities to binary format so it can be passed through confusion matrix\n",
    "y_pred_nn = nn_model.predict(X_test_scaled)\n",
    "y_pred_nn = y_pred_nn.flatten()\n",
    "y_pred_nn_tf=tf.round(y_pred_nn)"
   ]
  },
  {
   "cell_type": "code",
   "execution_count": 21,
   "id": "190bacca",
   "metadata": {},
   "outputs": [
    {
     "data": {
      "text/plain": [
       "<sklearn.metrics._plot.confusion_matrix.ConfusionMatrixDisplay at 0x1f8da6cfe48>"
      ]
     },
     "execution_count": 21,
     "metadata": {},
     "output_type": "execute_result"
    },
    {
     "data": {
      "image/png": "[encoded data removed]",
      "text/plain": [
       "<Figure size 432x288 with 2 Axes>"
      ]
     },
     "metadata": {
      "needs_background": "light"
     },
     "output_type": "display_data"
    }
   ],
   "source": [
    "# Display the confusion matrix\n",
    "nn_cm = confusion_matrix(y_test, y_pred_nn_tf)\n",
    "\n",
    "nn_disp = ConfusionMatrixDisplay(confusion_matrix=nn_cm)\n",
    "nn_disp.plot()\n",
    "nn_disp.ax_.set_title(\"Single Perceptron Confusion Matrix\")\n",
    "nn_disp"
   ]
  },
  {
   "cell_type": "code",
   "execution_count": 49,
   "id": "d255635d",
   "metadata": {},
   "outputs": [
    {
     "name": "stdout",
     "output_type": "stream",
     "text": [
      "Accuracy Score of the Single Perceptron Model: 0.759771986970684\n",
      "Recall Score of the Single Perceptron Model: 0.7692307692307693\n",
      "Specifity Score of the Deep Learning Model: 0.7692307692307693\n",
      "Balanced Accuracy Score of the Single Perceptron Model: 0.764292255363684\n",
      "Precision Score of the Single Perceptron Model: 0.1238390092879257\n",
      "F1 Score Score of the Single Perceptron Model: 0.21333333333333335\n",
      "Loss of the Multiple Perceptron Model: 0.46812647581100464\n"
     ]
    },
    {
     "data": {
      "text/html": [
       "<div>\n",
       "<style scoped>\n",
       "    .dataframe tbody tr th:only-of-type {\n",
       "        vertical-align: middle;\n",
       "    }\n",
       "\n",
       "    .dataframe tbody tr th {\n",
       "        vertical-align: top;\n",
       "    }\n",
       "\n",
       "    .dataframe thead th {\n",
       "        text-align: right;\n",
       "    }\n",
       "</style>\n",
       "<table border=\"1\" class=\"dataframe\">\n",
       "  <thead>\n",
       "    <tr style=\"text-align: right;\">\n",
       "      <th></th>\n",
       "      <th>Model Type</th>\n",
       "      <th>Accuracy</th>\n",
       "      <th>Recall</th>\n",
       "      <th>Specificity</th>\n",
       "      <th>Balanced Accuracy</th>\n",
       "      <th>Precision</th>\n",
       "      <th>F1 Score</th>\n",
       "      <th>Loss</th>\n",
       "    </tr>\n",
       "  </thead>\n",
       "  <tbody>\n",
       "    <tr>\n",
       "      <th>0</th>\n",
       "      <td>Single Perceptron</td>\n",
       "      <td>0.759772</td>\n",
       "      <td>0.769231</td>\n",
       "      <td>0.769231</td>\n",
       "      <td>0.764292</td>\n",
       "      <td>0.123839</td>\n",
       "      <td>0.213333</td>\n",
       "      <td>0.468126</td>\n",
       "    </tr>\n",
       "  </tbody>\n",
       "</table>\n",
       "</div>"
      ],
      "text/plain": [
       "          Model Type  Accuracy    Recall  Specificity  Balanced Accuracy  \\\n",
       "0  Single Perceptron  0.759772  0.769231     0.769231           0.764292   \n",
       "\n",
       "   Precision  F1 Score      Loss  \n",
       "0   0.123839  0.213333  0.468126  "
      ]
     },
     "execution_count": 49,
     "metadata": {},
     "output_type": "execute_result"
    }
   ],
   "source": [
    "# Advanced Classification Metrics\n",
    "# Accuracy\n",
    "nn_accuracy_score = accuracy_score(y_test, y_pred_nn_tf)\n",
    "print(f'Accuracy Score of the Single Perceptron Model: {nn_accuracy_score}')\n",
    "\n",
    "# Recall\n",
    "nn_recall_score = recall_score(y_test, y_pred_nn_tf)\n",
    "print(f'Recall Score of the Single Perceptron Model: {nn_recall_score}')\n",
    "\n",
    "# Specificity\n",
    "nn_specificity_score = 40 / (40+12)\n",
    "print(f'Specifity Score of the Deep Learning Model: {nn_specificity_score}')\n",
    "\n",
    "# Balanced Accuracy Score\n",
    "nn_bas = balanced_accuracy_score(y_test, y_pred_nn_tf)\n",
    "print(f'Balanced Accuracy Score of the Single Perceptron Model: {nn_bas}')\n",
    "\n",
    "# Precision\n",
    "nn_precision_score = precision_score(y_test, y_pred_nn_tf)\n",
    "print(f'Precision Score of the Single Perceptron Model: {nn_precision_score}')     \n",
    "   \n",
    "# F1 Score\n",
    "nn_f1_score = f1_score(y_test, y_pred_nn_tf)\n",
    "print(f'F1 Score Score of the Single Perceptron Model: {nn_f1_score}')\n",
    "\n",
    "# Loss Score\n",
    "print(f'Loss of the Multiple Perceptron Model: {nn_model_loss}')\n",
    "\n",
    "# Advanced Classification Metrics DF\n",
    "nn_acm = {\"Model Type\": [\"Single Perceptron\"], \"Accuracy\":[nn_accuracy_score], \"Recall\": [nn_recall_score], \"Specificity\":[nn_specificity_score], \n",
    "          \"Balanced Accuracy\": [nn_bas], \"Precision\":[nn_precision_score], \"F1 Score\":[nn_f1_score], \"Loss\": [nn_model_loss]}\n",
    "nn_acm_df = pd.DataFrame(data=nn_acm)\n",
    "nn_acm_df"
   ]
  },
  {
   "cell_type": "markdown",
   "id": "9a143545",
   "metadata": {},
   "source": [
    "## Multiple Neuron Single Layer Neural Network"
   ]
  },
  {
   "cell_type": "code",
   "execution_count": 23,
   "id": "a73f8096",
   "metadata": {},
   "outputs": [],
   "source": [
    "# Generate our new Sequential model\n",
    "multi_nn_model = tf.keras.models.Sequential()\n",
    "\n",
    "# Add the input and hidden layer\n",
    "number_inputs = 21\n",
    "number_hidden_nodes = 6\n",
    "\n",
    "multi_nn_model.add(tf.keras.layers.Dense(units=number_hidden_nodes, activation=\"relu\", input_dim=number_inputs))\n",
    "\n",
    "# Add the output layer that uses a probability activation function\n",
    "multi_nn_model.add(tf.keras.layers.Dense(units=1, activation=\"sigmoid\"))"
   ]
  },
  {
   "cell_type": "code",
   "execution_count": 24,
   "id": "1db38276",
   "metadata": {},
   "outputs": [],
   "source": [
    "# Compile the Sequential model together and customize metrics\n",
    "multi_nn_model.compile(loss=\"binary_crossentropy\", optimizer=\"adam\", metrics=[\"accuracy\"])"
   ]
  },
  {
   "cell_type": "code",
   "execution_count": 25,
   "id": "cb220d40",
   "metadata": {
    "scrolled": true
   },
   "outputs": [
    {
     "name": "stdout",
     "output_type": "stream",
     "text": [
      "Epoch 1/100\n",
      "221/221 [==============================] - 1s 2ms/step - loss: 0.6643 - accuracy: 0.6568 - val_loss: 0.6656 - val_accuracy: 0.6507\n",
      "Epoch 2/100\n",
      "221/221 [==============================] - 0s 1ms/step - loss: 0.5351 - accuracy: 0.7386 - val_loss: 0.5256 - val_accuracy: 0.7288\n",
      "Epoch 3/100\n",
      "221/221 [==============================] - 0s 1ms/step - loss: 0.4941 - accuracy: 0.7714 - val_loss: 0.5010 - val_accuracy: 0.7313\n",
      "Epoch 4/100\n",
      "221/221 [==============================] - 0s 1ms/step - loss: 0.4701 - accuracy: 0.7891 - val_loss: 0.4719 - val_accuracy: 0.7500\n",
      "Epoch 5/100\n",
      "221/221 [==============================] - 0s 1ms/step - loss: 0.4553 - accuracy: 0.7948 - val_loss: 0.4634 - val_accuracy: 0.7549\n",
      "Epoch 6/100\n",
      "221/221 [==============================] - 0s 1ms/step - loss: 0.4451 - accuracy: 0.8010 - val_loss: 0.4437 - val_accuracy: 0.7630\n",
      "Epoch 7/100\n",
      "221/221 [==============================] - 0s 1ms/step - loss: 0.4384 - accuracy: 0.8019 - val_loss: 0.4551 - val_accuracy: 0.7573\n",
      "Epoch 8/100\n",
      "221/221 [==============================] - 0s 1ms/step - loss: 0.4342 - accuracy: 0.8063 - val_loss: 0.4412 - val_accuracy: 0.7581\n",
      "Epoch 9/100\n",
      "221/221 [==============================] - 0s 1ms/step - loss: 0.4306 - accuracy: 0.8071 - val_loss: 0.4443 - val_accuracy: 0.7573\n",
      "Epoch 10/100\n",
      "221/221 [==============================] - 0s 1ms/step - loss: 0.4281 - accuracy: 0.8087 - val_loss: 0.4336 - val_accuracy: 0.7598\n",
      "Epoch 11/100\n",
      "221/221 [==============================] - 0s 1ms/step - loss: 0.4253 - accuracy: 0.8098 - val_loss: 0.4374 - val_accuracy: 0.7598\n",
      "Epoch 12/100\n",
      "221/221 [==============================] - 0s 1ms/step - loss: 0.4230 - accuracy: 0.8112 - val_loss: 0.4249 - val_accuracy: 0.7630\n",
      "Epoch 13/100\n",
      "221/221 [==============================] - 0s 2ms/step - loss: 0.4208 - accuracy: 0.8140 - val_loss: 0.4304 - val_accuracy: 0.7565\n",
      "Epoch 14/100\n",
      "221/221 [==============================] - 0s 1ms/step - loss: 0.4189 - accuracy: 0.8140 - val_loss: 0.4499 - val_accuracy: 0.7524\n",
      "Epoch 15/100\n",
      "221/221 [==============================] - 0s 2ms/step - loss: 0.4175 - accuracy: 0.8142 - val_loss: 0.4334 - val_accuracy: 0.7565\n",
      "Epoch 16/100\n",
      "221/221 [==============================] - 0s 2ms/step - loss: 0.4156 - accuracy: 0.8159 - val_loss: 0.4501 - val_accuracy: 0.7508\n",
      "Epoch 17/100\n",
      "221/221 [==============================] - 0s 2ms/step - loss: 0.4142 - accuracy: 0.8142 - val_loss: 0.4375 - val_accuracy: 0.7565\n",
      "Epoch 18/100\n",
      "221/221 [==============================] - 0s 2ms/step - loss: 0.4123 - accuracy: 0.8169 - val_loss: 0.4310 - val_accuracy: 0.7565\n",
      "Epoch 19/100\n",
      "221/221 [==============================] - 0s 2ms/step - loss: 0.4109 - accuracy: 0.8183 - val_loss: 0.4222 - val_accuracy: 0.7663\n",
      "Epoch 20/100\n",
      "221/221 [==============================] - 0s 2ms/step - loss: 0.4091 - accuracy: 0.8167 - val_loss: 0.4281 - val_accuracy: 0.7598\n",
      "Epoch 21/100\n",
      "221/221 [==============================] - 0s 1ms/step - loss: 0.4078 - accuracy: 0.8180 - val_loss: 0.4323 - val_accuracy: 0.7549\n",
      "Epoch 22/100\n",
      "221/221 [==============================] - 0s 1ms/step - loss: 0.4062 - accuracy: 0.8197 - val_loss: 0.4126 - val_accuracy: 0.7728\n",
      "Epoch 23/100\n",
      "221/221 [==============================] - 0s 1ms/step - loss: 0.4053 - accuracy: 0.8201 - val_loss: 0.4328 - val_accuracy: 0.7630\n",
      "Epoch 24/100\n",
      "221/221 [==============================] - 0s 1ms/step - loss: 0.4041 - accuracy: 0.8204 - val_loss: 0.4421 - val_accuracy: 0.7557\n",
      "Epoch 25/100\n",
      "221/221 [==============================] - 0s 2ms/step - loss: 0.4032 - accuracy: 0.8186 - val_loss: 0.4378 - val_accuracy: 0.7590\n",
      "Epoch 26/100\n",
      "221/221 [==============================] - 0s 1ms/step - loss: 0.4025 - accuracy: 0.8187 - val_loss: 0.4318 - val_accuracy: 0.7663\n",
      "Epoch 27/100\n",
      "221/221 [==============================] - 0s 1ms/step - loss: 0.4010 - accuracy: 0.8200 - val_loss: 0.4195 - val_accuracy: 0.7704\n",
      "Epoch 28/100\n",
      "221/221 [==============================] - 0s 2ms/step - loss: 0.3999 - accuracy: 0.8210 - val_loss: 0.4223 - val_accuracy: 0.7720\n",
      "Epoch 29/100\n",
      "221/221 [==============================] - 0s 1ms/step - loss: 0.3993 - accuracy: 0.8190 - val_loss: 0.4121 - val_accuracy: 0.7761\n",
      "Epoch 30/100\n",
      "221/221 [==============================] - 0s 2ms/step - loss: 0.3983 - accuracy: 0.8220 - val_loss: 0.4197 - val_accuracy: 0.7704\n",
      "Epoch 31/100\n",
      "221/221 [==============================] - 0s 1ms/step - loss: 0.3973 - accuracy: 0.8225 - val_loss: 0.4363 - val_accuracy: 0.7614\n",
      "Epoch 32/100\n",
      "221/221 [==============================] - 0s 1ms/step - loss: 0.3965 - accuracy: 0.8208 - val_loss: 0.4386 - val_accuracy: 0.7598\n",
      "Epoch 33/100\n",
      "221/221 [==============================] - 0s 1ms/step - loss: 0.3954 - accuracy: 0.8218 - val_loss: 0.4231 - val_accuracy: 0.7679\n",
      "Epoch 34/100\n",
      "221/221 [==============================] - 0s 1ms/step - loss: 0.3944 - accuracy: 0.8221 - val_loss: 0.4100 - val_accuracy: 0.7752\n",
      "Epoch 35/100\n",
      "221/221 [==============================] - 0s 1ms/step - loss: 0.3934 - accuracy: 0.8218 - val_loss: 0.4128 - val_accuracy: 0.7752\n",
      "Epoch 36/100\n",
      "221/221 [==============================] - 0s 1ms/step - loss: 0.3922 - accuracy: 0.8200 - val_loss: 0.4357 - val_accuracy: 0.7614\n",
      "Epoch 37/100\n",
      "221/221 [==============================] - 0s 1ms/step - loss: 0.3914 - accuracy: 0.8193 - val_loss: 0.4239 - val_accuracy: 0.7695\n",
      "Epoch 38/100\n",
      "221/221 [==============================] - 0s 1ms/step - loss: 0.3903 - accuracy: 0.8220 - val_loss: 0.4211 - val_accuracy: 0.7695\n",
      "Epoch 39/100\n",
      "221/221 [==============================] - 0s 1ms/step - loss: 0.3895 - accuracy: 0.8211 - val_loss: 0.4361 - val_accuracy: 0.7622\n",
      "Epoch 40/100\n",
      "221/221 [==============================] - 0s 1ms/step - loss: 0.3887 - accuracy: 0.8213 - val_loss: 0.4238 - val_accuracy: 0.7687\n",
      "Epoch 41/100\n",
      "221/221 [==============================] - 0s 1ms/step - loss: 0.3880 - accuracy: 0.8207 - val_loss: 0.4285 - val_accuracy: 0.7655\n",
      "Epoch 42/100\n",
      "221/221 [==============================] - 0s 1ms/step - loss: 0.3871 - accuracy: 0.8213 - val_loss: 0.4229 - val_accuracy: 0.7671\n",
      "Epoch 43/100\n",
      "221/221 [==============================] - 0s 1ms/step - loss: 0.3869 - accuracy: 0.8198 - val_loss: 0.4128 - val_accuracy: 0.7744\n",
      "Epoch 44/100\n",
      "221/221 [==============================] - 0s 1ms/step - loss: 0.3859 - accuracy: 0.8230 - val_loss: 0.4537 - val_accuracy: 0.7549\n",
      "Epoch 45/100\n",
      "221/221 [==============================] - 0s 1ms/step - loss: 0.3861 - accuracy: 0.8213 - val_loss: 0.4301 - val_accuracy: 0.7687\n",
      "Epoch 46/100\n",
      "221/221 [==============================] - 0s 1ms/step - loss: 0.3856 - accuracy: 0.8213 - val_loss: 0.4363 - val_accuracy: 0.7614\n",
      "Epoch 47/100\n",
      "221/221 [==============================] - 0s 1ms/step - loss: 0.3848 - accuracy: 0.8211 - val_loss: 0.4275 - val_accuracy: 0.7671\n",
      "Epoch 48/100\n",
      "221/221 [==============================] - 0s 1ms/step - loss: 0.3843 - accuracy: 0.8205 - val_loss: 0.4061 - val_accuracy: 0.7769\n",
      "Epoch 49/100\n",
      "221/221 [==============================] - 0s 1ms/step - loss: 0.3842 - accuracy: 0.8213 - val_loss: 0.4261 - val_accuracy: 0.7679\n",
      "Epoch 50/100\n",
      "221/221 [==============================] - 0s 1ms/step - loss: 0.3837 - accuracy: 0.8214 - val_loss: 0.4324 - val_accuracy: 0.7598\n",
      "Epoch 51/100\n",
      "221/221 [==============================] - 0s 1ms/step - loss: 0.3831 - accuracy: 0.8214 - val_loss: 0.4290 - val_accuracy: 0.7622\n",
      "Epoch 52/100\n",
      "221/221 [==============================] - 0s 1ms/step - loss: 0.3827 - accuracy: 0.8207 - val_loss: 0.4232 - val_accuracy: 0.7679\n",
      "Epoch 53/100\n",
      "221/221 [==============================] - 0s 1ms/step - loss: 0.3825 - accuracy: 0.8225 - val_loss: 0.4231 - val_accuracy: 0.7687\n",
      "Epoch 54/100\n",
      "221/221 [==============================] - 0s 1ms/step - loss: 0.3823 - accuracy: 0.8218 - val_loss: 0.4323 - val_accuracy: 0.7606\n",
      "Epoch 55/100\n",
      "221/221 [==============================] - 0s 2ms/step - loss: 0.3818 - accuracy: 0.8220 - val_loss: 0.4215 - val_accuracy: 0.7695\n",
      "Epoch 56/100\n",
      "221/221 [==============================] - 0s 1ms/step - loss: 0.3813 - accuracy: 0.8224 - val_loss: 0.4236 - val_accuracy: 0.7663\n",
      "Epoch 57/100\n",
      "221/221 [==============================] - 0s 1ms/step - loss: 0.3813 - accuracy: 0.8211 - val_loss: 0.4386 - val_accuracy: 0.7606\n"
     ]
    },
    {
     "name": "stdout",
     "output_type": "stream",
     "text": [
      "Epoch 58/100\n",
      "221/221 [==============================] - 0s 1ms/step - loss: 0.3807 - accuracy: 0.8220 - val_loss: 0.4302 - val_accuracy: 0.7663\n",
      "Epoch 59/100\n",
      "221/221 [==============================] - 0s 1ms/step - loss: 0.3801 - accuracy: 0.8215 - val_loss: 0.4281 - val_accuracy: 0.7630\n",
      "Epoch 60/100\n",
      "221/221 [==============================] - 0s 1ms/step - loss: 0.3797 - accuracy: 0.8242 - val_loss: 0.4216 - val_accuracy: 0.7671\n",
      "Epoch 61/100\n",
      "221/221 [==============================] - 0s 1ms/step - loss: 0.3797 - accuracy: 0.8222 - val_loss: 0.4190 - val_accuracy: 0.7671\n",
      "Epoch 62/100\n",
      "221/221 [==============================] - 0s 1ms/step - loss: 0.3793 - accuracy: 0.8234 - val_loss: 0.4205 - val_accuracy: 0.7663\n",
      "Epoch 63/100\n",
      "221/221 [==============================] - 0s 1ms/step - loss: 0.3793 - accuracy: 0.8204 - val_loss: 0.4212 - val_accuracy: 0.7712\n",
      "Epoch 64/100\n",
      "221/221 [==============================] - 0s 1ms/step - loss: 0.3788 - accuracy: 0.8228 - val_loss: 0.4252 - val_accuracy: 0.7655\n",
      "Epoch 65/100\n",
      "221/221 [==============================] - 0s 1ms/step - loss: 0.3784 - accuracy: 0.8222 - val_loss: 0.4285 - val_accuracy: 0.7647\n",
      "Epoch 66/100\n",
      "221/221 [==============================] - 0s 2ms/step - loss: 0.3782 - accuracy: 0.8213 - val_loss: 0.4146 - val_accuracy: 0.7695\n",
      "Epoch 67/100\n",
      "221/221 [==============================] - 0s 1ms/step - loss: 0.3779 - accuracy: 0.8227 - val_loss: 0.4129 - val_accuracy: 0.7744\n",
      "Epoch 68/100\n",
      "221/221 [==============================] - 0s 1ms/step - loss: 0.3775 - accuracy: 0.8227 - val_loss: 0.4363 - val_accuracy: 0.7622\n",
      "Epoch 69/100\n",
      "221/221 [==============================] - 0s 1ms/step - loss: 0.3775 - accuracy: 0.8227 - val_loss: 0.4224 - val_accuracy: 0.7671\n",
      "Epoch 70/100\n",
      "221/221 [==============================] - 0s 1ms/step - loss: 0.3770 - accuracy: 0.8232 - val_loss: 0.4127 - val_accuracy: 0.7769\n",
      "Epoch 71/100\n",
      "221/221 [==============================] - 0s 1ms/step - loss: 0.3765 - accuracy: 0.8242 - val_loss: 0.4320 - val_accuracy: 0.7573\n",
      "Epoch 72/100\n",
      "221/221 [==============================] - 0s 1ms/step - loss: 0.3767 - accuracy: 0.8235 - val_loss: 0.4208 - val_accuracy: 0.7695\n",
      "Epoch 73/100\n",
      "221/221 [==============================] - 0s 2ms/step - loss: 0.3765 - accuracy: 0.8239 - val_loss: 0.4276 - val_accuracy: 0.7647\n",
      "Epoch 74/100\n",
      "221/221 [==============================] - 0s 1ms/step - loss: 0.3758 - accuracy: 0.8242 - val_loss: 0.4326 - val_accuracy: 0.7590\n",
      "Epoch 75/100\n",
      "221/221 [==============================] - 0s 1ms/step - loss: 0.3757 - accuracy: 0.8247 - val_loss: 0.4245 - val_accuracy: 0.7687\n",
      "Epoch 76/100\n",
      "221/221 [==============================] - 0s 1ms/step - loss: 0.3754 - accuracy: 0.8242 - val_loss: 0.4282 - val_accuracy: 0.7679\n",
      "Epoch 77/100\n",
      "221/221 [==============================] - 0s 1ms/step - loss: 0.3753 - accuracy: 0.8256 - val_loss: 0.4243 - val_accuracy: 0.7647\n",
      "Epoch 78/100\n",
      "221/221 [==============================] - 0s 2ms/step - loss: 0.3751 - accuracy: 0.8251 - val_loss: 0.4287 - val_accuracy: 0.7622\n",
      "Epoch 79/100\n",
      "221/221 [==============================] - 0s 2ms/step - loss: 0.3748 - accuracy: 0.8235 - val_loss: 0.4326 - val_accuracy: 0.7622\n",
      "Epoch 80/100\n",
      "221/221 [==============================] - 1s 3ms/step - loss: 0.3739 - accuracy: 0.8248 - val_loss: 0.4504 - val_accuracy: 0.7435\n",
      "Epoch 81/100\n",
      "221/221 [==============================] - 1s 3ms/step - loss: 0.3742 - accuracy: 0.8222 - val_loss: 0.4437 - val_accuracy: 0.7549\n",
      "Epoch 82/100\n",
      "221/221 [==============================] - 0s 1ms/step - loss: 0.3741 - accuracy: 0.8262 - val_loss: 0.4322 - val_accuracy: 0.7630\n",
      "Epoch 83/100\n",
      "221/221 [==============================] - 0s 1ms/step - loss: 0.3736 - accuracy: 0.8265 - val_loss: 0.4268 - val_accuracy: 0.7630\n",
      "Epoch 84/100\n",
      "221/221 [==============================] - 0s 1ms/step - loss: 0.3736 - accuracy: 0.8252 - val_loss: 0.4320 - val_accuracy: 0.7638\n",
      "Epoch 85/100\n",
      "221/221 [==============================] - 0s 1ms/step - loss: 0.3733 - accuracy: 0.8247 - val_loss: 0.4407 - val_accuracy: 0.7565\n",
      "Epoch 86/100\n",
      "221/221 [==============================] - 0s 1ms/step - loss: 0.3733 - accuracy: 0.8228 - val_loss: 0.4240 - val_accuracy: 0.7687\n",
      "Epoch 87/100\n",
      "221/221 [==============================] - 0s 1ms/step - loss: 0.3728 - accuracy: 0.8285 - val_loss: 0.4152 - val_accuracy: 0.7761\n",
      "Epoch 88/100\n",
      "221/221 [==============================] - 0s 1ms/step - loss: 0.3726 - accuracy: 0.8251 - val_loss: 0.4289 - val_accuracy: 0.7622\n",
      "Epoch 89/100\n",
      "221/221 [==============================] - 0s 1ms/step - loss: 0.3725 - accuracy: 0.8234 - val_loss: 0.4401 - val_accuracy: 0.7565\n",
      "Epoch 90/100\n",
      "221/221 [==============================] - 0s 1ms/step - loss: 0.3725 - accuracy: 0.8249 - val_loss: 0.4267 - val_accuracy: 0.7679\n",
      "Epoch 91/100\n",
      "221/221 [==============================] - 0s 1ms/step - loss: 0.3724 - accuracy: 0.8245 - val_loss: 0.4169 - val_accuracy: 0.7769\n",
      "Epoch 92/100\n",
      "221/221 [==============================] - 0s 1ms/step - loss: 0.3719 - accuracy: 0.8268 - val_loss: 0.4329 - val_accuracy: 0.7647\n",
      "Epoch 93/100\n",
      "221/221 [==============================] - 0s 2ms/step - loss: 0.3717 - accuracy: 0.8255 - val_loss: 0.4379 - val_accuracy: 0.7598\n",
      "Epoch 94/100\n",
      "221/221 [==============================] - 0s 1ms/step - loss: 0.3712 - accuracy: 0.8275 - val_loss: 0.4202 - val_accuracy: 0.7687\n",
      "Epoch 95/100\n",
      "221/221 [==============================] - 0s 1ms/step - loss: 0.3713 - accuracy: 0.8265 - val_loss: 0.4341 - val_accuracy: 0.7565\n",
      "Epoch 96/100\n",
      "221/221 [==============================] - 0s 2ms/step - loss: 0.3714 - accuracy: 0.8275 - val_loss: 0.4279 - val_accuracy: 0.7630\n",
      "Epoch 97/100\n",
      "221/221 [==============================] - 0s 1ms/step - loss: 0.3711 - accuracy: 0.8273 - val_loss: 0.4382 - val_accuracy: 0.7565\n",
      "Epoch 98/100\n",
      "221/221 [==============================] - 0s 1ms/step - loss: 0.3705 - accuracy: 0.8268 - val_loss: 0.4180 - val_accuracy: 0.7761\n",
      "Epoch 99/100\n",
      "221/221 [==============================] - 0s 1ms/step - loss: 0.3706 - accuracy: 0.8283 - val_loss: 0.4232 - val_accuracy: 0.7704\n",
      "Epoch 100/100\n",
      "221/221 [==============================] - 0s 2ms/step - loss: 0.3703 - accuracy: 0.8258 - val_loss: 0.4219 - val_accuracy: 0.7695\n"
     ]
    }
   ],
   "source": [
    "# Fit the model to the training data\n",
    "fit_model_multi = multi_nn_model.fit(X_resampled, y_resampled, validation_data = (X_test_scaled, y_test), epochs=100, shuffle=True)"
   ]
  },
  {
   "cell_type": "code",
   "execution_count": 26,
   "id": "ac7e1a4a",
   "metadata": {},
   "outputs": [
    {
     "data": {
      "text/html": [
       "<div>\n",
       "<style scoped>\n",
       "    .dataframe tbody tr th:only-of-type {\n",
       "        vertical-align: middle;\n",
       "    }\n",
       "\n",
       "    .dataframe tbody tr th {\n",
       "        vertical-align: top;\n",
       "    }\n",
       "\n",
       "    .dataframe thead th {\n",
       "        text-align: right;\n",
       "    }\n",
       "</style>\n",
       "<table border=\"1\" class=\"dataframe\">\n",
       "  <thead>\n",
       "    <tr style=\"text-align: right;\">\n",
       "      <th></th>\n",
       "      <th>loss</th>\n",
       "      <th>accuracy</th>\n",
       "      <th>val_loss</th>\n",
       "      <th>val_accuracy</th>\n",
       "    </tr>\n",
       "  </thead>\n",
       "  <tbody>\n",
       "    <tr>\n",
       "      <th>1</th>\n",
       "      <td>0.664313</td>\n",
       "      <td>0.656807</td>\n",
       "      <td>0.665551</td>\n",
       "      <td>0.650651</td>\n",
       "    </tr>\n",
       "    <tr>\n",
       "      <th>2</th>\n",
       "      <td>0.535088</td>\n",
       "      <td>0.738607</td>\n",
       "      <td>0.525599</td>\n",
       "      <td>0.728827</td>\n",
       "    </tr>\n",
       "    <tr>\n",
       "      <th>3</th>\n",
       "      <td>0.494106</td>\n",
       "      <td>0.771441</td>\n",
       "      <td>0.500968</td>\n",
       "      <td>0.731270</td>\n",
       "    </tr>\n",
       "    <tr>\n",
       "      <th>4</th>\n",
       "      <td>0.470102</td>\n",
       "      <td>0.789131</td>\n",
       "      <td>0.471857</td>\n",
       "      <td>0.750000</td>\n",
       "    </tr>\n",
       "    <tr>\n",
       "      <th>5</th>\n",
       "      <td>0.455253</td>\n",
       "      <td>0.794792</td>\n",
       "      <td>0.463391</td>\n",
       "      <td>0.754886</td>\n",
       "    </tr>\n",
       "    <tr>\n",
       "      <th>...</th>\n",
       "      <td>...</td>\n",
       "      <td>...</td>\n",
       "      <td>...</td>\n",
       "      <td>...</td>\n",
       "    </tr>\n",
       "    <tr>\n",
       "      <th>96</th>\n",
       "      <td>0.371434</td>\n",
       "      <td>0.827484</td>\n",
       "      <td>0.427906</td>\n",
       "      <td>0.763029</td>\n",
       "    </tr>\n",
       "    <tr>\n",
       "      <th>97</th>\n",
       "      <td>0.371081</td>\n",
       "      <td>0.827342</td>\n",
       "      <td>0.438180</td>\n",
       "      <td>0.756515</td>\n",
       "    </tr>\n",
       "    <tr>\n",
       "      <th>98</th>\n",
       "      <td>0.370515</td>\n",
       "      <td>0.826776</td>\n",
       "      <td>0.418022</td>\n",
       "      <td>0.776059</td>\n",
       "    </tr>\n",
       "    <tr>\n",
       "      <th>99</th>\n",
       "      <td>0.370566</td>\n",
       "      <td>0.828333</td>\n",
       "      <td>0.423151</td>\n",
       "      <td>0.770358</td>\n",
       "    </tr>\n",
       "    <tr>\n",
       "      <th>100</th>\n",
       "      <td>0.370311</td>\n",
       "      <td>0.825785</td>\n",
       "      <td>0.421914</td>\n",
       "      <td>0.769544</td>\n",
       "    </tr>\n",
       "  </tbody>\n",
       "</table>\n",
       "<p>100 rows × 4 columns</p>\n",
       "</div>"
      ],
      "text/plain": [
       "         loss  accuracy  val_loss  val_accuracy\n",
       "1    0.664313  0.656807  0.665551      0.650651\n",
       "2    0.535088  0.738607  0.525599      0.728827\n",
       "3    0.494106  0.771441  0.500968      0.731270\n",
       "4    0.470102  0.789131  0.471857      0.750000\n",
       "5    0.455253  0.794792  0.463391      0.754886\n",
       "..        ...       ...       ...           ...\n",
       "96   0.371434  0.827484  0.427906      0.763029\n",
       "97   0.371081  0.827342  0.438180      0.756515\n",
       "98   0.370515  0.826776  0.418022      0.776059\n",
       "99   0.370566  0.828333  0.423151      0.770358\n",
       "100  0.370311  0.825785  0.421914      0.769544\n",
       "\n",
       "[100 rows x 4 columns]"
      ]
     },
     "execution_count": 26,
     "metadata": {},
     "output_type": "execute_result"
    }
   ],
   "source": [
    "# Create a DataFrame containing training history\n",
    "multi_history_df = pd.DataFrame(fit_model_multi.history, index=range(1,len(fit_model_multi.history[\"loss\"])+1))\n",
    "multi_history_df"
   ]
  },
  {
   "cell_type": "code",
   "execution_count": 27,
   "id": "5a8b549e",
   "metadata": {},
   "outputs": [
    {
     "data": {
      "image/png": "[encoded data removed]",
      "text/plain": [
       "<Figure size 432x288 with 1 Axes>"
      ]
     },
     "metadata": {
      "needs_background": "light"
     },
     "output_type": "display_data"
    }
   ],
   "source": [
    "# Plot the history\n",
    "multi_history_plotf = multi_history_df.plot(title = \"Multiple Perceptron History\",colormap= \"viridis\")"
   ]
  },
  {
   "cell_type": "code",
   "execution_count": 28,
   "id": "7ff48892",
   "metadata": {
    "scrolled": true
   },
   "outputs": [
    {
     "data": {
      "text/plain": [
       "<AxesSubplot:>"
      ]
     },
     "execution_count": 28,
     "metadata": {},
     "output_type": "execute_result"
    },
    {
     "data": {
      "image/png": "[encoded data removed]",
      "text/plain": [
       "<Figure size 432x288 with 1 Axes>"
      ]
     },
     "metadata": {
      "needs_background": "light"
     },
     "output_type": "display_data"
    }
   ],
   "source": [
    "# Plot the loss\n",
    "multi_history_df.plot(y=[\"loss\", \"val_loss\"], colormap= \"viridis\")"
   ]
  },
  {
   "cell_type": "code",
   "execution_count": 29,
   "id": "05f4a9e6",
   "metadata": {},
   "outputs": [
    {
     "data": {
      "text/plain": [
       "<AxesSubplot:>"
      ]
     },
     "execution_count": 29,
     "metadata": {},
     "output_type": "execute_result"
    },
    {
     "data": {
      "image/png": "[encoded data removed]",
      "text/plain": [
       "<Figure size 432x288 with 1 Axes>"
      ]
     },
     "metadata": {
      "needs_background": "light"
     },
     "output_type": "display_data"
    }
   ],
   "source": [
    "# Plot the accuracy\n",
    "multi_history_df.plot(y=[\"accuracy\", \"val_accuracy\"], colormap= \"viridis\")"
   ]
  },
  {
   "cell_type": "code",
   "execution_count": 30,
   "id": "fa7e44c7",
   "metadata": {
    "scrolled": true
   },
   "outputs": [
    {
     "name": "stdout",
     "output_type": "stream",
     "text": [
      " The loss for the multiple perceptron model is: 0.42191392183303833, The accuracy is: 0.7695439457893372\n"
     ]
    }
   ],
   "source": [
    "# Evaluate the model using the test data\n",
    "multi_model_loss, multi_model_accuracy = multi_nn_model.evaluate(X_test_scaled,y_test,verbose=0)\n",
    "print(f\" The loss for the multiple perceptron model is: {multi_model_loss}, The accuracy is: {multi_model_accuracy}\")"
   ]
  },
  {
   "cell_type": "code",
   "execution_count": 31,
   "id": "c831e0cf",
   "metadata": {},
   "outputs": [],
   "source": [
    "#Y_pred: flatten & Convert prediction probabilities to binary format\n",
    "y_pred_multi = multi_nn_model.predict(X_test_scaled)\n",
    "y_pred_multi = y_pred_multi.flatten()\n",
    "y_pred_multi_tf = tf.round(y_pred_multi)"
   ]
  },
  {
   "cell_type": "code",
   "execution_count": 32,
   "id": "9b52ae5e",
   "metadata": {
    "scrolled": true
   },
   "outputs": [
    {
     "data": {
      "text/plain": [
       "<sklearn.metrics._plot.confusion_matrix.ConfusionMatrixDisplay at 0x1f8dcb2d4c8>"
      ]
     },
     "execution_count": 32,
     "metadata": {},
     "output_type": "execute_result"
    },
    {
     "data": {
      "image/png": "[encoded data removed]",
      "text/plain": [
       "<Figure size 432x288 with 2 Axes>"
      ]
     },
     "metadata": {
      "needs_background": "light"
     },
     "output_type": "display_data"
    }
   ],
   "source": [
    "# Display the confusion matrix\n",
    "multi_nn_cm = confusion_matrix(y_test, y_pred_multi_tf)\n",
    "\n",
    "multi_disp = ConfusionMatrixDisplay(confusion_matrix=multi_nn_cm)\n",
    "multi_disp.plot()\n",
    "multi_disp.ax_.set_title(\"Multiple Perceptron Confusion Matrix\")\n",
    "multi_disp"
   ]
  },
  {
   "cell_type": "code",
   "execution_count": 50,
   "id": "1ad67c97",
   "metadata": {},
   "outputs": [
    {
     "name": "stdout",
     "output_type": "stream",
     "text": [
      "Accuracy Score of the Multiple Perceptron Model: 0.7695439739413681\n",
      "Recall Score of the Multiple Perceptron Model: 0.6730769230769231\n",
      "Specifity Score of the Deep Learning Model: 0.6730769230769231\n",
      "Balanced Accuracy Score of the Multiple Perceptron Model: 0.7234432234432235\n",
      "Precision Score of the Multiple Perceptron Model: 0.11627906976744186\n",
      "F1 Score Score of the Multiple Perceptron Model: 0.19830028328611896\n",
      "Loss of the Multiple Perceptron Model: 0.42191392183303833\n"
     ]
    },
    {
     "data": {
      "text/html": [
       "<div>\n",
       "<style scoped>\n",
       "    .dataframe tbody tr th:only-of-type {\n",
       "        vertical-align: middle;\n",
       "    }\n",
       "\n",
       "    .dataframe tbody tr th {\n",
       "        vertical-align: top;\n",
       "    }\n",
       "\n",
       "    .dataframe thead th {\n",
       "        text-align: right;\n",
       "    }\n",
       "</style>\n",
       "<table border=\"1\" class=\"dataframe\">\n",
       "  <thead>\n",
       "    <tr style=\"text-align: right;\">\n",
       "      <th></th>\n",
       "      <th>Model Type</th>\n",
       "      <th>Accuracy</th>\n",
       "      <th>Recall</th>\n",
       "      <th>Specificity</th>\n",
       "      <th>Balanced Accuracy</th>\n",
       "      <th>Precision</th>\n",
       "      <th>F1 Score</th>\n",
       "      <th>Loss</th>\n",
       "    </tr>\n",
       "  </thead>\n",
       "  <tbody>\n",
       "    <tr>\n",
       "      <th>0</th>\n",
       "      <td>Multi Perceptron</td>\n",
       "      <td>0.769544</td>\n",
       "      <td>0.673077</td>\n",
       "      <td>0.673077</td>\n",
       "      <td>0.723443</td>\n",
       "      <td>0.116279</td>\n",
       "      <td>0.1983</td>\n",
       "      <td>0.421914</td>\n",
       "    </tr>\n",
       "  </tbody>\n",
       "</table>\n",
       "</div>"
      ],
      "text/plain": [
       "         Model Type  Accuracy    Recall  Specificity  Balanced Accuracy  \\\n",
       "0  Multi Perceptron  0.769544  0.673077     0.673077           0.723443   \n",
       "\n",
       "   Precision  F1 Score      Loss  \n",
       "0   0.116279    0.1983  0.421914  "
      ]
     },
     "execution_count": 50,
     "metadata": {},
     "output_type": "execute_result"
    }
   ],
   "source": [
    "# Advanced Classification Metrics\n",
    "# Accuracy\n",
    "multi_accuracy_score = accuracy_score(y_test, y_pred_multi_tf)\n",
    "print(f'Accuracy Score of the Multiple Perceptron Model: {multi_accuracy_score}')\n",
    "\n",
    "# Recall/ Sensitivity\n",
    "multi_recall_score = recall_score(y_test, y_pred_multi_tf)\n",
    "print(f'Recall Score of the Multiple Perceptron Model: {multi_recall_score}')\n",
    "\n",
    "# Specificity\n",
    "multi_specificity_score = 35 / (35+17)\n",
    "print(f'Specifity Score of the Deep Learning Model: {multi_specificity_score}')\n",
    "\n",
    "# Balanced Accuracy Score\n",
    "multi_bas = balanced_accuracy_score(y_test, y_pred_multi_tf)\n",
    "print(f'Balanced Accuracy Score of the Multiple Perceptron Model: {multi_bas}')\n",
    "\n",
    "# Precision\n",
    "multi_precision_score = precision_score(y_test, y_pred_multi_tf)\n",
    "print(f'Precision Score of the Multiple Perceptron Model: {multi_precision_score}')     \n",
    "      \n",
    "# F1 Score\n",
    "multi_f1_score = f1_score(y_test, y_pred_multi_tf)\n",
    "print(f'F1 Score Score of the Multiple Perceptron Model: {multi_f1_score}')\n",
    "\n",
    "# Loss Score\n",
    "print(f'Loss of the Multiple Perceptron Model: {multi_model_loss}')\n",
    "\n",
    "# Advanced Classification Metrics DF\n",
    "multi_acm = {\"Model Type\": [\"Multi Perceptron\"], \"Accuracy\":[multi_accuracy_score], \"Recall\": [multi_recall_score], \"Specificity\":[multi_specificity_score], \n",
    "          \"Balanced Accuracy\": [multi_bas], \"Precision\":[multi_precision_score], \"F1 Score\":[multi_f1_score], \"Loss\": [multi_model_loss]}\n",
    "multi_acm_df = pd.DataFrame(data=multi_acm)\n",
    "multi_acm_df"
   ]
  },
  {
   "cell_type": "markdown",
   "id": "10c8ce22",
   "metadata": {},
   "source": [
    "## Deep Learning Neural Network"
   ]
  },
  {
   "cell_type": "code",
   "execution_count": 94,
   "id": "108a2466",
   "metadata": {},
   "outputs": [
    {
     "name": "stdout",
     "output_type": "stream",
     "text": [
      "Model: \"sequential_6\"\n",
      "_________________________________________________________________\n",
      " Layer (type)                Output Shape              Param #   \n",
      "=================================================================\n",
      " dense_16 (Dense)            (None, 80)                1760      \n",
      "                                                                 \n",
      " dense_17 (Dense)            (None, 50)                4050      \n",
      "                                                                 \n",
      " dense_18 (Dense)            (None, 1)                 51        \n",
      "                                                                 \n",
      "=================================================================\n",
      "Total params: 5,861\n",
      "Trainable params: 5,861\n",
      "Non-trainable params: 0\n",
      "_________________________________________________________________\n"
     ]
    }
   ],
   "source": [
    "# Define the model - deep neural net\n",
    "number_input_features = len(X_train[0])\n",
    "hidden_nodes_layer1 = 80\n",
    "hidden_nodes_layer2 = 50\n",
    "\n",
    "deep_nn_model = tf.keras.models.Sequential()\n",
    "\n",
    "# First hidden layer\n",
    "deep_nn_model.add(\n",
    "    tf.keras.layers.Dense(units=hidden_nodes_layer1, input_dim=number_input_features, activation=\"relu\")\n",
    ")\n",
    "\n",
    "# Second hidden layer\n",
    "deep_nn_model.add(tf.keras.layers.Dense(units=hidden_nodes_layer2, activation=\"relu\"))\n",
    "\n",
    "# Output layer\n",
    "deep_nn_model.add(tf.keras.layers.Dense(units=1, activation=\"sigmoid\"))\n",
    "\n",
    "# Check the structure of the model\n",
    "deep_nn_model.summary()"
   ]
  },
  {
   "cell_type": "code",
   "execution_count": 95,
   "id": "f430848f",
   "metadata": {},
   "outputs": [],
   "source": [
    "# Compile the model\n",
    "deep_nn_model.compile(loss=\"binary_crossentropy\", optimizer=\"adam\", metrics=[\"accuracy\"])"
   ]
  },
  {
   "cell_type": "code",
   "execution_count": 105,
   "id": "31441fb7",
   "metadata": {
    "scrolled": true
   },
   "outputs": [
    {
     "name": "stdout",
     "output_type": "stream",
     "text": [
      "Epoch 1/100\n",
      "116/116 [==============================] - 0s 2ms/step - loss: 0.1138 - accuracy: 0.9612 - val_loss: 0.1501 - val_accuracy: 0.9577\n",
      "Epoch 2/100\n",
      "116/116 [==============================] - 0s 2ms/step - loss: 0.1132 - accuracy: 0.9612 - val_loss: 0.1553 - val_accuracy: 0.9577\n",
      "Epoch 3/100\n",
      "116/116 [==============================] - 0s 2ms/step - loss: 0.1113 - accuracy: 0.9625 - val_loss: 0.1618 - val_accuracy: 0.9560\n",
      "Epoch 4/100\n",
      "116/116 [==============================] - 0s 2ms/step - loss: 0.1097 - accuracy: 0.9628 - val_loss: 0.1556 - val_accuracy: 0.9544\n",
      "Epoch 5/100\n",
      "116/116 [==============================] - 0s 2ms/step - loss: 0.1093 - accuracy: 0.9614 - val_loss: 0.1591 - val_accuracy: 0.9544\n",
      "Epoch 6/100\n",
      "116/116 [==============================] - 0s 2ms/step - loss: 0.1068 - accuracy: 0.9625 - val_loss: 0.1587 - val_accuracy: 0.9560\n",
      "Epoch 7/100\n",
      "116/116 [==============================] - 0s 2ms/step - loss: 0.1063 - accuracy: 0.9625 - val_loss: 0.1607 - val_accuracy: 0.9552\n",
      "Epoch 8/100\n",
      "116/116 [==============================] - 0s 2ms/step - loss: 0.1038 - accuracy: 0.9641 - val_loss: 0.1708 - val_accuracy: 0.9536\n",
      "Epoch 9/100\n",
      "116/116 [==============================] - 0s 2ms/step - loss: 0.1030 - accuracy: 0.9647 - val_loss: 0.1641 - val_accuracy: 0.9544\n",
      "Epoch 10/100\n",
      "116/116 [==============================] - 0s 2ms/step - loss: 0.1027 - accuracy: 0.9636 - val_loss: 0.1654 - val_accuracy: 0.9552\n",
      "Epoch 11/100\n",
      "116/116 [==============================] - 0s 2ms/step - loss: 0.0990 - accuracy: 0.9650 - val_loss: 0.1742 - val_accuracy: 0.9560\n",
      "Epoch 12/100\n",
      "116/116 [==============================] - 0s 2ms/step - loss: 0.0991 - accuracy: 0.9639 - val_loss: 0.1727 - val_accuracy: 0.9528\n",
      "Epoch 13/100\n",
      "116/116 [==============================] - 0s 2ms/step - loss: 0.0990 - accuracy: 0.9644 - val_loss: 0.1750 - val_accuracy: 0.9552\n",
      "Epoch 14/100\n",
      "116/116 [==============================] - 0s 2ms/step - loss: 0.0957 - accuracy: 0.9658 - val_loss: 0.1741 - val_accuracy: 0.9520\n",
      "Epoch 15/100\n",
      "116/116 [==============================] - 0s 1ms/step - loss: 0.0967 - accuracy: 0.9633 - val_loss: 0.1783 - val_accuracy: 0.9536\n",
      "Epoch 16/100\n",
      "116/116 [==============================] - 0s 2ms/step - loss: 0.0937 - accuracy: 0.9655 - val_loss: 0.1740 - val_accuracy: 0.9520\n",
      "Epoch 17/100\n",
      "116/116 [==============================] - 0s 2ms/step - loss: 0.0936 - accuracy: 0.9660 - val_loss: 0.1791 - val_accuracy: 0.9511\n",
      "Epoch 18/100\n",
      "116/116 [==============================] - 0s 2ms/step - loss: 0.0922 - accuracy: 0.9671 - val_loss: 0.1776 - val_accuracy: 0.9503\n",
      "Epoch 19/100\n",
      "116/116 [==============================] - 0s 2ms/step - loss: 0.0925 - accuracy: 0.9663 - val_loss: 0.1867 - val_accuracy: 0.9552\n",
      "Epoch 20/100\n",
      "116/116 [==============================] - 0s 2ms/step - loss: 0.0882 - accuracy: 0.9688 - val_loss: 0.1837 - val_accuracy: 0.9544\n",
      "Epoch 21/100\n",
      "116/116 [==============================] - 0s 2ms/step - loss: 0.0873 - accuracy: 0.9690 - val_loss: 0.1907 - val_accuracy: 0.9503\n",
      "Epoch 22/100\n",
      "116/116 [==============================] - 0s 2ms/step - loss: 0.0857 - accuracy: 0.9677 - val_loss: 0.2022 - val_accuracy: 0.9560\n",
      "Epoch 23/100\n",
      "116/116 [==============================] - 0s 2ms/step - loss: 0.0855 - accuracy: 0.9677 - val_loss: 0.1989 - val_accuracy: 0.9560\n",
      "Epoch 24/100\n",
      "116/116 [==============================] - 0s 2ms/step - loss: 0.0851 - accuracy: 0.9671 - val_loss: 0.1962 - val_accuracy: 0.9536\n",
      "Epoch 25/100\n",
      "116/116 [==============================] - 0s 2ms/step - loss: 0.0827 - accuracy: 0.9690 - val_loss: 0.1971 - val_accuracy: 0.9560\n",
      "Epoch 26/100\n",
      "116/116 [==============================] - 0s 2ms/step - loss: 0.0849 - accuracy: 0.9685 - val_loss: 0.1957 - val_accuracy: 0.9503\n",
      "Epoch 27/100\n",
      "116/116 [==============================] - 0s 2ms/step - loss: 0.0822 - accuracy: 0.9688 - val_loss: 0.1951 - val_accuracy: 0.9463\n",
      "Epoch 28/100\n",
      "116/116 [==============================] - 0s 2ms/step - loss: 0.0970 - accuracy: 0.9658 - val_loss: 0.2000 - val_accuracy: 0.9487\n",
      "Epoch 29/100\n",
      "116/116 [==============================] - 0s 2ms/step - loss: 0.0823 - accuracy: 0.9715 - val_loss: 0.2076 - val_accuracy: 0.9520\n",
      "Epoch 30/100\n",
      "116/116 [==============================] - 0s 2ms/step - loss: 0.0797 - accuracy: 0.9720 - val_loss: 0.2049 - val_accuracy: 0.9471\n",
      "Epoch 31/100\n",
      "116/116 [==============================] - 0s 2ms/step - loss: 0.0793 - accuracy: 0.9715 - val_loss: 0.2153 - val_accuracy: 0.9528\n",
      "Epoch 32/100\n",
      "116/116 [==============================] - 0s 1ms/step - loss: 0.0783 - accuracy: 0.9701 - val_loss: 0.2120 - val_accuracy: 0.9544\n",
      "Epoch 33/100\n",
      "116/116 [==============================] - 0s 2ms/step - loss: 0.0874 - accuracy: 0.9693 - val_loss: 0.2057 - val_accuracy: 0.9463\n",
      "Epoch 34/100\n",
      "116/116 [==============================] - 0s 2ms/step - loss: 0.0769 - accuracy: 0.9720 - val_loss: 0.2097 - val_accuracy: 0.9463\n",
      "Epoch 35/100\n",
      "116/116 [==============================] - 0s 2ms/step - loss: 0.0931 - accuracy: 0.9666 - val_loss: 0.2074 - val_accuracy: 0.9487\n",
      "Epoch 36/100\n",
      "116/116 [==============================] - 0s 2ms/step - loss: 0.0767 - accuracy: 0.9709 - val_loss: 0.2141 - val_accuracy: 0.9520\n",
      "Epoch 37/100\n",
      "116/116 [==============================] - 0s 2ms/step - loss: 0.0745 - accuracy: 0.9734 - val_loss: 0.2092 - val_accuracy: 0.9520\n",
      "Epoch 38/100\n",
      "116/116 [==============================] - 0s 3ms/step - loss: 0.0729 - accuracy: 0.9734 - val_loss: 0.2201 - val_accuracy: 0.9552\n",
      "Epoch 39/100\n",
      "116/116 [==============================] - 0s 3ms/step - loss: 0.0737 - accuracy: 0.9717 - val_loss: 0.2145 - val_accuracy: 0.9479\n",
      "Epoch 40/100\n",
      "116/116 [==============================] - 0s 3ms/step - loss: 0.0698 - accuracy: 0.9747 - val_loss: 0.2147 - val_accuracy: 0.9471\n",
      "Epoch 41/100\n",
      "116/116 [==============================] - 0s 2ms/step - loss: 0.0702 - accuracy: 0.9734 - val_loss: 0.2245 - val_accuracy: 0.9471\n",
      "Epoch 42/100\n",
      "116/116 [==============================] - 0s 2ms/step - loss: 0.0689 - accuracy: 0.9747 - val_loss: 0.2256 - val_accuracy: 0.9503\n",
      "Epoch 43/100\n",
      "116/116 [==============================] - 0s 2ms/step - loss: 0.0687 - accuracy: 0.9739 - val_loss: 0.2316 - val_accuracy: 0.9511\n",
      "Epoch 44/100\n",
      "116/116 [==============================] - 0s 2ms/step - loss: 0.0698 - accuracy: 0.9745 - val_loss: 0.2257 - val_accuracy: 0.9487\n",
      "Epoch 45/100\n",
      "116/116 [==============================] - 0s 2ms/step - loss: 0.0678 - accuracy: 0.9769 - val_loss: 0.2319 - val_accuracy: 0.9438\n",
      "Epoch 46/100\n",
      "116/116 [==============================] - 0s 2ms/step - loss: 0.0845 - accuracy: 0.9685 - val_loss: 0.2374 - val_accuracy: 0.9487\n",
      "Epoch 47/100\n",
      "116/116 [==============================] - 0s 2ms/step - loss: 0.0705 - accuracy: 0.9726 - val_loss: 0.2317 - val_accuracy: 0.9430\n",
      "Epoch 48/100\n",
      "116/116 [==============================] - 0s 2ms/step - loss: 0.0700 - accuracy: 0.9736 - val_loss: 0.2352 - val_accuracy: 0.9495\n",
      "Epoch 49/100\n",
      "116/116 [==============================] - 0s 2ms/step - loss: 0.0666 - accuracy: 0.9756 - val_loss: 0.2312 - val_accuracy: 0.9446\n",
      "Epoch 50/100\n",
      "116/116 [==============================] - 0s 2ms/step - loss: 0.0650 - accuracy: 0.9753 - val_loss: 0.2346 - val_accuracy: 0.9454\n",
      "Epoch 51/100\n",
      "116/116 [==============================] - 0s 2ms/step - loss: 0.0661 - accuracy: 0.9742 - val_loss: 0.2407 - val_accuracy: 0.9487\n",
      "Epoch 52/100\n",
      "116/116 [==============================] - 0s 2ms/step - loss: 0.0639 - accuracy: 0.9772 - val_loss: 0.2400 - val_accuracy: 0.9471\n",
      "Epoch 53/100\n",
      "116/116 [==============================] - 0s 2ms/step - loss: 0.0624 - accuracy: 0.9766 - val_loss: 0.2390 - val_accuracy: 0.9349\n",
      "Epoch 54/100\n",
      "116/116 [==============================] - 0s 2ms/step - loss: 0.0620 - accuracy: 0.9753 - val_loss: 0.2482 - val_accuracy: 0.9495\n",
      "Epoch 55/100\n",
      "116/116 [==============================] - 0s 2ms/step - loss: 0.0651 - accuracy: 0.9726 - val_loss: 0.2527 - val_accuracy: 0.9511\n",
      "Epoch 56/100\n",
      "116/116 [==============================] - 0s 2ms/step - loss: 0.0620 - accuracy: 0.9761 - val_loss: 0.2424 - val_accuracy: 0.9479\n",
      "Epoch 57/100\n",
      "116/116 [==============================] - 0s 2ms/step - loss: 0.0615 - accuracy: 0.9775 - val_loss: 0.2517 - val_accuracy: 0.9487\n"
     ]
    },
    {
     "name": "stdout",
     "output_type": "stream",
     "text": [
      "Epoch 58/100\n",
      "116/116 [==============================] - 0s 2ms/step - loss: 0.0588 - accuracy: 0.9777 - val_loss: 0.2533 - val_accuracy: 0.9511\n",
      "Epoch 59/100\n",
      "116/116 [==============================] - 0s 2ms/step - loss: 0.0579 - accuracy: 0.9783 - val_loss: 0.2489 - val_accuracy: 0.9438\n",
      "Epoch 60/100\n",
      "116/116 [==============================] - 0s 2ms/step - loss: 0.0586 - accuracy: 0.9772 - val_loss: 0.2644 - val_accuracy: 0.9511\n",
      "Epoch 61/100\n",
      "116/116 [==============================] - 0s 2ms/step - loss: 0.0591 - accuracy: 0.9777 - val_loss: 0.2536 - val_accuracy: 0.9446\n",
      "Epoch 62/100\n",
      "116/116 [==============================] - 0s 2ms/step - loss: 0.0584 - accuracy: 0.9758 - val_loss: 0.2709 - val_accuracy: 0.9446\n",
      "Epoch 63/100\n",
      "116/116 [==============================] - 0s 2ms/step - loss: 0.0574 - accuracy: 0.9777 - val_loss: 0.2616 - val_accuracy: 0.9446\n",
      "Epoch 64/100\n",
      "116/116 [==============================] - 0s 2ms/step - loss: 0.0565 - accuracy: 0.9788 - val_loss: 0.2591 - val_accuracy: 0.9454\n",
      "Epoch 65/100\n",
      "116/116 [==============================] - 0s 2ms/step - loss: 0.0565 - accuracy: 0.9791 - val_loss: 0.2699 - val_accuracy: 0.9438\n",
      "Epoch 66/100\n",
      "116/116 [==============================] - 0s 1ms/step - loss: 0.0549 - accuracy: 0.9785 - val_loss: 0.2727 - val_accuracy: 0.9446\n",
      "Epoch 67/100\n",
      "116/116 [==============================] - 0s 1ms/step - loss: 0.0574 - accuracy: 0.9780 - val_loss: 0.2700 - val_accuracy: 0.9463\n",
      "Epoch 68/100\n",
      "116/116 [==============================] - 0s 1ms/step - loss: 0.0533 - accuracy: 0.9788 - val_loss: 0.2668 - val_accuracy: 0.9422\n",
      "Epoch 69/100\n",
      "116/116 [==============================] - 0s 1ms/step - loss: 0.0541 - accuracy: 0.9804 - val_loss: 0.2771 - val_accuracy: 0.9495\n",
      "Epoch 70/100\n",
      "116/116 [==============================] - 0s 1ms/step - loss: 0.0564 - accuracy: 0.9794 - val_loss: 0.2835 - val_accuracy: 0.9463\n",
      "Epoch 71/100\n",
      "116/116 [==============================] - 0s 1ms/step - loss: 0.0527 - accuracy: 0.9804 - val_loss: 0.2829 - val_accuracy: 0.9430\n",
      "Epoch 72/100\n",
      "116/116 [==============================] - 0s 2ms/step - loss: 0.0544 - accuracy: 0.9785 - val_loss: 0.2837 - val_accuracy: 0.9422\n",
      "Epoch 73/100\n",
      "116/116 [==============================] - 0s 2ms/step - loss: 0.0522 - accuracy: 0.9810 - val_loss: 0.2860 - val_accuracy: 0.9438\n",
      "Epoch 74/100\n",
      "116/116 [==============================] - 0s 2ms/step - loss: 0.0529 - accuracy: 0.9802 - val_loss: 0.2823 - val_accuracy: 0.9479\n",
      "Epoch 75/100\n",
      "116/116 [==============================] - 0s 2ms/step - loss: 0.0528 - accuracy: 0.9818 - val_loss: 0.2920 - val_accuracy: 0.9471\n",
      "Epoch 76/100\n",
      "116/116 [==============================] - 0s 1ms/step - loss: 0.0805 - accuracy: 0.9750 - val_loss: 0.2888 - val_accuracy: 0.9397\n",
      "Epoch 77/100\n",
      "116/116 [==============================] - 0s 2ms/step - loss: 0.0629 - accuracy: 0.9799 - val_loss: 0.2861 - val_accuracy: 0.9438\n",
      "Epoch 78/100\n",
      "116/116 [==============================] - 0s 2ms/step - loss: 0.0540 - accuracy: 0.9807 - val_loss: 0.3063 - val_accuracy: 0.9446\n",
      "Epoch 79/100\n",
      "116/116 [==============================] - 0s 2ms/step - loss: 0.0527 - accuracy: 0.9813 - val_loss: 0.2981 - val_accuracy: 0.9463\n",
      "Epoch 80/100\n",
      "116/116 [==============================] - 0s 2ms/step - loss: 0.0494 - accuracy: 0.9826 - val_loss: 0.2976 - val_accuracy: 0.9454\n",
      "Epoch 81/100\n",
      "116/116 [==============================] - 0s 2ms/step - loss: 0.0479 - accuracy: 0.9842 - val_loss: 0.3033 - val_accuracy: 0.9463\n",
      "Epoch 82/100\n",
      "116/116 [==============================] - 0s 2ms/step - loss: 0.0500 - accuracy: 0.9807 - val_loss: 0.2876 - val_accuracy: 0.9414\n",
      "Epoch 83/100\n",
      "116/116 [==============================] - 0s 2ms/step - loss: 0.0480 - accuracy: 0.9813 - val_loss: 0.3077 - val_accuracy: 0.9454\n",
      "Epoch 84/100\n",
      "116/116 [==============================] - 0s 2ms/step - loss: 0.0459 - accuracy: 0.9837 - val_loss: 0.3057 - val_accuracy: 0.9479\n",
      "Epoch 85/100\n",
      "116/116 [==============================] - 0s 1ms/step - loss: 0.0493 - accuracy: 0.9807 - val_loss: 0.3042 - val_accuracy: 0.9357\n",
      "Epoch 86/100\n",
      "116/116 [==============================] - 0s 2ms/step - loss: 0.0476 - accuracy: 0.9832 - val_loss: 0.2999 - val_accuracy: 0.9446\n",
      "Epoch 87/100\n",
      "116/116 [==============================] - 0s 1ms/step - loss: 0.0459 - accuracy: 0.9826 - val_loss: 0.3111 - val_accuracy: 0.9463\n",
      "Epoch 88/100\n",
      "116/116 [==============================] - 0s 2ms/step - loss: 0.0460 - accuracy: 0.9826 - val_loss: 0.3050 - val_accuracy: 0.9463\n",
      "Epoch 89/100\n",
      "116/116 [==============================] - 0s 2ms/step - loss: 0.0464 - accuracy: 0.9829 - val_loss: 0.3062 - val_accuracy: 0.9406\n",
      "Epoch 90/100\n",
      "116/116 [==============================] - 0s 2ms/step - loss: 0.0453 - accuracy: 0.9818 - val_loss: 0.3223 - val_accuracy: 0.9422\n",
      "Epoch 91/100\n",
      "116/116 [==============================] - 0s 1ms/step - loss: 0.0447 - accuracy: 0.9837 - val_loss: 0.3362 - val_accuracy: 0.9430\n",
      "Epoch 92/100\n",
      "116/116 [==============================] - 0s 2ms/step - loss: 0.0443 - accuracy: 0.9845 - val_loss: 0.3122 - val_accuracy: 0.9373\n",
      "Epoch 93/100\n",
      "116/116 [==============================] - 0s 1ms/step - loss: 0.0438 - accuracy: 0.9832 - val_loss: 0.3138 - val_accuracy: 0.9430\n",
      "Epoch 94/100\n",
      "116/116 [==============================] - 0s 1ms/step - loss: 0.0442 - accuracy: 0.9842 - val_loss: 0.3131 - val_accuracy: 0.9316\n",
      "Epoch 95/100\n",
      "116/116 [==============================] - 0s 1ms/step - loss: 0.0447 - accuracy: 0.9821 - val_loss: 0.3180 - val_accuracy: 0.9422\n",
      "Epoch 96/100\n",
      "116/116 [==============================] - 0s 1ms/step - loss: 0.0455 - accuracy: 0.9829 - val_loss: 0.3158 - val_accuracy: 0.9381\n",
      "Epoch 97/100\n",
      "116/116 [==============================] - 0s 2ms/step - loss: 0.0430 - accuracy: 0.9821 - val_loss: 0.3363 - val_accuracy: 0.9430\n",
      "Epoch 98/100\n",
      "116/116 [==============================] - 0s 2ms/step - loss: 0.0435 - accuracy: 0.9837 - val_loss: 0.3290 - val_accuracy: 0.9438\n",
      "Epoch 99/100\n",
      "116/116 [==============================] - 0s 2ms/step - loss: 0.0422 - accuracy: 0.9826 - val_loss: 0.3251 - val_accuracy: 0.9438\n",
      "Epoch 100/100\n",
      "116/116 [==============================] - 0s 2ms/step - loss: 0.0411 - accuracy: 0.9818 - val_loss: 0.3256 - val_accuracy: 0.9251\n"
     ]
    }
   ],
   "source": [
    "# Train the model\n",
    "fit_model_deep = deep_nn_model.fit(X_train_scaled, y_train, validation_data = (X_test_scaled, y_test), epochs=100)"
   ]
  },
  {
   "cell_type": "code",
   "execution_count": 106,
   "id": "4902a3d1",
   "metadata": {},
   "outputs": [
    {
     "data": {
      "text/html": [
       "<div>\n",
       "<style scoped>\n",
       "    .dataframe tbody tr th:only-of-type {\n",
       "        vertical-align: middle;\n",
       "    }\n",
       "\n",
       "    .dataframe tbody tr th {\n",
       "        vertical-align: top;\n",
       "    }\n",
       "\n",
       "    .dataframe thead th {\n",
       "        text-align: right;\n",
       "    }\n",
       "</style>\n",
       "<table border=\"1\" class=\"dataframe\">\n",
       "  <thead>\n",
       "    <tr style=\"text-align: right;\">\n",
       "      <th></th>\n",
       "      <th>loss</th>\n",
       "      <th>accuracy</th>\n",
       "      <th>val_loss</th>\n",
       "      <th>val_accuracy</th>\n",
       "    </tr>\n",
       "  </thead>\n",
       "  <tbody>\n",
       "    <tr>\n",
       "      <th>1</th>\n",
       "      <td>0.113844</td>\n",
       "      <td>0.961152</td>\n",
       "      <td>0.150114</td>\n",
       "      <td>0.957655</td>\n",
       "    </tr>\n",
       "    <tr>\n",
       "      <th>2</th>\n",
       "      <td>0.113167</td>\n",
       "      <td>0.961152</td>\n",
       "      <td>0.155336</td>\n",
       "      <td>0.957655</td>\n",
       "    </tr>\n",
       "    <tr>\n",
       "      <th>3</th>\n",
       "      <td>0.111278</td>\n",
       "      <td>0.962510</td>\n",
       "      <td>0.161773</td>\n",
       "      <td>0.956026</td>\n",
       "    </tr>\n",
       "    <tr>\n",
       "      <th>4</th>\n",
       "      <td>0.109669</td>\n",
       "      <td>0.962782</td>\n",
       "      <td>0.155601</td>\n",
       "      <td>0.954397</td>\n",
       "    </tr>\n",
       "    <tr>\n",
       "      <th>5</th>\n",
       "      <td>0.109289</td>\n",
       "      <td>0.961424</td>\n",
       "      <td>0.159058</td>\n",
       "      <td>0.954397</td>\n",
       "    </tr>\n",
       "    <tr>\n",
       "      <th>...</th>\n",
       "      <td>...</td>\n",
       "      <td>...</td>\n",
       "      <td>...</td>\n",
       "      <td>...</td>\n",
       "    </tr>\n",
       "    <tr>\n",
       "      <th>96</th>\n",
       "      <td>0.045476</td>\n",
       "      <td>0.982885</td>\n",
       "      <td>0.315784</td>\n",
       "      <td>0.938111</td>\n",
       "    </tr>\n",
       "    <tr>\n",
       "      <th>97</th>\n",
       "      <td>0.042973</td>\n",
       "      <td>0.982070</td>\n",
       "      <td>0.336295</td>\n",
       "      <td>0.942997</td>\n",
       "    </tr>\n",
       "    <tr>\n",
       "      <th>98</th>\n",
       "      <td>0.043466</td>\n",
       "      <td>0.983700</td>\n",
       "      <td>0.329041</td>\n",
       "      <td>0.943811</td>\n",
       "    </tr>\n",
       "    <tr>\n",
       "      <th>99</th>\n",
       "      <td>0.042244</td>\n",
       "      <td>0.982613</td>\n",
       "      <td>0.325114</td>\n",
       "      <td>0.943811</td>\n",
       "    </tr>\n",
       "    <tr>\n",
       "      <th>100</th>\n",
       "      <td>0.041060</td>\n",
       "      <td>0.981798</td>\n",
       "      <td>0.325564</td>\n",
       "      <td>0.925081</td>\n",
       "    </tr>\n",
       "  </tbody>\n",
       "</table>\n",
       "<p>100 rows × 4 columns</p>\n",
       "</div>"
      ],
      "text/plain": [
       "         loss  accuracy  val_loss  val_accuracy\n",
       "1    0.113844  0.961152  0.150114      0.957655\n",
       "2    0.113167  0.961152  0.155336      0.957655\n",
       "3    0.111278  0.962510  0.161773      0.956026\n",
       "4    0.109669  0.962782  0.155601      0.954397\n",
       "5    0.109289  0.961424  0.159058      0.954397\n",
       "..        ...       ...       ...           ...\n",
       "96   0.045476  0.982885  0.315784      0.938111\n",
       "97   0.042973  0.982070  0.336295      0.942997\n",
       "98   0.043466  0.983700  0.329041      0.943811\n",
       "99   0.042244  0.982613  0.325114      0.943811\n",
       "100  0.041060  0.981798  0.325564      0.925081\n",
       "\n",
       "[100 rows x 4 columns]"
      ]
     },
     "execution_count": 106,
     "metadata": {},
     "output_type": "execute_result"
    }
   ],
   "source": [
    "# Create a DataFrame containing training history\n",
    "deep_history_df = pd.DataFrame(fit_model_deep.history, index=range(1,len(fit_model_deep.history[\"loss\"])+1))\n",
    "deep_history_df"
   ]
  },
  {
   "cell_type": "code",
   "execution_count": 107,
   "id": "119ba963",
   "metadata": {},
   "outputs": [
    {
     "data": {
      "image/png": "[encoded data removed]",
      "text/plain": [
       "<Figure size 432x288 with 1 Axes>"
      ]
     },
     "metadata": {
      "needs_background": "light"
     },
     "output_type": "display_data"
    }
   ],
   "source": [
    "#Plot the history\n",
    "deep_history_plot = deep_history_df.plot(title = \"Deep Learning History\",colormap= \"viridis\")\n"
   ]
  },
  {
   "cell_type": "code",
   "execution_count": 108,
   "id": "666e3645",
   "metadata": {},
   "outputs": [
    {
     "data": {
      "text/plain": [
       "<AxesSubplot:>"
      ]
     },
     "execution_count": 108,
     "metadata": {},
     "output_type": "execute_result"
    },
    {
     "data": {
      "image/png": "[encoded data removed]",
      "text/plain": [
       "<Figure size 432x288 with 1 Axes>"
      ]
     },
     "metadata": {
      "needs_background": "light"
     },
     "output_type": "display_data"
    }
   ],
   "source": [
    "# Plot the loss\n",
    "deep_history_df.plot(y=[\"loss\", \"val_loss\"], colormap= \"viridis\")"
   ]
  },
  {
   "cell_type": "code",
   "execution_count": 109,
   "id": "b3de5eff",
   "metadata": {},
   "outputs": [
    {
     "data": {
      "text/plain": [
       "<AxesSubplot:>"
      ]
     },
     "execution_count": 109,
     "metadata": {},
     "output_type": "execute_result"
    },
    {
     "data": {
      "image/png": "[encoded data removed]",
      "text/plain": [
       "<Figure size 432x288 with 1 Axes>"
      ]
     },
     "metadata": {
      "needs_background": "light"
     },
     "output_type": "display_data"
    }
   ],
   "source": [
    "# Plot the accuracy\n",
    "deep_history_df.plot(y=[\"accuracy\", \"val_accuracy\"], colormap= \"viridis\")"
   ]
  },
  {
   "cell_type": "code",
   "execution_count": 110,
   "id": "07538d00",
   "metadata": {},
   "outputs": [
    {
     "name": "stdout",
     "output_type": "stream",
     "text": [
      " The loss for the deep learning model is: 0.3255635201931, The accuracy is: 0.9250814318656921\n"
     ]
    }
   ],
   "source": [
    "# Evaluate the model using the test data\n",
    "dl_model_loss, dl_model_accuracy = deep_nn_model.evaluate(X_test_scaled,y_test,verbose=0)\n",
    "print(f\" The loss for the deep learning model is: {dl_model_loss}, The accuracy is: {dl_model_accuracy}\")"
   ]
  },
  {
   "cell_type": "code",
   "execution_count": 111,
   "id": "d0ecf280",
   "metadata": {},
   "outputs": [],
   "source": [
    "#Y_pred: flatten & Convert prediction probabilities to binary format\n",
    "y_pred_dl = deep_nn_model.predict(X_test_scaled)\n",
    "y_pred_dl = y_pred_dl.flatten()\n",
    "y_pred_dl_tf=tf.round(y_pred_dl)"
   ]
  },
  {
   "cell_type": "code",
   "execution_count": 112,
   "id": "9c81e934",
   "metadata": {},
   "outputs": [
    {
     "data": {
      "text/plain": [
       "<sklearn.metrics._plot.confusion_matrix.ConfusionMatrixDisplay at 0x1f8da4cba08>"
      ]
     },
     "execution_count": 112,
     "metadata": {},
     "output_type": "execute_result"
    },
    {
     "data": {
      "image/png": "[encoded data removed]",
      "text/plain": [
       "<Figure size 432x288 with 2 Axes>"
      ]
     },
     "metadata": {
      "needs_background": "light"
     },
     "output_type": "display_data"
    }
   ],
   "source": [
    "# Display the confusion matrix\n",
    "dl_nn_cm = confusion_matrix(y_test, y_pred_dl_tf)\n",
    "dl_disp = ConfusionMatrixDisplay(confusion_matrix=dl_nn_cm)\n",
    "dl_disp.plot()\n",
    "dl_disp.ax_.set_title(\"Deep Learning Confusion Matrix\")\n",
    "dl_disp"
   ]
  },
  {
   "cell_type": "code",
   "execution_count": 113,
   "id": "7517dd4a",
   "metadata": {},
   "outputs": [
    {
     "name": "stdout",
     "output_type": "stream",
     "text": [
      "Accuracy Score of the Deep Learning Model: 0.9250814332247557\n",
      "Recall Score of the Deep Learning Model: 0.09615384615384616\n",
      "Specifity Score of the Deep Learning Model: 0.07692307692307693\n",
      "Balanced Accuracy Score of the Multiple Perceptron Model: 0.5289442700156987\n",
      "Precision Score of the Deep Learning Model: 0.1\n",
      "F1 Score Score of the Deep Learning Model: 0.09803921568627451\n",
      "Loss of the Deep Learning Model: 0.3255635201931\n"
     ]
    },
    {
     "data": {
      "text/html": [
       "<div>\n",
       "<style scoped>\n",
       "    .dataframe tbody tr th:only-of-type {\n",
       "        vertical-align: middle;\n",
       "    }\n",
       "\n",
       "    .dataframe tbody tr th {\n",
       "        vertical-align: top;\n",
       "    }\n",
       "\n",
       "    .dataframe thead th {\n",
       "        text-align: right;\n",
       "    }\n",
       "</style>\n",
       "<table border=\"1\" class=\"dataframe\">\n",
       "  <thead>\n",
       "    <tr style=\"text-align: right;\">\n",
       "      <th></th>\n",
       "      <th>Model Type</th>\n",
       "      <th>Accuracy</th>\n",
       "      <th>Recall</th>\n",
       "      <th>Specificity</th>\n",
       "      <th>Balanced Accuracy</th>\n",
       "      <th>Precision</th>\n",
       "      <th>F1 Score</th>\n",
       "      <th>Loss</th>\n",
       "    </tr>\n",
       "  </thead>\n",
       "  <tbody>\n",
       "    <tr>\n",
       "      <th>0</th>\n",
       "      <td>Deep Learning</td>\n",
       "      <td>0.925081</td>\n",
       "      <td>0.096154</td>\n",
       "      <td>0.076923</td>\n",
       "      <td>0.528944</td>\n",
       "      <td>0.1</td>\n",
       "      <td>0.098039</td>\n",
       "      <td>0.325564</td>\n",
       "    </tr>\n",
       "  </tbody>\n",
       "</table>\n",
       "</div>"
      ],
      "text/plain": [
       "      Model Type  Accuracy    Recall  Specificity  Balanced Accuracy  \\\n",
       "0  Deep Learning  0.925081  0.096154     0.076923           0.528944   \n",
       "\n",
       "   Precision  F1 Score      Loss  \n",
       "0        0.1  0.098039  0.325564  "
      ]
     },
     "execution_count": 113,
     "metadata": {},
     "output_type": "execute_result"
    }
   ],
   "source": [
    "# Advanced Classification Metrics\n",
    "# Accuracy\n",
    "dl_accuracy_score = accuracy_score(y_test, y_pred_dl_tf)\n",
    "print(f'Accuracy Score of the Deep Learning Model: {dl_accuracy_score}')\n",
    "\n",
    "## Recall/Sensitivity\n",
    "dl_recall_score = recall_score(y_test, y_pred_dl_tf)\n",
    "print(f'Recall Score of the Deep Learning Model: {dl_recall_score}')\n",
    "\n",
    "# Specificity\n",
    "dl_specificity_score = 4 / (4+48)\n",
    "print(f'Specifity Score of the Deep Learning Model: {dl_specificity_score}')\n",
    "\n",
    "# Balanced Accuracy Score\n",
    "dl_bas = balanced_accuracy_score(y_test, y_pred_dl_tf)\n",
    "print(f'Balanced Accuracy Score of the Multiple Perceptron Model: {dl_bas}')\n",
    "\n",
    "# Precision\n",
    "dl_precision_score = precision_score(y_test, y_pred_dl_tf)\n",
    "print(f'Precision Score of the Deep Learning Model: {dl_precision_score}')     \n",
    "      \n",
    "# F1 Score\n",
    "dl_f1_score = f1_score(y_test, y_pred_dl_tf)\n",
    "print(f'F1 Score Score of the Deep Learning Model: {dl_f1_score}')\n",
    "\n",
    "# Loss Score\n",
    "print(f'Loss of the Deep Learning Model: {dl_model_loss}')\n",
    "\n",
    "# Advanced Classification Metrics DF\n",
    "dl_acm = {\"Model Type\": [\"Deep Learning\"], \"Accuracy\":[dl_accuracy_score], \"Recall\": [dl_recall_score], \"Specificity\":[dl_specificity_score], \n",
    "          \"Balanced Accuracy\": [dl_bas], \"Precision\":[dl_precision_score], \"F1 Score\":[dl_f1_score], \"Loss\": [dl_model_loss]}\n",
    "dl_acm_df = pd.DataFrame(data=dl_acm)\n",
    "dl_acm_df"
   ]
  },
  {
   "cell_type": "markdown",
   "id": "4e36a3cc",
   "metadata": {},
   "source": [
    "## Comparison of the Models"
   ]
  },
  {
   "cell_type": "code",
   "execution_count": 114,
   "id": "244f3c08",
   "metadata": {},
   "outputs": [
    {
     "data": {
      "image/png": "[encoded data removed]",
      "text/plain": [
       "<Figure size 432x288 with 1 Axes>"
      ]
     },
     "metadata": {
      "needs_background": "light"
     },
     "output_type": "display_data"
    },
    {
     "data": {
      "image/png": "[encoded data removed]",
      "text/plain": [
       "<Figure size 432x288 with 1 Axes>"
      ]
     },
     "metadata": {
      "needs_background": "light"
     },
     "output_type": "display_data"
    },
    {
     "data": {
      "image/png": "[encoded data removed]",
      "text/plain": [
       "<Figure size 432x288 with 1 Axes>"
      ]
     },
     "metadata": {
      "needs_background": "light"
     },
     "output_type": "display_data"
    }
   ],
   "source": [
    "nn_history_plot = nn_history_df.plot(title = \"Single Perceptron History\",colormap= \"viridis\")\n",
    "multi_history_plotf = multi_history_df.plot(title = \"Multiple Perceptron History\",colormap= \"viridis\")\n",
    "deep_history_plot = deep_history_df.plot(title = \"Deep Learning History\",colormap= \"viridis\")"
   ]
  },
  {
   "cell_type": "code",
   "execution_count": 53,
   "id": "8f4932b7",
   "metadata": {},
   "outputs": [
    {
     "data": {
      "text/plain": [
       "<sklearn.metrics._plot.confusion_matrix.ConfusionMatrixDisplay at 0x1f8de070e08>"
      ]
     },
     "execution_count": 53,
     "metadata": {},
     "output_type": "execute_result"
    },
    {
     "data": {
      "image/png": "[encoded data removed]",
      "text/plain": [
       "<Figure size 432x288 with 2 Axes>"
      ]
     },
     "metadata": {
      "needs_background": "light"
     },
     "output_type": "display_data"
    },
    {
     "data": {
      "image/png": "[encoded data removed]",
      "text/plain": [
       "<Figure size 432x288 with 2 Axes>"
      ]
     },
     "metadata": {
      "needs_background": "light"
     },
     "output_type": "display_data"
    },
    {
     "data": {
      "image/png": "[encoded data removed]",
      "text/plain": [
       "<Figure size 432x288 with 2 Axes>"
      ]
     },
     "metadata": {
      "needs_background": "light"
     },
     "output_type": "display_data"
    }
   ],
   "source": [
    "# Single Perceptron Confusion Matrix\n",
    "nn_disp.plot()\n",
    "nn_disp.ax_.set_title(\"Single Perceptron Confusion Matrix\")\n",
    "\n",
    "# Multiple Perceptron Confusion Matrix\n",
    "multi_disp.plot()\n",
    "multi_disp.ax_.set_title(\"Multiple Perceptron Confusion Matrix\")\n",
    "\n",
    "# Deep Learning Confusion Matrix\n",
    "dl_disp.plot()\n",
    "dl_disp.ax_.set_title(\"Deep Learning Confusion Matrix\")\n",
    "dl_disp"
   ]
  },
  {
   "cell_type": "code",
   "execution_count": 54,
   "id": "d0766896",
   "metadata": {
    "scrolled": true
   },
   "outputs": [
    {
     "data": {
      "text/html": [
       "<div>\n",
       "<style scoped>\n",
       "    .dataframe tbody tr th:only-of-type {\n",
       "        vertical-align: middle;\n",
       "    }\n",
       "\n",
       "    .dataframe tbody tr th {\n",
       "        vertical-align: top;\n",
       "    }\n",
       "\n",
       "    .dataframe thead th {\n",
       "        text-align: right;\n",
       "    }\n",
       "</style>\n",
       "<table border=\"1\" class=\"dataframe\">\n",
       "  <thead>\n",
       "    <tr style=\"text-align: right;\">\n",
       "      <th></th>\n",
       "      <th>Model Type</th>\n",
       "      <th>Accuracy</th>\n",
       "      <th>Recall</th>\n",
       "      <th>Specificity</th>\n",
       "      <th>Balanced Accuracy</th>\n",
       "      <th>Precision</th>\n",
       "      <th>F1 Score</th>\n",
       "      <th>Loss</th>\n",
       "    </tr>\n",
       "  </thead>\n",
       "  <tbody>\n",
       "    <tr>\n",
       "      <th>0</th>\n",
       "      <td>Single Perceptron</td>\n",
       "      <td>0.759772</td>\n",
       "      <td>0.769231</td>\n",
       "      <td>0.769231</td>\n",
       "      <td>0.764292</td>\n",
       "      <td>0.123839</td>\n",
       "      <td>0.213333</td>\n",
       "      <td>0.468126</td>\n",
       "    </tr>\n",
       "    <tr>\n",
       "      <th>1</th>\n",
       "      <td>Multi Perceptron</td>\n",
       "      <td>0.769544</td>\n",
       "      <td>0.673077</td>\n",
       "      <td>0.673077</td>\n",
       "      <td>0.723443</td>\n",
       "      <td>0.116279</td>\n",
       "      <td>0.198300</td>\n",
       "      <td>0.421914</td>\n",
       "    </tr>\n",
       "    <tr>\n",
       "      <th>2</th>\n",
       "      <td>Deep Learning</td>\n",
       "      <td>0.947883</td>\n",
       "      <td>0.076923</td>\n",
       "      <td>0.076923</td>\n",
       "      <td>0.531659</td>\n",
       "      <td>0.200000</td>\n",
       "      <td>0.111111</td>\n",
       "      <td>0.305371</td>\n",
       "    </tr>\n",
       "  </tbody>\n",
       "</table>\n",
       "</div>"
      ],
      "text/plain": [
       "          Model Type  Accuracy    Recall  Specificity  Balanced Accuracy  \\\n",
       "0  Single Perceptron  0.759772  0.769231     0.769231           0.764292   \n",
       "1   Multi Perceptron  0.769544  0.673077     0.673077           0.723443   \n",
       "2      Deep Learning  0.947883  0.076923     0.076923           0.531659   \n",
       "\n",
       "   Precision  F1 Score      Loss  \n",
       "0   0.123839  0.213333  0.468126  \n",
       "1   0.116279  0.198300  0.421914  \n",
       "2   0.200000  0.111111  0.305371  "
      ]
     },
     "execution_count": 54,
     "metadata": {},
     "output_type": "execute_result"
    }
   ],
   "source": [
    "# Total Advanced Classification Metrics DF\n",
    "total_acm = ({\"Model Type\": \"Single Perceptron\", \"Accuracy\":nn_accuracy_score, \"Recall\": nn_recall_score, \"Specificity\":nn_specificity_score, \n",
    "          \"Balanced Accuracy\": nn_bas, \"Precision\":nn_precision_score, \"F1 Score\":nn_f1_score, \"Loss\": nn_model_loss }, {\"Model Type\": \"Multi Perceptron\", \"Accuracy\":multi_accuracy_score, \"Recall\": multi_recall_score, \"Specificity\":multi_specificity_score, \n",
    "          \"Balanced Accuracy\": multi_bas, \"Precision\":multi_precision_score, \"F1 Score\":multi_f1_score, \"Loss\": multi_model_loss}, {\"Model Type\": \"Deep Learning\", \"Accuracy\":dl_accuracy_score, \"Recall\": dl_recall_score, \"Specificity\":dl_specificity_score, \n",
    "          \"Balanced Accuracy\": dl_bas, \"Precision\":dl_precision_score, \"F1 Score\":dl_f1_score, \"Loss\": dl_model_loss})\n",
    "total_acm_df = pd.DataFrame(data=total_acm)\n",
    "total_acm_df"
   ]
  },
  {
   "cell_type": "code",
   "execution_count": 48,
   "id": "29faa77d",
   "metadata": {},
   "outputs": [],
   "source": [
    "# Model with the best "
   ]
  },
  {
   "cell_type": "code",
   "execution_count": null,
   "id": "25f47da5",
   "metadata": {},
   "outputs": [],
   "source": []
  }
 ],
 "metadata": {
  "kernelspec": {
   "display_name": "mlenv",
   "language": "python",
   "name": "mlenv"
  },
  "language_info": {
   "codemirror_mode": {
    "name": "ipython",
    "version": 3
   },
   "file_extension": ".py",
   "mimetype": "text/x-python",
   "name": "python",
   "nbconvert_exporter": "python",
   "pygments_lexer": "ipython3",
   "version": "3.7.11"
  }
 },
 "nbformat": 4,
 "nbformat_minor": 5
}
