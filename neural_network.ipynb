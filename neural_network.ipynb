{
 "cells": [
  {
   "cell_type": "markdown",
   "id": "1611a70b",
   "metadata": {},
   "source": [
    "## Import Libraries and Dependencies"
   ]
  },
  {
   "cell_type": "code",
   "execution_count": 152,
   "id": "c0cf552c",
   "metadata": {},
   "outputs": [],
   "source": [
    "# Import our dependencies\n",
    "from pathlib import Path\n",
    "import numpy as np\n",
    "import pandas as pd\n",
    "\n",
    "from sklearn.preprocessing import StandardScaler, OneHotEncoder\n",
    "from sklearn.model_selection import train_test_split\n",
    "from imblearn.over_sampling import SMOTE, ADASYN\n",
    "from collections import Counter\n",
    "\n",
    "import tensorflow as tf\n",
    "\n",
    "from sklearn.metrics import f1_score, accuracy_score, precision_score, recall_score, balanced_accuracy_score, classification_report, confusion_matrix, ConfusionMatrixDisplay"
   ]
  },
  {
   "cell_type": "code",
   "execution_count": 153,
   "id": "91450368",
   "metadata": {
    "scrolled": false
   },
   "outputs": [
    {
     "name": "stdout",
     "output_type": "stream",
     "text": [
      "(4909, 11)\n"
     ]
    },
    {
     "data": {
      "text/html": [
       "<div>\n",
       "<style scoped>\n",
       "    .dataframe tbody tr th:only-of-type {\n",
       "        vertical-align: middle;\n",
       "    }\n",
       "\n",
       "    .dataframe tbody tr th {\n",
       "        vertical-align: top;\n",
       "    }\n",
       "\n",
       "    .dataframe thead th {\n",
       "        text-align: right;\n",
       "    }\n",
       "</style>\n",
       "<table border=\"1\" class=\"dataframe\">\n",
       "  <thead>\n",
       "    <tr style=\"text-align: right;\">\n",
       "      <th></th>\n",
       "      <th>gender</th>\n",
       "      <th>age</th>\n",
       "      <th>hypertension</th>\n",
       "      <th>heart_disease</th>\n",
       "      <th>ever_married</th>\n",
       "      <th>work_type</th>\n",
       "      <th>Residence_type</th>\n",
       "      <th>avg_glucose_level</th>\n",
       "      <th>bmi</th>\n",
       "      <th>smoking_status</th>\n",
       "      <th>stroke</th>\n",
       "    </tr>\n",
       "    <tr>\n",
       "      <th>id</th>\n",
       "      <th></th>\n",
       "      <th></th>\n",
       "      <th></th>\n",
       "      <th></th>\n",
       "      <th></th>\n",
       "      <th></th>\n",
       "      <th></th>\n",
       "      <th></th>\n",
       "      <th></th>\n",
       "      <th></th>\n",
       "      <th></th>\n",
       "    </tr>\n",
       "  </thead>\n",
       "  <tbody>\n",
       "    <tr>\n",
       "      <th>9046</th>\n",
       "      <td>Male</td>\n",
       "      <td>67.0</td>\n",
       "      <td>0</td>\n",
       "      <td>1</td>\n",
       "      <td>Yes</td>\n",
       "      <td>Private</td>\n",
       "      <td>Urban</td>\n",
       "      <td>228.69</td>\n",
       "      <td>36.6</td>\n",
       "      <td>formerly smoked</td>\n",
       "      <td>1</td>\n",
       "    </tr>\n",
       "    <tr>\n",
       "      <th>31112</th>\n",
       "      <td>Male</td>\n",
       "      <td>80.0</td>\n",
       "      <td>0</td>\n",
       "      <td>1</td>\n",
       "      <td>Yes</td>\n",
       "      <td>Private</td>\n",
       "      <td>Rural</td>\n",
       "      <td>105.92</td>\n",
       "      <td>32.5</td>\n",
       "      <td>never smoked</td>\n",
       "      <td>1</td>\n",
       "    </tr>\n",
       "    <tr>\n",
       "      <th>60182</th>\n",
       "      <td>Female</td>\n",
       "      <td>49.0</td>\n",
       "      <td>0</td>\n",
       "      <td>0</td>\n",
       "      <td>Yes</td>\n",
       "      <td>Private</td>\n",
       "      <td>Urban</td>\n",
       "      <td>171.23</td>\n",
       "      <td>34.4</td>\n",
       "      <td>smokes</td>\n",
       "      <td>1</td>\n",
       "    </tr>\n",
       "    <tr>\n",
       "      <th>1665</th>\n",
       "      <td>Female</td>\n",
       "      <td>79.0</td>\n",
       "      <td>1</td>\n",
       "      <td>0</td>\n",
       "      <td>Yes</td>\n",
       "      <td>Self-employed</td>\n",
       "      <td>Rural</td>\n",
       "      <td>174.12</td>\n",
       "      <td>24.0</td>\n",
       "      <td>never smoked</td>\n",
       "      <td>1</td>\n",
       "    </tr>\n",
       "    <tr>\n",
       "      <th>56669</th>\n",
       "      <td>Male</td>\n",
       "      <td>81.0</td>\n",
       "      <td>0</td>\n",
       "      <td>0</td>\n",
       "      <td>Yes</td>\n",
       "      <td>Private</td>\n",
       "      <td>Urban</td>\n",
       "      <td>186.21</td>\n",
       "      <td>29.0</td>\n",
       "      <td>formerly smoked</td>\n",
       "      <td>1</td>\n",
       "    </tr>\n",
       "    <tr>\n",
       "      <th>...</th>\n",
       "      <td>...</td>\n",
       "      <td>...</td>\n",
       "      <td>...</td>\n",
       "      <td>...</td>\n",
       "      <td>...</td>\n",
       "      <td>...</td>\n",
       "      <td>...</td>\n",
       "      <td>...</td>\n",
       "      <td>...</td>\n",
       "      <td>...</td>\n",
       "      <td>...</td>\n",
       "    </tr>\n",
       "    <tr>\n",
       "      <th>14180</th>\n",
       "      <td>Female</td>\n",
       "      <td>13.0</td>\n",
       "      <td>0</td>\n",
       "      <td>0</td>\n",
       "      <td>No</td>\n",
       "      <td>children</td>\n",
       "      <td>Rural</td>\n",
       "      <td>103.08</td>\n",
       "      <td>18.6</td>\n",
       "      <td>Unknown</td>\n",
       "      <td>0</td>\n",
       "    </tr>\n",
       "    <tr>\n",
       "      <th>44873</th>\n",
       "      <td>Female</td>\n",
       "      <td>81.0</td>\n",
       "      <td>0</td>\n",
       "      <td>0</td>\n",
       "      <td>Yes</td>\n",
       "      <td>Self-employed</td>\n",
       "      <td>Urban</td>\n",
       "      <td>125.20</td>\n",
       "      <td>40.0</td>\n",
       "      <td>never smoked</td>\n",
       "      <td>0</td>\n",
       "    </tr>\n",
       "    <tr>\n",
       "      <th>19723</th>\n",
       "      <td>Female</td>\n",
       "      <td>35.0</td>\n",
       "      <td>0</td>\n",
       "      <td>0</td>\n",
       "      <td>Yes</td>\n",
       "      <td>Self-employed</td>\n",
       "      <td>Rural</td>\n",
       "      <td>82.99</td>\n",
       "      <td>30.6</td>\n",
       "      <td>never smoked</td>\n",
       "      <td>0</td>\n",
       "    </tr>\n",
       "    <tr>\n",
       "      <th>37544</th>\n",
       "      <td>Male</td>\n",
       "      <td>51.0</td>\n",
       "      <td>0</td>\n",
       "      <td>0</td>\n",
       "      <td>Yes</td>\n",
       "      <td>Private</td>\n",
       "      <td>Rural</td>\n",
       "      <td>166.29</td>\n",
       "      <td>25.6</td>\n",
       "      <td>formerly smoked</td>\n",
       "      <td>0</td>\n",
       "    </tr>\n",
       "    <tr>\n",
       "      <th>44679</th>\n",
       "      <td>Female</td>\n",
       "      <td>44.0</td>\n",
       "      <td>0</td>\n",
       "      <td>0</td>\n",
       "      <td>Yes</td>\n",
       "      <td>Govt_job</td>\n",
       "      <td>Urban</td>\n",
       "      <td>85.28</td>\n",
       "      <td>26.2</td>\n",
       "      <td>Unknown</td>\n",
       "      <td>0</td>\n",
       "    </tr>\n",
       "  </tbody>\n",
       "</table>\n",
       "<p>4909 rows × 11 columns</p>\n",
       "</div>"
      ],
      "text/plain": [
       "       gender   age  hypertension  heart_disease ever_married      work_type  \\\n",
       "id                                                                             \n",
       "9046     Male  67.0             0              1          Yes        Private   \n",
       "31112    Male  80.0             0              1          Yes        Private   \n",
       "60182  Female  49.0             0              0          Yes        Private   \n",
       "1665   Female  79.0             1              0          Yes  Self-employed   \n",
       "56669    Male  81.0             0              0          Yes        Private   \n",
       "...       ...   ...           ...            ...          ...            ...   \n",
       "14180  Female  13.0             0              0           No       children   \n",
       "44873  Female  81.0             0              0          Yes  Self-employed   \n",
       "19723  Female  35.0             0              0          Yes  Self-employed   \n",
       "37544    Male  51.0             0              0          Yes        Private   \n",
       "44679  Female  44.0             0              0          Yes       Govt_job   \n",
       "\n",
       "      Residence_type  avg_glucose_level   bmi   smoking_status  stroke  \n",
       "id                                                                      \n",
       "9046           Urban             228.69  36.6  formerly smoked       1  \n",
       "31112          Rural             105.92  32.5     never smoked       1  \n",
       "60182          Urban             171.23  34.4           smokes       1  \n",
       "1665           Rural             174.12  24.0     never smoked       1  \n",
       "56669          Urban             186.21  29.0  formerly smoked       1  \n",
       "...              ...                ...   ...              ...     ...  \n",
       "14180          Rural             103.08  18.6          Unknown       0  \n",
       "44873          Urban             125.20  40.0     never smoked       0  \n",
       "19723          Rural              82.99  30.6     never smoked       0  \n",
       "37544          Rural             166.29  25.6  formerly smoked       0  \n",
       "44679          Urban              85.28  26.2          Unknown       0  \n",
       "\n",
       "[4909 rows x 11 columns]"
      ]
     },
     "execution_count": 153,
     "metadata": {},
     "output_type": "execute_result"
    }
   ],
   "source": [
    "# Load the data\n",
    "file_path = Path(\"resources/processed_stroke_db_w_cat.csv\")\n",
    "df = pd.read_csv(file_path, index_col=[0])\n",
    "print(df.shape)\n",
    "df"
   ]
  },
  {
   "cell_type": "markdown",
   "id": "23309e46",
   "metadata": {},
   "source": [
    "## Process Data"
   ]
  },
  {
   "cell_type": "markdown",
   "id": "f0864b02",
   "metadata": {},
   "source": [
    "### One-hot Encoding for Categotical Data & StandScaler for Numerical Data"
   ]
  },
  {
   "cell_type": "code",
   "execution_count": 154,
   "id": "24b1316b",
   "metadata": {
    "scrolled": true
   },
   "outputs": [
    {
     "name": "stdout",
     "output_type": "stream",
     "text": [
      "['gender', 'ever_married', 'work_type', 'Residence_type', 'smoking_status']\n",
      "gender            3\n",
      "ever_married      2\n",
      "work_type         5\n",
      "Residence_type    2\n",
      "smoking_status    4\n",
      "dtype: int64\n"
     ]
    }
   ],
   "source": [
    "# Generate categorical variable list\n",
    "cat_labels= df.dtypes[df.dtypes == \"object\"].index.tolist()\n",
    "print(cat_labels)\n",
    "\n",
    "# Check the number of unique values in each column\n",
    "print(df[cat_labels].nunique())"
   ]
  },
  {
   "cell_type": "code",
   "execution_count": 155,
   "id": "c757f63a",
   "metadata": {},
   "outputs": [
    {
     "name": "stdout",
     "output_type": "stream",
     "text": [
      "(4909, 16)\n"
     ]
    },
    {
     "data": {
      "text/html": [
       "<div>\n",
       "<style scoped>\n",
       "    .dataframe tbody tr th:only-of-type {\n",
       "        vertical-align: middle;\n",
       "    }\n",
       "\n",
       "    .dataframe tbody tr th {\n",
       "        vertical-align: top;\n",
       "    }\n",
       "\n",
       "    .dataframe thead th {\n",
       "        text-align: right;\n",
       "    }\n",
       "</style>\n",
       "<table border=\"1\" class=\"dataframe\">\n",
       "  <thead>\n",
       "    <tr style=\"text-align: right;\">\n",
       "      <th></th>\n",
       "      <th>gender_Female</th>\n",
       "      <th>gender_Male</th>\n",
       "      <th>gender_Other</th>\n",
       "      <th>ever_married_No</th>\n",
       "      <th>ever_married_Yes</th>\n",
       "      <th>work_type_Govt_job</th>\n",
       "      <th>work_type_Never_worked</th>\n",
       "      <th>work_type_Private</th>\n",
       "      <th>work_type_Self-employed</th>\n",
       "      <th>work_type_children</th>\n",
       "      <th>Residence_type_Rural</th>\n",
       "      <th>Residence_type_Urban</th>\n",
       "      <th>smoking_status_Unknown</th>\n",
       "      <th>smoking_status_formerly smoked</th>\n",
       "      <th>smoking_status_never smoked</th>\n",
       "      <th>smoking_status_smokes</th>\n",
       "    </tr>\n",
       "    <tr>\n",
       "      <th>id</th>\n",
       "      <th></th>\n",
       "      <th></th>\n",
       "      <th></th>\n",
       "      <th></th>\n",
       "      <th></th>\n",
       "      <th></th>\n",
       "      <th></th>\n",
       "      <th></th>\n",
       "      <th></th>\n",
       "      <th></th>\n",
       "      <th></th>\n",
       "      <th></th>\n",
       "      <th></th>\n",
       "      <th></th>\n",
       "      <th></th>\n",
       "      <th></th>\n",
       "    </tr>\n",
       "  </thead>\n",
       "  <tbody>\n",
       "    <tr>\n",
       "      <th>9046</th>\n",
       "      <td>0.0</td>\n",
       "      <td>1.0</td>\n",
       "      <td>0.0</td>\n",
       "      <td>0.0</td>\n",
       "      <td>1.0</td>\n",
       "      <td>0.0</td>\n",
       "      <td>0.0</td>\n",
       "      <td>1.0</td>\n",
       "      <td>0.0</td>\n",
       "      <td>0.0</td>\n",
       "      <td>0.0</td>\n",
       "      <td>1.0</td>\n",
       "      <td>0.0</td>\n",
       "      <td>1.0</td>\n",
       "      <td>0.0</td>\n",
       "      <td>0.0</td>\n",
       "    </tr>\n",
       "    <tr>\n",
       "      <th>31112</th>\n",
       "      <td>0.0</td>\n",
       "      <td>1.0</td>\n",
       "      <td>0.0</td>\n",
       "      <td>0.0</td>\n",
       "      <td>1.0</td>\n",
       "      <td>0.0</td>\n",
       "      <td>0.0</td>\n",
       "      <td>1.0</td>\n",
       "      <td>0.0</td>\n",
       "      <td>0.0</td>\n",
       "      <td>1.0</td>\n",
       "      <td>0.0</td>\n",
       "      <td>0.0</td>\n",
       "      <td>0.0</td>\n",
       "      <td>1.0</td>\n",
       "      <td>0.0</td>\n",
       "    </tr>\n",
       "    <tr>\n",
       "      <th>60182</th>\n",
       "      <td>1.0</td>\n",
       "      <td>0.0</td>\n",
       "      <td>0.0</td>\n",
       "      <td>0.0</td>\n",
       "      <td>1.0</td>\n",
       "      <td>0.0</td>\n",
       "      <td>0.0</td>\n",
       "      <td>1.0</td>\n",
       "      <td>0.0</td>\n",
       "      <td>0.0</td>\n",
       "      <td>0.0</td>\n",
       "      <td>1.0</td>\n",
       "      <td>0.0</td>\n",
       "      <td>0.0</td>\n",
       "      <td>0.0</td>\n",
       "      <td>1.0</td>\n",
       "    </tr>\n",
       "    <tr>\n",
       "      <th>1665</th>\n",
       "      <td>1.0</td>\n",
       "      <td>0.0</td>\n",
       "      <td>0.0</td>\n",
       "      <td>0.0</td>\n",
       "      <td>1.0</td>\n",
       "      <td>0.0</td>\n",
       "      <td>0.0</td>\n",
       "      <td>0.0</td>\n",
       "      <td>1.0</td>\n",
       "      <td>0.0</td>\n",
       "      <td>1.0</td>\n",
       "      <td>0.0</td>\n",
       "      <td>0.0</td>\n",
       "      <td>0.0</td>\n",
       "      <td>1.0</td>\n",
       "      <td>0.0</td>\n",
       "    </tr>\n",
       "    <tr>\n",
       "      <th>56669</th>\n",
       "      <td>0.0</td>\n",
       "      <td>1.0</td>\n",
       "      <td>0.0</td>\n",
       "      <td>0.0</td>\n",
       "      <td>1.0</td>\n",
       "      <td>0.0</td>\n",
       "      <td>0.0</td>\n",
       "      <td>1.0</td>\n",
       "      <td>0.0</td>\n",
       "      <td>0.0</td>\n",
       "      <td>0.0</td>\n",
       "      <td>1.0</td>\n",
       "      <td>0.0</td>\n",
       "      <td>1.0</td>\n",
       "      <td>0.0</td>\n",
       "      <td>0.0</td>\n",
       "    </tr>\n",
       "  </tbody>\n",
       "</table>\n",
       "</div>"
      ],
      "text/plain": [
       "       gender_Female  gender_Male  gender_Other  ever_married_No  \\\n",
       "id                                                                 \n",
       "9046             0.0          1.0           0.0              0.0   \n",
       "31112            0.0          1.0           0.0              0.0   \n",
       "60182            1.0          0.0           0.0              0.0   \n",
       "1665             1.0          0.0           0.0              0.0   \n",
       "56669            0.0          1.0           0.0              0.0   \n",
       "\n",
       "       ever_married_Yes  work_type_Govt_job  work_type_Never_worked  \\\n",
       "id                                                                    \n",
       "9046                1.0                 0.0                     0.0   \n",
       "31112               1.0                 0.0                     0.0   \n",
       "60182               1.0                 0.0                     0.0   \n",
       "1665                1.0                 0.0                     0.0   \n",
       "56669               1.0                 0.0                     0.0   \n",
       "\n",
       "       work_type_Private  work_type_Self-employed  work_type_children  \\\n",
       "id                                                                      \n",
       "9046                 1.0                      0.0                 0.0   \n",
       "31112                1.0                      0.0                 0.0   \n",
       "60182                1.0                      0.0                 0.0   \n",
       "1665                 0.0                      1.0                 0.0   \n",
       "56669                1.0                      0.0                 0.0   \n",
       "\n",
       "       Residence_type_Rural  Residence_type_Urban  smoking_status_Unknown  \\\n",
       "id                                                                          \n",
       "9046                    0.0                   1.0                     0.0   \n",
       "31112                   1.0                   0.0                     0.0   \n",
       "60182                   0.0                   1.0                     0.0   \n",
       "1665                    1.0                   0.0                     0.0   \n",
       "56669                   0.0                   1.0                     0.0   \n",
       "\n",
       "       smoking_status_formerly smoked  smoking_status_never smoked  \\\n",
       "id                                                                   \n",
       "9046                              1.0                          0.0   \n",
       "31112                             0.0                          1.0   \n",
       "60182                             0.0                          0.0   \n",
       "1665                              0.0                          1.0   \n",
       "56669                             1.0                          0.0   \n",
       "\n",
       "       smoking_status_smokes  \n",
       "id                            \n",
       "9046                     0.0  \n",
       "31112                    0.0  \n",
       "60182                    1.0  \n",
       "1665                     0.0  \n",
       "56669                    0.0  "
      ]
     },
     "execution_count": 155,
     "metadata": {},
     "output_type": "execute_result"
    }
   ],
   "source": [
    "# Create the OneHotEncoder instance\n",
    "enc = OneHotEncoder(sparse=False)\n",
    "\n",
    "# Fit and transform the OneHotEncoder using the categorical variable list\n",
    "encode_df = pd.DataFrame(enc.fit_transform(df[cat_labels]))\n",
    "\n",
    "encode_df.index = df.index\n",
    "\n",
    "# Add the encoded variable names to the DataFrame\n",
    "encode_df.columns = enc.get_feature_names(cat_labels)\n",
    "print(encode_df.shape)\n",
    "encode_df.head()"
   ]
  },
  {
   "cell_type": "code",
   "execution_count": 156,
   "id": "350453ea",
   "metadata": {},
   "outputs": [
    {
     "name": "stderr",
     "output_type": "stream",
     "text": [
      "C:\\Users\\Kristen\\anaconda3\\envs\\mlenv\\lib\\site-packages\\ipykernel_launcher.py:3: FutureWarning: In a future version of pandas all arguments of DataFrame.drop except for the argument 'labels' will be keyword-only\n",
      "  This is separate from the ipykernel package so we can avoid doing imports until\n"
     ]
    },
    {
     "data": {
      "text/plain": [
       "(4909, 22)"
      ]
     },
     "execution_count": 156,
     "metadata": {},
     "output_type": "execute_result"
    }
   ],
   "source": [
    "# Merge one-hot encoded features and drop the originals\n",
    "df = df.merge(encode_df,left_index=True, right_index=True)\n",
    "df = df.drop(cat_labels,1)\n",
    "df.shape"
   ]
  },
  {
   "cell_type": "markdown",
   "id": "97d0be78",
   "metadata": {},
   "source": [
    "### Split, Oversample, Resample Data"
   ]
  },
  {
   "cell_type": "code",
   "execution_count": 157,
   "id": "2d4c2e85",
   "metadata": {
    "scrolled": true
   },
   "outputs": [
    {
     "name": "stderr",
     "output_type": "stream",
     "text": [
      "C:\\Users\\Kristen\\anaconda3\\envs\\mlenv\\lib\\site-packages\\ipykernel_launcher.py:3: FutureWarning: In a future version of pandas all arguments of DataFrame.drop except for the argument 'labels' will be keyword-only\n",
      "  This is separate from the ipykernel package so we can avoid doing imports until\n"
     ]
    }
   ],
   "source": [
    "# Split the preprocessed data into the features and target arrays\n",
    "y = df[\"stroke\"].values\n",
    "X = df.drop([\"stroke\"],1).values"
   ]
  },
  {
   "cell_type": "code",
   "execution_count": 158,
   "id": "e61bb187",
   "metadata": {},
   "outputs": [],
   "source": [
    "# Split the preprocessed data into a training and testing dataset\n",
    "X_train, X_test, y_train, y_test = train_test_split(X, y, random_state=12, stratify=y)"
   ]
  },
  {
   "cell_type": "code",
   "execution_count": 159,
   "id": "ec3ec7fb",
   "metadata": {},
   "outputs": [
    {
     "data": {
      "text/plain": [
       "(3681, 21)"
      ]
     },
     "execution_count": 159,
     "metadata": {},
     "output_type": "execute_result"
    }
   ],
   "source": [
    "# Create the StandardScaler instance\n",
    "scaler = StandardScaler()\n",
    "\n",
    "# Fit the StandardScaler\n",
    "X_scaler = scaler.fit(X_train)\n",
    "\n",
    "# Scale the data\n",
    "X_train_scaled = X_scaler.transform(X_train)\n",
    "X_test_scaled = X_scaler.transform(X_test)\n",
    "X_train_scaled.shape"
   ]
  },
  {
   "cell_type": "code",
   "execution_count": 160,
   "id": "01248a5b",
   "metadata": {},
   "outputs": [
    {
     "data": {
      "text/plain": [
       "Counter({0: 3524, 1: 3542})"
      ]
     },
     "execution_count": 160,
     "metadata": {},
     "output_type": "execute_result"
    }
   ],
   "source": [
    "# Apply sampling technique to balance the minority class\n",
    "\n",
    "# Option One: Resample the training data with SMOTE- Instantiate the model\n",
    "# smote = SMOTE(random_state=1)\n",
    "\n",
    "\n",
    "# Option Two: Resample the training data with ADASYN- Instantiate the model\n",
    "smote = ADASYN(random_state=1)\n",
    "\n",
    "\n",
    "# Resample the targets\n",
    "X_resampled, y_resampled = smote.fit_resample(X_train_scaled, y_train)\n",
    "Counter(y_resampled)"
   ]
  },
  {
   "cell_type": "markdown",
   "id": "57b08d8f",
   "metadata": {},
   "source": [
    "## Single Neuron / Single Layer Neural Network"
   ]
  },
  {
   "cell_type": "markdown",
   "id": "732cf3c4",
   "metadata": {},
   "source": [
    "### Train, Fit, Evaluate, Predict Model"
   ]
  },
  {
   "cell_type": "code",
   "execution_count": 161,
   "id": "5d2f3c7a",
   "metadata": {
    "scrolled": true
   },
   "outputs": [
    {
     "name": "stdout",
     "output_type": "stream",
     "text": [
      "Model: \"sequential_9\"\n",
      "_________________________________________________________________\n",
      " Layer (type)                Output Shape              Param #   \n",
      "=================================================================\n",
      " dense_21 (Dense)            (None, 1)                 22        \n",
      "                                                                 \n",
      " dense_22 (Dense)            (None, 1)                 2         \n",
      "                                                                 \n",
      "=================================================================\n",
      "Total params: 24\n",
      "Trainable params: 24\n",
      "Non-trainable params: 0\n",
      "_________________________________________________________________\n"
     ]
    }
   ],
   "source": [
    "# Create the Keras Sequential model\n",
    "nn_model = tf.keras.models.Sequential()\n",
    "\n",
    "# Add our first Dense layer, including the input layer\n",
    "nn_model.add(tf.keras.layers.Dense(units=1, activation=\"relu\", input_dim=21))\n",
    "\n",
    "# Add the output layer that uses a probability activation function\n",
    "nn_model.add(tf.keras.layers.Dense(units=1, activation=\"sigmoid\"))\n",
    "\n",
    "# Check the structure of the Sequential model\n",
    "nn_model.summary()"
   ]
  },
  {
   "cell_type": "code",
   "execution_count": 162,
   "id": "c26f2a30",
   "metadata": {},
   "outputs": [],
   "source": [
    "# Compile the Sequential model together and customize metrics\n",
    "nn_model.compile(loss=\"binary_crossentropy\", optimizer=\"adam\", metrics=[\"accuracy\"])"
   ]
  },
  {
   "cell_type": "code",
   "execution_count": 163,
   "id": "363453f8",
   "metadata": {
    "scrolled": true
   },
   "outputs": [
    {
     "name": "stdout",
     "output_type": "stream",
     "text": [
      "Epoch 1/100\n",
      "221/221 [==============================] - 1s 1ms/step - loss: 0.7525 - accuracy: 0.5270 - val_loss: 0.8123 - val_accuracy: 0.6515\n",
      "Epoch 2/100\n",
      "221/221 [==============================] - 0s 1ms/step - loss: 0.6772 - accuracy: 0.6026 - val_loss: 0.7155 - val_accuracy: 0.7296\n",
      "Epoch 3/100\n",
      "221/221 [==============================] - 0s 1ms/step - loss: 0.6331 - accuracy: 0.6850 - val_loss: 0.6969 - val_accuracy: 0.7386\n",
      "Epoch 4/100\n",
      "221/221 [==============================] - 0s 1ms/step - loss: 0.5831 - accuracy: 0.7750 - val_loss: 0.6769 - val_accuracy: 0.7337\n",
      "Epoch 5/100\n",
      "221/221 [==============================] - 0s 1ms/step - loss: 0.5579 - accuracy: 0.7829 - val_loss: 0.6418 - val_accuracy: 0.7443\n",
      "Epoch 6/100\n",
      "221/221 [==============================] - 0s 1ms/step - loss: 0.5424 - accuracy: 0.7840 - val_loss: 0.6164 - val_accuracy: 0.7533\n",
      "Epoch 7/100\n",
      "221/221 [==============================] - 0s 1ms/step - loss: 0.5308 - accuracy: 0.7873 - val_loss: 0.5919 - val_accuracy: 0.7581\n",
      "Epoch 8/100\n",
      "221/221 [==============================] - 0s 1ms/step - loss: 0.5210 - accuracy: 0.7849 - val_loss: 0.5723 - val_accuracy: 0.7598\n",
      "Epoch 9/100\n",
      "221/221 [==============================] - 0s 1ms/step - loss: 0.5128 - accuracy: 0.7869 - val_loss: 0.5581 - val_accuracy: 0.7614\n",
      "Epoch 10/100\n",
      "221/221 [==============================] - 0s 1ms/step - loss: 0.5059 - accuracy: 0.7852 - val_loss: 0.5596 - val_accuracy: 0.7549\n",
      "Epoch 11/100\n",
      "221/221 [==============================] - 0s 1ms/step - loss: 0.5007 - accuracy: 0.7890 - val_loss: 0.5437 - val_accuracy: 0.7590\n",
      "Epoch 12/100\n",
      "221/221 [==============================] - 0s 1ms/step - loss: 0.4961 - accuracy: 0.7869 - val_loss: 0.5303 - val_accuracy: 0.7606\n",
      "Epoch 13/100\n",
      "221/221 [==============================] - 0s 1ms/step - loss: 0.4924 - accuracy: 0.7877 - val_loss: 0.5377 - val_accuracy: 0.7533\n",
      "Epoch 14/100\n",
      "221/221 [==============================] - 0s 1ms/step - loss: 0.4893 - accuracy: 0.7871 - val_loss: 0.5194 - val_accuracy: 0.7590\n",
      "Epoch 15/100\n",
      "221/221 [==============================] - 0s 1ms/step - loss: 0.4865 - accuracy: 0.7881 - val_loss: 0.5203 - val_accuracy: 0.7573\n",
      "Epoch 16/100\n",
      "221/221 [==============================] - 0s 1ms/step - loss: 0.4840 - accuracy: 0.7881 - val_loss: 0.5107 - val_accuracy: 0.7590\n",
      "Epoch 17/100\n",
      "221/221 [==============================] - 0s 1ms/step - loss: 0.4820 - accuracy: 0.7884 - val_loss: 0.5011 - val_accuracy: 0.7598\n",
      "Epoch 18/100\n",
      "221/221 [==============================] - 0s 1ms/step - loss: 0.4803 - accuracy: 0.7866 - val_loss: 0.5067 - val_accuracy: 0.7581\n",
      "Epoch 19/100\n",
      "221/221 [==============================] - 0s 1ms/step - loss: 0.4787 - accuracy: 0.7883 - val_loss: 0.5061 - val_accuracy: 0.7581\n",
      "Epoch 20/100\n",
      "221/221 [==============================] - 0s 1ms/step - loss: 0.4771 - accuracy: 0.7873 - val_loss: 0.4925 - val_accuracy: 0.7598\n",
      "Epoch 21/100\n",
      "221/221 [==============================] - 0s 1ms/step - loss: 0.4761 - accuracy: 0.7864 - val_loss: 0.4959 - val_accuracy: 0.7590\n",
      "Epoch 22/100\n",
      "221/221 [==============================] - 0s 1ms/step - loss: 0.4749 - accuracy: 0.7859 - val_loss: 0.4893 - val_accuracy: 0.7598\n",
      "Epoch 23/100\n",
      "221/221 [==============================] - 0s 1ms/step - loss: 0.4737 - accuracy: 0.7840 - val_loss: 0.5078 - val_accuracy: 0.7533\n",
      "Epoch 24/100\n",
      "221/221 [==============================] - 0s 1ms/step - loss: 0.4730 - accuracy: 0.7874 - val_loss: 0.4810 - val_accuracy: 0.7598\n",
      "Epoch 25/100\n",
      "221/221 [==============================] - 0s 1ms/step - loss: 0.4721 - accuracy: 0.7859 - val_loss: 0.4929 - val_accuracy: 0.7581\n",
      "Epoch 26/100\n",
      "221/221 [==============================] - 0s 1ms/step - loss: 0.4715 - accuracy: 0.7859 - val_loss: 0.4846 - val_accuracy: 0.7598\n",
      "Epoch 27/100\n",
      "221/221 [==============================] - 0s 1ms/step - loss: 0.4709 - accuracy: 0.7849 - val_loss: 0.4809 - val_accuracy: 0.7598\n",
      "Epoch 28/100\n",
      "221/221 [==============================] - 0s 1ms/step - loss: 0.4703 - accuracy: 0.7857 - val_loss: 0.4818 - val_accuracy: 0.7598\n",
      "Epoch 29/100\n",
      "221/221 [==============================] - 0s 1ms/step - loss: 0.4699 - accuracy: 0.7850 - val_loss: 0.4789 - val_accuracy: 0.7598\n",
      "Epoch 30/100\n",
      "221/221 [==============================] - 0s 1ms/step - loss: 0.4695 - accuracy: 0.7853 - val_loss: 0.4770 - val_accuracy: 0.7614\n",
      "Epoch 31/100\n",
      "221/221 [==============================] - 0s 1ms/step - loss: 0.4692 - accuracy: 0.7845 - val_loss: 0.4737 - val_accuracy: 0.7598\n",
      "Epoch 32/100\n",
      "221/221 [==============================] - 0s 1ms/step - loss: 0.4688 - accuracy: 0.7867 - val_loss: 0.4780 - val_accuracy: 0.7598\n",
      "Epoch 33/100\n",
      "221/221 [==============================] - 0s 1ms/step - loss: 0.4684 - accuracy: 0.7862 - val_loss: 0.4681 - val_accuracy: 0.7614\n",
      "Epoch 34/100\n",
      "221/221 [==============================] - 0s 1ms/step - loss: 0.4681 - accuracy: 0.7849 - val_loss: 0.4679 - val_accuracy: 0.7606\n",
      "Epoch 35/100\n",
      "221/221 [==============================] - 0s 1ms/step - loss: 0.4678 - accuracy: 0.7867 - val_loss: 0.4808 - val_accuracy: 0.7598\n",
      "Epoch 36/100\n",
      "221/221 [==============================] - 0s 1ms/step - loss: 0.4674 - accuracy: 0.7839 - val_loss: 0.4786 - val_accuracy: 0.7598\n",
      "Epoch 37/100\n",
      "221/221 [==============================] - 0s 1ms/step - loss: 0.4672 - accuracy: 0.7859 - val_loss: 0.4816 - val_accuracy: 0.7581\n",
      "Epoch 38/100\n",
      "221/221 [==============================] - 0s 1ms/step - loss: 0.4670 - accuracy: 0.7853 - val_loss: 0.4687 - val_accuracy: 0.7598\n",
      "Epoch 39/100\n",
      "221/221 [==============================] - 0s 1ms/step - loss: 0.4668 - accuracy: 0.7850 - val_loss: 0.4711 - val_accuracy: 0.7606\n",
      "Epoch 40/100\n",
      "221/221 [==============================] - 0s 1ms/step - loss: 0.4664 - accuracy: 0.7873 - val_loss: 0.4800 - val_accuracy: 0.7598\n",
      "Epoch 41/100\n",
      "221/221 [==============================] - 0s 1ms/step - loss: 0.4663 - accuracy: 0.7849 - val_loss: 0.4753 - val_accuracy: 0.7590\n",
      "Epoch 42/100\n",
      "221/221 [==============================] - 0s 1ms/step - loss: 0.4663 - accuracy: 0.7842 - val_loss: 0.4602 - val_accuracy: 0.7622\n",
      "Epoch 43/100\n",
      "221/221 [==============================] - 0s 1ms/step - loss: 0.4658 - accuracy: 0.7855 - val_loss: 0.4582 - val_accuracy: 0.7647\n",
      "Epoch 44/100\n",
      "221/221 [==============================] - 0s 1ms/step - loss: 0.4660 - accuracy: 0.7842 - val_loss: 0.4713 - val_accuracy: 0.7614\n",
      "Epoch 45/100\n",
      "221/221 [==============================] - 0s 1ms/step - loss: 0.4657 - accuracy: 0.7855 - val_loss: 0.4769 - val_accuracy: 0.7598\n",
      "Epoch 46/100\n",
      "221/221 [==============================] - 0s 1ms/step - loss: 0.4656 - accuracy: 0.7847 - val_loss: 0.4731 - val_accuracy: 0.7614\n",
      "Epoch 47/100\n",
      "221/221 [==============================] - 0s 1ms/step - loss: 0.4654 - accuracy: 0.7850 - val_loss: 0.4711 - val_accuracy: 0.7606\n",
      "Epoch 48/100\n",
      "221/221 [==============================] - 0s 1ms/step - loss: 0.4653 - accuracy: 0.7855 - val_loss: 0.4704 - val_accuracy: 0.7606\n",
      "Epoch 49/100\n",
      "221/221 [==============================] - 0s 1ms/step - loss: 0.4651 - accuracy: 0.7862 - val_loss: 0.4668 - val_accuracy: 0.7614\n",
      "Epoch 50/100\n",
      "221/221 [==============================] - 0s 1ms/step - loss: 0.4651 - accuracy: 0.7850 - val_loss: 0.4644 - val_accuracy: 0.7614\n",
      "Epoch 51/100\n",
      "221/221 [==============================] - 0s 1ms/step - loss: 0.4649 - accuracy: 0.7856 - val_loss: 0.4699 - val_accuracy: 0.7606\n",
      "Epoch 52/100\n",
      "221/221 [==============================] - 0s 1ms/step - loss: 0.4647 - accuracy: 0.7845 - val_loss: 0.4691 - val_accuracy: 0.7606\n",
      "Epoch 53/100\n",
      "221/221 [==============================] - 0s 1ms/step - loss: 0.4647 - accuracy: 0.7832 - val_loss: 0.4772 - val_accuracy: 0.7598\n",
      "Epoch 54/100\n",
      "221/221 [==============================] - 0s 1ms/step - loss: 0.4647 - accuracy: 0.7863 - val_loss: 0.4714 - val_accuracy: 0.7606\n",
      "Epoch 55/100\n",
      "221/221 [==============================] - 0s 1ms/step - loss: 0.4644 - accuracy: 0.7846 - val_loss: 0.4798 - val_accuracy: 0.7590\n",
      "Epoch 56/100\n",
      "221/221 [==============================] - 0s 1ms/step - loss: 0.4645 - accuracy: 0.7866 - val_loss: 0.4689 - val_accuracy: 0.7606\n",
      "Epoch 57/100\n",
      "221/221 [==============================] - 0s 1ms/step - loss: 0.4643 - accuracy: 0.7839 - val_loss: 0.4610 - val_accuracy: 0.7622\n"
     ]
    },
    {
     "name": "stdout",
     "output_type": "stream",
     "text": [
      "Epoch 58/100\n",
      "221/221 [==============================] - 0s 1ms/step - loss: 0.4641 - accuracy: 0.7853 - val_loss: 0.4740 - val_accuracy: 0.7598\n",
      "Epoch 59/100\n",
      "221/221 [==============================] - 0s 1ms/step - loss: 0.4642 - accuracy: 0.7856 - val_loss: 0.4710 - val_accuracy: 0.7598\n",
      "Epoch 60/100\n",
      "221/221 [==============================] - 0s 1ms/step - loss: 0.4641 - accuracy: 0.7866 - val_loss: 0.4600 - val_accuracy: 0.7614\n",
      "Epoch 61/100\n",
      "221/221 [==============================] - 0s 1ms/step - loss: 0.4639 - accuracy: 0.7862 - val_loss: 0.4623 - val_accuracy: 0.7622\n",
      "Epoch 62/100\n",
      "221/221 [==============================] - 0s 1ms/step - loss: 0.4640 - accuracy: 0.7860 - val_loss: 0.4685 - val_accuracy: 0.7614\n",
      "Epoch 63/100\n",
      "221/221 [==============================] - 0s 1ms/step - loss: 0.4638 - accuracy: 0.7846 - val_loss: 0.4578 - val_accuracy: 0.7622\n",
      "Epoch 64/100\n",
      "221/221 [==============================] - 0s 1ms/step - loss: 0.4640 - accuracy: 0.7863 - val_loss: 0.4655 - val_accuracy: 0.7614\n",
      "Epoch 65/100\n",
      "221/221 [==============================] - 0s 1ms/step - loss: 0.4638 - accuracy: 0.7855 - val_loss: 0.4729 - val_accuracy: 0.7573\n",
      "Epoch 66/100\n",
      "221/221 [==============================] - 0s 1ms/step - loss: 0.4637 - accuracy: 0.7863 - val_loss: 0.4678 - val_accuracy: 0.7598\n",
      "Epoch 67/100\n",
      "221/221 [==============================] - 0s 1ms/step - loss: 0.4636 - accuracy: 0.7852 - val_loss: 0.4713 - val_accuracy: 0.7606\n",
      "Epoch 68/100\n",
      "221/221 [==============================] - 0s 1ms/step - loss: 0.4635 - accuracy: 0.7850 - val_loss: 0.4686 - val_accuracy: 0.7598\n",
      "Epoch 69/100\n",
      "221/221 [==============================] - 0s 1ms/step - loss: 0.4636 - accuracy: 0.7843 - val_loss: 0.4686 - val_accuracy: 0.7606\n",
      "Epoch 70/100\n",
      "221/221 [==============================] - 0s 1ms/step - loss: 0.4634 - accuracy: 0.7853 - val_loss: 0.4608 - val_accuracy: 0.7614\n",
      "Epoch 71/100\n",
      "221/221 [==============================] - 0s 1ms/step - loss: 0.4637 - accuracy: 0.7860 - val_loss: 0.4674 - val_accuracy: 0.7614\n",
      "Epoch 72/100\n",
      "221/221 [==============================] - 0s 1ms/step - loss: 0.4634 - accuracy: 0.7853 - val_loss: 0.4585 - val_accuracy: 0.7622\n",
      "Epoch 73/100\n",
      "221/221 [==============================] - 0s 1ms/step - loss: 0.4635 - accuracy: 0.7838 - val_loss: 0.4711 - val_accuracy: 0.7581\n",
      "Epoch 74/100\n",
      "221/221 [==============================] - 0s 1ms/step - loss: 0.4634 - accuracy: 0.7857 - val_loss: 0.4687 - val_accuracy: 0.7598\n",
      "Epoch 75/100\n",
      "221/221 [==============================] - 0s 988us/step - loss: 0.4634 - accuracy: 0.7849 - val_loss: 0.4555 - val_accuracy: 0.7622\n",
      "Epoch 76/100\n",
      "221/221 [==============================] - 0s 1ms/step - loss: 0.4632 - accuracy: 0.7853 - val_loss: 0.4689 - val_accuracy: 0.7598\n",
      "Epoch 77/100\n",
      "221/221 [==============================] - 0s 1ms/step - loss: 0.4633 - accuracy: 0.7840 - val_loss: 0.4659 - val_accuracy: 0.7614\n",
      "Epoch 78/100\n",
      "221/221 [==============================] - 0s 1ms/step - loss: 0.4632 - accuracy: 0.7862 - val_loss: 0.4716 - val_accuracy: 0.7598\n",
      "Epoch 79/100\n",
      "221/221 [==============================] - 0s 1ms/step - loss: 0.4631 - accuracy: 0.7863 - val_loss: 0.4721 - val_accuracy: 0.7590\n",
      "Epoch 80/100\n",
      "221/221 [==============================] - 0s 1ms/step - loss: 0.4630 - accuracy: 0.7870 - val_loss: 0.4614 - val_accuracy: 0.7598\n",
      "Epoch 81/100\n",
      "221/221 [==============================] - 0s 1ms/step - loss: 0.4633 - accuracy: 0.7846 - val_loss: 0.4665 - val_accuracy: 0.7598\n",
      "Epoch 82/100\n",
      "221/221 [==============================] - 0s 1ms/step - loss: 0.4631 - accuracy: 0.7840 - val_loss: 0.4666 - val_accuracy: 0.7614\n",
      "Epoch 83/100\n",
      "221/221 [==============================] - 0s 1ms/step - loss: 0.4631 - accuracy: 0.7867 - val_loss: 0.4686 - val_accuracy: 0.7598\n",
      "Epoch 84/100\n",
      "221/221 [==============================] - 0s 1ms/step - loss: 0.4630 - accuracy: 0.7849 - val_loss: 0.4701 - val_accuracy: 0.7598\n",
      "Epoch 85/100\n",
      "221/221 [==============================] - 0s 1ms/step - loss: 0.4629 - accuracy: 0.7862 - val_loss: 0.4712 - val_accuracy: 0.7590\n",
      "Epoch 86/100\n",
      "221/221 [==============================] - 0s 1ms/step - loss: 0.4630 - accuracy: 0.7852 - val_loss: 0.4558 - val_accuracy: 0.7614\n",
      "Epoch 87/100\n",
      "221/221 [==============================] - 0s 1ms/step - loss: 0.4627 - accuracy: 0.7855 - val_loss: 0.4544 - val_accuracy: 0.7622\n",
      "Epoch 88/100\n",
      "221/221 [==============================] - 0s 1ms/step - loss: 0.4628 - accuracy: 0.7853 - val_loss: 0.4585 - val_accuracy: 0.7622\n",
      "Epoch 89/100\n",
      "221/221 [==============================] - 0s 1ms/step - loss: 0.4628 - accuracy: 0.7864 - val_loss: 0.4549 - val_accuracy: 0.7614\n",
      "Epoch 90/100\n",
      "221/221 [==============================] - 0s 1ms/step - loss: 0.4627 - accuracy: 0.7852 - val_loss: 0.4696 - val_accuracy: 0.7590\n",
      "Epoch 91/100\n",
      "221/221 [==============================] - 0s 1ms/step - loss: 0.4628 - accuracy: 0.7860 - val_loss: 0.4639 - val_accuracy: 0.7606\n",
      "Epoch 92/100\n",
      "221/221 [==============================] - 0s 1ms/step - loss: 0.4627 - accuracy: 0.7862 - val_loss: 0.4838 - val_accuracy: 0.7541\n",
      "Epoch 93/100\n",
      "221/221 [==============================] - 0s 1ms/step - loss: 0.4627 - accuracy: 0.7828 - val_loss: 0.4719 - val_accuracy: 0.7598\n",
      "Epoch 94/100\n",
      "221/221 [==============================] - 0s 1ms/step - loss: 0.4628 - accuracy: 0.7845 - val_loss: 0.4682 - val_accuracy: 0.7606\n",
      "Epoch 95/100\n",
      "221/221 [==============================] - 0s 1ms/step - loss: 0.4627 - accuracy: 0.7859 - val_loss: 0.4677 - val_accuracy: 0.7598\n",
      "Epoch 96/100\n",
      "221/221 [==============================] - 0s 1ms/step - loss: 0.4626 - accuracy: 0.7870 - val_loss: 0.4520 - val_accuracy: 0.7622\n",
      "Epoch 97/100\n",
      "221/221 [==============================] - 0s 1ms/step - loss: 0.4626 - accuracy: 0.7856 - val_loss: 0.4525 - val_accuracy: 0.7622\n",
      "Epoch 98/100\n",
      "221/221 [==============================] - 0s 1ms/step - loss: 0.4625 - accuracy: 0.7853 - val_loss: 0.4606 - val_accuracy: 0.7622\n",
      "Epoch 99/100\n",
      "221/221 [==============================] - 0s 1ms/step - loss: 0.4628 - accuracy: 0.7849 - val_loss: 0.4630 - val_accuracy: 0.7614\n",
      "Epoch 100/100\n",
      "221/221 [==============================] - 0s 1ms/step - loss: 0.4626 - accuracy: 0.7857 - val_loss: 0.4589 - val_accuracy: 0.7598\n"
     ]
    }
   ],
   "source": [
    "# Fit the model to the training data\n",
    "fit_model = nn_model.fit(X_resampled, y_resampled, validation_data = (X_test_scaled, y_test), epochs=100)"
   ]
  },
  {
   "cell_type": "code",
   "execution_count": 164,
   "id": "39f6a2f5",
   "metadata": {},
   "outputs": [
    {
     "data": {
      "text/html": [
       "<div>\n",
       "<style scoped>\n",
       "    .dataframe tbody tr th:only-of-type {\n",
       "        vertical-align: middle;\n",
       "    }\n",
       "\n",
       "    .dataframe tbody tr th {\n",
       "        vertical-align: top;\n",
       "    }\n",
       "\n",
       "    .dataframe thead th {\n",
       "        text-align: right;\n",
       "    }\n",
       "</style>\n",
       "<table border=\"1\" class=\"dataframe\">\n",
       "  <thead>\n",
       "    <tr style=\"text-align: right;\">\n",
       "      <th></th>\n",
       "      <th>loss</th>\n",
       "      <th>accuracy</th>\n",
       "      <th>val_loss</th>\n",
       "      <th>val_accuracy</th>\n",
       "    </tr>\n",
       "  </thead>\n",
       "  <tbody>\n",
       "    <tr>\n",
       "      <th>1</th>\n",
       "      <td>0.752502</td>\n",
       "      <td>0.527031</td>\n",
       "      <td>0.812325</td>\n",
       "      <td>0.651466</td>\n",
       "    </tr>\n",
       "    <tr>\n",
       "      <th>2</th>\n",
       "      <td>0.677246</td>\n",
       "      <td>0.602604</td>\n",
       "      <td>0.715498</td>\n",
       "      <td>0.729642</td>\n",
       "    </tr>\n",
       "    <tr>\n",
       "      <th>3</th>\n",
       "      <td>0.633050</td>\n",
       "      <td>0.684970</td>\n",
       "      <td>0.696941</td>\n",
       "      <td>0.738599</td>\n",
       "    </tr>\n",
       "    <tr>\n",
       "      <th>4</th>\n",
       "      <td>0.583064</td>\n",
       "      <td>0.774979</td>\n",
       "      <td>0.676867</td>\n",
       "      <td>0.733713</td>\n",
       "    </tr>\n",
       "    <tr>\n",
       "      <th>5</th>\n",
       "      <td>0.557860</td>\n",
       "      <td>0.782904</td>\n",
       "      <td>0.641827</td>\n",
       "      <td>0.744300</td>\n",
       "    </tr>\n",
       "    <tr>\n",
       "      <th>...</th>\n",
       "      <td>...</td>\n",
       "      <td>...</td>\n",
       "      <td>...</td>\n",
       "      <td>...</td>\n",
       "    </tr>\n",
       "    <tr>\n",
       "      <th>96</th>\n",
       "      <td>0.462576</td>\n",
       "      <td>0.787008</td>\n",
       "      <td>0.451975</td>\n",
       "      <td>0.762215</td>\n",
       "    </tr>\n",
       "    <tr>\n",
       "      <th>97</th>\n",
       "      <td>0.462649</td>\n",
       "      <td>0.785593</td>\n",
       "      <td>0.452480</td>\n",
       "      <td>0.762215</td>\n",
       "    </tr>\n",
       "    <tr>\n",
       "      <th>98</th>\n",
       "      <td>0.462527</td>\n",
       "      <td>0.785310</td>\n",
       "      <td>0.460571</td>\n",
       "      <td>0.762215</td>\n",
       "    </tr>\n",
       "    <tr>\n",
       "      <th>99</th>\n",
       "      <td>0.462822</td>\n",
       "      <td>0.784885</td>\n",
       "      <td>0.463049</td>\n",
       "      <td>0.761401</td>\n",
       "    </tr>\n",
       "    <tr>\n",
       "      <th>100</th>\n",
       "      <td>0.462612</td>\n",
       "      <td>0.785734</td>\n",
       "      <td>0.458896</td>\n",
       "      <td>0.759772</td>\n",
       "    </tr>\n",
       "  </tbody>\n",
       "</table>\n",
       "<p>100 rows × 4 columns</p>\n",
       "</div>"
      ],
      "text/plain": [
       "         loss  accuracy  val_loss  val_accuracy\n",
       "1    0.752502  0.527031  0.812325      0.651466\n",
       "2    0.677246  0.602604  0.715498      0.729642\n",
       "3    0.633050  0.684970  0.696941      0.738599\n",
       "4    0.583064  0.774979  0.676867      0.733713\n",
       "5    0.557860  0.782904  0.641827      0.744300\n",
       "..        ...       ...       ...           ...\n",
       "96   0.462576  0.787008  0.451975      0.762215\n",
       "97   0.462649  0.785593  0.452480      0.762215\n",
       "98   0.462527  0.785310  0.460571      0.762215\n",
       "99   0.462822  0.784885  0.463049      0.761401\n",
       "100  0.462612  0.785734  0.458896      0.759772\n",
       "\n",
       "[100 rows x 4 columns]"
      ]
     },
     "execution_count": 164,
     "metadata": {},
     "output_type": "execute_result"
    }
   ],
   "source": [
    "# Create a DataFrame containing training history\n",
    "nn_history_df = pd.DataFrame(fit_model.history, index=range(1,len(fit_model.history[\"loss\"])+1))\n",
    "nn_history_df"
   ]
  },
  {
   "cell_type": "code",
   "execution_count": 165,
   "id": "681ef2d2",
   "metadata": {},
   "outputs": [
    {
     "data": {
      "image/png": "[encoded data removed]",
      "text/plain": [
       "<Figure size 432x288 with 1 Axes>"
      ]
     },
     "metadata": {
      "needs_background": "light"
     },
     "output_type": "display_data"
    }
   ],
   "source": [
    "# Plot the history\n",
    "nn_history_plot = nn_history_df.plot(title = \"Single Perceptron History\",colormap= \"viridis\")"
   ]
  },
  {
   "cell_type": "code",
   "execution_count": 166,
   "id": "44cbd379",
   "metadata": {},
   "outputs": [
    {
     "data": {
      "text/plain": [
       "<AxesSubplot:>"
      ]
     },
     "execution_count": 166,
     "metadata": {},
     "output_type": "execute_result"
    },
    {
     "data": {
      "image/png": "[encoded data removed]",
      "text/plain": [
       "<Figure size 432x288 with 1 Axes>"
      ]
     },
     "metadata": {
      "needs_background": "light"
     },
     "output_type": "display_data"
    }
   ],
   "source": [
    "# Plot the loss\n",
    "nn_history_df.plot(y=[\"loss\", \"val_loss\"], colormap= \"viridis\")"
   ]
  },
  {
   "cell_type": "code",
   "execution_count": 167,
   "id": "cd8cd5e6",
   "metadata": {},
   "outputs": [
    {
     "data": {
      "text/plain": [
       "<AxesSubplot:>"
      ]
     },
     "execution_count": 167,
     "metadata": {},
     "output_type": "execute_result"
    },
    {
     "data": {
      "image/png": "[encoded data removed]",
      "text/plain": [
       "<Figure size 432x288 with 1 Axes>"
      ]
     },
     "metadata": {
      "needs_background": "light"
     },
     "output_type": "display_data"
    }
   ],
   "source": [
    "# Plot the accuracy\n",
    "nn_history_df.plot(y=[\"accuracy\", \"val_accuracy\"], colormap= \"viridis\")"
   ]
  },
  {
   "cell_type": "code",
   "execution_count": 168,
   "id": "084220c7",
   "metadata": {},
   "outputs": [
    {
     "name": "stdout",
     "output_type": "stream",
     "text": [
      " The loss for the single perceptron model is: 0.45889559388160706, The accuracy is: 0.759772002696991\n"
     ]
    }
   ],
   "source": [
    "# Evaluate the model using the test data\n",
    "nn_model_loss,nn_model_accuracy = nn_model.evaluate(X_test_scaled,y_test,verbose=0)\n",
    "print(f\" The loss for the single perceptron model is: {nn_model_loss}, The accuracy is: {nn_model_accuracy}\")"
   ]
  },
  {
   "cell_type": "code",
   "execution_count": 169,
   "id": "f0670eec",
   "metadata": {
    "scrolled": true
   },
   "outputs": [],
   "source": [
    "# Y_pred: flatten & convert prediction probabilities to binary format so it can be passed through confusion matrix\n",
    "y_pred_nn = nn_model.predict(X_test_scaled)\n",
    "y_pred_nn = y_pred_nn.flatten()\n",
    "y_pred_nn_tf=tf.round(y_pred_nn)"
   ]
  },
  {
   "cell_type": "code",
   "execution_count": 170,
   "id": "620c09a1",
   "metadata": {},
   "outputs": [
    {
     "data": {
      "text/plain": [
       "<sklearn.metrics._plot.confusion_matrix.ConfusionMatrixDisplay at 0x28473897288>"
      ]
     },
     "execution_count": 170,
     "metadata": {},
     "output_type": "execute_result"
    },
    {
     "data": {
      "image/png": "[encoded data removed]",
      "text/plain": [
       "<Figure size 432x288 with 2 Axes>"
      ]
     },
     "metadata": {
      "needs_background": "light"
     },
     "output_type": "display_data"
    }
   ],
   "source": [
    "# Display the confusion matrix\n",
    "nn_cm = confusion_matrix(y_test, y_pred_nn_tf)\n",
    "\n",
    "nn_disp = ConfusionMatrixDisplay(confusion_matrix=nn_cm)\n",
    "nn_disp.plot()\n",
    "nn_disp.ax_.set_title(\"Single Perceptron Confusion Matrix\")\n",
    "nn_disp"
   ]
  },
  {
   "cell_type": "code",
   "execution_count": 171,
   "id": "0e329dd0",
   "metadata": {},
   "outputs": [
    {
     "name": "stdout",
     "output_type": "stream",
     "text": [
      "Accuracy Score of the Single Perceptron Model: 0.759771986970684\n",
      "Recall Score of the Single Perceptron Model: 0.7307692307692307\n",
      "Specifity Score of the Deep Learning Model: 0.7692307692307693\n",
      "Balanced Accuracy Score of the Single Perceptron Model: 0.7459118262689691\n",
      "Precision Score of the Single Perceptron Model: 0.11912225705329153\n",
      "F1 Score Score of the Single Perceptron Model: 0.20485175202156333\n",
      "Loss of the Multiple Perceptron Model: 0.45889559388160706\n"
     ]
    },
    {
     "data": {
      "text/html": [
       "<div>\n",
       "<style scoped>\n",
       "    .dataframe tbody tr th:only-of-type {\n",
       "        vertical-align: middle;\n",
       "    }\n",
       "\n",
       "    .dataframe tbody tr th {\n",
       "        vertical-align: top;\n",
       "    }\n",
       "\n",
       "    .dataframe thead th {\n",
       "        text-align: right;\n",
       "    }\n",
       "</style>\n",
       "<table border=\"1\" class=\"dataframe\">\n",
       "  <thead>\n",
       "    <tr style=\"text-align: right;\">\n",
       "      <th></th>\n",
       "      <th>Model Type</th>\n",
       "      <th>Accuracy</th>\n",
       "      <th>Recall</th>\n",
       "      <th>Specificity</th>\n",
       "      <th>Balanced Accuracy</th>\n",
       "      <th>Precision</th>\n",
       "      <th>F1 Score</th>\n",
       "      <th>Loss</th>\n",
       "    </tr>\n",
       "  </thead>\n",
       "  <tbody>\n",
       "    <tr>\n",
       "      <th>0</th>\n",
       "      <td>Single Perceptron</td>\n",
       "      <td>0.759772</td>\n",
       "      <td>0.730769</td>\n",
       "      <td>0.769231</td>\n",
       "      <td>0.745912</td>\n",
       "      <td>0.119122</td>\n",
       "      <td>0.204852</td>\n",
       "      <td>0.458896</td>\n",
       "    </tr>\n",
       "  </tbody>\n",
       "</table>\n",
       "</div>"
      ],
      "text/plain": [
       "          Model Type  Accuracy    Recall  Specificity  Balanced Accuracy  \\\n",
       "0  Single Perceptron  0.759772  0.730769     0.769231           0.745912   \n",
       "\n",
       "   Precision  F1 Score      Loss  \n",
       "0   0.119122  0.204852  0.458896  "
      ]
     },
     "execution_count": 171,
     "metadata": {},
     "output_type": "execute_result"
    }
   ],
   "source": [
    "# Advanced Classification Metrics\n",
    "# Accuracy\n",
    "nn_accuracy_score = accuracy_score(y_test, y_pred_nn_tf)\n",
    "print(f'Accuracy Score of the Single Perceptron Model: {nn_accuracy_score}')\n",
    "\n",
    "# Recall\n",
    "nn_recall_score = recall_score(y_test, y_pred_nn_tf)\n",
    "print(f'Recall Score of the Single Perceptron Model: {nn_recall_score}')\n",
    "\n",
    "# Specificity\n",
    "nn_specificity_score = 40 / (40+12)\n",
    "print(f'Specifity Score of the Deep Learning Model: {nn_specificity_score}')\n",
    "\n",
    "# Balanced Accuracy Score\n",
    "nn_bas = balanced_accuracy_score(y_test, y_pred_nn_tf)\n",
    "print(f'Balanced Accuracy Score of the Single Perceptron Model: {nn_bas}')\n",
    "\n",
    "# Precision\n",
    "nn_precision_score = precision_score(y_test, y_pred_nn_tf)\n",
    "print(f'Precision Score of the Single Perceptron Model: {nn_precision_score}')     \n",
    "   \n",
    "# F1 Score\n",
    "nn_f1_score = f1_score(y_test, y_pred_nn_tf)\n",
    "print(f'F1 Score Score of the Single Perceptron Model: {nn_f1_score}')\n",
    "\n",
    "# Loss Score\n",
    "print(f'Loss of the Multiple Perceptron Model: {nn_model_loss}')\n",
    "\n",
    "# Advanced Classification Metrics DF\n",
    "nn_acm = {\"Model Type\": [\"Single Perceptron\"], \"Accuracy\":[nn_accuracy_score], \"Recall\": [nn_recall_score], \"Specificity\":[nn_specificity_score], \n",
    "          \"Balanced Accuracy\": [nn_bas], \"Precision\":[nn_precision_score], \"F1 Score\":[nn_f1_score], \"Loss\": [nn_model_loss]}\n",
    "nn_acm_df = pd.DataFrame(data=nn_acm)\n",
    "nn_acm_df"
   ]
  },
  {
   "cell_type": "markdown",
   "id": "9a143545",
   "metadata": {},
   "source": [
    "## Multiple Neuron Single Layer Neural Network"
   ]
  },
  {
   "cell_type": "code",
   "execution_count": 172,
   "id": "2ed14fc6",
   "metadata": {},
   "outputs": [],
   "source": [
    "# Generate our new Sequential model\n",
    "multi_nn_model = tf.keras.models.Sequential()\n",
    "\n",
    "# Add the input and hidden layer\n",
    "number_inputs = 21\n",
    "number_hidden_nodes = 6\n",
    "\n",
    "multi_nn_model.add(tf.keras.layers.Dense(units=number_hidden_nodes, activation=\"relu\", input_dim=number_inputs))\n",
    "\n",
    "# Add the output layer that uses a probability activation function\n",
    "multi_nn_model.add(tf.keras.layers.Dense(units=1, activation=\"sigmoid\"))"
   ]
  },
  {
   "cell_type": "code",
   "execution_count": 173,
   "id": "29d31da7",
   "metadata": {},
   "outputs": [],
   "source": [
    "# Compile the Sequential model together and customize metrics\n",
    "multi_nn_model.compile(loss=\"binary_crossentropy\", optimizer=\"adam\", metrics=[\"accuracy\"])"
   ]
  },
  {
   "cell_type": "code",
   "execution_count": 174,
   "id": "cb220d40",
   "metadata": {
    "scrolled": true
   },
   "outputs": [
    {
     "name": "stdout",
     "output_type": "stream",
     "text": [
      "Epoch 1/100\n",
      "221/221 [==============================] - 1s 2ms/step - loss: 0.6624 - accuracy: 0.6388 - val_loss: 0.6694 - val_accuracy: 0.6645\n",
      "Epoch 2/100\n",
      "221/221 [==============================] - 0s 1ms/step - loss: 0.5598 - accuracy: 0.7198 - val_loss: 0.5967 - val_accuracy: 0.6889\n",
      "Epoch 3/100\n",
      "221/221 [==============================] - 0s 1ms/step - loss: 0.5233 - accuracy: 0.7498 - val_loss: 0.5508 - val_accuracy: 0.7028\n",
      "Epoch 4/100\n",
      "221/221 [==============================] - 0s 1ms/step - loss: 0.4982 - accuracy: 0.7658 - val_loss: 0.5161 - val_accuracy: 0.7199\n",
      "Epoch 5/100\n",
      "221/221 [==============================] - 0s 1ms/step - loss: 0.4778 - accuracy: 0.7812 - val_loss: 0.4768 - val_accuracy: 0.7402\n",
      "Epoch 6/100\n",
      "221/221 [==============================] - 0s 1ms/step - loss: 0.4627 - accuracy: 0.7862 - val_loss: 0.4450 - val_accuracy: 0.7565\n",
      "Epoch 7/100\n",
      "221/221 [==============================] - 0s 1ms/step - loss: 0.4532 - accuracy: 0.7920 - val_loss: 0.4555 - val_accuracy: 0.7500\n",
      "Epoch 8/100\n",
      "221/221 [==============================] - 0s 1ms/step - loss: 0.4468 - accuracy: 0.7925 - val_loss: 0.4578 - val_accuracy: 0.7524\n",
      "Epoch 9/100\n",
      "221/221 [==============================] - 0s 1ms/step - loss: 0.4416 - accuracy: 0.7965 - val_loss: 0.4411 - val_accuracy: 0.7581\n",
      "Epoch 10/100\n",
      "221/221 [==============================] - 0s 1ms/step - loss: 0.4375 - accuracy: 0.7955 - val_loss: 0.4471 - val_accuracy: 0.7541\n",
      "Epoch 11/100\n",
      "221/221 [==============================] - 0s 1ms/step - loss: 0.4347 - accuracy: 0.7985 - val_loss: 0.4401 - val_accuracy: 0.7573\n",
      "Epoch 12/100\n",
      "221/221 [==============================] - 0s 1ms/step - loss: 0.4319 - accuracy: 0.8003 - val_loss: 0.4483 - val_accuracy: 0.7549\n",
      "Epoch 13/100\n",
      "221/221 [==============================] - 0s 1ms/step - loss: 0.4301 - accuracy: 0.8014 - val_loss: 0.4347 - val_accuracy: 0.7598\n",
      "Epoch 14/100\n",
      "221/221 [==============================] - 0s 1ms/step - loss: 0.4286 - accuracy: 0.8010 - val_loss: 0.4482 - val_accuracy: 0.7557\n",
      "Epoch 15/100\n",
      "221/221 [==============================] - 0s 1ms/step - loss: 0.4266 - accuracy: 0.8027 - val_loss: 0.4526 - val_accuracy: 0.7565\n",
      "Epoch 16/100\n",
      "221/221 [==============================] - 0s 1ms/step - loss: 0.4246 - accuracy: 0.8051 - val_loss: 0.4287 - val_accuracy: 0.7695\n",
      "Epoch 17/100\n",
      "221/221 [==============================] - 0s 1ms/step - loss: 0.4225 - accuracy: 0.8064 - val_loss: 0.4092 - val_accuracy: 0.7809\n",
      "Epoch 18/100\n",
      "221/221 [==============================] - 0s 1ms/step - loss: 0.4218 - accuracy: 0.8063 - val_loss: 0.4269 - val_accuracy: 0.7679\n",
      "Epoch 19/100\n",
      "221/221 [==============================] - 0s 1ms/step - loss: 0.4198 - accuracy: 0.8089 - val_loss: 0.4348 - val_accuracy: 0.7638\n",
      "Epoch 20/100\n",
      "221/221 [==============================] - 0s 1ms/step - loss: 0.4183 - accuracy: 0.8088 - val_loss: 0.4317 - val_accuracy: 0.7655\n",
      "Epoch 21/100\n",
      "221/221 [==============================] - 0s 1ms/step - loss: 0.4170 - accuracy: 0.8092 - val_loss: 0.4391 - val_accuracy: 0.7630\n",
      "Epoch 22/100\n",
      "221/221 [==============================] - 0s 1ms/step - loss: 0.4156 - accuracy: 0.8133 - val_loss: 0.4398 - val_accuracy: 0.7647\n",
      "Epoch 23/100\n",
      "221/221 [==============================] - 0s 1ms/step - loss: 0.4144 - accuracy: 0.8129 - val_loss: 0.4276 - val_accuracy: 0.7679\n",
      "Epoch 24/100\n",
      "221/221 [==============================] - 0s 1ms/step - loss: 0.4133 - accuracy: 0.8140 - val_loss: 0.4333 - val_accuracy: 0.7671\n",
      "Epoch 25/100\n",
      "221/221 [==============================] - 0s 1ms/step - loss: 0.4123 - accuracy: 0.8153 - val_loss: 0.4339 - val_accuracy: 0.7687\n",
      "Epoch 26/100\n",
      "221/221 [==============================] - 0s 1ms/step - loss: 0.4111 - accuracy: 0.8142 - val_loss: 0.4160 - val_accuracy: 0.7769\n",
      "Epoch 27/100\n",
      "221/221 [==============================] - 0s 1ms/step - loss: 0.4105 - accuracy: 0.8170 - val_loss: 0.4499 - val_accuracy: 0.7638\n",
      "Epoch 28/100\n",
      "221/221 [==============================] - 0s 1ms/step - loss: 0.4098 - accuracy: 0.8166 - val_loss: 0.4237 - val_accuracy: 0.7720\n",
      "Epoch 29/100\n",
      "221/221 [==============================] - 0s 1ms/step - loss: 0.4086 - accuracy: 0.8166 - val_loss: 0.4228 - val_accuracy: 0.7744\n",
      "Epoch 30/100\n",
      "221/221 [==============================] - 0s 1ms/step - loss: 0.4082 - accuracy: 0.8164 - val_loss: 0.4305 - val_accuracy: 0.7720\n",
      "Epoch 31/100\n",
      "221/221 [==============================] - 0s 1ms/step - loss: 0.4070 - accuracy: 0.8156 - val_loss: 0.4425 - val_accuracy: 0.7663\n",
      "Epoch 32/100\n",
      "221/221 [==============================] - 0s 2ms/step - loss: 0.4065 - accuracy: 0.8177 - val_loss: 0.4219 - val_accuracy: 0.7785\n",
      "Epoch 33/100\n",
      "221/221 [==============================] - 0s 2ms/step - loss: 0.4057 - accuracy: 0.8181 - val_loss: 0.4356 - val_accuracy: 0.7704\n",
      "Epoch 34/100\n",
      "221/221 [==============================] - 0s 2ms/step - loss: 0.4048 - accuracy: 0.8174 - val_loss: 0.4220 - val_accuracy: 0.7777\n",
      "Epoch 35/100\n",
      "221/221 [==============================] - 0s 1ms/step - loss: 0.4043 - accuracy: 0.8187 - val_loss: 0.4191 - val_accuracy: 0.7818\n",
      "Epoch 36/100\n",
      "221/221 [==============================] - 0s 1ms/step - loss: 0.4036 - accuracy: 0.8170 - val_loss: 0.4416 - val_accuracy: 0.7704\n",
      "Epoch 37/100\n",
      "221/221 [==============================] - 0s 1ms/step - loss: 0.4032 - accuracy: 0.8191 - val_loss: 0.4237 - val_accuracy: 0.7761\n",
      "Epoch 38/100\n",
      "221/221 [==============================] - 0s 1ms/step - loss: 0.4024 - accuracy: 0.8214 - val_loss: 0.4433 - val_accuracy: 0.7695\n",
      "Epoch 39/100\n",
      "221/221 [==============================] - 0s 1ms/step - loss: 0.4017 - accuracy: 0.8224 - val_loss: 0.4249 - val_accuracy: 0.7785\n",
      "Epoch 40/100\n",
      "221/221 [==============================] - 0s 1ms/step - loss: 0.4005 - accuracy: 0.8224 - val_loss: 0.4314 - val_accuracy: 0.7744\n",
      "Epoch 41/100\n",
      "221/221 [==============================] - 0s 1ms/step - loss: 0.4001 - accuracy: 0.8207 - val_loss: 0.4352 - val_accuracy: 0.7744\n",
      "Epoch 42/100\n",
      "221/221 [==============================] - 0s 1ms/step - loss: 0.3993 - accuracy: 0.8220 - val_loss: 0.4308 - val_accuracy: 0.7752\n",
      "Epoch 43/100\n",
      "221/221 [==============================] - 0s 1ms/step - loss: 0.3988 - accuracy: 0.8198 - val_loss: 0.4189 - val_accuracy: 0.7834\n",
      "Epoch 44/100\n",
      "221/221 [==============================] - 0s 1ms/step - loss: 0.3979 - accuracy: 0.8231 - val_loss: 0.4294 - val_accuracy: 0.7777\n",
      "Epoch 45/100\n",
      "221/221 [==============================] - 0s 1ms/step - loss: 0.3970 - accuracy: 0.8217 - val_loss: 0.4102 - val_accuracy: 0.7866\n",
      "Epoch 46/100\n",
      "221/221 [==============================] - 0s 1ms/step - loss: 0.3961 - accuracy: 0.8242 - val_loss: 0.4055 - val_accuracy: 0.7899\n",
      "Epoch 47/100\n",
      "221/221 [==============================] - 0s 1ms/step - loss: 0.3953 - accuracy: 0.8238 - val_loss: 0.4306 - val_accuracy: 0.7752\n",
      "Epoch 48/100\n",
      "221/221 [==============================] - 0s 1ms/step - loss: 0.3949 - accuracy: 0.8259 - val_loss: 0.4347 - val_accuracy: 0.7744\n",
      "Epoch 49/100\n",
      "221/221 [==============================] - 0s 1ms/step - loss: 0.3944 - accuracy: 0.8252 - val_loss: 0.4267 - val_accuracy: 0.7769\n",
      "Epoch 50/100\n",
      "221/221 [==============================] - 0s 1ms/step - loss: 0.3940 - accuracy: 0.8242 - val_loss: 0.4191 - val_accuracy: 0.7842\n",
      "Epoch 51/100\n",
      "221/221 [==============================] - 0s 1ms/step - loss: 0.3929 - accuracy: 0.8273 - val_loss: 0.4094 - val_accuracy: 0.7842\n",
      "Epoch 52/100\n",
      "221/221 [==============================] - 0s 1ms/step - loss: 0.3934 - accuracy: 0.8252 - val_loss: 0.4398 - val_accuracy: 0.7728\n",
      "Epoch 53/100\n",
      "221/221 [==============================] - 0s 1ms/step - loss: 0.3923 - accuracy: 0.8289 - val_loss: 0.4091 - val_accuracy: 0.7883\n",
      "Epoch 54/100\n",
      "221/221 [==============================] - 0s 1ms/step - loss: 0.3923 - accuracy: 0.8278 - val_loss: 0.4156 - val_accuracy: 0.7826\n",
      "Epoch 55/100\n",
      "221/221 [==============================] - 0s 1ms/step - loss: 0.3917 - accuracy: 0.8264 - val_loss: 0.4317 - val_accuracy: 0.7761\n",
      "Epoch 56/100\n",
      "221/221 [==============================] - 0s 1ms/step - loss: 0.3911 - accuracy: 0.8278 - val_loss: 0.4130 - val_accuracy: 0.7866\n",
      "Epoch 57/100\n",
      "221/221 [==============================] - 0s 1ms/step - loss: 0.3908 - accuracy: 0.8279 - val_loss: 0.4314 - val_accuracy: 0.7752\n"
     ]
    },
    {
     "name": "stdout",
     "output_type": "stream",
     "text": [
      "Epoch 58/100\n",
      "221/221 [==============================] - 0s 1ms/step - loss: 0.3901 - accuracy: 0.8268 - val_loss: 0.4283 - val_accuracy: 0.7801\n",
      "Epoch 59/100\n",
      "221/221 [==============================] - 0s 1ms/step - loss: 0.3900 - accuracy: 0.8292 - val_loss: 0.4133 - val_accuracy: 0.7875\n",
      "Epoch 60/100\n",
      "221/221 [==============================] - 0s 1ms/step - loss: 0.3896 - accuracy: 0.8285 - val_loss: 0.4137 - val_accuracy: 0.7883\n",
      "Epoch 61/100\n",
      "221/221 [==============================] - 0s 1ms/step - loss: 0.3891 - accuracy: 0.8271 - val_loss: 0.4131 - val_accuracy: 0.7907\n",
      "Epoch 62/100\n",
      "221/221 [==============================] - 0s 1ms/step - loss: 0.3888 - accuracy: 0.8313 - val_loss: 0.4295 - val_accuracy: 0.7818\n",
      "Epoch 63/100\n",
      "221/221 [==============================] - 0s 1ms/step - loss: 0.3885 - accuracy: 0.8297 - val_loss: 0.4454 - val_accuracy: 0.7744\n",
      "Epoch 64/100\n",
      "221/221 [==============================] - 0s 1ms/step - loss: 0.3886 - accuracy: 0.8279 - val_loss: 0.4234 - val_accuracy: 0.7891\n",
      "Epoch 65/100\n",
      "221/221 [==============================] - 0s 1ms/step - loss: 0.3880 - accuracy: 0.8283 - val_loss: 0.4068 - val_accuracy: 0.7956\n",
      "Epoch 66/100\n",
      "221/221 [==============================] - 0s 1ms/step - loss: 0.3873 - accuracy: 0.8310 - val_loss: 0.4390 - val_accuracy: 0.7777\n",
      "Epoch 67/100\n",
      "221/221 [==============================] - 0s 1ms/step - loss: 0.3869 - accuracy: 0.8314 - val_loss: 0.4200 - val_accuracy: 0.7883\n",
      "Epoch 68/100\n",
      "221/221 [==============================] - 0s 1ms/step - loss: 0.3863 - accuracy: 0.8293 - val_loss: 0.3892 - val_accuracy: 0.8062\n",
      "Epoch 69/100\n",
      "221/221 [==============================] - 0s 1ms/step - loss: 0.3865 - accuracy: 0.8309 - val_loss: 0.4088 - val_accuracy: 0.7964\n",
      "Epoch 70/100\n",
      "221/221 [==============================] - 0s 1ms/step - loss: 0.3864 - accuracy: 0.8317 - val_loss: 0.4322 - val_accuracy: 0.7866\n",
      "Epoch 71/100\n",
      "221/221 [==============================] - 0s 1ms/step - loss: 0.3858 - accuracy: 0.8323 - val_loss: 0.4300 - val_accuracy: 0.7850\n",
      "Epoch 72/100\n",
      "221/221 [==============================] - 0s 1ms/step - loss: 0.3852 - accuracy: 0.8336 - val_loss: 0.4196 - val_accuracy: 0.7923\n",
      "Epoch 73/100\n",
      "221/221 [==============================] - 0s 1ms/step - loss: 0.3851 - accuracy: 0.8334 - val_loss: 0.4372 - val_accuracy: 0.7834\n",
      "Epoch 74/100\n",
      "221/221 [==============================] - 0s 1ms/step - loss: 0.3852 - accuracy: 0.8324 - val_loss: 0.4167 - val_accuracy: 0.7923\n",
      "Epoch 75/100\n",
      "221/221 [==============================] - 0s 1ms/step - loss: 0.3840 - accuracy: 0.8347 - val_loss: 0.4227 - val_accuracy: 0.7891\n",
      "Epoch 76/100\n",
      "221/221 [==============================] - 0s 1ms/step - loss: 0.3841 - accuracy: 0.8319 - val_loss: 0.4279 - val_accuracy: 0.7842\n",
      "Epoch 77/100\n",
      "221/221 [==============================] - 0s 1ms/step - loss: 0.3840 - accuracy: 0.8337 - val_loss: 0.4162 - val_accuracy: 0.7932\n",
      "Epoch 78/100\n",
      "221/221 [==============================] - 0s 1ms/step - loss: 0.3834 - accuracy: 0.8329 - val_loss: 0.4198 - val_accuracy: 0.7948\n",
      "Epoch 79/100\n",
      "221/221 [==============================] - 0s 1ms/step - loss: 0.3828 - accuracy: 0.8344 - val_loss: 0.4263 - val_accuracy: 0.7883\n",
      "Epoch 80/100\n",
      "221/221 [==============================] - 0s 1ms/step - loss: 0.3825 - accuracy: 0.8336 - val_loss: 0.4240 - val_accuracy: 0.7940\n",
      "Epoch 81/100\n",
      "221/221 [==============================] - 0s 1ms/step - loss: 0.3822 - accuracy: 0.8331 - val_loss: 0.4164 - val_accuracy: 0.7948\n",
      "Epoch 82/100\n",
      "221/221 [==============================] - 0s 1ms/step - loss: 0.3819 - accuracy: 0.8357 - val_loss: 0.4361 - val_accuracy: 0.7875\n",
      "Epoch 83/100\n",
      "221/221 [==============================] - 0s 1ms/step - loss: 0.3814 - accuracy: 0.8346 - val_loss: 0.4107 - val_accuracy: 0.7989\n",
      "Epoch 84/100\n",
      "221/221 [==============================] - 0s 1ms/step - loss: 0.3813 - accuracy: 0.8343 - val_loss: 0.4089 - val_accuracy: 0.8005\n",
      "Epoch 85/100\n",
      "221/221 [==============================] - 0s 1ms/step - loss: 0.3808 - accuracy: 0.8357 - val_loss: 0.4359 - val_accuracy: 0.7891\n",
      "Epoch 86/100\n",
      "221/221 [==============================] - 0s 1ms/step - loss: 0.3805 - accuracy: 0.8354 - val_loss: 0.4159 - val_accuracy: 0.8013\n",
      "Epoch 87/100\n",
      "221/221 [==============================] - 0s 1ms/step - loss: 0.3807 - accuracy: 0.8354 - val_loss: 0.4365 - val_accuracy: 0.7883\n",
      "Epoch 88/100\n",
      "221/221 [==============================] - 0s 1ms/step - loss: 0.3802 - accuracy: 0.8367 - val_loss: 0.4183 - val_accuracy: 0.7997\n",
      "Epoch 89/100\n",
      "221/221 [==============================] - 0s 1ms/step - loss: 0.3799 - accuracy: 0.8350 - val_loss: 0.4004 - val_accuracy: 0.8054\n",
      "Epoch 90/100\n",
      "221/221 [==============================] - 0s 1ms/step - loss: 0.3794 - accuracy: 0.8375 - val_loss: 0.4277 - val_accuracy: 0.7989\n",
      "Epoch 91/100\n",
      "221/221 [==============================] - 0s 1ms/step - loss: 0.3795 - accuracy: 0.8337 - val_loss: 0.4202 - val_accuracy: 0.7940\n",
      "Epoch 92/100\n",
      "221/221 [==============================] - 0s 1ms/step - loss: 0.3793 - accuracy: 0.8360 - val_loss: 0.4264 - val_accuracy: 0.7972\n",
      "Epoch 93/100\n",
      "221/221 [==============================] - 0s 1ms/step - loss: 0.3789 - accuracy: 0.8353 - val_loss: 0.3987 - val_accuracy: 0.8086\n",
      "Epoch 94/100\n",
      "221/221 [==============================] - 0s 1ms/step - loss: 0.3790 - accuracy: 0.8356 - val_loss: 0.4055 - val_accuracy: 0.8062\n",
      "Epoch 95/100\n",
      "221/221 [==============================] - 0s 1ms/step - loss: 0.3784 - accuracy: 0.8354 - val_loss: 0.3938 - val_accuracy: 0.8103\n",
      "Epoch 96/100\n",
      "221/221 [==============================] - 0s 1ms/step - loss: 0.3787 - accuracy: 0.8374 - val_loss: 0.4112 - val_accuracy: 0.8070\n",
      "Epoch 97/100\n",
      "221/221 [==============================] - 0s 1ms/step - loss: 0.3782 - accuracy: 0.8347 - val_loss: 0.4111 - val_accuracy: 0.8046\n",
      "Epoch 98/100\n",
      "221/221 [==============================] - 0s 1ms/step - loss: 0.3781 - accuracy: 0.8348 - val_loss: 0.4134 - val_accuracy: 0.8062\n",
      "Epoch 99/100\n",
      "221/221 [==============================] - 0s 1ms/step - loss: 0.3783 - accuracy: 0.8348 - val_loss: 0.4173 - val_accuracy: 0.8021\n",
      "Epoch 100/100\n",
      "221/221 [==============================] - 0s 1ms/step - loss: 0.3779 - accuracy: 0.8370 - val_loss: 0.4078 - val_accuracy: 0.8013\n"
     ]
    }
   ],
   "source": [
    "# Fit the model to the training data\n",
    "fit_model_multi = multi_nn_model.fit(X_resampled, y_resampled, validation_data = (X_test_scaled, y_test), epochs=100, shuffle=True)"
   ]
  },
  {
   "cell_type": "code",
   "execution_count": 175,
   "id": "b9683809",
   "metadata": {},
   "outputs": [
    {
     "data": {
      "text/html": [
       "<div>\n",
       "<style scoped>\n",
       "    .dataframe tbody tr th:only-of-type {\n",
       "        vertical-align: middle;\n",
       "    }\n",
       "\n",
       "    .dataframe tbody tr th {\n",
       "        vertical-align: top;\n",
       "    }\n",
       "\n",
       "    .dataframe thead th {\n",
       "        text-align: right;\n",
       "    }\n",
       "</style>\n",
       "<table border=\"1\" class=\"dataframe\">\n",
       "  <thead>\n",
       "    <tr style=\"text-align: right;\">\n",
       "      <th></th>\n",
       "      <th>loss</th>\n",
       "      <th>accuracy</th>\n",
       "      <th>val_loss</th>\n",
       "      <th>val_accuracy</th>\n",
       "    </tr>\n",
       "  </thead>\n",
       "  <tbody>\n",
       "    <tr>\n",
       "      <th>1</th>\n",
       "      <td>0.662396</td>\n",
       "      <td>0.638834</td>\n",
       "      <td>0.669414</td>\n",
       "      <td>0.664495</td>\n",
       "    </tr>\n",
       "    <tr>\n",
       "      <th>2</th>\n",
       "      <td>0.559814</td>\n",
       "      <td>0.719785</td>\n",
       "      <td>0.596671</td>\n",
       "      <td>0.688925</td>\n",
       "    </tr>\n",
       "    <tr>\n",
       "      <th>3</th>\n",
       "      <td>0.523306</td>\n",
       "      <td>0.749788</td>\n",
       "      <td>0.550827</td>\n",
       "      <td>0.702769</td>\n",
       "    </tr>\n",
       "    <tr>\n",
       "      <th>4</th>\n",
       "      <td>0.498184</td>\n",
       "      <td>0.765780</td>\n",
       "      <td>0.516085</td>\n",
       "      <td>0.719870</td>\n",
       "    </tr>\n",
       "    <tr>\n",
       "      <th>5</th>\n",
       "      <td>0.477844</td>\n",
       "      <td>0.781206</td>\n",
       "      <td>0.476850</td>\n",
       "      <td>0.740228</td>\n",
       "    </tr>\n",
       "    <tr>\n",
       "      <th>...</th>\n",
       "      <td>...</td>\n",
       "      <td>...</td>\n",
       "      <td>...</td>\n",
       "      <td>...</td>\n",
       "    </tr>\n",
       "    <tr>\n",
       "      <th>96</th>\n",
       "      <td>0.378712</td>\n",
       "      <td>0.837390</td>\n",
       "      <td>0.411204</td>\n",
       "      <td>0.807003</td>\n",
       "    </tr>\n",
       "    <tr>\n",
       "      <th>97</th>\n",
       "      <td>0.378150</td>\n",
       "      <td>0.834701</td>\n",
       "      <td>0.411148</td>\n",
       "      <td>0.804560</td>\n",
       "    </tr>\n",
       "    <tr>\n",
       "      <th>98</th>\n",
       "      <td>0.378121</td>\n",
       "      <td>0.834843</td>\n",
       "      <td>0.413405</td>\n",
       "      <td>0.806189</td>\n",
       "    </tr>\n",
       "    <tr>\n",
       "      <th>99</th>\n",
       "      <td>0.378330</td>\n",
       "      <td>0.834843</td>\n",
       "      <td>0.417319</td>\n",
       "      <td>0.802117</td>\n",
       "    </tr>\n",
       "    <tr>\n",
       "      <th>100</th>\n",
       "      <td>0.377888</td>\n",
       "      <td>0.836966</td>\n",
       "      <td>0.407791</td>\n",
       "      <td>0.801303</td>\n",
       "    </tr>\n",
       "  </tbody>\n",
       "</table>\n",
       "<p>100 rows × 4 columns</p>\n",
       "</div>"
      ],
      "text/plain": [
       "         loss  accuracy  val_loss  val_accuracy\n",
       "1    0.662396  0.638834  0.669414      0.664495\n",
       "2    0.559814  0.719785  0.596671      0.688925\n",
       "3    0.523306  0.749788  0.550827      0.702769\n",
       "4    0.498184  0.765780  0.516085      0.719870\n",
       "5    0.477844  0.781206  0.476850      0.740228\n",
       "..        ...       ...       ...           ...\n",
       "96   0.378712  0.837390  0.411204      0.807003\n",
       "97   0.378150  0.834701  0.411148      0.804560\n",
       "98   0.378121  0.834843  0.413405      0.806189\n",
       "99   0.378330  0.834843  0.417319      0.802117\n",
       "100  0.377888  0.836966  0.407791      0.801303\n",
       "\n",
       "[100 rows x 4 columns]"
      ]
     },
     "execution_count": 175,
     "metadata": {},
     "output_type": "execute_result"
    }
   ],
   "source": [
    "# Create a DataFrame containing training history\n",
    "multi_history_df = pd.DataFrame(fit_model_multi.history, index=range(1,len(fit_model_multi.history[\"loss\"])+1))\n",
    "multi_history_df"
   ]
  },
  {
   "cell_type": "code",
   "execution_count": 176,
   "id": "8df6dfb7",
   "metadata": {},
   "outputs": [
    {
     "data": {
      "image/png": "[encoded data removed]",
      "text/plain": [
       "<Figure size 432x288 with 1 Axes>"
      ]
     },
     "metadata": {
      "needs_background": "light"
     },
     "output_type": "display_data"
    }
   ],
   "source": [
    "# Plot the history\n",
    "multi_history_plotf = multi_history_df.plot(title = \"Multiple Perceptron History\",colormap= \"viridis\")"
   ]
  },
  {
   "cell_type": "code",
   "execution_count": 177,
   "id": "7ff48892",
   "metadata": {
    "scrolled": true
   },
   "outputs": [
    {
     "data": {
      "text/plain": [
       "<AxesSubplot:>"
      ]
     },
     "execution_count": 177,
     "metadata": {},
     "output_type": "execute_result"
    },
    {
     "data": {
      "image/png": "[encoded data removed]",
      "text/plain": [
       "<Figure size 432x288 with 1 Axes>"
      ]
     },
     "metadata": {
      "needs_background": "light"
     },
     "output_type": "display_data"
    }
   ],
   "source": [
    "# Plot the loss\n",
    "multi_history_df.plot(y=[\"loss\", \"val_loss\"], colormap= \"viridis\")"
   ]
  },
  {
   "cell_type": "code",
   "execution_count": 178,
   "id": "05f4a9e6",
   "metadata": {},
   "outputs": [
    {
     "data": {
      "text/plain": [
       "<AxesSubplot:>"
      ]
     },
     "execution_count": 178,
     "metadata": {},
     "output_type": "execute_result"
    },
    {
     "data": {
      "image/png": "[encoded data removed]",
      "text/plain": [
       "<Figure size 432x288 with 1 Axes>"
      ]
     },
     "metadata": {
      "needs_background": "light"
     },
     "output_type": "display_data"
    }
   ],
   "source": [
    "# Plot the accuracy\n",
    "multi_history_df.plot(y=[\"accuracy\", \"val_accuracy\"], colormap= \"viridis\")"
   ]
  },
  {
   "cell_type": "code",
   "execution_count": 179,
   "id": "fa7e44c7",
   "metadata": {
    "scrolled": true
   },
   "outputs": [
    {
     "name": "stdout",
     "output_type": "stream",
     "text": [
      " The loss for the multiple perceptron model is: 0.40779128670692444, The accuracy is: 0.8013029098510742\n"
     ]
    }
   ],
   "source": [
    "# Evaluate the model using the test data\n",
    "multi_model_loss, multi_model_accuracy = multi_nn_model.evaluate(X_test_scaled,y_test,verbose=0)\n",
    "print(f\" The loss for the multiple perceptron model is: {multi_model_loss}, The accuracy is: {multi_model_accuracy}\")"
   ]
  },
  {
   "cell_type": "code",
   "execution_count": 180,
   "id": "1c5ed29e",
   "metadata": {},
   "outputs": [],
   "source": [
    "#Y_pred: flatten & Convert prediction probabilities to binary format\n",
    "y_pred_multi = multi_nn_model.predict(X_test_scaled)\n",
    "y_pred_multi = y_pred_multi.flatten()\n",
    "y_pred_multi_tf = tf.round(y_pred_multi)"
   ]
  },
  {
   "cell_type": "code",
   "execution_count": 181,
   "id": "419f1873",
   "metadata": {
    "scrolled": true
   },
   "outputs": [
    {
     "data": {
      "text/plain": [
       "<sklearn.metrics._plot.confusion_matrix.ConfusionMatrixDisplay at 0x2847393e648>"
      ]
     },
     "execution_count": 181,
     "metadata": {},
     "output_type": "execute_result"
    },
    {
     "data": {
      "image/png": "[encoded data removed]",
      "text/plain": [
       "<Figure size 432x288 with 2 Axes>"
      ]
     },
     "metadata": {
      "needs_background": "light"
     },
     "output_type": "display_data"
    }
   ],
   "source": [
    "# Display the confusion matrix\n",
    "multi_nn_cm = confusion_matrix(y_test, y_pred_multi_tf)\n",
    "\n",
    "multi_disp = ConfusionMatrixDisplay(confusion_matrix=multi_nn_cm)\n",
    "multi_disp.plot()\n",
    "multi_disp.ax_.set_title(\"Multiple Perceptron Confusion Matrix\")\n",
    "multi_disp"
   ]
  },
  {
   "cell_type": "code",
   "execution_count": 182,
   "id": "d2edb679",
   "metadata": {},
   "outputs": [
    {
     "name": "stdout",
     "output_type": "stream",
     "text": [
      "Accuracy Score of the Multiple Perceptron Model: 0.8013029315960912\n",
      "Recall Score of the Multiple Perceptron Model: 0.6346153846153846\n",
      "Specifity Score of the Deep Learning Model: 0.6730769230769231\n",
      "Balanced Accuracy Score of the Multiple Perceptron Model: 0.7216444270015698\n",
      "Precision Score of the Multiple Perceptron Model: 0.12790697674418605\n",
      "F1 Score Score of the Multiple Perceptron Model: 0.21290322580645163\n",
      "Loss of the Multiple Perceptron Model: 0.40779128670692444\n"
     ]
    },
    {
     "data": {
      "text/html": [
       "<div>\n",
       "<style scoped>\n",
       "    .dataframe tbody tr th:only-of-type {\n",
       "        vertical-align: middle;\n",
       "    }\n",
       "\n",
       "    .dataframe tbody tr th {\n",
       "        vertical-align: top;\n",
       "    }\n",
       "\n",
       "    .dataframe thead th {\n",
       "        text-align: right;\n",
       "    }\n",
       "</style>\n",
       "<table border=\"1\" class=\"dataframe\">\n",
       "  <thead>\n",
       "    <tr style=\"text-align: right;\">\n",
       "      <th></th>\n",
       "      <th>Model Type</th>\n",
       "      <th>Accuracy</th>\n",
       "      <th>Recall</th>\n",
       "      <th>Specificity</th>\n",
       "      <th>Balanced Accuracy</th>\n",
       "      <th>Precision</th>\n",
       "      <th>F1 Score</th>\n",
       "      <th>Loss</th>\n",
       "    </tr>\n",
       "  </thead>\n",
       "  <tbody>\n",
       "    <tr>\n",
       "      <th>0</th>\n",
       "      <td>Multi Perceptron</td>\n",
       "      <td>0.801303</td>\n",
       "      <td>0.634615</td>\n",
       "      <td>0.673077</td>\n",
       "      <td>0.721644</td>\n",
       "      <td>0.127907</td>\n",
       "      <td>0.212903</td>\n",
       "      <td>0.407791</td>\n",
       "    </tr>\n",
       "  </tbody>\n",
       "</table>\n",
       "</div>"
      ],
      "text/plain": [
       "         Model Type  Accuracy    Recall  Specificity  Balanced Accuracy  \\\n",
       "0  Multi Perceptron  0.801303  0.634615     0.673077           0.721644   \n",
       "\n",
       "   Precision  F1 Score      Loss  \n",
       "0   0.127907  0.212903  0.407791  "
      ]
     },
     "execution_count": 182,
     "metadata": {},
     "output_type": "execute_result"
    }
   ],
   "source": [
    "# Advanced Classification Metrics\n",
    "# Accuracy\n",
    "multi_accuracy_score = accuracy_score(y_test, y_pred_multi_tf)\n",
    "print(f'Accuracy Score of the Multiple Perceptron Model: {multi_accuracy_score}')\n",
    "\n",
    "# Recall/ Sensitivity\n",
    "multi_recall_score = recall_score(y_test, y_pred_multi_tf)\n",
    "print(f'Recall Score of the Multiple Perceptron Model: {multi_recall_score}')\n",
    "\n",
    "# Specificity\n",
    "multi_specificity_score = 35 / (35+17)\n",
    "print(f'Specifity Score of the Deep Learning Model: {multi_specificity_score}')\n",
    "\n",
    "# Balanced Accuracy Score\n",
    "multi_bas = balanced_accuracy_score(y_test, y_pred_multi_tf)\n",
    "print(f'Balanced Accuracy Score of the Multiple Perceptron Model: {multi_bas}')\n",
    "\n",
    "# Precision\n",
    "multi_precision_score = precision_score(y_test, y_pred_multi_tf)\n",
    "print(f'Precision Score of the Multiple Perceptron Model: {multi_precision_score}')     \n",
    "      \n",
    "# F1 Score\n",
    "multi_f1_score = f1_score(y_test, y_pred_multi_tf)\n",
    "print(f'F1 Score Score of the Multiple Perceptron Model: {multi_f1_score}')\n",
    "\n",
    "# Loss Score\n",
    "print(f'Loss of the Multiple Perceptron Model: {multi_model_loss}')\n",
    "\n",
    "# Advanced Classification Metrics DF\n",
    "multi_acm = {\"Model Type\": [\"Multi Perceptron\"], \"Accuracy\":[multi_accuracy_score], \"Recall\": [multi_recall_score], \"Specificity\":[multi_specificity_score], \n",
    "          \"Balanced Accuracy\": [multi_bas], \"Precision\":[multi_precision_score], \"F1 Score\":[multi_f1_score], \"Loss\": [multi_model_loss]}\n",
    "multi_acm_df = pd.DataFrame(data=multi_acm)\n",
    "multi_acm_df"
   ]
  },
  {
   "cell_type": "markdown",
   "id": "10c8ce22",
   "metadata": {},
   "source": [
    "## Deep Learning Neural Network"
   ]
  },
  {
   "cell_type": "code",
   "execution_count": 183,
   "id": "108a2466",
   "metadata": {},
   "outputs": [
    {
     "name": "stdout",
     "output_type": "stream",
     "text": [
      "Model: \"sequential_11\"\n",
      "_________________________________________________________________\n",
      " Layer (type)                Output Shape              Param #   \n",
      "=================================================================\n",
      " dense_25 (Dense)            (None, 80)                1760      \n",
      "                                                                 \n",
      " dense_26 (Dense)            (None, 50)                4050      \n",
      "                                                                 \n",
      " dense_27 (Dense)            (None, 1)                 51        \n",
      "                                                                 \n",
      "=================================================================\n",
      "Total params: 5,861\n",
      "Trainable params: 5,861\n",
      "Non-trainable params: 0\n",
      "_________________________________________________________________\n"
     ]
    }
   ],
   "source": [
    "# Define the model - deep neural net\n",
    "number_input_features = len(X_train[0])\n",
    "hidden_nodes_layer1 = 80\n",
    "hidden_nodes_layer2 = 50\n",
    "\n",
    "deep_nn_model = tf.keras.models.Sequential()\n",
    "\n",
    "# First hidden layer\n",
    "deep_nn_model.add(\n",
    "    tf.keras.layers.Dense(units=hidden_nodes_layer1, input_dim=number_input_features, activation=\"relu\")\n",
    ")\n",
    "\n",
    "# Second hidden layer\n",
    "deep_nn_model.add(tf.keras.layers.Dense(units=hidden_nodes_layer2, activation=\"relu\"))\n",
    "\n",
    "# Output layer\n",
    "deep_nn_model.add(tf.keras.layers.Dense(units=1, activation=\"sigmoid\"))\n",
    "\n",
    "# Check the structure of the model\n",
    "deep_nn_model.summary()"
   ]
  },
  {
   "cell_type": "code",
   "execution_count": 184,
   "id": "f430848f",
   "metadata": {},
   "outputs": [],
   "source": [
    "# Compile the model\n",
    "deep_nn_model.compile(loss=\"binary_crossentropy\", optimizer=\"adam\", metrics=[\"accuracy\"])"
   ]
  },
  {
   "cell_type": "code",
   "execution_count": 185,
   "id": "31441fb7",
   "metadata": {
    "scrolled": true
   },
   "outputs": [
    {
     "name": "stdout",
     "output_type": "stream",
     "text": [
      "Epoch 1/100\n",
      "116/116 [==============================] - 1s 2ms/step - loss: 0.1860 - accuracy: 0.9568 - val_loss: 0.1556 - val_accuracy: 0.9577\n",
      "Epoch 2/100\n",
      "116/116 [==============================] - 0s 2ms/step - loss: 0.1491 - accuracy: 0.9573 - val_loss: 0.1458 - val_accuracy: 0.9577\n",
      "Epoch 3/100\n",
      "116/116 [==============================] - 0s 2ms/step - loss: 0.1424 - accuracy: 0.9576 - val_loss: 0.1453 - val_accuracy: 0.9577\n",
      "Epoch 4/100\n",
      "116/116 [==============================] - 0s 2ms/step - loss: 0.1380 - accuracy: 0.9579 - val_loss: 0.1410 - val_accuracy: 0.9593\n",
      "Epoch 5/100\n",
      "116/116 [==============================] - 0s 2ms/step - loss: 0.1357 - accuracy: 0.9576 - val_loss: 0.1421 - val_accuracy: 0.9593\n",
      "Epoch 6/100\n",
      "116/116 [==============================] - 0s 2ms/step - loss: 0.1336 - accuracy: 0.9579 - val_loss: 0.1421 - val_accuracy: 0.9593\n",
      "Epoch 7/100\n",
      "116/116 [==============================] - 0s 3ms/step - loss: 0.1332 - accuracy: 0.9579 - val_loss: 0.1462 - val_accuracy: 0.9585\n",
      "Epoch 8/100\n",
      "116/116 [==============================] - 0s 2ms/step - loss: 0.1295 - accuracy: 0.9587 - val_loss: 0.1456 - val_accuracy: 0.9593\n",
      "Epoch 9/100\n",
      "116/116 [==============================] - 0s 2ms/step - loss: 0.1277 - accuracy: 0.9590 - val_loss: 0.1468 - val_accuracy: 0.9568\n",
      "Epoch 10/100\n",
      "116/116 [==============================] - 0s 2ms/step - loss: 0.1262 - accuracy: 0.9590 - val_loss: 0.1444 - val_accuracy: 0.9593\n",
      "Epoch 11/100\n",
      "116/116 [==============================] - 0s 2ms/step - loss: 0.1278 - accuracy: 0.9590 - val_loss: 0.1458 - val_accuracy: 0.9593\n",
      "Epoch 12/100\n",
      "116/116 [==============================] - 0s 2ms/step - loss: 0.1270 - accuracy: 0.9584 - val_loss: 0.1529 - val_accuracy: 0.9552\n",
      "Epoch 13/100\n",
      "116/116 [==============================] - 0s 1ms/step - loss: 0.1235 - accuracy: 0.9593 - val_loss: 0.1457 - val_accuracy: 0.9568\n",
      "Epoch 14/100\n",
      "116/116 [==============================] - 0s 2ms/step - loss: 0.1219 - accuracy: 0.9598 - val_loss: 0.1499 - val_accuracy: 0.9568\n",
      "Epoch 15/100\n",
      "116/116 [==============================] - 0s 2ms/step - loss: 0.1256 - accuracy: 0.9606 - val_loss: 0.1511 - val_accuracy: 0.9593\n",
      "Epoch 16/100\n",
      "116/116 [==============================] - 0s 2ms/step - loss: 0.1223 - accuracy: 0.9595 - val_loss: 0.1532 - val_accuracy: 0.9585\n",
      "Epoch 17/100\n",
      "116/116 [==============================] - 0s 2ms/step - loss: 0.1186 - accuracy: 0.9609 - val_loss: 0.1506 - val_accuracy: 0.9593\n",
      "Epoch 18/100\n",
      "116/116 [==============================] - 0s 2ms/step - loss: 0.1174 - accuracy: 0.9617 - val_loss: 0.1505 - val_accuracy: 0.9568\n",
      "Epoch 19/100\n",
      "116/116 [==============================] - 0s 2ms/step - loss: 0.1149 - accuracy: 0.9622 - val_loss: 0.1516 - val_accuracy: 0.9593\n",
      "Epoch 20/100\n",
      "116/116 [==============================] - 0s 2ms/step - loss: 0.1145 - accuracy: 0.9612 - val_loss: 0.1549 - val_accuracy: 0.9520\n",
      "Epoch 21/100\n",
      "116/116 [==============================] - 0s 2ms/step - loss: 0.1142 - accuracy: 0.9617 - val_loss: 0.1561 - val_accuracy: 0.9568\n",
      "Epoch 22/100\n",
      "116/116 [==============================] - 0s 2ms/step - loss: 0.1113 - accuracy: 0.9617 - val_loss: 0.1585 - val_accuracy: 0.9585\n",
      "Epoch 23/100\n",
      "116/116 [==============================] - 0s 2ms/step - loss: 0.1115 - accuracy: 0.9606 - val_loss: 0.1564 - val_accuracy: 0.9585\n",
      "Epoch 24/100\n",
      "116/116 [==============================] - 0s 2ms/step - loss: 0.1087 - accuracy: 0.9633 - val_loss: 0.1595 - val_accuracy: 0.9511\n",
      "Epoch 25/100\n",
      "116/116 [==============================] - 0s 2ms/step - loss: 0.1091 - accuracy: 0.9622 - val_loss: 0.1578 - val_accuracy: 0.9560\n",
      "Epoch 26/100\n",
      "116/116 [==============================] - 0s 2ms/step - loss: 0.1076 - accuracy: 0.9655 - val_loss: 0.1635 - val_accuracy: 0.9593\n",
      "Epoch 27/100\n",
      "116/116 [==============================] - 0s 2ms/step - loss: 0.1060 - accuracy: 0.9628 - val_loss: 0.1628 - val_accuracy: 0.9560\n",
      "Epoch 28/100\n",
      "116/116 [==============================] - 0s 2ms/step - loss: 0.1035 - accuracy: 0.9628 - val_loss: 0.1705 - val_accuracy: 0.9593\n",
      "Epoch 29/100\n",
      "116/116 [==============================] - 0s 2ms/step - loss: 0.1031 - accuracy: 0.9647 - val_loss: 0.1655 - val_accuracy: 0.9568\n",
      "Epoch 30/100\n",
      "116/116 [==============================] - 0s 2ms/step - loss: 0.1023 - accuracy: 0.9639 - val_loss: 0.1654 - val_accuracy: 0.9528\n",
      "Epoch 31/100\n",
      "116/116 [==============================] - 0s 2ms/step - loss: 0.0990 - accuracy: 0.9658 - val_loss: 0.1682 - val_accuracy: 0.9585\n",
      "Epoch 32/100\n",
      "116/116 [==============================] - 0s 2ms/step - loss: 0.0996 - accuracy: 0.9650 - val_loss: 0.1719 - val_accuracy: 0.9560\n",
      "Epoch 33/100\n",
      "116/116 [==============================] - 0s 2ms/step - loss: 0.0973 - accuracy: 0.9660 - val_loss: 0.1677 - val_accuracy: 0.9528\n",
      "Epoch 34/100\n",
      "116/116 [==============================] - 0s 2ms/step - loss: 0.0965 - accuracy: 0.9666 - val_loss: 0.1733 - val_accuracy: 0.9560\n",
      "Epoch 35/100\n",
      "116/116 [==============================] - 0s 2ms/step - loss: 0.0983 - accuracy: 0.9663 - val_loss: 0.1743 - val_accuracy: 0.9536\n",
      "Epoch 36/100\n",
      "116/116 [==============================] - 0s 2ms/step - loss: 0.0934 - accuracy: 0.9671 - val_loss: 0.1810 - val_accuracy: 0.9528\n",
      "Epoch 37/100\n",
      "116/116 [==============================] - 0s 2ms/step - loss: 0.0925 - accuracy: 0.9682 - val_loss: 0.1800 - val_accuracy: 0.9568\n",
      "Epoch 38/100\n",
      "116/116 [==============================] - 0s 1ms/step - loss: 0.0932 - accuracy: 0.9666 - val_loss: 0.1802 - val_accuracy: 0.9544\n",
      "Epoch 39/100\n",
      "116/116 [==============================] - 0s 2ms/step - loss: 0.0918 - accuracy: 0.9677 - val_loss: 0.1849 - val_accuracy: 0.9552\n",
      "Epoch 40/100\n",
      "116/116 [==============================] - 0s 2ms/step - loss: 0.0900 - accuracy: 0.9677 - val_loss: 0.1886 - val_accuracy: 0.9568\n",
      "Epoch 41/100\n",
      "116/116 [==============================] - 0s 2ms/step - loss: 0.0873 - accuracy: 0.9696 - val_loss: 0.1860 - val_accuracy: 0.9544\n",
      "Epoch 42/100\n",
      "116/116 [==============================] - 0s 2ms/step - loss: 0.0883 - accuracy: 0.9674 - val_loss: 0.1930 - val_accuracy: 0.9544\n",
      "Epoch 43/100\n",
      "116/116 [==============================] - 0s 2ms/step - loss: 0.0857 - accuracy: 0.9693 - val_loss: 0.1916 - val_accuracy: 0.9568\n",
      "Epoch 44/100\n",
      "116/116 [==============================] - 0s 2ms/step - loss: 0.0857 - accuracy: 0.9693 - val_loss: 0.1879 - val_accuracy: 0.9520\n",
      "Epoch 45/100\n",
      "116/116 [==============================] - 0s 2ms/step - loss: 0.0917 - accuracy: 0.9674 - val_loss: 0.1886 - val_accuracy: 0.9495\n",
      "Epoch 46/100\n",
      "116/116 [==============================] - 0s 2ms/step - loss: 0.0849 - accuracy: 0.9693 - val_loss: 0.1918 - val_accuracy: 0.9544\n",
      "Epoch 47/100\n",
      "116/116 [==============================] - 0s 2ms/step - loss: 0.0819 - accuracy: 0.9704 - val_loss: 0.1921 - val_accuracy: 0.9479\n",
      "Epoch 48/100\n",
      "116/116 [==============================] - 0s 2ms/step - loss: 0.0815 - accuracy: 0.9698 - val_loss: 0.2002 - val_accuracy: 0.9552\n",
      "Epoch 49/100\n",
      "116/116 [==============================] - 0s 2ms/step - loss: 0.0797 - accuracy: 0.9696 - val_loss: 0.1978 - val_accuracy: 0.9520\n",
      "Epoch 50/100\n",
      "116/116 [==============================] - 0s 2ms/step - loss: 0.0798 - accuracy: 0.9723 - val_loss: 0.1945 - val_accuracy: 0.9479\n",
      "Epoch 51/100\n",
      "116/116 [==============================] - 0s 2ms/step - loss: 0.0769 - accuracy: 0.9709 - val_loss: 0.2076 - val_accuracy: 0.9552\n",
      "Epoch 52/100\n",
      "116/116 [==============================] - 0s 2ms/step - loss: 0.0809 - accuracy: 0.9698 - val_loss: 0.2009 - val_accuracy: 0.9528\n",
      "Epoch 53/100\n",
      "116/116 [==============================] - 0s 2ms/step - loss: 0.0776 - accuracy: 0.9701 - val_loss: 0.2024 - val_accuracy: 0.9503\n",
      "Epoch 54/100\n",
      "116/116 [==============================] - 0s 2ms/step - loss: 0.0757 - accuracy: 0.9720 - val_loss: 0.2011 - val_accuracy: 0.9503\n",
      "Epoch 55/100\n",
      "116/116 [==============================] - 0s 2ms/step - loss: 0.0741 - accuracy: 0.9726 - val_loss: 0.2075 - val_accuracy: 0.9536\n",
      "Epoch 56/100\n",
      "116/116 [==============================] - 0s 2ms/step - loss: 0.0730 - accuracy: 0.9715 - val_loss: 0.2059 - val_accuracy: 0.9487\n",
      "Epoch 57/100\n",
      "116/116 [==============================] - 0s 2ms/step - loss: 0.0740 - accuracy: 0.9715 - val_loss: 0.2158 - val_accuracy: 0.9495\n"
     ]
    },
    {
     "name": "stdout",
     "output_type": "stream",
     "text": [
      "Epoch 58/100\n",
      "116/116 [==============================] - 0s 2ms/step - loss: 0.0798 - accuracy: 0.9709 - val_loss: 0.2169 - val_accuracy: 0.9503\n",
      "Epoch 59/100\n",
      "116/116 [==============================] - 0s 2ms/step - loss: 0.0711 - accuracy: 0.9742 - val_loss: 0.2147 - val_accuracy: 0.9463\n",
      "Epoch 60/100\n",
      "116/116 [==============================] - 0s 2ms/step - loss: 0.0722 - accuracy: 0.9723 - val_loss: 0.2210 - val_accuracy: 0.9528\n",
      "Epoch 61/100\n",
      "116/116 [==============================] - 0s 2ms/step - loss: 0.0704 - accuracy: 0.9720 - val_loss: 0.2162 - val_accuracy: 0.9422\n",
      "Epoch 62/100\n",
      "116/116 [==============================] - 0s 2ms/step - loss: 0.0779 - accuracy: 0.9690 - val_loss: 0.2149 - val_accuracy: 0.9511\n",
      "Epoch 63/100\n",
      "116/116 [==============================] - 0s 3ms/step - loss: 0.0708 - accuracy: 0.9731 - val_loss: 0.2282 - val_accuracy: 0.9536\n",
      "Epoch 64/100\n",
      "116/116 [==============================] - 0s 4ms/step - loss: 0.0689 - accuracy: 0.9731 - val_loss: 0.2185 - val_accuracy: 0.9463\n",
      "Epoch 65/100\n",
      "116/116 [==============================] - 0s 3ms/step - loss: 0.0683 - accuracy: 0.9739 - val_loss: 0.2220 - val_accuracy: 0.9503\n",
      "Epoch 66/100\n",
      "116/116 [==============================] - 0s 2ms/step - loss: 0.0660 - accuracy: 0.9742 - val_loss: 0.2290 - val_accuracy: 0.9495\n",
      "Epoch 67/100\n",
      "116/116 [==============================] - 0s 2ms/step - loss: 0.0645 - accuracy: 0.9747 - val_loss: 0.2287 - val_accuracy: 0.9479\n",
      "Epoch 68/100\n",
      "116/116 [==============================] - 0s 2ms/step - loss: 0.0629 - accuracy: 0.9753 - val_loss: 0.2526 - val_accuracy: 0.9536\n",
      "Epoch 69/100\n",
      "116/116 [==============================] - 0s 2ms/step - loss: 0.0637 - accuracy: 0.9769 - val_loss: 0.2395 - val_accuracy: 0.9544\n",
      "Epoch 70/100\n",
      "116/116 [==============================] - 0s 2ms/step - loss: 0.0637 - accuracy: 0.9758 - val_loss: 0.2401 - val_accuracy: 0.9479\n",
      "Epoch 71/100\n",
      "116/116 [==============================] - 0s 3ms/step - loss: 0.0616 - accuracy: 0.9769 - val_loss: 0.2422 - val_accuracy: 0.9487\n",
      "Epoch 72/100\n",
      "116/116 [==============================] - 0s 3ms/step - loss: 0.0617 - accuracy: 0.9772 - val_loss: 0.2428 - val_accuracy: 0.9511\n",
      "Epoch 73/100\n",
      "116/116 [==============================] - 1s 5ms/step - loss: 0.0602 - accuracy: 0.9783 - val_loss: 0.2358 - val_accuracy: 0.9479\n",
      "Epoch 74/100\n",
      "116/116 [==============================] - 0s 3ms/step - loss: 0.0592 - accuracy: 0.9764 - val_loss: 0.2602 - val_accuracy: 0.9544\n",
      "Epoch 75/100\n",
      "116/116 [==============================] - 0s 3ms/step - loss: 0.0600 - accuracy: 0.9769 - val_loss: 0.2508 - val_accuracy: 0.9528\n",
      "Epoch 76/100\n",
      "116/116 [==============================] - 0s 3ms/step - loss: 0.0591 - accuracy: 0.9769 - val_loss: 0.2500 - val_accuracy: 0.9471\n",
      "Epoch 77/100\n",
      "116/116 [==============================] - 0s 4ms/step - loss: 0.0589 - accuracy: 0.9777 - val_loss: 0.2601 - val_accuracy: 0.9544\n",
      "Epoch 78/100\n",
      "116/116 [==============================] - 0s 3ms/step - loss: 0.0584 - accuracy: 0.9783 - val_loss: 0.2568 - val_accuracy: 0.9520\n",
      "Epoch 79/100\n",
      "116/116 [==============================] - 0s 2ms/step - loss: 0.0571 - accuracy: 0.9780 - val_loss: 0.2571 - val_accuracy: 0.9471\n",
      "Epoch 80/100\n",
      "116/116 [==============================] - 0s 2ms/step - loss: 0.0568 - accuracy: 0.9775 - val_loss: 0.2574 - val_accuracy: 0.9389\n",
      "Epoch 81/100\n",
      "116/116 [==============================] - 0s 2ms/step - loss: 0.0622 - accuracy: 0.9756 - val_loss: 0.2623 - val_accuracy: 0.9471\n",
      "Epoch 82/100\n",
      "116/116 [==============================] - 0s 2ms/step - loss: 0.0555 - accuracy: 0.9794 - val_loss: 0.2668 - val_accuracy: 0.9528\n",
      "Epoch 83/100\n",
      "116/116 [==============================] - 0s 2ms/step - loss: 0.0556 - accuracy: 0.9796 - val_loss: 0.2612 - val_accuracy: 0.9454\n",
      "Epoch 84/100\n",
      "116/116 [==============================] - 0s 2ms/step - loss: 0.0555 - accuracy: 0.9785 - val_loss: 0.2595 - val_accuracy: 0.9414\n",
      "Epoch 85/100\n",
      "116/116 [==============================] - 0s 2ms/step - loss: 0.0659 - accuracy: 0.9726 - val_loss: 0.2702 - val_accuracy: 0.9511\n",
      "Epoch 86/100\n",
      "116/116 [==============================] - 0s 2ms/step - loss: 0.0546 - accuracy: 0.9777 - val_loss: 0.2708 - val_accuracy: 0.9430\n",
      "Epoch 87/100\n",
      "116/116 [==============================] - 0s 2ms/step - loss: 0.0537 - accuracy: 0.9804 - val_loss: 0.2802 - val_accuracy: 0.9471\n",
      "Epoch 88/100\n",
      "116/116 [==============================] - 0s 2ms/step - loss: 0.0521 - accuracy: 0.9802 - val_loss: 0.2770 - val_accuracy: 0.9487\n",
      "Epoch 89/100\n",
      "116/116 [==============================] - 0s 2ms/step - loss: 0.0514 - accuracy: 0.9780 - val_loss: 0.2869 - val_accuracy: 0.9495\n",
      "Epoch 90/100\n",
      "116/116 [==============================] - 0s 2ms/step - loss: 0.0512 - accuracy: 0.9804 - val_loss: 0.2857 - val_accuracy: 0.9414\n",
      "Epoch 91/100\n",
      "116/116 [==============================] - 0s 2ms/step - loss: 0.0513 - accuracy: 0.9802 - val_loss: 0.2839 - val_accuracy: 0.9430\n",
      "Epoch 92/100\n",
      "116/116 [==============================] - 0s 2ms/step - loss: 0.0503 - accuracy: 0.9804 - val_loss: 0.2837 - val_accuracy: 0.9495\n",
      "Epoch 93/100\n",
      "116/116 [==============================] - 0s 2ms/step - loss: 0.0488 - accuracy: 0.9821 - val_loss: 0.2936 - val_accuracy: 0.9495\n",
      "Epoch 94/100\n",
      "116/116 [==============================] - 0s 2ms/step - loss: 0.0533 - accuracy: 0.9799 - val_loss: 0.2847 - val_accuracy: 0.9471\n",
      "Epoch 95/100\n",
      "116/116 [==============================] - 0s 2ms/step - loss: 0.0480 - accuracy: 0.9821 - val_loss: 0.3092 - val_accuracy: 0.9495\n",
      "Epoch 96/100\n",
      "116/116 [==============================] - 0s 2ms/step - loss: 0.0505 - accuracy: 0.9791 - val_loss: 0.3068 - val_accuracy: 0.9511\n",
      "Epoch 97/100\n",
      "116/116 [==============================] - 0s 2ms/step - loss: 0.0501 - accuracy: 0.9802 - val_loss: 0.3109 - val_accuracy: 0.9528\n",
      "Epoch 98/100\n",
      "116/116 [==============================] - 0s 2ms/step - loss: 0.0485 - accuracy: 0.9823 - val_loss: 0.3088 - val_accuracy: 0.9471\n",
      "Epoch 99/100\n",
      "116/116 [==============================] - 0s 2ms/step - loss: 0.0471 - accuracy: 0.9813 - val_loss: 0.3130 - val_accuracy: 0.9503\n",
      "Epoch 100/100\n",
      "116/116 [==============================] - 0s 2ms/step - loss: 0.0465 - accuracy: 0.9818 - val_loss: 0.3145 - val_accuracy: 0.9487\n"
     ]
    }
   ],
   "source": [
    "# Train the model\n",
    "fit_model_deep = deep_nn_model.fit(X_train_scaled, y_train, validation_data = (X_test_scaled, y_test), epochs=100)"
   ]
  },
  {
   "cell_type": "code",
   "execution_count": 186,
   "id": "08746fc1",
   "metadata": {},
   "outputs": [
    {
     "data": {
      "text/html": [
       "<div>\n",
       "<style scoped>\n",
       "    .dataframe tbody tr th:only-of-type {\n",
       "        vertical-align: middle;\n",
       "    }\n",
       "\n",
       "    .dataframe tbody tr th {\n",
       "        vertical-align: top;\n",
       "    }\n",
       "\n",
       "    .dataframe thead th {\n",
       "        text-align: right;\n",
       "    }\n",
       "</style>\n",
       "<table border=\"1\" class=\"dataframe\">\n",
       "  <thead>\n",
       "    <tr style=\"text-align: right;\">\n",
       "      <th></th>\n",
       "      <th>loss</th>\n",
       "      <th>accuracy</th>\n",
       "      <th>val_loss</th>\n",
       "      <th>val_accuracy</th>\n",
       "    </tr>\n",
       "  </thead>\n",
       "  <tbody>\n",
       "    <tr>\n",
       "      <th>1</th>\n",
       "      <td>0.186031</td>\n",
       "      <td>0.956805</td>\n",
       "      <td>0.155641</td>\n",
       "      <td>0.957655</td>\n",
       "    </tr>\n",
       "    <tr>\n",
       "      <th>2</th>\n",
       "      <td>0.149089</td>\n",
       "      <td>0.957349</td>\n",
       "      <td>0.145778</td>\n",
       "      <td>0.957655</td>\n",
       "    </tr>\n",
       "    <tr>\n",
       "      <th>3</th>\n",
       "      <td>0.142355</td>\n",
       "      <td>0.957620</td>\n",
       "      <td>0.145315</td>\n",
       "      <td>0.957655</td>\n",
       "    </tr>\n",
       "    <tr>\n",
       "      <th>4</th>\n",
       "      <td>0.138049</td>\n",
       "      <td>0.957892</td>\n",
       "      <td>0.141013</td>\n",
       "      <td>0.959283</td>\n",
       "    </tr>\n",
       "    <tr>\n",
       "      <th>5</th>\n",
       "      <td>0.135717</td>\n",
       "      <td>0.957620</td>\n",
       "      <td>0.142084</td>\n",
       "      <td>0.959283</td>\n",
       "    </tr>\n",
       "    <tr>\n",
       "      <th>...</th>\n",
       "      <td>...</td>\n",
       "      <td>...</td>\n",
       "      <td>...</td>\n",
       "      <td>...</td>\n",
       "    </tr>\n",
       "    <tr>\n",
       "      <th>96</th>\n",
       "      <td>0.050524</td>\n",
       "      <td>0.979082</td>\n",
       "      <td>0.306778</td>\n",
       "      <td>0.951140</td>\n",
       "    </tr>\n",
       "    <tr>\n",
       "      <th>97</th>\n",
       "      <td>0.050119</td>\n",
       "      <td>0.980168</td>\n",
       "      <td>0.310923</td>\n",
       "      <td>0.952769</td>\n",
       "    </tr>\n",
       "    <tr>\n",
       "      <th>98</th>\n",
       "      <td>0.048547</td>\n",
       "      <td>0.982342</td>\n",
       "      <td>0.308766</td>\n",
       "      <td>0.947068</td>\n",
       "    </tr>\n",
       "    <tr>\n",
       "      <th>99</th>\n",
       "      <td>0.047102</td>\n",
       "      <td>0.981255</td>\n",
       "      <td>0.313006</td>\n",
       "      <td>0.950326</td>\n",
       "    </tr>\n",
       "    <tr>\n",
       "      <th>100</th>\n",
       "      <td>0.046489</td>\n",
       "      <td>0.981798</td>\n",
       "      <td>0.314541</td>\n",
       "      <td>0.948697</td>\n",
       "    </tr>\n",
       "  </tbody>\n",
       "</table>\n",
       "<p>100 rows × 4 columns</p>\n",
       "</div>"
      ],
      "text/plain": [
       "         loss  accuracy  val_loss  val_accuracy\n",
       "1    0.186031  0.956805  0.155641      0.957655\n",
       "2    0.149089  0.957349  0.145778      0.957655\n",
       "3    0.142355  0.957620  0.145315      0.957655\n",
       "4    0.138049  0.957892  0.141013      0.959283\n",
       "5    0.135717  0.957620  0.142084      0.959283\n",
       "..        ...       ...       ...           ...\n",
       "96   0.050524  0.979082  0.306778      0.951140\n",
       "97   0.050119  0.980168  0.310923      0.952769\n",
       "98   0.048547  0.982342  0.308766      0.947068\n",
       "99   0.047102  0.981255  0.313006      0.950326\n",
       "100  0.046489  0.981798  0.314541      0.948697\n",
       "\n",
       "[100 rows x 4 columns]"
      ]
     },
     "execution_count": 186,
     "metadata": {},
     "output_type": "execute_result"
    }
   ],
   "source": [
    "# Create a DataFrame containing training history\n",
    "deep_history_df = pd.DataFrame(fit_model_deep.history, index=range(1,len(fit_model_deep.history[\"loss\"])+1))\n",
    "deep_history_df"
   ]
  },
  {
   "cell_type": "code",
   "execution_count": 187,
   "id": "4c577bab",
   "metadata": {},
   "outputs": [
    {
     "data": {
      "image/png": "[encoded data removed]",
      "text/plain": [
       "<Figure size 432x288 with 1 Axes>"
      ]
     },
     "metadata": {
      "needs_background": "light"
     },
     "output_type": "display_data"
    }
   ],
   "source": [
    "#Plot the history\n",
    "deep_history_plot = deep_history_df.plot(title = \"Deep Learning History\",colormap= \"viridis\")\n"
   ]
  },
  {
   "cell_type": "code",
   "execution_count": 188,
   "id": "666e3645",
   "metadata": {},
   "outputs": [
    {
     "data": {
      "text/plain": [
       "<AxesSubplot:>"
      ]
     },
     "execution_count": 188,
     "metadata": {},
     "output_type": "execute_result"
    },
    {
     "data": {
      "image/png": "[encoded data removed]",
      "text/plain": [
       "<Figure size 432x288 with 1 Axes>"
      ]
     },
     "metadata": {
      "needs_background": "light"
     },
     "output_type": "display_data"
    }
   ],
   "source": [
    "# Plot the loss\n",
    "deep_history_df.plot(y=[\"loss\", \"val_loss\"], colormap= \"viridis\")"
   ]
  },
  {
   "cell_type": "code",
   "execution_count": 189,
   "id": "b3de5eff",
   "metadata": {},
   "outputs": [
    {
     "data": {
      "text/plain": [
       "<AxesSubplot:>"
      ]
     },
     "execution_count": 189,
     "metadata": {},
     "output_type": "execute_result"
    },
    {
     "data": {
      "image/png": "[encoded data removed]",
      "text/plain": [
       "<Figure size 432x288 with 1 Axes>"
      ]
     },
     "metadata": {
      "needs_background": "light"
     },
     "output_type": "display_data"
    }
   ],
   "source": [
    "# Plot the accuracy\n",
    "deep_history_df.plot(y=[\"accuracy\", \"val_accuracy\"], colormap= \"viridis\")"
   ]
  },
  {
   "cell_type": "code",
   "execution_count": 190,
   "id": "07538d00",
   "metadata": {},
   "outputs": [
    {
     "name": "stdout",
     "output_type": "stream",
     "text": [
      " The loss for the deep learning model is: 0.31454071402549744, The accuracy is: 0.9486970901489258\n"
     ]
    }
   ],
   "source": [
    "# Evaluate the model using the test data\n",
    "dl_model_loss, dl_model_accuracy = deep_nn_model.evaluate(X_test_scaled,y_test,verbose=0)\n",
    "print(f\" The loss for the deep learning model is: {dl_model_loss}, The accuracy is: {dl_model_accuracy}\")"
   ]
  },
  {
   "cell_type": "code",
   "execution_count": 191,
   "id": "a952527b",
   "metadata": {},
   "outputs": [],
   "source": [
    "#Y_pred: flatten & Convert prediction probabilities to binary format\n",
    "y_pred_dl = deep_nn_model.predict(X_test_scaled)\n",
    "y_pred_dl = y_pred_dl.flatten()\n",
    "y_pred_dl_tf=tf.round(y_pred_dl)"
   ]
  },
  {
   "cell_type": "code",
   "execution_count": 192,
   "id": "036d2540",
   "metadata": {},
   "outputs": [
    {
     "data": {
      "text/plain": [
       "<sklearn.metrics._plot.confusion_matrix.ConfusionMatrixDisplay at 0x284714c2408>"
      ]
     },
     "execution_count": 192,
     "metadata": {},
     "output_type": "execute_result"
    },
    {
     "data": {
      "image/png": "[encoded data removed]",
      "text/plain": [
       "<Figure size 432x288 with 2 Axes>"
      ]
     },
     "metadata": {
      "needs_background": "light"
     },
     "output_type": "display_data"
    }
   ],
   "source": [
    "# Display the confusion matrix\n",
    "dl_nn_cm = confusion_matrix(y_test, y_pred_dl_tf)\n",
    "dl_disp = ConfusionMatrixDisplay(confusion_matrix=dl_nn_cm)\n",
    "dl_disp.plot()\n",
    "dl_disp.ax_.set_title(\"Deep Learning Confusion Matrix\")\n",
    "dl_disp"
   ]
  },
  {
   "cell_type": "code",
   "execution_count": 193,
   "id": "cee11ed2",
   "metadata": {},
   "outputs": [
    {
     "name": "stdout",
     "output_type": "stream",
     "text": [
      "Accuracy Score of the Deep Learning Model: 0.9486970684039088\n",
      "Recall Score of the Deep Learning Model: 0.09615384615384616\n",
      "Specifity Score of the Deep Learning Model: 0.07692307692307693\n",
      "Balanced Accuracy Score of the Multiple Perceptron Model: 0.5412742019884877\n",
      "Precision Score of the Deep Learning Model: 0.23809523809523808\n",
      "F1 Score Score of the Deep Learning Model: 0.136986301369863\n",
      "Loss of the Deep Learning Model: 0.31454071402549744\n"
     ]
    },
    {
     "data": {
      "text/html": [
       "<div>\n",
       "<style scoped>\n",
       "    .dataframe tbody tr th:only-of-type {\n",
       "        vertical-align: middle;\n",
       "    }\n",
       "\n",
       "    .dataframe tbody tr th {\n",
       "        vertical-align: top;\n",
       "    }\n",
       "\n",
       "    .dataframe thead th {\n",
       "        text-align: right;\n",
       "    }\n",
       "</style>\n",
       "<table border=\"1\" class=\"dataframe\">\n",
       "  <thead>\n",
       "    <tr style=\"text-align: right;\">\n",
       "      <th></th>\n",
       "      <th>Model Type</th>\n",
       "      <th>Accuracy</th>\n",
       "      <th>Recall</th>\n",
       "      <th>Specificity</th>\n",
       "      <th>Balanced Accuracy</th>\n",
       "      <th>Precision</th>\n",
       "      <th>F1 Score</th>\n",
       "      <th>Loss</th>\n",
       "    </tr>\n",
       "  </thead>\n",
       "  <tbody>\n",
       "    <tr>\n",
       "      <th>0</th>\n",
       "      <td>Deep Learning</td>\n",
       "      <td>0.948697</td>\n",
       "      <td>0.096154</td>\n",
       "      <td>0.076923</td>\n",
       "      <td>0.541274</td>\n",
       "      <td>0.238095</td>\n",
       "      <td>0.136986</td>\n",
       "      <td>0.314541</td>\n",
       "    </tr>\n",
       "  </tbody>\n",
       "</table>\n",
       "</div>"
      ],
      "text/plain": [
       "      Model Type  Accuracy    Recall  Specificity  Balanced Accuracy  \\\n",
       "0  Deep Learning  0.948697  0.096154     0.076923           0.541274   \n",
       "\n",
       "   Precision  F1 Score      Loss  \n",
       "0   0.238095  0.136986  0.314541  "
      ]
     },
     "execution_count": 193,
     "metadata": {},
     "output_type": "execute_result"
    }
   ],
   "source": [
    "# Advanced Classification Metrics\n",
    "# Accuracy\n",
    "dl_accuracy_score = accuracy_score(y_test, y_pred_dl_tf)\n",
    "print(f'Accuracy Score of the Deep Learning Model: {dl_accuracy_score}')\n",
    "\n",
    "## Recall/Sensitivity\n",
    "dl_recall_score = recall_score(y_test, y_pred_dl_tf)\n",
    "print(f'Recall Score of the Deep Learning Model: {dl_recall_score}')\n",
    "\n",
    "# Specificity\n",
    "dl_specificity_score = 4 / (4+48)\n",
    "print(f'Specifity Score of the Deep Learning Model: {dl_specificity_score}')\n",
    "\n",
    "# Balanced Accuracy Score\n",
    "dl_bas = balanced_accuracy_score(y_test, y_pred_dl_tf)\n",
    "print(f'Balanced Accuracy Score of the Multiple Perceptron Model: {dl_bas}')\n",
    "\n",
    "# Precision\n",
    "dl_precision_score = precision_score(y_test, y_pred_dl_tf)\n",
    "print(f'Precision Score of the Deep Learning Model: {dl_precision_score}')     \n",
    "      \n",
    "# F1 Score\n",
    "dl_f1_score = f1_score(y_test, y_pred_dl_tf)\n",
    "print(f'F1 Score Score of the Deep Learning Model: {dl_f1_score}')\n",
    "\n",
    "# Loss Score\n",
    "print(f'Loss of the Deep Learning Model: {dl_model_loss}')\n",
    "\n",
    "# Advanced Classification Metrics DF\n",
    "dl_acm = {\"Model Type\": [\"Deep Learning\"], \"Accuracy\":[dl_accuracy_score], \"Recall\": [dl_recall_score], \"Specificity\":[dl_specificity_score], \n",
    "          \"Balanced Accuracy\": [dl_bas], \"Precision\":[dl_precision_score], \"F1 Score\":[dl_f1_score], \"Loss\": [dl_model_loss]}\n",
    "dl_acm_df = pd.DataFrame(data=dl_acm)\n",
    "dl_acm_df"
   ]
  },
  {
   "cell_type": "markdown",
   "id": "2a58640b",
   "metadata": {},
   "source": [
    "## Comparison of the Models"
   ]
  },
  {
   "cell_type": "code",
   "execution_count": 194,
   "id": "7002dc78",
   "metadata": {},
   "outputs": [
    {
     "data": {
      "image/png": "[encoded data removed]",
      "text/plain": [
       "<Figure size 432x288 with 1 Axes>"
      ]
     },
     "metadata": {
      "needs_background": "light"
     },
     "output_type": "display_data"
    },
    {
     "data": {
      "image/png": "[encoded data removed]",
      "text/plain": [
       "<Figure size 432x288 with 1 Axes>"
      ]
     },
     "metadata": {
      "needs_background": "light"
     },
     "output_type": "display_data"
    },
    {
     "data": {
      "image/png": "[encoded data removed]",
      "text/plain": [
       "<Figure size 432x288 with 1 Axes>"
      ]
     },
     "metadata": {
      "needs_background": "light"
     },
     "output_type": "display_data"
    }
   ],
   "source": [
    "nn_history_plot = nn_history_df.plot(title = \"Single Perceptron History\",colormap= \"viridis\")\n",
    "multi_history_plotf = multi_history_df.plot(title = \"Multiple Perceptron History\",colormap= \"viridis\")\n",
    "deep_history_plot = deep_history_df.plot(title = \"Deep Learning History\",colormap= \"viridis\")"
   ]
  },
  {
   "cell_type": "code",
   "execution_count": 195,
   "id": "4c5a63d0",
   "metadata": {},
   "outputs": [
    {
     "data": {
      "text/plain": [
       "<sklearn.metrics._plot.confusion_matrix.ConfusionMatrixDisplay at 0x284714c2408>"
      ]
     },
     "execution_count": 195,
     "metadata": {},
     "output_type": "execute_result"
    },
    {
     "data": {
      "image/png": "[encoded data removed]",
      "text/plain": [
       "<Figure size 432x288 with 2 Axes>"
      ]
     },
     "metadata": {
      "needs_background": "light"
     },
     "output_type": "display_data"
    },
    {
     "data": {
      "image/png": "[encoded data removed]",
      "text/plain": [
       "<Figure size 432x288 with 2 Axes>"
      ]
     },
     "metadata": {
      "needs_background": "light"
     },
     "output_type": "display_data"
    },
    {
     "data": {
      "image/png": "[encoded data removed]",
      "text/plain": [
       "<Figure size 432x288 with 2 Axes>"
      ]
     },
     "metadata": {
      "needs_background": "light"
     },
     "output_type": "display_data"
    }
   ],
   "source": [
    "# Single Perceptron Confusion Matrix\n",
    "nn_disp.plot()\n",
    "nn_disp.ax_.set_title(\"Single Perceptron Confusion Matrix\")\n",
    "\n",
    "# Multiple Perceptron Confusion Matrix\n",
    "multi_disp.plot()\n",
    "multi_disp.ax_.set_title(\"Multiple Perceptron Confusion Matrix\")\n",
    "\n",
    "# Deep Learning Confusion Matrix\n",
    "dl_disp.plot()\n",
    "dl_disp.ax_.set_title(\"Deep Learning Confusion Matrix\")\n",
    "dl_disp"
   ]
  },
  {
   "cell_type": "code",
   "execution_count": 196,
   "id": "ebbe430f",
   "metadata": {
    "scrolled": true
   },
   "outputs": [
    {
     "data": {
      "text/html": [
       "<div>\n",
       "<style scoped>\n",
       "    .dataframe tbody tr th:only-of-type {\n",
       "        vertical-align: middle;\n",
       "    }\n",
       "\n",
       "    .dataframe tbody tr th {\n",
       "        vertical-align: top;\n",
       "    }\n",
       "\n",
       "    .dataframe thead th {\n",
       "        text-align: right;\n",
       "    }\n",
       "</style>\n",
       "<table border=\"1\" class=\"dataframe\">\n",
       "  <thead>\n",
       "    <tr style=\"text-align: right;\">\n",
       "      <th></th>\n",
       "      <th>Model Type</th>\n",
       "      <th>Accuracy</th>\n",
       "      <th>Recall</th>\n",
       "      <th>Specificity</th>\n",
       "      <th>Balanced Accuracy</th>\n",
       "      <th>Precision</th>\n",
       "      <th>F1 Score</th>\n",
       "      <th>Loss</th>\n",
       "    </tr>\n",
       "  </thead>\n",
       "  <tbody>\n",
       "    <tr>\n",
       "      <th>0</th>\n",
       "      <td>Single Perceptron</td>\n",
       "      <td>0.759772</td>\n",
       "      <td>0.730769</td>\n",
       "      <td>0.769231</td>\n",
       "      <td>0.745912</td>\n",
       "      <td>0.119122</td>\n",
       "      <td>0.204852</td>\n",
       "      <td>0.458896</td>\n",
       "    </tr>\n",
       "    <tr>\n",
       "      <th>1</th>\n",
       "      <td>Multi Perceptron</td>\n",
       "      <td>0.801303</td>\n",
       "      <td>0.634615</td>\n",
       "      <td>0.673077</td>\n",
       "      <td>0.721644</td>\n",
       "      <td>0.127907</td>\n",
       "      <td>0.212903</td>\n",
       "      <td>0.407791</td>\n",
       "    </tr>\n",
       "    <tr>\n",
       "      <th>2</th>\n",
       "      <td>Deep Learning</td>\n",
       "      <td>0.948697</td>\n",
       "      <td>0.096154</td>\n",
       "      <td>0.076923</td>\n",
       "      <td>0.541274</td>\n",
       "      <td>0.238095</td>\n",
       "      <td>0.136986</td>\n",
       "      <td>0.314541</td>\n",
       "    </tr>\n",
       "  </tbody>\n",
       "</table>\n",
       "</div>"
      ],
      "text/plain": [
       "          Model Type  Accuracy    Recall  Specificity  Balanced Accuracy  \\\n",
       "0  Single Perceptron  0.759772  0.730769     0.769231           0.745912   \n",
       "1   Multi Perceptron  0.801303  0.634615     0.673077           0.721644   \n",
       "2      Deep Learning  0.948697  0.096154     0.076923           0.541274   \n",
       "\n",
       "   Precision  F1 Score      Loss  \n",
       "0   0.119122  0.204852  0.458896  \n",
       "1   0.127907  0.212903  0.407791  \n",
       "2   0.238095  0.136986  0.314541  "
      ]
     },
     "execution_count": 196,
     "metadata": {},
     "output_type": "execute_result"
    }
   ],
   "source": [
    "# Total Advanced Classification Metrics DF\n",
    "total_acm = ({\"Model Type\": \"Single Perceptron\", \"Accuracy\":nn_accuracy_score, \"Recall\": nn_recall_score, \"Specificity\":nn_specificity_score, \n",
    "          \"Balanced Accuracy\": nn_bas, \"Precision\":nn_precision_score, \"F1 Score\":nn_f1_score, \"Loss\": nn_model_loss }, {\"Model Type\": \"Multi Perceptron\", \"Accuracy\":multi_accuracy_score, \"Recall\": multi_recall_score, \"Specificity\":multi_specificity_score, \n",
    "          \"Balanced Accuracy\": multi_bas, \"Precision\":multi_precision_score, \"F1 Score\":multi_f1_score, \"Loss\": multi_model_loss}, {\"Model Type\": \"Deep Learning\", \"Accuracy\":dl_accuracy_score, \"Recall\": dl_recall_score, \"Specificity\":dl_specificity_score, \n",
    "          \"Balanced Accuracy\": dl_bas, \"Precision\":dl_precision_score, \"F1 Score\":dl_f1_score, \"Loss\": dl_model_loss})\n",
    "total_acm_df = pd.DataFrame(data=total_acm)\n",
    "total_acm_df"
   ]
  },
  {
   "cell_type": "code",
   "execution_count": null,
   "id": "f5983d8e",
   "metadata": {},
   "outputs": [],
   "source": []
  }
 ],
 "metadata": {
  "kernelspec": {
   "display_name": "mlenv",
   "language": "python",
   "name": "mlenv"
  },
  "language_info": {
   "codemirror_mode": {
    "name": "ipython",
    "version": 3
   },
   "file_extension": ".py",
   "mimetype": "text/x-python",
   "name": "python",
   "nbconvert_exporter": "python",
   "pygments_lexer": "ipython3",
   "version": "3.7.11"
  }
 },
 "nbformat": 4,
 "nbformat_minor": 5
}
