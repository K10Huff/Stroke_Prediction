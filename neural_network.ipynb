{
 "cells": [
  {
   "cell_type": "markdown",
   "id": "1611a70b",
   "metadata": {},
   "source": [
    "## Import Libraries and Dependencies"
   ]
  },
  {
   "cell_type": "code",
   "execution_count": 2,
   "id": "c0cf552c",
   "metadata": {},
   "outputs": [],
   "source": [
    "# Import our dependencies\n",
    "from pathlib import Path\n",
    "import numpy as np\n",
    "import pandas as pd\n",
    "\n",
    "from sklearn.preprocessing import StandardScaler, OneHotEncoder\n",
    "from sklearn.model_selection import train_test_split\n",
    "from imblearn.over_sampling import SMOTE, ADASYN\n",
    "from collections import Counter\n",
    "\n",
    "import tensorflow as tf\n",
    "\n",
    "from sklearn.metrics import f1_score, accuracy_score, precision_score, recall_score, balanced_accuracy_score, classification_report, confusion_matrix, ConfusionMatrixDisplay"
   ]
  },
  {
   "cell_type": "code",
   "execution_count": 3,
   "id": "91450368",
   "metadata": {
    "scrolled": false
   },
   "outputs": [
    {
     "name": "stdout",
     "output_type": "stream",
     "text": [
      "(4909, 11)\n"
     ]
    },
    {
     "data": {
      "text/html": [
       "<div>\n",
       "<style scoped>\n",
       "    .dataframe tbody tr th:only-of-type {\n",
       "        vertical-align: middle;\n",
       "    }\n",
       "\n",
       "    .dataframe tbody tr th {\n",
       "        vertical-align: top;\n",
       "    }\n",
       "\n",
       "    .dataframe thead th {\n",
       "        text-align: right;\n",
       "    }\n",
       "</style>\n",
       "<table border=\"1\" class=\"dataframe\">\n",
       "  <thead>\n",
       "    <tr style=\"text-align: right;\">\n",
       "      <th></th>\n",
       "      <th>gender</th>\n",
       "      <th>age</th>\n",
       "      <th>hypertension</th>\n",
       "      <th>heart_disease</th>\n",
       "      <th>ever_married</th>\n",
       "      <th>work_type</th>\n",
       "      <th>Residence_type</th>\n",
       "      <th>avg_glucose_level</th>\n",
       "      <th>bmi</th>\n",
       "      <th>smoking_status</th>\n",
       "      <th>stroke</th>\n",
       "    </tr>\n",
       "    <tr>\n",
       "      <th>id</th>\n",
       "      <th></th>\n",
       "      <th></th>\n",
       "      <th></th>\n",
       "      <th></th>\n",
       "      <th></th>\n",
       "      <th></th>\n",
       "      <th></th>\n",
       "      <th></th>\n",
       "      <th></th>\n",
       "      <th></th>\n",
       "      <th></th>\n",
       "    </tr>\n",
       "  </thead>\n",
       "  <tbody>\n",
       "    <tr>\n",
       "      <th>9046</th>\n",
       "      <td>Male</td>\n",
       "      <td>67.0</td>\n",
       "      <td>0</td>\n",
       "      <td>1</td>\n",
       "      <td>Yes</td>\n",
       "      <td>Private</td>\n",
       "      <td>Urban</td>\n",
       "      <td>228.69</td>\n",
       "      <td>36.6</td>\n",
       "      <td>formerly smoked</td>\n",
       "      <td>1</td>\n",
       "    </tr>\n",
       "    <tr>\n",
       "      <th>31112</th>\n",
       "      <td>Male</td>\n",
       "      <td>80.0</td>\n",
       "      <td>0</td>\n",
       "      <td>1</td>\n",
       "      <td>Yes</td>\n",
       "      <td>Private</td>\n",
       "      <td>Rural</td>\n",
       "      <td>105.92</td>\n",
       "      <td>32.5</td>\n",
       "      <td>never smoked</td>\n",
       "      <td>1</td>\n",
       "    </tr>\n",
       "    <tr>\n",
       "      <th>60182</th>\n",
       "      <td>Female</td>\n",
       "      <td>49.0</td>\n",
       "      <td>0</td>\n",
       "      <td>0</td>\n",
       "      <td>Yes</td>\n",
       "      <td>Private</td>\n",
       "      <td>Urban</td>\n",
       "      <td>171.23</td>\n",
       "      <td>34.4</td>\n",
       "      <td>smokes</td>\n",
       "      <td>1</td>\n",
       "    </tr>\n",
       "    <tr>\n",
       "      <th>1665</th>\n",
       "      <td>Female</td>\n",
       "      <td>79.0</td>\n",
       "      <td>1</td>\n",
       "      <td>0</td>\n",
       "      <td>Yes</td>\n",
       "      <td>Self-employed</td>\n",
       "      <td>Rural</td>\n",
       "      <td>174.12</td>\n",
       "      <td>24.0</td>\n",
       "      <td>never smoked</td>\n",
       "      <td>1</td>\n",
       "    </tr>\n",
       "    <tr>\n",
       "      <th>56669</th>\n",
       "      <td>Male</td>\n",
       "      <td>81.0</td>\n",
       "      <td>0</td>\n",
       "      <td>0</td>\n",
       "      <td>Yes</td>\n",
       "      <td>Private</td>\n",
       "      <td>Urban</td>\n",
       "      <td>186.21</td>\n",
       "      <td>29.0</td>\n",
       "      <td>formerly smoked</td>\n",
       "      <td>1</td>\n",
       "    </tr>\n",
       "    <tr>\n",
       "      <th>...</th>\n",
       "      <td>...</td>\n",
       "      <td>...</td>\n",
       "      <td>...</td>\n",
       "      <td>...</td>\n",
       "      <td>...</td>\n",
       "      <td>...</td>\n",
       "      <td>...</td>\n",
       "      <td>...</td>\n",
       "      <td>...</td>\n",
       "      <td>...</td>\n",
       "      <td>...</td>\n",
       "    </tr>\n",
       "    <tr>\n",
       "      <th>14180</th>\n",
       "      <td>Female</td>\n",
       "      <td>13.0</td>\n",
       "      <td>0</td>\n",
       "      <td>0</td>\n",
       "      <td>No</td>\n",
       "      <td>children</td>\n",
       "      <td>Rural</td>\n",
       "      <td>103.08</td>\n",
       "      <td>18.6</td>\n",
       "      <td>Unknown</td>\n",
       "      <td>0</td>\n",
       "    </tr>\n",
       "    <tr>\n",
       "      <th>44873</th>\n",
       "      <td>Female</td>\n",
       "      <td>81.0</td>\n",
       "      <td>0</td>\n",
       "      <td>0</td>\n",
       "      <td>Yes</td>\n",
       "      <td>Self-employed</td>\n",
       "      <td>Urban</td>\n",
       "      <td>125.20</td>\n",
       "      <td>40.0</td>\n",
       "      <td>never smoked</td>\n",
       "      <td>0</td>\n",
       "    </tr>\n",
       "    <tr>\n",
       "      <th>19723</th>\n",
       "      <td>Female</td>\n",
       "      <td>35.0</td>\n",
       "      <td>0</td>\n",
       "      <td>0</td>\n",
       "      <td>Yes</td>\n",
       "      <td>Self-employed</td>\n",
       "      <td>Rural</td>\n",
       "      <td>82.99</td>\n",
       "      <td>30.6</td>\n",
       "      <td>never smoked</td>\n",
       "      <td>0</td>\n",
       "    </tr>\n",
       "    <tr>\n",
       "      <th>37544</th>\n",
       "      <td>Male</td>\n",
       "      <td>51.0</td>\n",
       "      <td>0</td>\n",
       "      <td>0</td>\n",
       "      <td>Yes</td>\n",
       "      <td>Private</td>\n",
       "      <td>Rural</td>\n",
       "      <td>166.29</td>\n",
       "      <td>25.6</td>\n",
       "      <td>formerly smoked</td>\n",
       "      <td>0</td>\n",
       "    </tr>\n",
       "    <tr>\n",
       "      <th>44679</th>\n",
       "      <td>Female</td>\n",
       "      <td>44.0</td>\n",
       "      <td>0</td>\n",
       "      <td>0</td>\n",
       "      <td>Yes</td>\n",
       "      <td>Govt_job</td>\n",
       "      <td>Urban</td>\n",
       "      <td>85.28</td>\n",
       "      <td>26.2</td>\n",
       "      <td>Unknown</td>\n",
       "      <td>0</td>\n",
       "    </tr>\n",
       "  </tbody>\n",
       "</table>\n",
       "<p>4909 rows × 11 columns</p>\n",
       "</div>"
      ],
      "text/plain": [
       "       gender   age  hypertension  heart_disease ever_married      work_type  \\\n",
       "id                                                                             \n",
       "9046     Male  67.0             0              1          Yes        Private   \n",
       "31112    Male  80.0             0              1          Yes        Private   \n",
       "60182  Female  49.0             0              0          Yes        Private   \n",
       "1665   Female  79.0             1              0          Yes  Self-employed   \n",
       "56669    Male  81.0             0              0          Yes        Private   \n",
       "...       ...   ...           ...            ...          ...            ...   \n",
       "14180  Female  13.0             0              0           No       children   \n",
       "44873  Female  81.0             0              0          Yes  Self-employed   \n",
       "19723  Female  35.0             0              0          Yes  Self-employed   \n",
       "37544    Male  51.0             0              0          Yes        Private   \n",
       "44679  Female  44.0             0              0          Yes       Govt_job   \n",
       "\n",
       "      Residence_type  avg_glucose_level   bmi   smoking_status  stroke  \n",
       "id                                                                      \n",
       "9046           Urban             228.69  36.6  formerly smoked       1  \n",
       "31112          Rural             105.92  32.5     never smoked       1  \n",
       "60182          Urban             171.23  34.4           smokes       1  \n",
       "1665           Rural             174.12  24.0     never smoked       1  \n",
       "56669          Urban             186.21  29.0  formerly smoked       1  \n",
       "...              ...                ...   ...              ...     ...  \n",
       "14180          Rural             103.08  18.6          Unknown       0  \n",
       "44873          Urban             125.20  40.0     never smoked       0  \n",
       "19723          Rural              82.99  30.6     never smoked       0  \n",
       "37544          Rural             166.29  25.6  formerly smoked       0  \n",
       "44679          Urban              85.28  26.2          Unknown       0  \n",
       "\n",
       "[4909 rows x 11 columns]"
      ]
     },
     "execution_count": 3,
     "metadata": {},
     "output_type": "execute_result"
    }
   ],
   "source": [
    "# Load the data\n",
    "file_path = Path(\"resources/processed_stroke_db_w_cat.csv\")\n",
    "df = pd.read_csv(file_path, index_col=[0])\n",
    "print(df.shape)\n",
    "df"
   ]
  },
  {
   "cell_type": "markdown",
   "id": "23309e46",
   "metadata": {},
   "source": [
    "## Process Data"
   ]
  },
  {
   "cell_type": "markdown",
   "id": "f0864b02",
   "metadata": {},
   "source": [
    "### One-hot Encoding for Categotical Data & StandScaler for Numerical Data"
   ]
  },
  {
   "cell_type": "code",
   "execution_count": 4,
   "id": "24b1316b",
   "metadata": {
    "scrolled": true
   },
   "outputs": [
    {
     "name": "stdout",
     "output_type": "stream",
     "text": [
      "['gender', 'ever_married', 'work_type', 'Residence_type', 'smoking_status']\n",
      "gender            3\n",
      "ever_married      2\n",
      "work_type         5\n",
      "Residence_type    2\n",
      "smoking_status    4\n",
      "dtype: int64\n"
     ]
    }
   ],
   "source": [
    "# Generate categorical variable list\n",
    "cat_labels= df.dtypes[df.dtypes == \"object\"].index.tolist()\n",
    "print(cat_labels)\n",
    "\n",
    "# Check the number of unique values in each column\n",
    "print(df[cat_labels].nunique())"
   ]
  },
  {
   "cell_type": "code",
   "execution_count": 5,
   "id": "c757f63a",
   "metadata": {},
   "outputs": [
    {
     "name": "stdout",
     "output_type": "stream",
     "text": [
      "(4909, 16)\n"
     ]
    },
    {
     "data": {
      "text/html": [
       "<div>\n",
       "<style scoped>\n",
       "    .dataframe tbody tr th:only-of-type {\n",
       "        vertical-align: middle;\n",
       "    }\n",
       "\n",
       "    .dataframe tbody tr th {\n",
       "        vertical-align: top;\n",
       "    }\n",
       "\n",
       "    .dataframe thead th {\n",
       "        text-align: right;\n",
       "    }\n",
       "</style>\n",
       "<table border=\"1\" class=\"dataframe\">\n",
       "  <thead>\n",
       "    <tr style=\"text-align: right;\">\n",
       "      <th></th>\n",
       "      <th>gender_Female</th>\n",
       "      <th>gender_Male</th>\n",
       "      <th>gender_Other</th>\n",
       "      <th>ever_married_No</th>\n",
       "      <th>ever_married_Yes</th>\n",
       "      <th>work_type_Govt_job</th>\n",
       "      <th>work_type_Never_worked</th>\n",
       "      <th>work_type_Private</th>\n",
       "      <th>work_type_Self-employed</th>\n",
       "      <th>work_type_children</th>\n",
       "      <th>Residence_type_Rural</th>\n",
       "      <th>Residence_type_Urban</th>\n",
       "      <th>smoking_status_Unknown</th>\n",
       "      <th>smoking_status_formerly smoked</th>\n",
       "      <th>smoking_status_never smoked</th>\n",
       "      <th>smoking_status_smokes</th>\n",
       "    </tr>\n",
       "    <tr>\n",
       "      <th>id</th>\n",
       "      <th></th>\n",
       "      <th></th>\n",
       "      <th></th>\n",
       "      <th></th>\n",
       "      <th></th>\n",
       "      <th></th>\n",
       "      <th></th>\n",
       "      <th></th>\n",
       "      <th></th>\n",
       "      <th></th>\n",
       "      <th></th>\n",
       "      <th></th>\n",
       "      <th></th>\n",
       "      <th></th>\n",
       "      <th></th>\n",
       "      <th></th>\n",
       "    </tr>\n",
       "  </thead>\n",
       "  <tbody>\n",
       "    <tr>\n",
       "      <th>9046</th>\n",
       "      <td>0.0</td>\n",
       "      <td>1.0</td>\n",
       "      <td>0.0</td>\n",
       "      <td>0.0</td>\n",
       "      <td>1.0</td>\n",
       "      <td>0.0</td>\n",
       "      <td>0.0</td>\n",
       "      <td>1.0</td>\n",
       "      <td>0.0</td>\n",
       "      <td>0.0</td>\n",
       "      <td>0.0</td>\n",
       "      <td>1.0</td>\n",
       "      <td>0.0</td>\n",
       "      <td>1.0</td>\n",
       "      <td>0.0</td>\n",
       "      <td>0.0</td>\n",
       "    </tr>\n",
       "    <tr>\n",
       "      <th>31112</th>\n",
       "      <td>0.0</td>\n",
       "      <td>1.0</td>\n",
       "      <td>0.0</td>\n",
       "      <td>0.0</td>\n",
       "      <td>1.0</td>\n",
       "      <td>0.0</td>\n",
       "      <td>0.0</td>\n",
       "      <td>1.0</td>\n",
       "      <td>0.0</td>\n",
       "      <td>0.0</td>\n",
       "      <td>1.0</td>\n",
       "      <td>0.0</td>\n",
       "      <td>0.0</td>\n",
       "      <td>0.0</td>\n",
       "      <td>1.0</td>\n",
       "      <td>0.0</td>\n",
       "    </tr>\n",
       "    <tr>\n",
       "      <th>60182</th>\n",
       "      <td>1.0</td>\n",
       "      <td>0.0</td>\n",
       "      <td>0.0</td>\n",
       "      <td>0.0</td>\n",
       "      <td>1.0</td>\n",
       "      <td>0.0</td>\n",
       "      <td>0.0</td>\n",
       "      <td>1.0</td>\n",
       "      <td>0.0</td>\n",
       "      <td>0.0</td>\n",
       "      <td>0.0</td>\n",
       "      <td>1.0</td>\n",
       "      <td>0.0</td>\n",
       "      <td>0.0</td>\n",
       "      <td>0.0</td>\n",
       "      <td>1.0</td>\n",
       "    </tr>\n",
       "    <tr>\n",
       "      <th>1665</th>\n",
       "      <td>1.0</td>\n",
       "      <td>0.0</td>\n",
       "      <td>0.0</td>\n",
       "      <td>0.0</td>\n",
       "      <td>1.0</td>\n",
       "      <td>0.0</td>\n",
       "      <td>0.0</td>\n",
       "      <td>0.0</td>\n",
       "      <td>1.0</td>\n",
       "      <td>0.0</td>\n",
       "      <td>1.0</td>\n",
       "      <td>0.0</td>\n",
       "      <td>0.0</td>\n",
       "      <td>0.0</td>\n",
       "      <td>1.0</td>\n",
       "      <td>0.0</td>\n",
       "    </tr>\n",
       "    <tr>\n",
       "      <th>56669</th>\n",
       "      <td>0.0</td>\n",
       "      <td>1.0</td>\n",
       "      <td>0.0</td>\n",
       "      <td>0.0</td>\n",
       "      <td>1.0</td>\n",
       "      <td>0.0</td>\n",
       "      <td>0.0</td>\n",
       "      <td>1.0</td>\n",
       "      <td>0.0</td>\n",
       "      <td>0.0</td>\n",
       "      <td>0.0</td>\n",
       "      <td>1.0</td>\n",
       "      <td>0.0</td>\n",
       "      <td>1.0</td>\n",
       "      <td>0.0</td>\n",
       "      <td>0.0</td>\n",
       "    </tr>\n",
       "  </tbody>\n",
       "</table>\n",
       "</div>"
      ],
      "text/plain": [
       "       gender_Female  gender_Male  gender_Other  ever_married_No  \\\n",
       "id                                                                 \n",
       "9046             0.0          1.0           0.0              0.0   \n",
       "31112            0.0          1.0           0.0              0.0   \n",
       "60182            1.0          0.0           0.0              0.0   \n",
       "1665             1.0          0.0           0.0              0.0   \n",
       "56669            0.0          1.0           0.0              0.0   \n",
       "\n",
       "       ever_married_Yes  work_type_Govt_job  work_type_Never_worked  \\\n",
       "id                                                                    \n",
       "9046                1.0                 0.0                     0.0   \n",
       "31112               1.0                 0.0                     0.0   \n",
       "60182               1.0                 0.0                     0.0   \n",
       "1665                1.0                 0.0                     0.0   \n",
       "56669               1.0                 0.0                     0.0   \n",
       "\n",
       "       work_type_Private  work_type_Self-employed  work_type_children  \\\n",
       "id                                                                      \n",
       "9046                 1.0                      0.0                 0.0   \n",
       "31112                1.0                      0.0                 0.0   \n",
       "60182                1.0                      0.0                 0.0   \n",
       "1665                 0.0                      1.0                 0.0   \n",
       "56669                1.0                      0.0                 0.0   \n",
       "\n",
       "       Residence_type_Rural  Residence_type_Urban  smoking_status_Unknown  \\\n",
       "id                                                                          \n",
       "9046                    0.0                   1.0                     0.0   \n",
       "31112                   1.0                   0.0                     0.0   \n",
       "60182                   0.0                   1.0                     0.0   \n",
       "1665                    1.0                   0.0                     0.0   \n",
       "56669                   0.0                   1.0                     0.0   \n",
       "\n",
       "       smoking_status_formerly smoked  smoking_status_never smoked  \\\n",
       "id                                                                   \n",
       "9046                              1.0                          0.0   \n",
       "31112                             0.0                          1.0   \n",
       "60182                             0.0                          0.0   \n",
       "1665                              0.0                          1.0   \n",
       "56669                             1.0                          0.0   \n",
       "\n",
       "       smoking_status_smokes  \n",
       "id                            \n",
       "9046                     0.0  \n",
       "31112                    0.0  \n",
       "60182                    1.0  \n",
       "1665                     0.0  \n",
       "56669                    0.0  "
      ]
     },
     "execution_count": 5,
     "metadata": {},
     "output_type": "execute_result"
    }
   ],
   "source": [
    "# Create the OneHotEncoder instance\n",
    "enc = OneHotEncoder(sparse=False)\n",
    "\n",
    "# Fit and transform the OneHotEncoder using the categorical variable list\n",
    "encode_df = pd.DataFrame(enc.fit_transform(df[cat_labels]))\n",
    "\n",
    "encode_df.index = df.index\n",
    "\n",
    "# Add the encoded variable names to the DataFrame\n",
    "encode_df.columns = enc.get_feature_names(cat_labels)\n",
    "print(encode_df.shape)\n",
    "encode_df.head()"
   ]
  },
  {
   "cell_type": "code",
   "execution_count": 6,
   "id": "350453ea",
   "metadata": {},
   "outputs": [
    {
     "name": "stderr",
     "output_type": "stream",
     "text": [
      "C:\\Users\\Kristen\\anaconda3\\envs\\mlenv\\lib\\site-packages\\ipykernel_launcher.py:3: FutureWarning: In a future version of pandas all arguments of DataFrame.drop except for the argument 'labels' will be keyword-only\n",
      "  This is separate from the ipykernel package so we can avoid doing imports until\n"
     ]
    },
    {
     "data": {
      "text/plain": [
       "(4909, 22)"
      ]
     },
     "execution_count": 6,
     "metadata": {},
     "output_type": "execute_result"
    }
   ],
   "source": [
    "# Merge one-hot encoded features and drop the originals\n",
    "df = df.merge(encode_df,left_index=True, right_index=True)\n",
    "df = df.drop(cat_labels,1)\n",
    "df.shape"
   ]
  },
  {
   "cell_type": "markdown",
   "id": "97d0be78",
   "metadata": {},
   "source": [
    "### Split, Oversample, Resample Data"
   ]
  },
  {
   "cell_type": "code",
   "execution_count": 7,
   "id": "2d4c2e85",
   "metadata": {
    "scrolled": true
   },
   "outputs": [
    {
     "name": "stderr",
     "output_type": "stream",
     "text": [
      "C:\\Users\\Kristen\\anaconda3\\envs\\mlenv\\lib\\site-packages\\ipykernel_launcher.py:3: FutureWarning: In a future version of pandas all arguments of DataFrame.drop except for the argument 'labels' will be keyword-only\n",
      "  This is separate from the ipykernel package so we can avoid doing imports until\n"
     ]
    }
   ],
   "source": [
    "# Split the preprocessed data into the features and target arrays\n",
    "y = df[\"stroke\"].values\n",
    "X = df.drop([\"stroke\"],1).values"
   ]
  },
  {
   "cell_type": "code",
   "execution_count": 8,
   "id": "e61bb187",
   "metadata": {},
   "outputs": [],
   "source": [
    "# Split the preprocessed data into a training and testing dataset\n",
    "X_train, X_test, y_train, y_test = train_test_split(X, y, random_state=12, stratify=y)"
   ]
  },
  {
   "cell_type": "code",
   "execution_count": 9,
   "id": "ec3ec7fb",
   "metadata": {},
   "outputs": [
    {
     "data": {
      "text/plain": [
       "(3681, 21)"
      ]
     },
     "execution_count": 9,
     "metadata": {},
     "output_type": "execute_result"
    }
   ],
   "source": [
    "# Create the StandardScaler instance\n",
    "scaler = StandardScaler()\n",
    "\n",
    "# Fit the StandardScaler\n",
    "X_scaler = scaler.fit(X_train)\n",
    "\n",
    "# Scale the data\n",
    "X_train_scaled = X_scaler.transform(X_train)\n",
    "X_test_scaled = X_scaler.transform(X_test)\n",
    "X_train_scaled.shape"
   ]
  },
  {
   "cell_type": "code",
   "execution_count": 10,
   "id": "01248a5b",
   "metadata": {},
   "outputs": [
    {
     "data": {
      "text/plain": [
       "Counter({0: 3524, 1: 3542})"
      ]
     },
     "execution_count": 10,
     "metadata": {},
     "output_type": "execute_result"
    }
   ],
   "source": [
    "# Apply sampling technique to balance the minority class\n",
    "\n",
    "# Option One: Resample the training data with SMOTE- Instantiate the model\n",
    "# smote = SMOTE(random_state=1)\n",
    "\n",
    "\n",
    "# Option Two: Resample the training data with ADASYN- Instantiate the model\n",
    "smote = ADASYN(random_state=1)\n",
    "\n",
    "\n",
    "# Resample the targets\n",
    "X_resampled, y_resampled = smote.fit_resample(X_train_scaled, y_train)\n",
    "Counter(y_resampled)"
   ]
  },
  {
   "cell_type": "markdown",
   "id": "57b08d8f",
   "metadata": {},
   "source": [
    "## Single Perceptron Model"
   ]
  },
  {
   "cell_type": "markdown",
   "id": "732cf3c4",
   "metadata": {},
   "source": [
    "### Train, Fit, Evaluate, Predict Model"
   ]
  },
  {
   "cell_type": "code",
   "execution_count": 11,
   "id": "5d2f3c7a",
   "metadata": {
    "scrolled": true
   },
   "outputs": [
    {
     "name": "stdout",
     "output_type": "stream",
     "text": [
      "Model: \"sequential\"\n",
      "_________________________________________________________________\n",
      " Layer (type)                Output Shape              Param #   \n",
      "=================================================================\n",
      " dense (Dense)               (None, 1)                 22        \n",
      "                                                                 \n",
      " dense_1 (Dense)             (None, 1)                 2         \n",
      "                                                                 \n",
      "=================================================================\n",
      "Total params: 24\n",
      "Trainable params: 24\n",
      "Non-trainable params: 0\n",
      "_________________________________________________________________\n"
     ]
    }
   ],
   "source": [
    "# Create the Keras Sequential model\n",
    "nn_model = tf.keras.models.Sequential()\n",
    "\n",
    "# Add our first Dense layer, including the input layer\n",
    "nn_model.add(tf.keras.layers.Dense(units=1, activation=\"relu\", input_dim=21))\n",
    "\n",
    "# Add the output layer that uses a probability activation function\n",
    "nn_model.add(tf.keras.layers.Dense(units=1, activation=\"sigmoid\"))\n",
    "\n",
    "# Check the structure of the Sequential model\n",
    "nn_model.summary()"
   ]
  },
  {
   "cell_type": "code",
   "execution_count": 12,
   "id": "c26f2a30",
   "metadata": {},
   "outputs": [],
   "source": [
    "# Compile the Sequential model together and customize metrics\n",
    "nn_model.compile(loss=\"binary_crossentropy\", optimizer=\"adam\", metrics=[\"accuracy\"])"
   ]
  },
  {
   "cell_type": "code",
   "execution_count": 13,
   "id": "363453f8",
   "metadata": {
    "scrolled": true
   },
   "outputs": [
    {
     "name": "stdout",
     "output_type": "stream",
     "text": [
      "Epoch 1/100\n",
      "221/221 [==============================] - 1s 3ms/step - loss: 0.7125 - accuracy: 0.5521 - val_loss: 0.7738 - val_accuracy: 0.6238\n",
      "Epoch 2/100\n",
      "221/221 [==============================] - 0s 2ms/step - loss: 0.6624 - accuracy: 0.6465 - val_loss: 0.7282 - val_accuracy: 0.6653\n",
      "Epoch 3/100\n",
      "221/221 [==============================] - 0s 2ms/step - loss: 0.6196 - accuracy: 0.7157 - val_loss: 0.7019 - val_accuracy: 0.6743\n",
      "Epoch 4/100\n",
      "221/221 [==============================] - 0s 2ms/step - loss: 0.5883 - accuracy: 0.7413 - val_loss: 0.6731 - val_accuracy: 0.7020\n",
      "Epoch 5/100\n",
      "221/221 [==============================] - 0s 2ms/step - loss: 0.5648 - accuracy: 0.7569 - val_loss: 0.6510 - val_accuracy: 0.7101\n",
      "Epoch 6/100\n",
      "221/221 [==============================] - 0s 2ms/step - loss: 0.5475 - accuracy: 0.7689 - val_loss: 0.6386 - val_accuracy: 0.7134\n",
      "Epoch 7/100\n",
      "221/221 [==============================] - 0s 2ms/step - loss: 0.5337 - accuracy: 0.7736 - val_loss: 0.6010 - val_accuracy: 0.7419\n",
      "Epoch 8/100\n",
      "221/221 [==============================] - 0s 2ms/step - loss: 0.5222 - accuracy: 0.7770 - val_loss: 0.5695 - val_accuracy: 0.7549\n",
      "Epoch 9/100\n",
      "221/221 [==============================] - 0s 2ms/step - loss: 0.5132 - accuracy: 0.7822 - val_loss: 0.5681 - val_accuracy: 0.7508\n",
      "Epoch 10/100\n",
      "221/221 [==============================] - 0s 2ms/step - loss: 0.5057 - accuracy: 0.7839 - val_loss: 0.5627 - val_accuracy: 0.7459\n",
      "Epoch 11/100\n",
      "221/221 [==============================] - 0s 2ms/step - loss: 0.4994 - accuracy: 0.7849 - val_loss: 0.5489 - val_accuracy: 0.7459\n",
      "Epoch 12/100\n",
      "221/221 [==============================] - 0s 2ms/step - loss: 0.4945 - accuracy: 0.7859 - val_loss: 0.5271 - val_accuracy: 0.7541\n",
      "Epoch 13/100\n",
      "221/221 [==============================] - 0s 2ms/step - loss: 0.4903 - accuracy: 0.7864 - val_loss: 0.5172 - val_accuracy: 0.7557\n",
      "Epoch 14/100\n",
      "221/221 [==============================] - 0s 2ms/step - loss: 0.4870 - accuracy: 0.7880 - val_loss: 0.5116 - val_accuracy: 0.7590\n",
      "Epoch 15/100\n",
      "221/221 [==============================] - 0s 2ms/step - loss: 0.4842 - accuracy: 0.7879 - val_loss: 0.5189 - val_accuracy: 0.7573\n",
      "Epoch 16/100\n",
      "221/221 [==============================] - 0s 2ms/step - loss: 0.4819 - accuracy: 0.7863 - val_loss: 0.5155 - val_accuracy: 0.7557\n",
      "Epoch 17/100\n",
      "221/221 [==============================] - 0s 2ms/step - loss: 0.4800 - accuracy: 0.7874 - val_loss: 0.5083 - val_accuracy: 0.7590\n",
      "Epoch 18/100\n",
      "221/221 [==============================] - 0s 2ms/step - loss: 0.4782 - accuracy: 0.7880 - val_loss: 0.5037 - val_accuracy: 0.7590\n",
      "Epoch 19/100\n",
      "221/221 [==============================] - 0s 2ms/step - loss: 0.4768 - accuracy: 0.7881 - val_loss: 0.4935 - val_accuracy: 0.7606\n",
      "Epoch 20/100\n",
      "221/221 [==============================] - 0s 2ms/step - loss: 0.4754 - accuracy: 0.7874 - val_loss: 0.5045 - val_accuracy: 0.7573\n",
      "Epoch 21/100\n",
      "221/221 [==============================] - 0s 2ms/step - loss: 0.4744 - accuracy: 0.7869 - val_loss: 0.4999 - val_accuracy: 0.7565\n",
      "Epoch 22/100\n",
      "221/221 [==============================] - 0s 2ms/step - loss: 0.4734 - accuracy: 0.7857 - val_loss: 0.5000 - val_accuracy: 0.7573\n",
      "Epoch 23/100\n",
      "221/221 [==============================] - 0s 2ms/step - loss: 0.4728 - accuracy: 0.7869 - val_loss: 0.4867 - val_accuracy: 0.7598\n",
      "Epoch 24/100\n",
      "221/221 [==============================] - 0s 2ms/step - loss: 0.4721 - accuracy: 0.7871 - val_loss: 0.4898 - val_accuracy: 0.7590\n",
      "Epoch 25/100\n",
      "221/221 [==============================] - 0s 2ms/step - loss: 0.4714 - accuracy: 0.7880 - val_loss: 0.4790 - val_accuracy: 0.7606\n",
      "Epoch 26/100\n",
      "221/221 [==============================] - 0s 2ms/step - loss: 0.4706 - accuracy: 0.7860 - val_loss: 0.4983 - val_accuracy: 0.7565\n",
      "Epoch 27/100\n",
      "221/221 [==============================] - 0s 2ms/step - loss: 0.4702 - accuracy: 0.7884 - val_loss: 0.4738 - val_accuracy: 0.7614\n",
      "Epoch 28/100\n",
      "221/221 [==============================] - 0s 2ms/step - loss: 0.4698 - accuracy: 0.7860 - val_loss: 0.4791 - val_accuracy: 0.7598\n",
      "Epoch 29/100\n",
      "221/221 [==============================] - 0s 2ms/step - loss: 0.4693 - accuracy: 0.7859 - val_loss: 0.4750 - val_accuracy: 0.7606\n",
      "Epoch 30/100\n",
      "221/221 [==============================] - 0s 1ms/step - loss: 0.4689 - accuracy: 0.7866 - val_loss: 0.4737 - val_accuracy: 0.7614\n",
      "Epoch 31/100\n",
      "221/221 [==============================] - 0s 1ms/step - loss: 0.4685 - accuracy: 0.7867 - val_loss: 0.4723 - val_accuracy: 0.7606\n",
      "Epoch 32/100\n",
      "221/221 [==============================] - 0s 2ms/step - loss: 0.4683 - accuracy: 0.7852 - val_loss: 0.4878 - val_accuracy: 0.7573\n",
      "Epoch 33/100\n",
      "221/221 [==============================] - 0s 2ms/step - loss: 0.4681 - accuracy: 0.7859 - val_loss: 0.4820 - val_accuracy: 0.7590\n",
      "Epoch 34/100\n",
      "221/221 [==============================] - 0s 2ms/step - loss: 0.4676 - accuracy: 0.7870 - val_loss: 0.4681 - val_accuracy: 0.7614\n",
      "Epoch 35/100\n",
      "221/221 [==============================] - 0s 2ms/step - loss: 0.4674 - accuracy: 0.7846 - val_loss: 0.4773 - val_accuracy: 0.7598\n",
      "Epoch 36/100\n",
      "221/221 [==============================] - 0s 2ms/step - loss: 0.4672 - accuracy: 0.7846 - val_loss: 0.4829 - val_accuracy: 0.7606\n",
      "Epoch 37/100\n",
      "221/221 [==============================] - 0s 1ms/step - loss: 0.4669 - accuracy: 0.7866 - val_loss: 0.4779 - val_accuracy: 0.7598\n",
      "Epoch 38/100\n",
      "221/221 [==============================] - 0s 2ms/step - loss: 0.4667 - accuracy: 0.7849 - val_loss: 0.4724 - val_accuracy: 0.7606\n",
      "Epoch 39/100\n",
      "221/221 [==============================] - 0s 2ms/step - loss: 0.4666 - accuracy: 0.7856 - val_loss: 0.4747 - val_accuracy: 0.7606\n",
      "Epoch 40/100\n",
      "221/221 [==============================] - 0s 1ms/step - loss: 0.4663 - accuracy: 0.7855 - val_loss: 0.4694 - val_accuracy: 0.7614\n",
      "Epoch 41/100\n",
      "221/221 [==============================] - 0s 2ms/step - loss: 0.4662 - accuracy: 0.7849 - val_loss: 0.4779 - val_accuracy: 0.7581\n",
      "Epoch 42/100\n",
      "221/221 [==============================] - 0s 2ms/step - loss: 0.4659 - accuracy: 0.7870 - val_loss: 0.4667 - val_accuracy: 0.7614\n",
      "Epoch 43/100\n",
      "221/221 [==============================] - 0s 2ms/step - loss: 0.4659 - accuracy: 0.7859 - val_loss: 0.4638 - val_accuracy: 0.7622\n",
      "Epoch 44/100\n",
      "221/221 [==============================] - 0s 2ms/step - loss: 0.4659 - accuracy: 0.7870 - val_loss: 0.4663 - val_accuracy: 0.7614\n",
      "Epoch 45/100\n",
      "221/221 [==============================] - 0s 2ms/step - loss: 0.4656 - accuracy: 0.7835 - val_loss: 0.4593 - val_accuracy: 0.7614\n",
      "Epoch 46/100\n",
      "221/221 [==============================] - 0s 2ms/step - loss: 0.4655 - accuracy: 0.7864 - val_loss: 0.4583 - val_accuracy: 0.7630\n",
      "Epoch 47/100\n",
      "221/221 [==============================] - 0s 2ms/step - loss: 0.4653 - accuracy: 0.7857 - val_loss: 0.4730 - val_accuracy: 0.7606\n",
      "Epoch 48/100\n",
      "221/221 [==============================] - 0s 2ms/step - loss: 0.4651 - accuracy: 0.7856 - val_loss: 0.4635 - val_accuracy: 0.7614\n",
      "Epoch 49/100\n",
      "221/221 [==============================] - 0s 2ms/step - loss: 0.4651 - accuracy: 0.7859 - val_loss: 0.4615 - val_accuracy: 0.7622\n",
      "Epoch 50/100\n",
      "221/221 [==============================] - 0s 1ms/step - loss: 0.4651 - accuracy: 0.7845 - val_loss: 0.4736 - val_accuracy: 0.7598\n",
      "Epoch 51/100\n",
      "221/221 [==============================] - 0s 1ms/step - loss: 0.4649 - accuracy: 0.7853 - val_loss: 0.4629 - val_accuracy: 0.7622\n",
      "Epoch 52/100\n",
      "221/221 [==============================] - 0s 2ms/step - loss: 0.4647 - accuracy: 0.7862 - val_loss: 0.4604 - val_accuracy: 0.7647\n",
      "Epoch 53/100\n",
      "221/221 [==============================] - 0s 2ms/step - loss: 0.4648 - accuracy: 0.7840 - val_loss: 0.4677 - val_accuracy: 0.7598\n",
      "Epoch 54/100\n",
      "221/221 [==============================] - 0s 2ms/step - loss: 0.4646 - accuracy: 0.7849 - val_loss: 0.4689 - val_accuracy: 0.7606\n",
      "Epoch 55/100\n",
      "221/221 [==============================] - 0s 2ms/step - loss: 0.4644 - accuracy: 0.7863 - val_loss: 0.4584 - val_accuracy: 0.7647\n",
      "Epoch 56/100\n",
      "221/221 [==============================] - 0s 2ms/step - loss: 0.4647 - accuracy: 0.7857 - val_loss: 0.4653 - val_accuracy: 0.7606\n",
      "Epoch 57/100\n",
      "221/221 [==============================] - 0s 2ms/step - loss: 0.4643 - accuracy: 0.7855 - val_loss: 0.4645 - val_accuracy: 0.7590\n"
     ]
    },
    {
     "name": "stdout",
     "output_type": "stream",
     "text": [
      "Epoch 58/100\n",
      "221/221 [==============================] - 1s 2ms/step - loss: 0.4643 - accuracy: 0.7853 - val_loss: 0.4628 - val_accuracy: 0.7606\n",
      "Epoch 59/100\n",
      "221/221 [==============================] - 0s 2ms/step - loss: 0.4642 - accuracy: 0.7846 - val_loss: 0.4635 - val_accuracy: 0.7614\n",
      "Epoch 60/100\n",
      "221/221 [==============================] - 0s 2ms/step - loss: 0.4642 - accuracy: 0.7857 - val_loss: 0.4637 - val_accuracy: 0.7606\n",
      "Epoch 61/100\n",
      "221/221 [==============================] - 0s 2ms/step - loss: 0.4642 - accuracy: 0.7855 - val_loss: 0.4628 - val_accuracy: 0.7606\n",
      "Epoch 62/100\n",
      "221/221 [==============================] - 0s 2ms/step - loss: 0.4642 - accuracy: 0.7845 - val_loss: 0.4626 - val_accuracy: 0.7598\n",
      "Epoch 63/100\n",
      "221/221 [==============================] - 0s 2ms/step - loss: 0.4640 - accuracy: 0.7850 - val_loss: 0.4734 - val_accuracy: 0.7606\n",
      "Epoch 64/100\n",
      "221/221 [==============================] - 0s 2ms/step - loss: 0.4639 - accuracy: 0.7859 - val_loss: 0.4778 - val_accuracy: 0.7590\n",
      "Epoch 65/100\n",
      "221/221 [==============================] - 0s 2ms/step - loss: 0.4639 - accuracy: 0.7832 - val_loss: 0.4754 - val_accuracy: 0.7598\n",
      "Epoch 66/100\n",
      "221/221 [==============================] - 0s 2ms/step - loss: 0.4638 - accuracy: 0.7867 - val_loss: 0.4755 - val_accuracy: 0.7598\n",
      "Epoch 67/100\n",
      "221/221 [==============================] - 1s 2ms/step - loss: 0.4640 - accuracy: 0.7864 - val_loss: 0.4569 - val_accuracy: 0.7630\n",
      "Epoch 68/100\n",
      "221/221 [==============================] - 0s 2ms/step - loss: 0.4636 - accuracy: 0.7869 - val_loss: 0.4513 - val_accuracy: 0.7655\n",
      "Epoch 69/100\n",
      "221/221 [==============================] - 0s 2ms/step - loss: 0.4636 - accuracy: 0.7856 - val_loss: 0.4513 - val_accuracy: 0.7630\n",
      "Epoch 70/100\n",
      "221/221 [==============================] - 0s 2ms/step - loss: 0.4638 - accuracy: 0.7838 - val_loss: 0.4573 - val_accuracy: 0.7614\n",
      "Epoch 71/100\n",
      "221/221 [==============================] - 1s 2ms/step - loss: 0.4634 - accuracy: 0.7853 - val_loss: 0.4791 - val_accuracy: 0.7581\n",
      "Epoch 72/100\n",
      "221/221 [==============================] - 0s 2ms/step - loss: 0.4635 - accuracy: 0.7852 - val_loss: 0.4635 - val_accuracy: 0.7590\n",
      "Epoch 73/100\n",
      "221/221 [==============================] - 1s 2ms/step - loss: 0.4637 - accuracy: 0.7867 - val_loss: 0.4647 - val_accuracy: 0.7606\n",
      "Epoch 74/100\n",
      "221/221 [==============================] - 0s 2ms/step - loss: 0.4634 - accuracy: 0.7850 - val_loss: 0.4659 - val_accuracy: 0.7606\n",
      "Epoch 75/100\n",
      "221/221 [==============================] - 0s 2ms/step - loss: 0.4634 - accuracy: 0.7836 - val_loss: 0.4664 - val_accuracy: 0.7606\n",
      "Epoch 76/100\n",
      "221/221 [==============================] - 0s 2ms/step - loss: 0.4634 - accuracy: 0.7838 - val_loss: 0.4625 - val_accuracy: 0.7614\n",
      "Epoch 77/100\n",
      "221/221 [==============================] - 0s 2ms/step - loss: 0.4633 - accuracy: 0.7870 - val_loss: 0.4586 - val_accuracy: 0.7614\n",
      "Epoch 78/100\n",
      "221/221 [==============================] - 0s 2ms/step - loss: 0.4633 - accuracy: 0.7840 - val_loss: 0.4600 - val_accuracy: 0.7622\n",
      "Epoch 79/100\n",
      "221/221 [==============================] - 0s 2ms/step - loss: 0.4633 - accuracy: 0.7838 - val_loss: 0.4665 - val_accuracy: 0.7606\n",
      "Epoch 80/100\n",
      "221/221 [==============================] - 0s 2ms/step - loss: 0.4632 - accuracy: 0.7852 - val_loss: 0.4656 - val_accuracy: 0.7598\n",
      "Epoch 81/100\n",
      "221/221 [==============================] - 0s 2ms/step - loss: 0.4633 - accuracy: 0.7869 - val_loss: 0.4632 - val_accuracy: 0.7598\n",
      "Epoch 82/100\n",
      "221/221 [==============================] - 0s 2ms/step - loss: 0.4631 - accuracy: 0.7853 - val_loss: 0.4695 - val_accuracy: 0.7606\n",
      "Epoch 83/100\n",
      "221/221 [==============================] - 0s 2ms/step - loss: 0.4631 - accuracy: 0.7869 - val_loss: 0.4614 - val_accuracy: 0.7614\n",
      "Epoch 84/100\n",
      "221/221 [==============================] - 0s 2ms/step - loss: 0.4630 - accuracy: 0.7866 - val_loss: 0.4647 - val_accuracy: 0.7606\n",
      "Epoch 85/100\n",
      "221/221 [==============================] - 0s 2ms/step - loss: 0.4631 - accuracy: 0.7849 - val_loss: 0.4553 - val_accuracy: 0.7614\n",
      "Epoch 86/100\n",
      "221/221 [==============================] - 0s 2ms/step - loss: 0.4632 - accuracy: 0.7849 - val_loss: 0.4592 - val_accuracy: 0.7622\n",
      "Epoch 87/100\n",
      "221/221 [==============================] - 1s 2ms/step - loss: 0.4631 - accuracy: 0.7845 - val_loss: 0.4620 - val_accuracy: 0.7622\n",
      "Epoch 88/100\n",
      "221/221 [==============================] - 0s 2ms/step - loss: 0.4630 - accuracy: 0.7843 - val_loss: 0.4611 - val_accuracy: 0.7606\n",
      "Epoch 89/100\n",
      "221/221 [==============================] - 1s 2ms/step - loss: 0.4631 - accuracy: 0.7860 - val_loss: 0.4545 - val_accuracy: 0.7630\n",
      "Epoch 90/100\n",
      "221/221 [==============================] - 0s 2ms/step - loss: 0.4631 - accuracy: 0.7849 - val_loss: 0.4597 - val_accuracy: 0.7614\n",
      "Epoch 91/100\n",
      "221/221 [==============================] - 0s 2ms/step - loss: 0.4631 - accuracy: 0.7842 - val_loss: 0.4702 - val_accuracy: 0.7606\n",
      "Epoch 92/100\n",
      "221/221 [==============================] - 0s 2ms/step - loss: 0.4629 - accuracy: 0.7859 - val_loss: 0.4651 - val_accuracy: 0.7598\n",
      "Epoch 93/100\n",
      "221/221 [==============================] - 0s 2ms/step - loss: 0.4629 - accuracy: 0.7842 - val_loss: 0.4634 - val_accuracy: 0.7606\n",
      "Epoch 94/100\n",
      "221/221 [==============================] - 0s 2ms/step - loss: 0.4629 - accuracy: 0.7866 - val_loss: 0.4691 - val_accuracy: 0.7598\n",
      "Epoch 95/100\n",
      "221/221 [==============================] - 1s 3ms/step - loss: 0.4629 - accuracy: 0.7857 - val_loss: 0.4614 - val_accuracy: 0.7606\n",
      "Epoch 96/100\n",
      "221/221 [==============================] - 1s 3ms/step - loss: 0.4627 - accuracy: 0.7842 - val_loss: 0.4746 - val_accuracy: 0.7581\n",
      "Epoch 97/100\n",
      "221/221 [==============================] - 1s 5ms/step - loss: 0.4629 - accuracy: 0.7859 - val_loss: 0.4610 - val_accuracy: 0.7614\n",
      "Epoch 98/100\n",
      "221/221 [==============================] - 1s 3ms/step - loss: 0.4629 - accuracy: 0.7842 - val_loss: 0.4544 - val_accuracy: 0.7614\n",
      "Epoch 99/100\n",
      "221/221 [==============================] - 1s 2ms/step - loss: 0.4629 - accuracy: 0.7855 - val_loss: 0.4613 - val_accuracy: 0.7606\n",
      "Epoch 100/100\n",
      "221/221 [==============================] - 0s 2ms/step - loss: 0.4626 - accuracy: 0.7852 - val_loss: 0.4708 - val_accuracy: 0.7590\n"
     ]
    }
   ],
   "source": [
    "# Fit the model to the training data\n",
    "fit_model = nn_model.fit(X_resampled, y_resampled, validation_data = (X_test_scaled, y_test), epochs=100)"
   ]
  },
  {
   "cell_type": "code",
   "execution_count": 14,
   "id": "39f6a2f5",
   "metadata": {},
   "outputs": [
    {
     "data": {
      "text/html": [
       "<div>\n",
       "<style scoped>\n",
       "    .dataframe tbody tr th:only-of-type {\n",
       "        vertical-align: middle;\n",
       "    }\n",
       "\n",
       "    .dataframe tbody tr th {\n",
       "        vertical-align: top;\n",
       "    }\n",
       "\n",
       "    .dataframe thead th {\n",
       "        text-align: right;\n",
       "    }\n",
       "</style>\n",
       "<table border=\"1\" class=\"dataframe\">\n",
       "  <thead>\n",
       "    <tr style=\"text-align: right;\">\n",
       "      <th></th>\n",
       "      <th>loss</th>\n",
       "      <th>accuracy</th>\n",
       "      <th>val_loss</th>\n",
       "      <th>val_accuracy</th>\n",
       "    </tr>\n",
       "  </thead>\n",
       "  <tbody>\n",
       "    <tr>\n",
       "      <th>1</th>\n",
       "      <td>0.712513</td>\n",
       "      <td>0.552080</td>\n",
       "      <td>0.773757</td>\n",
       "      <td>0.623779</td>\n",
       "    </tr>\n",
       "    <tr>\n",
       "      <th>2</th>\n",
       "      <td>0.662378</td>\n",
       "      <td>0.646476</td>\n",
       "      <td>0.728191</td>\n",
       "      <td>0.665309</td>\n",
       "    </tr>\n",
       "    <tr>\n",
       "      <th>3</th>\n",
       "      <td>0.619571</td>\n",
       "      <td>0.715681</td>\n",
       "      <td>0.701865</td>\n",
       "      <td>0.674267</td>\n",
       "    </tr>\n",
       "    <tr>\n",
       "      <th>4</th>\n",
       "      <td>0.588262</td>\n",
       "      <td>0.741296</td>\n",
       "      <td>0.673136</td>\n",
       "      <td>0.701954</td>\n",
       "    </tr>\n",
       "    <tr>\n",
       "      <th>5</th>\n",
       "      <td>0.564809</td>\n",
       "      <td>0.756864</td>\n",
       "      <td>0.650995</td>\n",
       "      <td>0.710098</td>\n",
       "    </tr>\n",
       "    <tr>\n",
       "      <th>...</th>\n",
       "      <td>...</td>\n",
       "      <td>...</td>\n",
       "      <td>...</td>\n",
       "      <td>...</td>\n",
       "    </tr>\n",
       "    <tr>\n",
       "      <th>96</th>\n",
       "      <td>0.462748</td>\n",
       "      <td>0.784178</td>\n",
       "      <td>0.474634</td>\n",
       "      <td>0.758143</td>\n",
       "    </tr>\n",
       "    <tr>\n",
       "      <th>97</th>\n",
       "      <td>0.462854</td>\n",
       "      <td>0.785876</td>\n",
       "      <td>0.461020</td>\n",
       "      <td>0.761401</td>\n",
       "    </tr>\n",
       "    <tr>\n",
       "      <th>98</th>\n",
       "      <td>0.462923</td>\n",
       "      <td>0.784178</td>\n",
       "      <td>0.454403</td>\n",
       "      <td>0.761401</td>\n",
       "    </tr>\n",
       "    <tr>\n",
       "      <th>99</th>\n",
       "      <td>0.462893</td>\n",
       "      <td>0.785451</td>\n",
       "      <td>0.461273</td>\n",
       "      <td>0.760586</td>\n",
       "    </tr>\n",
       "    <tr>\n",
       "      <th>100</th>\n",
       "      <td>0.462644</td>\n",
       "      <td>0.785168</td>\n",
       "      <td>0.470768</td>\n",
       "      <td>0.758958</td>\n",
       "    </tr>\n",
       "  </tbody>\n",
       "</table>\n",
       "<p>100 rows × 4 columns</p>\n",
       "</div>"
      ],
      "text/plain": [
       "         loss  accuracy  val_loss  val_accuracy\n",
       "1    0.712513  0.552080  0.773757      0.623779\n",
       "2    0.662378  0.646476  0.728191      0.665309\n",
       "3    0.619571  0.715681  0.701865      0.674267\n",
       "4    0.588262  0.741296  0.673136      0.701954\n",
       "5    0.564809  0.756864  0.650995      0.710098\n",
       "..        ...       ...       ...           ...\n",
       "96   0.462748  0.784178  0.474634      0.758143\n",
       "97   0.462854  0.785876  0.461020      0.761401\n",
       "98   0.462923  0.784178  0.454403      0.761401\n",
       "99   0.462893  0.785451  0.461273      0.760586\n",
       "100  0.462644  0.785168  0.470768      0.758958\n",
       "\n",
       "[100 rows x 4 columns]"
      ]
     },
     "execution_count": 14,
     "metadata": {},
     "output_type": "execute_result"
    }
   ],
   "source": [
    "# Create a DataFrame containing training history\n",
    "nn_history_df = pd.DataFrame(fit_model.history, index=range(1,len(fit_model.history[\"loss\"])+1))\n",
    "nn_history_df"
   ]
  },
  {
   "cell_type": "code",
   "execution_count": 15,
   "id": "681ef2d2",
   "metadata": {},
   "outputs": [
    {
     "data": {
      "image/png": "[encoded data removed]",
      "text/plain": [
       "<Figure size 432x288 with 1 Axes>"
      ]
     },
     "metadata": {
      "needs_background": "light"
     },
     "output_type": "display_data"
    }
   ],
   "source": [
    "# Plot the history\n",
    "nn_history_plot = nn_history_df.plot(title = \"Single Perceptron History\",colormap= \"viridis\")"
   ]
  },
  {
   "cell_type": "code",
   "execution_count": 16,
   "id": "44cbd379",
   "metadata": {},
   "outputs": [
    {
     "data": {
      "text/plain": [
       "<AxesSubplot:>"
      ]
     },
     "execution_count": 16,
     "metadata": {},
     "output_type": "execute_result"
    },
    {
     "data": {
      "image/png": "[encoded data removed]",
      "text/plain": [
       "<Figure size 432x288 with 1 Axes>"
      ]
     },
     "metadata": {
      "needs_background": "light"
     },
     "output_type": "display_data"
    }
   ],
   "source": [
    "# Plot the loss\n",
    "nn_history_df.plot(y=[\"loss\", \"val_loss\"], colormap= \"viridis\")"
   ]
  },
  {
   "cell_type": "code",
   "execution_count": 17,
   "id": "cd8cd5e6",
   "metadata": {},
   "outputs": [
    {
     "data": {
      "text/plain": [
       "<AxesSubplot:>"
      ]
     },
     "execution_count": 17,
     "metadata": {},
     "output_type": "execute_result"
    },
    {
     "data": {
      "image/png": "[encoded data removed]",
      "text/plain": [
       "<Figure size 432x288 with 1 Axes>"
      ]
     },
     "metadata": {
      "needs_background": "light"
     },
     "output_type": "display_data"
    }
   ],
   "source": [
    "# Plot the accuracy\n",
    "nn_history_df.plot(y=[\"accuracy\", \"val_accuracy\"], colormap= \"viridis\")"
   ]
  },
  {
   "cell_type": "code",
   "execution_count": 18,
   "id": "084220c7",
   "metadata": {},
   "outputs": [
    {
     "name": "stdout",
     "output_type": "stream",
     "text": [
      " The loss for the single perceptron model is: 0.4707680344581604, The accuracy is: 0.7589576840400696\n"
     ]
    }
   ],
   "source": [
    "# Evaluate the model using the test data\n",
    "nn_model_loss,nn_model_accuracy = nn_model.evaluate(X_test_scaled,y_test,verbose=0)\n",
    "print(f\" The loss for the single perceptron model is: {nn_model_loss}, The accuracy is: {nn_model_accuracy}\")"
   ]
  },
  {
   "cell_type": "code",
   "execution_count": 19,
   "id": "f0670eec",
   "metadata": {
    "scrolled": true
   },
   "outputs": [],
   "source": [
    "# Y_pred: flatten & convert prediction probabilities to binary format so it can be passed through confusion matrix\n",
    "y_pred_nn = nn_model.predict(X_test_scaled)\n",
    "y_pred_nn = y_pred_nn.flatten()\n",
    "y_pred_nn_tf=tf.round(y_pred_nn)"
   ]
  },
  {
   "cell_type": "code",
   "execution_count": 20,
   "id": "620c09a1",
   "metadata": {
    "scrolled": true
   },
   "outputs": [
    {
     "data": {
      "text/plain": [
       "<sklearn.metrics._plot.confusion_matrix.ConfusionMatrixDisplay at 0x1f2ce32bd88>"
      ]
     },
     "execution_count": 20,
     "metadata": {},
     "output_type": "execute_result"
    },
    {
     "data": {
      "image/png": "[encoded data removed]",
      "text/plain": [
       "<Figure size 432x288 with 2 Axes>"
      ]
     },
     "metadata": {
      "needs_background": "light"
     },
     "output_type": "display_data"
    }
   ],
   "source": [
    "# Display the confusion matrix\n",
    "nn_cm = confusion_matrix(y_test, y_pred_nn_tf, labels=[1,0])\n",
    "\n",
    "nn_disp = ConfusionMatrixDisplay(confusion_matrix=nn_cm, display_labels=[1,0])\n",
    "nn_disp.plot()\n",
    "nn_disp.ax_.set_title(\"Single Perceptron Confusion Matrix\")\n",
    "nn_disp"
   ]
  },
  {
   "cell_type": "code",
   "execution_count": 21,
   "id": "0e329dd0",
   "metadata": {},
   "outputs": [
    {
     "name": "stdout",
     "output_type": "stream",
     "text": [
      "Accuracy Score of the Single Perceptron Model: 0.758957654723127\n",
      "Recall Score of the Single Perceptron Model: 0.7692307692307693\n",
      "Specifity Score of the Deep Learning Model: 0.7151360544217688\n",
      "Balanced Accuracy Score of the Single Perceptron Model: 0.7638670852956567\n",
      "Precision Score of the Single Perceptron Model: 0.12345679012345678\n",
      "F1 Score Score of the Single Perceptron Model: 0.2127659574468085\n",
      "Loss of the Multiple Perceptron Model: 0.4707680344581604\n"
     ]
    },
    {
     "data": {
      "text/html": [
       "<div>\n",
       "<style scoped>\n",
       "    .dataframe tbody tr th:only-of-type {\n",
       "        vertical-align: middle;\n",
       "    }\n",
       "\n",
       "    .dataframe tbody tr th {\n",
       "        vertical-align: top;\n",
       "    }\n",
       "\n",
       "    .dataframe thead th {\n",
       "        text-align: right;\n",
       "    }\n",
       "</style>\n",
       "<table border=\"1\" class=\"dataframe\">\n",
       "  <thead>\n",
       "    <tr style=\"text-align: right;\">\n",
       "      <th></th>\n",
       "      <th>Model Type</th>\n",
       "      <th>Accuracy</th>\n",
       "      <th>Recall</th>\n",
       "      <th>Specificity</th>\n",
       "      <th>Balanced Accuracy</th>\n",
       "      <th>Precision</th>\n",
       "      <th>F1 Score</th>\n",
       "      <th>Loss</th>\n",
       "    </tr>\n",
       "  </thead>\n",
       "  <tbody>\n",
       "    <tr>\n",
       "      <th>0</th>\n",
       "      <td>Single Perceptron</td>\n",
       "      <td>0.758958</td>\n",
       "      <td>0.769231</td>\n",
       "      <td>0.715136</td>\n",
       "      <td>0.763867</td>\n",
       "      <td>0.123457</td>\n",
       "      <td>0.212766</td>\n",
       "      <td>0.470768</td>\n",
       "    </tr>\n",
       "  </tbody>\n",
       "</table>\n",
       "</div>"
      ],
      "text/plain": [
       "          Model Type  Accuracy    Recall  Specificity  Balanced Accuracy  \\\n",
       "0  Single Perceptron  0.758958  0.769231     0.715136           0.763867   \n",
       "\n",
       "   Precision  F1 Score      Loss  \n",
       "0   0.123457  0.212766  0.470768  "
      ]
     },
     "execution_count": 21,
     "metadata": {},
     "output_type": "execute_result"
    }
   ],
   "source": [
    "# Advanced Classification Metrics\n",
    "# Accuracy\n",
    "nn_accuracy_score = accuracy_score(y_test, y_pred_nn_tf)\n",
    "print(f'Accuracy Score of the Single Perceptron Model: {nn_accuracy_score}')\n",
    "\n",
    "# Recall\n",
    "nn_recall_score = recall_score(y_test, y_pred_nn_tf)\n",
    "print(f'Recall Score of the Single Perceptron Model: {nn_recall_score}')\n",
    "\n",
    "# Specificity\n",
    "nn_specificity_score = 841 / 1176\n",
    "print(f'Specifity Score of the Deep Learning Model: {nn_specificity_score}')\n",
    "\n",
    "# Balanced Accuracy Score\n",
    "nn_bas = balanced_accuracy_score(y_test, y_pred_nn_tf)\n",
    "print(f'Balanced Accuracy Score of the Single Perceptron Model: {nn_bas}')\n",
    "\n",
    "# Precision\n",
    "nn_precision_score = precision_score(y_test, y_pred_nn_tf)\n",
    "print(f'Precision Score of the Single Perceptron Model: {nn_precision_score}')     \n",
    "   \n",
    "# F1 Score\n",
    "nn_f1_score = f1_score(y_test, y_pred_nn_tf)\n",
    "print(f'F1 Score Score of the Single Perceptron Model: {nn_f1_score}')\n",
    "\n",
    "# Loss Score\n",
    "print(f'Loss of the Multiple Perceptron Model: {nn_model_loss}')\n",
    "\n",
    "# Advanced Classification Metrics DF\n",
    "nn_acm = {\"Model Type\": [\"Single Perceptron\"], \"Accuracy\":[nn_accuracy_score], \"Recall\": [nn_recall_score], \"Specificity\":[nn_specificity_score], \n",
    "          \"Balanced Accuracy\": [nn_bas], \"Precision\":[nn_precision_score], \"F1 Score\":[nn_f1_score], \"Loss\": [nn_model_loss]}\n",
    "nn_acm_df = pd.DataFrame(data=nn_acm)\n",
    "nn_acm_df"
   ]
  },
  {
   "cell_type": "markdown",
   "id": "a3498c6a",
   "metadata": {},
   "source": [
    "## Multi-Perceptron Model"
   ]
  },
  {
   "cell_type": "code",
   "execution_count": 22,
   "id": "2ed14fc6",
   "metadata": {},
   "outputs": [],
   "source": [
    "# Generate our new Sequential model\n",
    "multi_nn_model = tf.keras.models.Sequential()\n",
    "\n",
    "# Add the input and hidden layer\n",
    "number_inputs = 21\n",
    "number_hidden_nodes = 6\n",
    "\n",
    "multi_nn_model.add(tf.keras.layers.Dense(units=number_hidden_nodes, activation=\"relu\", input_dim=number_inputs))\n",
    "\n",
    "# Add the output layer that uses a probability activation function\n",
    "multi_nn_model.add(tf.keras.layers.Dense(units=1, activation=\"sigmoid\"))"
   ]
  },
  {
   "cell_type": "code",
   "execution_count": 23,
   "id": "29d31da7",
   "metadata": {},
   "outputs": [],
   "source": [
    "# Compile the Sequential model together and customize metrics\n",
    "multi_nn_model.compile(loss=\"binary_crossentropy\", optimizer=\"adam\", metrics=[\"accuracy\"])"
   ]
  },
  {
   "cell_type": "code",
   "execution_count": 24,
   "id": "cb220d40",
   "metadata": {
    "scrolled": true
   },
   "outputs": [
    {
     "name": "stdout",
     "output_type": "stream",
     "text": [
      "Epoch 1/100\n",
      "221/221 [==============================] - 2s 4ms/step - loss: 0.6393 - accuracy: 0.6418 - val_loss: 0.4859 - val_accuracy: 0.7443\n",
      "Epoch 2/100\n",
      "221/221 [==============================] - 1s 3ms/step - loss: 0.5217 - accuracy: 0.7567 - val_loss: 0.4727 - val_accuracy: 0.7370\n",
      "Epoch 3/100\n",
      "221/221 [==============================] - 1s 3ms/step - loss: 0.4722 - accuracy: 0.7832 - val_loss: 0.4354 - val_accuracy: 0.7622\n",
      "Epoch 4/100\n",
      "221/221 [==============================] - 1s 4ms/step - loss: 0.4480 - accuracy: 0.8000 - val_loss: 0.4172 - val_accuracy: 0.7744\n",
      "Epoch 5/100\n",
      "221/221 [==============================] - 1s 3ms/step - loss: 0.4340 - accuracy: 0.8027 - val_loss: 0.4197 - val_accuracy: 0.7712\n",
      "Epoch 6/100\n",
      "221/221 [==============================] - 1s 3ms/step - loss: 0.4254 - accuracy: 0.8053 - val_loss: 0.4066 - val_accuracy: 0.7769\n",
      "Epoch 7/100\n",
      "221/221 [==============================] - 1s 3ms/step - loss: 0.4191 - accuracy: 0.8091 - val_loss: 0.4062 - val_accuracy: 0.7761\n",
      "Epoch 8/100\n",
      "221/221 [==============================] - 1s 3ms/step - loss: 0.4141 - accuracy: 0.8128 - val_loss: 0.4189 - val_accuracy: 0.7728\n",
      "Epoch 9/100\n",
      "221/221 [==============================] - 1s 3ms/step - loss: 0.4100 - accuracy: 0.8162 - val_loss: 0.4110 - val_accuracy: 0.7720\n",
      "Epoch 10/100\n",
      "221/221 [==============================] - 1s 5ms/step - loss: 0.4065 - accuracy: 0.8170 - val_loss: 0.4005 - val_accuracy: 0.7769\n",
      "Epoch 11/100\n",
      "221/221 [==============================] - 1s 3ms/step - loss: 0.4027 - accuracy: 0.8189 - val_loss: 0.3934 - val_accuracy: 0.7809\n",
      "Epoch 12/100\n",
      "221/221 [==============================] - 1s 3ms/step - loss: 0.3996 - accuracy: 0.8194 - val_loss: 0.3915 - val_accuracy: 0.7834\n",
      "Epoch 13/100\n",
      "221/221 [==============================] - 1s 3ms/step - loss: 0.3964 - accuracy: 0.8228 - val_loss: 0.4029 - val_accuracy: 0.7769\n",
      "Epoch 14/100\n",
      "221/221 [==============================] - 1s 3ms/step - loss: 0.3937 - accuracy: 0.8247 - val_loss: 0.4044 - val_accuracy: 0.7769\n",
      "Epoch 15/100\n",
      "221/221 [==============================] - 1s 3ms/step - loss: 0.3912 - accuracy: 0.8258 - val_loss: 0.4123 - val_accuracy: 0.7761\n",
      "Epoch 16/100\n",
      "221/221 [==============================] - 1s 3ms/step - loss: 0.3889 - accuracy: 0.8244 - val_loss: 0.3950 - val_accuracy: 0.7818\n",
      "Epoch 17/100\n",
      "221/221 [==============================] - 1s 3ms/step - loss: 0.3869 - accuracy: 0.8254 - val_loss: 0.4069 - val_accuracy: 0.7809\n",
      "Epoch 18/100\n",
      "221/221 [==============================] - 1s 2ms/step - loss: 0.3851 - accuracy: 0.8259 - val_loss: 0.3878 - val_accuracy: 0.7907\n",
      "Epoch 19/100\n",
      "221/221 [==============================] - 1s 3ms/step - loss: 0.3836 - accuracy: 0.8269 - val_loss: 0.4115 - val_accuracy: 0.7826\n",
      "Epoch 20/100\n",
      "221/221 [==============================] - 1s 5ms/step - loss: 0.3819 - accuracy: 0.8272 - val_loss: 0.4182 - val_accuracy: 0.7826\n",
      "Epoch 21/100\n",
      "221/221 [==============================] - 1s 5ms/step - loss: 0.3808 - accuracy: 0.8271 - val_loss: 0.3957 - val_accuracy: 0.7915\n",
      "Epoch 22/100\n",
      "221/221 [==============================] - 1s 4ms/step - loss: 0.3792 - accuracy: 0.8288 - val_loss: 0.4056 - val_accuracy: 0.7883\n",
      "Epoch 23/100\n",
      "221/221 [==============================] - 1s 3ms/step - loss: 0.3782 - accuracy: 0.8299 - val_loss: 0.4116 - val_accuracy: 0.7858\n",
      "Epoch 24/100\n",
      "221/221 [==============================] - 1s 3ms/step - loss: 0.3772 - accuracy: 0.8295 - val_loss: 0.3960 - val_accuracy: 0.7956\n",
      "Epoch 25/100\n",
      "221/221 [==============================] - 1s 3ms/step - loss: 0.3760 - accuracy: 0.8314 - val_loss: 0.4089 - val_accuracy: 0.7891\n",
      "Epoch 26/100\n",
      "221/221 [==============================] - 1s 5ms/step - loss: 0.3749 - accuracy: 0.8307 - val_loss: 0.3931 - val_accuracy: 0.8005\n",
      "Epoch 27/100\n",
      "221/221 [==============================] - 1s 4ms/step - loss: 0.3744 - accuracy: 0.8329 - val_loss: 0.4026 - val_accuracy: 0.7940\n",
      "Epoch 28/100\n",
      "221/221 [==============================] - 1s 4ms/step - loss: 0.3736 - accuracy: 0.8312 - val_loss: 0.3901 - val_accuracy: 0.8029\n",
      "Epoch 29/100\n",
      "221/221 [==============================] - 1s 4ms/step - loss: 0.3721 - accuracy: 0.8320 - val_loss: 0.4126 - val_accuracy: 0.7915\n",
      "Epoch 30/100\n",
      "221/221 [==============================] - 1s 3ms/step - loss: 0.3716 - accuracy: 0.8316 - val_loss: 0.3939 - val_accuracy: 0.8005\n",
      "Epoch 31/100\n",
      "221/221 [==============================] - 1s 3ms/step - loss: 0.3710 - accuracy: 0.8336 - val_loss: 0.3980 - val_accuracy: 0.7980\n",
      "Epoch 32/100\n",
      "221/221 [==============================] - 1s 3ms/step - loss: 0.3700 - accuracy: 0.8343 - val_loss: 0.3899 - val_accuracy: 0.8013\n",
      "Epoch 33/100\n",
      "221/221 [==============================] - 1s 3ms/step - loss: 0.3690 - accuracy: 0.8354 - val_loss: 0.4015 - val_accuracy: 0.7972\n",
      "Epoch 34/100\n",
      "221/221 [==============================] - 1s 3ms/step - loss: 0.3679 - accuracy: 0.8361 - val_loss: 0.4088 - val_accuracy: 0.7956\n",
      "Epoch 35/100\n",
      "221/221 [==============================] - 1s 3ms/step - loss: 0.3679 - accuracy: 0.8360 - val_loss: 0.3910 - val_accuracy: 0.8037\n",
      "Epoch 36/100\n",
      "221/221 [==============================] - 1s 3ms/step - loss: 0.3666 - accuracy: 0.8371 - val_loss: 0.4049 - val_accuracy: 0.7940\n",
      "Epoch 37/100\n",
      "221/221 [==============================] - 1s 3ms/step - loss: 0.3659 - accuracy: 0.8365 - val_loss: 0.3868 - val_accuracy: 0.8070\n",
      "Epoch 38/100\n",
      "221/221 [==============================] - 1s 3ms/step - loss: 0.3658 - accuracy: 0.8372 - val_loss: 0.4027 - val_accuracy: 0.7997\n",
      "Epoch 39/100\n",
      "221/221 [==============================] - 1s 3ms/step - loss: 0.3649 - accuracy: 0.8389 - val_loss: 0.4057 - val_accuracy: 0.7972\n",
      "Epoch 40/100\n",
      "221/221 [==============================] - 1s 3ms/step - loss: 0.3644 - accuracy: 0.8378 - val_loss: 0.3979 - val_accuracy: 0.8029\n",
      "Epoch 41/100\n",
      "221/221 [==============================] - 1s 3ms/step - loss: 0.3640 - accuracy: 0.8380 - val_loss: 0.4045 - val_accuracy: 0.7980\n",
      "Epoch 42/100\n",
      "221/221 [==============================] - 1s 3ms/step - loss: 0.3638 - accuracy: 0.8404 - val_loss: 0.3883 - val_accuracy: 0.8037\n",
      "Epoch 43/100\n",
      "221/221 [==============================] - 1s 3ms/step - loss: 0.3632 - accuracy: 0.8406 - val_loss: 0.3987 - val_accuracy: 0.8005\n",
      "Epoch 44/100\n",
      "221/221 [==============================] - 1s 3ms/step - loss: 0.3627 - accuracy: 0.8401 - val_loss: 0.4057 - val_accuracy: 0.7972\n",
      "Epoch 45/100\n",
      "221/221 [==============================] - 1s 3ms/step - loss: 0.3624 - accuracy: 0.8387 - val_loss: 0.4002 - val_accuracy: 0.7980\n",
      "Epoch 46/100\n",
      "221/221 [==============================] - 1s 3ms/step - loss: 0.3622 - accuracy: 0.8411 - val_loss: 0.3973 - val_accuracy: 0.8013\n",
      "Epoch 47/100\n",
      "221/221 [==============================] - 1s 4ms/step - loss: 0.3620 - accuracy: 0.8418 - val_loss: 0.3932 - val_accuracy: 0.8021\n",
      "Epoch 48/100\n",
      "221/221 [==============================] - 1s 3ms/step - loss: 0.3615 - accuracy: 0.8412 - val_loss: 0.3909 - val_accuracy: 0.8054\n",
      "Epoch 49/100\n",
      "221/221 [==============================] - 1s 3ms/step - loss: 0.3612 - accuracy: 0.8415 - val_loss: 0.4061 - val_accuracy: 0.7948\n",
      "Epoch 50/100\n",
      "221/221 [==============================] - 1s 3ms/step - loss: 0.3606 - accuracy: 0.8418 - val_loss: 0.3991 - val_accuracy: 0.8005\n",
      "Epoch 51/100\n",
      "221/221 [==============================] - 1s 3ms/step - loss: 0.3605 - accuracy: 0.8421 - val_loss: 0.3897 - val_accuracy: 0.8062\n",
      "Epoch 52/100\n",
      "221/221 [==============================] - 1s 3ms/step - loss: 0.3603 - accuracy: 0.8431 - val_loss: 0.4037 - val_accuracy: 0.7956\n",
      "Epoch 53/100\n",
      "221/221 [==============================] - 1s 4ms/step - loss: 0.3601 - accuracy: 0.8404 - val_loss: 0.3924 - val_accuracy: 0.8029\n",
      "Epoch 54/100\n",
      "221/221 [==============================] - 1s 4ms/step - loss: 0.3599 - accuracy: 0.8418 - val_loss: 0.4016 - val_accuracy: 0.8013\n",
      "Epoch 55/100\n",
      "221/221 [==============================] - 1s 3ms/step - loss: 0.3597 - accuracy: 0.8406 - val_loss: 0.4031 - val_accuracy: 0.7972\n",
      "Epoch 56/100\n",
      "221/221 [==============================] - 1s 3ms/step - loss: 0.3594 - accuracy: 0.8406 - val_loss: 0.3978 - val_accuracy: 0.8021\n",
      "Epoch 57/100\n",
      "221/221 [==============================] - 1s 3ms/step - loss: 0.3590 - accuracy: 0.8425 - val_loss: 0.3984 - val_accuracy: 0.8029\n"
     ]
    },
    {
     "name": "stdout",
     "output_type": "stream",
     "text": [
      "Epoch 58/100\n",
      "221/221 [==============================] - 1s 3ms/step - loss: 0.3589 - accuracy: 0.8409 - val_loss: 0.3956 - val_accuracy: 0.8037\n",
      "Epoch 59/100\n",
      "221/221 [==============================] - 1s 4ms/step - loss: 0.3585 - accuracy: 0.8428 - val_loss: 0.3818 - val_accuracy: 0.8078\n",
      "Epoch 60/100\n",
      "221/221 [==============================] - 1s 5ms/step - loss: 0.3584 - accuracy: 0.8431 - val_loss: 0.3923 - val_accuracy: 0.8054\n",
      "Epoch 61/100\n",
      "221/221 [==============================] - 2s 7ms/step - loss: 0.3584 - accuracy: 0.8426 - val_loss: 0.3983 - val_accuracy: 0.8037\n",
      "Epoch 62/100\n",
      "221/221 [==============================] - 1s 4ms/step - loss: 0.3578 - accuracy: 0.8425 - val_loss: 0.3911 - val_accuracy: 0.8037\n",
      "Epoch 63/100\n",
      "221/221 [==============================] - 1s 5ms/step - loss: 0.3577 - accuracy: 0.8432 - val_loss: 0.3943 - val_accuracy: 0.8070\n",
      "Epoch 64/100\n",
      "221/221 [==============================] - 1s 5ms/step - loss: 0.3578 - accuracy: 0.8419 - val_loss: 0.3958 - val_accuracy: 0.8070\n",
      "Epoch 65/100\n",
      "221/221 [==============================] - 1s 5ms/step - loss: 0.3573 - accuracy: 0.8418 - val_loss: 0.3997 - val_accuracy: 0.8029\n",
      "Epoch 66/100\n",
      "221/221 [==============================] - 1s 5ms/step - loss: 0.3571 - accuracy: 0.8414 - val_loss: 0.3976 - val_accuracy: 0.8005\n",
      "Epoch 67/100\n",
      "221/221 [==============================] - 1s 5ms/step - loss: 0.3567 - accuracy: 0.8423 - val_loss: 0.4155 - val_accuracy: 0.7948\n",
      "Epoch 68/100\n",
      "221/221 [==============================] - 2s 7ms/step - loss: 0.3568 - accuracy: 0.8406 - val_loss: 0.3938 - val_accuracy: 0.8078\n",
      "Epoch 69/100\n",
      "221/221 [==============================] - 1s 6ms/step - loss: 0.3567 - accuracy: 0.8421 - val_loss: 0.3836 - val_accuracy: 0.8135\n",
      "Epoch 70/100\n",
      "221/221 [==============================] - 1s 4ms/step - loss: 0.3568 - accuracy: 0.8409 - val_loss: 0.3907 - val_accuracy: 0.8086\n",
      "Epoch 71/100\n",
      "221/221 [==============================] - 1s 4ms/step - loss: 0.3563 - accuracy: 0.8419 - val_loss: 0.3967 - val_accuracy: 0.8062\n",
      "Epoch 72/100\n",
      "221/221 [==============================] - 1s 5ms/step - loss: 0.3560 - accuracy: 0.8433 - val_loss: 0.3851 - val_accuracy: 0.8103\n",
      "Epoch 73/100\n",
      "221/221 [==============================] - 1s 4ms/step - loss: 0.3560 - accuracy: 0.8433 - val_loss: 0.3930 - val_accuracy: 0.8037\n",
      "Epoch 74/100\n",
      "221/221 [==============================] - 1s 5ms/step - loss: 0.3555 - accuracy: 0.8416 - val_loss: 0.3897 - val_accuracy: 0.8078\n",
      "Epoch 75/100\n",
      "221/221 [==============================] - 1s 4ms/step - loss: 0.3555 - accuracy: 0.8428 - val_loss: 0.3842 - val_accuracy: 0.8094\n",
      "Epoch 76/100\n",
      "221/221 [==============================] - 1s 4ms/step - loss: 0.3558 - accuracy: 0.8398 - val_loss: 0.3948 - val_accuracy: 0.8054\n",
      "Epoch 77/100\n",
      "221/221 [==============================] - 1s 4ms/step - loss: 0.3554 - accuracy: 0.8418 - val_loss: 0.3910 - val_accuracy: 0.8078\n",
      "Epoch 78/100\n",
      "221/221 [==============================] - 1s 5ms/step - loss: 0.3556 - accuracy: 0.8416 - val_loss: 0.3906 - val_accuracy: 0.8094\n",
      "Epoch 79/100\n",
      "221/221 [==============================] - 1s 3ms/step - loss: 0.3555 - accuracy: 0.8405 - val_loss: 0.3964 - val_accuracy: 0.8037\n",
      "Epoch 80/100\n",
      "221/221 [==============================] - 1s 4ms/step - loss: 0.3553 - accuracy: 0.8439 - val_loss: 0.3964 - val_accuracy: 0.8062\n",
      "Epoch 81/100\n",
      "221/221 [==============================] - 1s 3ms/step - loss: 0.3550 - accuracy: 0.8431 - val_loss: 0.3999 - val_accuracy: 0.8005\n",
      "Epoch 82/100\n",
      "221/221 [==============================] - 1s 3ms/step - loss: 0.3549 - accuracy: 0.8432 - val_loss: 0.3776 - val_accuracy: 0.8168\n",
      "Epoch 83/100\n",
      "221/221 [==============================] - 1s 3ms/step - loss: 0.3547 - accuracy: 0.8442 - val_loss: 0.4030 - val_accuracy: 0.7980\n",
      "Epoch 84/100\n",
      "221/221 [==============================] - 1s 3ms/step - loss: 0.3548 - accuracy: 0.8419 - val_loss: 0.4017 - val_accuracy: 0.8021\n",
      "Epoch 85/100\n",
      "221/221 [==============================] - 1s 3ms/step - loss: 0.3546 - accuracy: 0.8432 - val_loss: 0.3893 - val_accuracy: 0.8119\n",
      "Epoch 86/100\n",
      "221/221 [==============================] - 1s 4ms/step - loss: 0.3547 - accuracy: 0.8431 - val_loss: 0.4001 - val_accuracy: 0.8013\n",
      "Epoch 87/100\n",
      "221/221 [==============================] - 1s 3ms/step - loss: 0.3546 - accuracy: 0.8423 - val_loss: 0.4020 - val_accuracy: 0.8037\n",
      "Epoch 88/100\n",
      "221/221 [==============================] - 1s 3ms/step - loss: 0.3547 - accuracy: 0.8438 - val_loss: 0.3895 - val_accuracy: 0.8078\n",
      "Epoch 89/100\n",
      "221/221 [==============================] - 1s 3ms/step - loss: 0.3542 - accuracy: 0.8463 - val_loss: 0.4132 - val_accuracy: 0.7964\n",
      "Epoch 90/100\n",
      "221/221 [==============================] - 1s 3ms/step - loss: 0.3541 - accuracy: 0.8446 - val_loss: 0.3891 - val_accuracy: 0.8094\n",
      "Epoch 91/100\n",
      "221/221 [==============================] - 1s 3ms/step - loss: 0.3543 - accuracy: 0.8440 - val_loss: 0.3840 - val_accuracy: 0.8143\n",
      "Epoch 92/100\n",
      "221/221 [==============================] - 1s 4ms/step - loss: 0.3544 - accuracy: 0.8443 - val_loss: 0.3982 - val_accuracy: 0.8029\n",
      "Epoch 93/100\n",
      "221/221 [==============================] - 1s 3ms/step - loss: 0.3540 - accuracy: 0.8423 - val_loss: 0.3885 - val_accuracy: 0.8103\n",
      "Epoch 94/100\n",
      "221/221 [==============================] - 1s 3ms/step - loss: 0.3538 - accuracy: 0.8438 - val_loss: 0.3947 - val_accuracy: 0.8037\n",
      "Epoch 95/100\n",
      "221/221 [==============================] - 1s 3ms/step - loss: 0.3538 - accuracy: 0.8445 - val_loss: 0.3927 - val_accuracy: 0.8054\n",
      "Epoch 96/100\n",
      "221/221 [==============================] - 1s 3ms/step - loss: 0.3538 - accuracy: 0.8426 - val_loss: 0.3935 - val_accuracy: 0.8054\n",
      "Epoch 97/100\n",
      "221/221 [==============================] - 1s 3ms/step - loss: 0.3535 - accuracy: 0.8429 - val_loss: 0.3828 - val_accuracy: 0.8078\n",
      "Epoch 98/100\n",
      "221/221 [==============================] - 1s 3ms/step - loss: 0.3535 - accuracy: 0.8453 - val_loss: 0.3799 - val_accuracy: 0.8143\n",
      "Epoch 99/100\n",
      "221/221 [==============================] - 1s 3ms/step - loss: 0.3533 - accuracy: 0.8442 - val_loss: 0.3796 - val_accuracy: 0.8135\n",
      "Epoch 100/100\n",
      "221/221 [==============================] - 1s 3ms/step - loss: 0.3534 - accuracy: 0.8452 - val_loss: 0.3990 - val_accuracy: 0.8046\n"
     ]
    }
   ],
   "source": [
    "# Fit the model to the training data\n",
    "fit_model_multi = multi_nn_model.fit(X_resampled, y_resampled, validation_data = (X_test_scaled, y_test), epochs=100, shuffle=True)"
   ]
  },
  {
   "cell_type": "code",
   "execution_count": 25,
   "id": "b9683809",
   "metadata": {},
   "outputs": [
    {
     "data": {
      "text/html": [
       "<div>\n",
       "<style scoped>\n",
       "    .dataframe tbody tr th:only-of-type {\n",
       "        vertical-align: middle;\n",
       "    }\n",
       "\n",
       "    .dataframe tbody tr th {\n",
       "        vertical-align: top;\n",
       "    }\n",
       "\n",
       "    .dataframe thead th {\n",
       "        text-align: right;\n",
       "    }\n",
       "</style>\n",
       "<table border=\"1\" class=\"dataframe\">\n",
       "  <thead>\n",
       "    <tr style=\"text-align: right;\">\n",
       "      <th></th>\n",
       "      <th>loss</th>\n",
       "      <th>accuracy</th>\n",
       "      <th>val_loss</th>\n",
       "      <th>val_accuracy</th>\n",
       "    </tr>\n",
       "  </thead>\n",
       "  <tbody>\n",
       "    <tr>\n",
       "      <th>1</th>\n",
       "      <td>0.639291</td>\n",
       "      <td>0.641806</td>\n",
       "      <td>0.485948</td>\n",
       "      <td>0.744300</td>\n",
       "    </tr>\n",
       "    <tr>\n",
       "      <th>2</th>\n",
       "      <td>0.521726</td>\n",
       "      <td>0.756722</td>\n",
       "      <td>0.472654</td>\n",
       "      <td>0.736971</td>\n",
       "    </tr>\n",
       "    <tr>\n",
       "      <th>3</th>\n",
       "      <td>0.472202</td>\n",
       "      <td>0.783187</td>\n",
       "      <td>0.435381</td>\n",
       "      <td>0.762215</td>\n",
       "    </tr>\n",
       "    <tr>\n",
       "      <th>4</th>\n",
       "      <td>0.448044</td>\n",
       "      <td>0.800028</td>\n",
       "      <td>0.417209</td>\n",
       "      <td>0.774430</td>\n",
       "    </tr>\n",
       "    <tr>\n",
       "      <th>5</th>\n",
       "      <td>0.434006</td>\n",
       "      <td>0.802717</td>\n",
       "      <td>0.419746</td>\n",
       "      <td>0.771173</td>\n",
       "    </tr>\n",
       "    <tr>\n",
       "      <th>...</th>\n",
       "      <td>...</td>\n",
       "      <td>...</td>\n",
       "      <td>...</td>\n",
       "      <td>...</td>\n",
       "    </tr>\n",
       "    <tr>\n",
       "      <th>96</th>\n",
       "      <td>0.353807</td>\n",
       "      <td>0.842627</td>\n",
       "      <td>0.393465</td>\n",
       "      <td>0.805375</td>\n",
       "    </tr>\n",
       "    <tr>\n",
       "      <th>97</th>\n",
       "      <td>0.353505</td>\n",
       "      <td>0.842910</td>\n",
       "      <td>0.382758</td>\n",
       "      <td>0.807818</td>\n",
       "    </tr>\n",
       "    <tr>\n",
       "      <th>98</th>\n",
       "      <td>0.353480</td>\n",
       "      <td>0.845316</td>\n",
       "      <td>0.379939</td>\n",
       "      <td>0.814332</td>\n",
       "    </tr>\n",
       "    <tr>\n",
       "      <th>99</th>\n",
       "      <td>0.353320</td>\n",
       "      <td>0.844183</td>\n",
       "      <td>0.379562</td>\n",
       "      <td>0.813518</td>\n",
       "    </tr>\n",
       "    <tr>\n",
       "      <th>100</th>\n",
       "      <td>0.353424</td>\n",
       "      <td>0.845174</td>\n",
       "      <td>0.398965</td>\n",
       "      <td>0.804560</td>\n",
       "    </tr>\n",
       "  </tbody>\n",
       "</table>\n",
       "<p>100 rows × 4 columns</p>\n",
       "</div>"
      ],
      "text/plain": [
       "         loss  accuracy  val_loss  val_accuracy\n",
       "1    0.639291  0.641806  0.485948      0.744300\n",
       "2    0.521726  0.756722  0.472654      0.736971\n",
       "3    0.472202  0.783187  0.435381      0.762215\n",
       "4    0.448044  0.800028  0.417209      0.774430\n",
       "5    0.434006  0.802717  0.419746      0.771173\n",
       "..        ...       ...       ...           ...\n",
       "96   0.353807  0.842627  0.393465      0.805375\n",
       "97   0.353505  0.842910  0.382758      0.807818\n",
       "98   0.353480  0.845316  0.379939      0.814332\n",
       "99   0.353320  0.844183  0.379562      0.813518\n",
       "100  0.353424  0.845174  0.398965      0.804560\n",
       "\n",
       "[100 rows x 4 columns]"
      ]
     },
     "execution_count": 25,
     "metadata": {},
     "output_type": "execute_result"
    }
   ],
   "source": [
    "# Create a DataFrame containing training history\n",
    "multi_history_df = pd.DataFrame(fit_model_multi.history, index=range(1,len(fit_model_multi.history[\"loss\"])+1))\n",
    "multi_history_df"
   ]
  },
  {
   "cell_type": "code",
   "execution_count": 26,
   "id": "8df6dfb7",
   "metadata": {},
   "outputs": [
    {
     "data": {
      "image/png": "[encoded data removed]",
      "text/plain": [
       "<Figure size 432x288 with 1 Axes>"
      ]
     },
     "metadata": {
      "needs_background": "light"
     },
     "output_type": "display_data"
    }
   ],
   "source": [
    "# Plot the history\n",
    "multi_history_plotf = multi_history_df.plot(title = \"Multiple Perceptron History\",colormap= \"viridis\")"
   ]
  },
  {
   "cell_type": "code",
   "execution_count": 27,
   "id": "7ff48892",
   "metadata": {
    "scrolled": true
   },
   "outputs": [
    {
     "data": {
      "text/plain": [
       "<AxesSubplot:>"
      ]
     },
     "execution_count": 27,
     "metadata": {},
     "output_type": "execute_result"
    },
    {
     "data": {
      "image/png": "[encoded data removed]",
      "text/plain": [
       "<Figure size 432x288 with 1 Axes>"
      ]
     },
     "metadata": {
      "needs_background": "light"
     },
     "output_type": "display_data"
    }
   ],
   "source": [
    "# Plot the loss\n",
    "multi_history_df.plot(y=[\"loss\", \"val_loss\"], colormap= \"viridis\")"
   ]
  },
  {
   "cell_type": "code",
   "execution_count": 28,
   "id": "05f4a9e6",
   "metadata": {},
   "outputs": [
    {
     "data": {
      "text/plain": [
       "<AxesSubplot:>"
      ]
     },
     "execution_count": 28,
     "metadata": {},
     "output_type": "execute_result"
    },
    {
     "data": {
      "image/png": "[encoded data removed]",
      "text/plain": [
       "<Figure size 432x288 with 1 Axes>"
      ]
     },
     "metadata": {
      "needs_background": "light"
     },
     "output_type": "display_data"
    }
   ],
   "source": [
    "# Plot the accuracy\n",
    "multi_history_df.plot(y=[\"accuracy\", \"val_accuracy\"], colormap= \"viridis\")"
   ]
  },
  {
   "cell_type": "code",
   "execution_count": 29,
   "id": "fa7e44c7",
   "metadata": {
    "scrolled": true
   },
   "outputs": [
    {
     "name": "stdout",
     "output_type": "stream",
     "text": [
      " The loss for the multiple perceptron model is: 0.3989649713039398, The accuracy is: 0.8045602440834045\n"
     ]
    }
   ],
   "source": [
    "# Evaluate the model using the test data\n",
    "multi_model_loss, multi_model_accuracy = multi_nn_model.evaluate(X_test_scaled,y_test,verbose=0)\n",
    "print(f\" The loss for the multiple perceptron model is: {multi_model_loss}, The accuracy is: {multi_model_accuracy}\")"
   ]
  },
  {
   "cell_type": "code",
   "execution_count": 30,
   "id": "1c5ed29e",
   "metadata": {},
   "outputs": [],
   "source": [
    "#Y_pred: flatten & Convert prediction probabilities to binary format\n",
    "y_pred_multi = multi_nn_model.predict(X_test_scaled)\n",
    "y_pred_multi = y_pred_multi.flatten()\n",
    "y_pred_multi_tf = tf.round(y_pred_multi)"
   ]
  },
  {
   "cell_type": "code",
   "execution_count": 31,
   "id": "419f1873",
   "metadata": {
    "scrolled": true
   },
   "outputs": [
    {
     "data": {
      "text/plain": [
       "<sklearn.metrics._plot.confusion_matrix.ConfusionMatrixDisplay at 0x1f2d54e8fc8>"
      ]
     },
     "execution_count": 31,
     "metadata": {},
     "output_type": "execute_result"
    },
    {
     "data": {
      "image/png": "[encoded data removed]",
      "text/plain": [
       "<Figure size 432x288 with 2 Axes>"
      ]
     },
     "metadata": {
      "needs_background": "light"
     },
     "output_type": "display_data"
    }
   ],
   "source": [
    "# Display the confusion matrix\n",
    "multi_nn_cm = confusion_matrix(y_test, y_pred_multi_tf, labels=[1,0])\n",
    "\n",
    "multi_disp = ConfusionMatrixDisplay(confusion_matrix=multi_nn_cm, display_labels=[1,0])\n",
    "multi_disp.plot()\n",
    "multi_disp.ax_.set_title(\"Multiple Perceptron Confusion Matrix\")\n",
    "multi_disp"
   ]
  },
  {
   "cell_type": "code",
   "execution_count": 32,
   "id": "d2edb679",
   "metadata": {},
   "outputs": [
    {
     "name": "stdout",
     "output_type": "stream",
     "text": [
      "Accuracy Score of the Multiple Perceptron Model: 0.8045602605863192\n",
      "Recall Score of the Multiple Perceptron Model: 0.6153846153846154\n",
      "Specifity Score of the Deep Learning Model: 0.8078231292517006\n",
      "Balanced Accuracy Score of the Multiple Perceptron Model: 0.7141548927263213\n",
      "Precision Score of the Multiple Perceptron Model: 0.12698412698412698\n",
      "F1 Score Score of the Multiple Perceptron Model: 0.21052631578947367\n",
      "Loss of the Multiple Perceptron Model: 0.3989649713039398\n"
     ]
    },
    {
     "data": {
      "text/html": [
       "<div>\n",
       "<style scoped>\n",
       "    .dataframe tbody tr th:only-of-type {\n",
       "        vertical-align: middle;\n",
       "    }\n",
       "\n",
       "    .dataframe tbody tr th {\n",
       "        vertical-align: top;\n",
       "    }\n",
       "\n",
       "    .dataframe thead th {\n",
       "        text-align: right;\n",
       "    }\n",
       "</style>\n",
       "<table border=\"1\" class=\"dataframe\">\n",
       "  <thead>\n",
       "    <tr style=\"text-align: right;\">\n",
       "      <th></th>\n",
       "      <th>Model Type</th>\n",
       "      <th>Accuracy</th>\n",
       "      <th>Recall</th>\n",
       "      <th>Specificity</th>\n",
       "      <th>Balanced Accuracy</th>\n",
       "      <th>Precision</th>\n",
       "      <th>F1 Score</th>\n",
       "      <th>Loss</th>\n",
       "    </tr>\n",
       "  </thead>\n",
       "  <tbody>\n",
       "    <tr>\n",
       "      <th>0</th>\n",
       "      <td>Multi Perceptron</td>\n",
       "      <td>0.80456</td>\n",
       "      <td>0.615385</td>\n",
       "      <td>0.807823</td>\n",
       "      <td>0.714155</td>\n",
       "      <td>0.126984</td>\n",
       "      <td>0.210526</td>\n",
       "      <td>0.398965</td>\n",
       "    </tr>\n",
       "  </tbody>\n",
       "</table>\n",
       "</div>"
      ],
      "text/plain": [
       "         Model Type  Accuracy    Recall  Specificity  Balanced Accuracy  \\\n",
       "0  Multi Perceptron   0.80456  0.615385     0.807823           0.714155   \n",
       "\n",
       "   Precision  F1 Score      Loss  \n",
       "0   0.126984  0.210526  0.398965  "
      ]
     },
     "execution_count": 32,
     "metadata": {},
     "output_type": "execute_result"
    }
   ],
   "source": [
    "# Advanced Classification Metrics\n",
    "# Accuracy\n",
    "multi_accuracy_score = accuracy_score(y_test, y_pred_multi_tf)\n",
    "print(f'Accuracy Score of the Multiple Perceptron Model: {multi_accuracy_score}')\n",
    "\n",
    "# Recall/ Sensitivity\n",
    "multi_recall_score = recall_score(y_test, y_pred_multi_tf)\n",
    "print(f'Recall Score of the Multiple Perceptron Model: {multi_recall_score}')\n",
    "\n",
    "# Specificity\n",
    "multi_specificity_score = 950 / 1176\n",
    "print(f'Specifity Score of the Deep Learning Model: {multi_specificity_score}')\n",
    "\n",
    "# Balanced Accuracy Score\n",
    "multi_bas = balanced_accuracy_score(y_test, y_pred_multi_tf)\n",
    "print(f'Balanced Accuracy Score of the Multiple Perceptron Model: {multi_bas}')\n",
    "\n",
    "# Precision\n",
    "multi_precision_score = precision_score(y_test, y_pred_multi_tf)\n",
    "print(f'Precision Score of the Multiple Perceptron Model: {multi_precision_score}')     \n",
    "      \n",
    "# F1 Score\n",
    "multi_f1_score = f1_score(y_test, y_pred_multi_tf)\n",
    "print(f'F1 Score Score of the Multiple Perceptron Model: {multi_f1_score}')\n",
    "\n",
    "# Loss Score\n",
    "print(f'Loss of the Multiple Perceptron Model: {multi_model_loss}')\n",
    "\n",
    "# Advanced Classification Metrics DF\n",
    "multi_acm = {\"Model Type\": [\"Multi Perceptron\"], \"Accuracy\":[multi_accuracy_score], \"Recall\": [multi_recall_score], \"Specificity\":[multi_specificity_score], \n",
    "          \"Balanced Accuracy\": [multi_bas], \"Precision\":[multi_precision_score], \"F1 Score\":[multi_f1_score], \"Loss\": [multi_model_loss]}\n",
    "multi_acm_df = pd.DataFrame(data=multi_acm)\n",
    "multi_acm_df"
   ]
  },
  {
   "cell_type": "markdown",
   "id": "10c8ce22",
   "metadata": {},
   "source": [
    "## Deep Learning- Feedforward Neural Network"
   ]
  },
  {
   "cell_type": "code",
   "execution_count": 33,
   "id": "108a2466",
   "metadata": {},
   "outputs": [
    {
     "name": "stdout",
     "output_type": "stream",
     "text": [
      "Model: \"sequential_2\"\n",
      "_________________________________________________________________\n",
      " Layer (type)                Output Shape              Param #   \n",
      "=================================================================\n",
      " dense_4 (Dense)             (None, 80)                1760      \n",
      "                                                                 \n",
      " dense_5 (Dense)             (None, 50)                4050      \n",
      "                                                                 \n",
      " dense_6 (Dense)             (None, 1)                 51        \n",
      "                                                                 \n",
      "=================================================================\n",
      "Total params: 5,861\n",
      "Trainable params: 5,861\n",
      "Non-trainable params: 0\n",
      "_________________________________________________________________\n"
     ]
    }
   ],
   "source": [
    "# Define the model - deep neural net\n",
    "number_input_features = len(X_train[0])\n",
    "hidden_nodes_layer1 = 80\n",
    "hidden_nodes_layer2 = 50\n",
    "\n",
    "deep_nn_model = tf.keras.models.Sequential()\n",
    "\n",
    "# First hidden layer\n",
    "deep_nn_model.add(\n",
    "    tf.keras.layers.Dense(units=hidden_nodes_layer1, input_dim=number_input_features, activation=\"relu\")\n",
    ")\n",
    "\n",
    "# Second hidden layer\n",
    "deep_nn_model.add(tf.keras.layers.Dense(units=hidden_nodes_layer2, activation=\"relu\"))\n",
    "\n",
    "# Output layer\n",
    "deep_nn_model.add(tf.keras.layers.Dense(units=1, activation=\"sigmoid\"))\n",
    "\n",
    "# Check the structure of the model\n",
    "deep_nn_model.summary()"
   ]
  },
  {
   "cell_type": "code",
   "execution_count": 34,
   "id": "f430848f",
   "metadata": {},
   "outputs": [],
   "source": [
    "# Compile the model\n",
    "deep_nn_model.compile(loss=\"binary_crossentropy\", optimizer=\"adam\", metrics=[\"accuracy\"])"
   ]
  },
  {
   "cell_type": "code",
   "execution_count": 35,
   "id": "31441fb7",
   "metadata": {
    "scrolled": true
   },
   "outputs": [
    {
     "name": "stdout",
     "output_type": "stream",
     "text": [
      "Epoch 1/100\n",
      "116/116 [==============================] - 2s 8ms/step - loss: 0.2174 - accuracy: 0.9391 - val_loss: 0.1536 - val_accuracy: 0.9577\n",
      "Epoch 2/100\n",
      "116/116 [==============================] - 0s 4ms/step - loss: 0.1503 - accuracy: 0.9573 - val_loss: 0.1445 - val_accuracy: 0.9577\n",
      "Epoch 3/100\n",
      "116/116 [==============================] - 0s 3ms/step - loss: 0.1432 - accuracy: 0.9573 - val_loss: 0.1425 - val_accuracy: 0.9577\n",
      "Epoch 4/100\n",
      "116/116 [==============================] - 0s 3ms/step - loss: 0.1386 - accuracy: 0.9573 - val_loss: 0.1431 - val_accuracy: 0.9568\n",
      "Epoch 5/100\n",
      "116/116 [==============================] - 0s 3ms/step - loss: 0.1374 - accuracy: 0.9576 - val_loss: 0.1422 - val_accuracy: 0.9577\n",
      "Epoch 6/100\n",
      "116/116 [==============================] - 0s 3ms/step - loss: 0.1340 - accuracy: 0.9579 - val_loss: 0.1433 - val_accuracy: 0.9568\n",
      "Epoch 7/100\n",
      "116/116 [==============================] - 0s 3ms/step - loss: 0.1327 - accuracy: 0.9576 - val_loss: 0.1480 - val_accuracy: 0.9577\n",
      "Epoch 8/100\n",
      "116/116 [==============================] - 0s 3ms/step - loss: 0.1307 - accuracy: 0.9579 - val_loss: 0.1457 - val_accuracy: 0.9568\n",
      "Epoch 9/100\n",
      "116/116 [==============================] - 0s 3ms/step - loss: 0.1287 - accuracy: 0.9598 - val_loss: 0.1468 - val_accuracy: 0.9577\n",
      "Epoch 10/100\n",
      "116/116 [==============================] - 0s 3ms/step - loss: 0.1277 - accuracy: 0.9598 - val_loss: 0.1481 - val_accuracy: 0.9577\n",
      "Epoch 11/100\n",
      "116/116 [==============================] - 0s 3ms/step - loss: 0.1268 - accuracy: 0.9595 - val_loss: 0.1508 - val_accuracy: 0.9536\n",
      "Epoch 12/100\n",
      "116/116 [==============================] - 0s 3ms/step - loss: 0.1263 - accuracy: 0.9609 - val_loss: 0.1507 - val_accuracy: 0.9577\n",
      "Epoch 13/100\n",
      "116/116 [==============================] - 0s 3ms/step - loss: 0.1236 - accuracy: 0.9598 - val_loss: 0.1474 - val_accuracy: 0.9568\n",
      "Epoch 14/100\n",
      "116/116 [==============================] - 0s 3ms/step - loss: 0.1280 - accuracy: 0.9598 - val_loss: 0.1502 - val_accuracy: 0.9560\n",
      "Epoch 15/100\n",
      "116/116 [==============================] - 0s 3ms/step - loss: 0.1228 - accuracy: 0.9609 - val_loss: 0.1503 - val_accuracy: 0.9552\n",
      "Epoch 16/100\n",
      "116/116 [==============================] - 0s 3ms/step - loss: 0.1204 - accuracy: 0.9612 - val_loss: 0.1508 - val_accuracy: 0.9585\n",
      "Epoch 17/100\n",
      "116/116 [==============================] - 0s 3ms/step - loss: 0.1190 - accuracy: 0.9606 - val_loss: 0.1528 - val_accuracy: 0.9520\n",
      "Epoch 18/100\n",
      "116/116 [==============================] - 0s 3ms/step - loss: 0.1243 - accuracy: 0.9582 - val_loss: 0.1523 - val_accuracy: 0.9560\n",
      "Epoch 19/100\n",
      "116/116 [==============================] - 0s 3ms/step - loss: 0.1189 - accuracy: 0.9612 - val_loss: 0.1526 - val_accuracy: 0.9544\n",
      "Epoch 20/100\n",
      "116/116 [==============================] - 0s 3ms/step - loss: 0.1172 - accuracy: 0.9614 - val_loss: 0.1551 - val_accuracy: 0.9560\n",
      "Epoch 21/100\n",
      "116/116 [==============================] - 0s 3ms/step - loss: 0.1167 - accuracy: 0.9614 - val_loss: 0.1535 - val_accuracy: 0.9544\n",
      "Epoch 22/100\n",
      "116/116 [==============================] - 0s 3ms/step - loss: 0.1141 - accuracy: 0.9614 - val_loss: 0.1578 - val_accuracy: 0.9528\n",
      "Epoch 23/100\n",
      "116/116 [==============================] - 0s 3ms/step - loss: 0.1221 - accuracy: 0.9587 - val_loss: 0.1532 - val_accuracy: 0.9577\n",
      "Epoch 24/100\n",
      "116/116 [==============================] - 0s 3ms/step - loss: 0.1134 - accuracy: 0.9622 - val_loss: 0.1551 - val_accuracy: 0.9503\n",
      "Epoch 25/100\n",
      "116/116 [==============================] - 0s 3ms/step - loss: 0.1112 - accuracy: 0.9631 - val_loss: 0.1571 - val_accuracy: 0.9585\n",
      "Epoch 26/100\n",
      "116/116 [==============================] - 0s 3ms/step - loss: 0.1098 - accuracy: 0.9628 - val_loss: 0.1572 - val_accuracy: 0.9568\n",
      "Epoch 27/100\n",
      "116/116 [==============================] - 0s 3ms/step - loss: 0.1085 - accuracy: 0.9639 - val_loss: 0.1632 - val_accuracy: 0.9585\n",
      "Epoch 28/100\n",
      "116/116 [==============================] - 0s 3ms/step - loss: 0.1083 - accuracy: 0.9633 - val_loss: 0.1578 - val_accuracy: 0.9577\n",
      "Epoch 29/100\n",
      "116/116 [==============================] - 0s 4ms/step - loss: 0.1053 - accuracy: 0.9639 - val_loss: 0.1603 - val_accuracy: 0.9552\n",
      "Epoch 30/100\n",
      "116/116 [==============================] - 1s 4ms/step - loss: 0.1048 - accuracy: 0.9641 - val_loss: 0.1636 - val_accuracy: 0.9568\n",
      "Epoch 31/100\n",
      "116/116 [==============================] - 0s 4ms/step - loss: 0.1049 - accuracy: 0.9628 - val_loss: 0.1614 - val_accuracy: 0.9520\n",
      "Epoch 32/100\n",
      "116/116 [==============================] - 0s 4ms/step - loss: 0.1033 - accuracy: 0.9650 - val_loss: 0.1650 - val_accuracy: 0.9528\n",
      "Epoch 33/100\n",
      "116/116 [==============================] - 0s 4ms/step - loss: 0.1007 - accuracy: 0.9639 - val_loss: 0.1691 - val_accuracy: 0.9560\n",
      "Epoch 34/100\n",
      "116/116 [==============================] - 1s 5ms/step - loss: 0.1007 - accuracy: 0.9650 - val_loss: 0.1658 - val_accuracy: 0.9536\n",
      "Epoch 35/100\n",
      "116/116 [==============================] - 1s 5ms/step - loss: 0.0993 - accuracy: 0.9669 - val_loss: 0.1695 - val_accuracy: 0.9503\n",
      "Epoch 36/100\n",
      "116/116 [==============================] - 0s 4ms/step - loss: 0.0980 - accuracy: 0.9666 - val_loss: 0.1675 - val_accuracy: 0.9495\n",
      "Epoch 37/100\n",
      "116/116 [==============================] - 1s 5ms/step - loss: 0.0956 - accuracy: 0.9669 - val_loss: 0.1677 - val_accuracy: 0.9487\n",
      "Epoch 38/100\n",
      "116/116 [==============================] - 0s 4ms/step - loss: 0.0946 - accuracy: 0.9671 - val_loss: 0.1724 - val_accuracy: 0.9544\n",
      "Epoch 39/100\n",
      "116/116 [==============================] - 0s 4ms/step - loss: 0.0952 - accuracy: 0.9666 - val_loss: 0.1770 - val_accuracy: 0.9568\n",
      "Epoch 40/100\n",
      "116/116 [==============================] - 0s 4ms/step - loss: 0.0942 - accuracy: 0.9674 - val_loss: 0.1745 - val_accuracy: 0.9544\n",
      "Epoch 41/100\n",
      "116/116 [==============================] - 0s 4ms/step - loss: 0.0944 - accuracy: 0.9663 - val_loss: 0.1778 - val_accuracy: 0.9528\n",
      "Epoch 42/100\n",
      "116/116 [==============================] - 0s 4ms/step - loss: 0.0915 - accuracy: 0.9682 - val_loss: 0.1779 - val_accuracy: 0.9544\n",
      "Epoch 43/100\n",
      "116/116 [==============================] - 0s 4ms/step - loss: 0.0904 - accuracy: 0.9671 - val_loss: 0.1787 - val_accuracy: 0.9495\n",
      "Epoch 44/100\n",
      "116/116 [==============================] - 0s 4ms/step - loss: 0.0900 - accuracy: 0.9677 - val_loss: 0.1814 - val_accuracy: 0.9536\n",
      "Epoch 45/100\n",
      "116/116 [==============================] - 0s 3ms/step - loss: 0.0880 - accuracy: 0.9682 - val_loss: 0.1820 - val_accuracy: 0.9495\n",
      "Epoch 46/100\n",
      "116/116 [==============================] - 0s 3ms/step - loss: 0.0850 - accuracy: 0.9701 - val_loss: 0.1885 - val_accuracy: 0.9536\n",
      "Epoch 47/100\n",
      "116/116 [==============================] - 0s 4ms/step - loss: 0.0847 - accuracy: 0.9698 - val_loss: 0.1930 - val_accuracy: 0.9495\n",
      "Epoch 48/100\n",
      "116/116 [==============================] - 0s 4ms/step - loss: 0.0847 - accuracy: 0.9669 - val_loss: 0.1909 - val_accuracy: 0.9528\n",
      "Epoch 49/100\n",
      "116/116 [==============================] - 0s 4ms/step - loss: 0.0853 - accuracy: 0.9666 - val_loss: 0.1900 - val_accuracy: 0.9454\n",
      "Epoch 50/100\n",
      "116/116 [==============================] - 0s 4ms/step - loss: 0.0832 - accuracy: 0.9696 - val_loss: 0.1912 - val_accuracy: 0.9463\n",
      "Epoch 51/100\n",
      "116/116 [==============================] - 0s 4ms/step - loss: 0.0823 - accuracy: 0.9688 - val_loss: 0.1965 - val_accuracy: 0.9577\n",
      "Epoch 52/100\n",
      "116/116 [==============================] - 0s 4ms/step - loss: 0.0808 - accuracy: 0.9696 - val_loss: 0.1972 - val_accuracy: 0.9503\n",
      "Epoch 53/100\n",
      "116/116 [==============================] - 1s 4ms/step - loss: 0.0798 - accuracy: 0.9704 - val_loss: 0.1946 - val_accuracy: 0.9536\n",
      "Epoch 54/100\n",
      "116/116 [==============================] - 0s 4ms/step - loss: 0.0785 - accuracy: 0.9685 - val_loss: 0.2088 - val_accuracy: 0.9454\n",
      "Epoch 55/100\n",
      "116/116 [==============================] - 0s 4ms/step - loss: 0.0791 - accuracy: 0.9701 - val_loss: 0.1992 - val_accuracy: 0.9471\n",
      "Epoch 56/100\n",
      "116/116 [==============================] - 0s 4ms/step - loss: 0.0770 - accuracy: 0.9709 - val_loss: 0.2042 - val_accuracy: 0.9430\n",
      "Epoch 57/100\n",
      "116/116 [==============================] - 0s 4ms/step - loss: 0.0755 - accuracy: 0.9709 - val_loss: 0.2101 - val_accuracy: 0.9520\n"
     ]
    },
    {
     "name": "stdout",
     "output_type": "stream",
     "text": [
      "Epoch 58/100\n",
      "116/116 [==============================] - 0s 4ms/step - loss: 0.0744 - accuracy: 0.9704 - val_loss: 0.2106 - val_accuracy: 0.9479\n",
      "Epoch 59/100\n",
      "116/116 [==============================] - 0s 3ms/step - loss: 0.0727 - accuracy: 0.9736 - val_loss: 0.2163 - val_accuracy: 0.9349\n",
      "Epoch 60/100\n",
      "116/116 [==============================] - 0s 4ms/step - loss: 0.0921 - accuracy: 0.9658 - val_loss: 0.2161 - val_accuracy: 0.9446\n",
      "Epoch 61/100\n",
      "116/116 [==============================] - 0s 4ms/step - loss: 0.0771 - accuracy: 0.9688 - val_loss: 0.2164 - val_accuracy: 0.9422\n",
      "Epoch 62/100\n",
      "116/116 [==============================] - 0s 4ms/step - loss: 0.0730 - accuracy: 0.9723 - val_loss: 0.2189 - val_accuracy: 0.9511\n",
      "Epoch 63/100\n",
      "116/116 [==============================] - 0s 4ms/step - loss: 0.0740 - accuracy: 0.9717 - val_loss: 0.2189 - val_accuracy: 0.9528\n",
      "Epoch 64/100\n",
      "116/116 [==============================] - 0s 4ms/step - loss: 0.0735 - accuracy: 0.9734 - val_loss: 0.2189 - val_accuracy: 0.9511\n",
      "Epoch 65/100\n",
      "116/116 [==============================] - 0s 4ms/step - loss: 0.0687 - accuracy: 0.9747 - val_loss: 0.2258 - val_accuracy: 0.9511\n",
      "Epoch 66/100\n",
      "116/116 [==============================] - 0s 4ms/step - loss: 0.0692 - accuracy: 0.9731 - val_loss: 0.2207 - val_accuracy: 0.9438\n",
      "Epoch 67/100\n",
      "116/116 [==============================] - 0s 4ms/step - loss: 0.0683 - accuracy: 0.9753 - val_loss: 0.2233 - val_accuracy: 0.9511\n",
      "Epoch 68/100\n",
      "116/116 [==============================] - 0s 4ms/step - loss: 0.0665 - accuracy: 0.9734 - val_loss: 0.2248 - val_accuracy: 0.9422\n",
      "Epoch 69/100\n",
      "116/116 [==============================] - 0s 4ms/step - loss: 0.0658 - accuracy: 0.9753 - val_loss: 0.2330 - val_accuracy: 0.9495\n",
      "Epoch 70/100\n",
      "116/116 [==============================] - 0s 4ms/step - loss: 0.0671 - accuracy: 0.9728 - val_loss: 0.2354 - val_accuracy: 0.9471\n",
      "Epoch 71/100\n",
      "116/116 [==============================] - 0s 4ms/step - loss: 0.0656 - accuracy: 0.9742 - val_loss: 0.2341 - val_accuracy: 0.9511\n",
      "Epoch 72/100\n",
      "116/116 [==============================] - 0s 4ms/step - loss: 0.0642 - accuracy: 0.9780 - val_loss: 0.2391 - val_accuracy: 0.9528\n",
      "Epoch 73/100\n",
      "116/116 [==============================] - 1s 5ms/step - loss: 0.0644 - accuracy: 0.9764 - val_loss: 0.2420 - val_accuracy: 0.9381\n",
      "Epoch 74/100\n",
      "116/116 [==============================] - 1s 7ms/step - loss: 0.0625 - accuracy: 0.9775 - val_loss: 0.2395 - val_accuracy: 0.9487\n",
      "Epoch 75/100\n",
      "116/116 [==============================] - 1s 6ms/step - loss: 0.0630 - accuracy: 0.9775 - val_loss: 0.2401 - val_accuracy: 0.9446\n",
      "Epoch 76/100\n",
      "116/116 [==============================] - 1s 5ms/step - loss: 0.0602 - accuracy: 0.9777 - val_loss: 0.2519 - val_accuracy: 0.9438\n",
      "Epoch 77/100\n",
      "116/116 [==============================] - 0s 4ms/step - loss: 0.0624 - accuracy: 0.9747 - val_loss: 0.2442 - val_accuracy: 0.9422\n",
      "Epoch 78/100\n",
      "116/116 [==============================] - 0s 4ms/step - loss: 0.0596 - accuracy: 0.9775 - val_loss: 0.2544 - val_accuracy: 0.9479\n",
      "Epoch 79/100\n",
      "116/116 [==============================] - 1s 5ms/step - loss: 0.0610 - accuracy: 0.9750 - val_loss: 0.2480 - val_accuracy: 0.9422\n",
      "Epoch 80/100\n",
      "116/116 [==============================] - 0s 4ms/step - loss: 0.0612 - accuracy: 0.9777 - val_loss: 0.2577 - val_accuracy: 0.9503\n",
      "Epoch 81/100\n",
      "116/116 [==============================] - 0s 3ms/step - loss: 0.0588 - accuracy: 0.9785 - val_loss: 0.2533 - val_accuracy: 0.9406\n",
      "Epoch 82/100\n",
      "116/116 [==============================] - 0s 4ms/step - loss: 0.0584 - accuracy: 0.9788 - val_loss: 0.2587 - val_accuracy: 0.9463\n",
      "Epoch 83/100\n",
      "116/116 [==============================] - 0s 3ms/step - loss: 0.0555 - accuracy: 0.9796 - val_loss: 0.2680 - val_accuracy: 0.9471\n",
      "Epoch 84/100\n",
      "116/116 [==============================] - 0s 3ms/step - loss: 0.0579 - accuracy: 0.9788 - val_loss: 0.2593 - val_accuracy: 0.9503\n",
      "Epoch 85/100\n",
      "116/116 [==============================] - 1s 5ms/step - loss: 0.0545 - accuracy: 0.9783 - val_loss: 0.2700 - val_accuracy: 0.9389\n",
      "Epoch 86/100\n",
      "116/116 [==============================] - 0s 4ms/step - loss: 0.0546 - accuracy: 0.9807 - val_loss: 0.2700 - val_accuracy: 0.9381\n",
      "Epoch 87/100\n",
      "116/116 [==============================] - 0s 3ms/step - loss: 0.0545 - accuracy: 0.9799 - val_loss: 0.2714 - val_accuracy: 0.9446\n",
      "Epoch 88/100\n",
      "116/116 [==============================] - 0s 3ms/step - loss: 0.0539 - accuracy: 0.9796 - val_loss: 0.2666 - val_accuracy: 0.9422\n",
      "Epoch 89/100\n",
      "116/116 [==============================] - 0s 3ms/step - loss: 0.0530 - accuracy: 0.9813 - val_loss: 0.2711 - val_accuracy: 0.9406\n",
      "Epoch 90/100\n",
      "116/116 [==============================] - 1s 5ms/step - loss: 0.0533 - accuracy: 0.9788 - val_loss: 0.2827 - val_accuracy: 0.9406\n",
      "Epoch 91/100\n",
      "116/116 [==============================] - 1s 5ms/step - loss: 0.0533 - accuracy: 0.9804 - val_loss: 0.2836 - val_accuracy: 0.9463\n",
      "Epoch 92/100\n",
      "116/116 [==============================] - 1s 5ms/step - loss: 0.0513 - accuracy: 0.9810 - val_loss: 0.2783 - val_accuracy: 0.9365\n",
      "Epoch 93/100\n",
      "116/116 [==============================] - 1s 4ms/step - loss: 0.0528 - accuracy: 0.9794 - val_loss: 0.2864 - val_accuracy: 0.9397\n",
      "Epoch 94/100\n",
      "116/116 [==============================] - 0s 3ms/step - loss: 0.0528 - accuracy: 0.9794 - val_loss: 0.2869 - val_accuracy: 0.9406\n",
      "Epoch 95/100\n",
      "116/116 [==============================] - 0s 4ms/step - loss: 0.0513 - accuracy: 0.9813 - val_loss: 0.2924 - val_accuracy: 0.9292\n",
      "Epoch 96/100\n",
      "116/116 [==============================] - 0s 3ms/step - loss: 0.0529 - accuracy: 0.9761 - val_loss: 0.2853 - val_accuracy: 0.9397\n",
      "Epoch 97/100\n",
      "116/116 [==============================] - 0s 3ms/step - loss: 0.0495 - accuracy: 0.9815 - val_loss: 0.2957 - val_accuracy: 0.9438\n",
      "Epoch 98/100\n",
      "116/116 [==============================] - 0s 3ms/step - loss: 0.0480 - accuracy: 0.9802 - val_loss: 0.2934 - val_accuracy: 0.9357\n",
      "Epoch 99/100\n",
      "116/116 [==============================] - 0s 3ms/step - loss: 0.0487 - accuracy: 0.9807 - val_loss: 0.3001 - val_accuracy: 0.9300\n",
      "Epoch 100/100\n",
      "116/116 [==============================] - 0s 3ms/step - loss: 0.0476 - accuracy: 0.9807 - val_loss: 0.3018 - val_accuracy: 0.9406\n"
     ]
    }
   ],
   "source": [
    "# Train the model\n",
    "fit_model_deep = deep_nn_model.fit(X_train_scaled, y_train, validation_data = (X_test_scaled, y_test), epochs=100)"
   ]
  },
  {
   "cell_type": "code",
   "execution_count": 36,
   "id": "08746fc1",
   "metadata": {},
   "outputs": [
    {
     "data": {
      "text/html": [
       "<div>\n",
       "<style scoped>\n",
       "    .dataframe tbody tr th:only-of-type {\n",
       "        vertical-align: middle;\n",
       "    }\n",
       "\n",
       "    .dataframe tbody tr th {\n",
       "        vertical-align: top;\n",
       "    }\n",
       "\n",
       "    .dataframe thead th {\n",
       "        text-align: right;\n",
       "    }\n",
       "</style>\n",
       "<table border=\"1\" class=\"dataframe\">\n",
       "  <thead>\n",
       "    <tr style=\"text-align: right;\">\n",
       "      <th></th>\n",
       "      <th>loss</th>\n",
       "      <th>accuracy</th>\n",
       "      <th>val_loss</th>\n",
       "      <th>val_accuracy</th>\n",
       "    </tr>\n",
       "  </thead>\n",
       "  <tbody>\n",
       "    <tr>\n",
       "      <th>1</th>\n",
       "      <td>0.217416</td>\n",
       "      <td>0.939147</td>\n",
       "      <td>0.153603</td>\n",
       "      <td>0.957655</td>\n",
       "    </tr>\n",
       "    <tr>\n",
       "      <th>2</th>\n",
       "      <td>0.150304</td>\n",
       "      <td>0.957349</td>\n",
       "      <td>0.144475</td>\n",
       "      <td>0.957655</td>\n",
       "    </tr>\n",
       "    <tr>\n",
       "      <th>3</th>\n",
       "      <td>0.143223</td>\n",
       "      <td>0.957349</td>\n",
       "      <td>0.142494</td>\n",
       "      <td>0.957655</td>\n",
       "    </tr>\n",
       "    <tr>\n",
       "      <th>4</th>\n",
       "      <td>0.138641</td>\n",
       "      <td>0.957349</td>\n",
       "      <td>0.143137</td>\n",
       "      <td>0.956840</td>\n",
       "    </tr>\n",
       "    <tr>\n",
       "      <th>5</th>\n",
       "      <td>0.137385</td>\n",
       "      <td>0.957620</td>\n",
       "      <td>0.142234</td>\n",
       "      <td>0.957655</td>\n",
       "    </tr>\n",
       "    <tr>\n",
       "      <th>...</th>\n",
       "      <td>...</td>\n",
       "      <td>...</td>\n",
       "      <td>...</td>\n",
       "      <td>...</td>\n",
       "    </tr>\n",
       "    <tr>\n",
       "      <th>96</th>\n",
       "      <td>0.052885</td>\n",
       "      <td>0.976093</td>\n",
       "      <td>0.285290</td>\n",
       "      <td>0.939739</td>\n",
       "    </tr>\n",
       "    <tr>\n",
       "      <th>97</th>\n",
       "      <td>0.049479</td>\n",
       "      <td>0.981527</td>\n",
       "      <td>0.295651</td>\n",
       "      <td>0.943811</td>\n",
       "    </tr>\n",
       "    <tr>\n",
       "      <th>98</th>\n",
       "      <td>0.048004</td>\n",
       "      <td>0.980168</td>\n",
       "      <td>0.293385</td>\n",
       "      <td>0.935668</td>\n",
       "    </tr>\n",
       "    <tr>\n",
       "      <th>99</th>\n",
       "      <td>0.048748</td>\n",
       "      <td>0.980712</td>\n",
       "      <td>0.300065</td>\n",
       "      <td>0.929967</td>\n",
       "    </tr>\n",
       "    <tr>\n",
       "      <th>100</th>\n",
       "      <td>0.047637</td>\n",
       "      <td>0.980712</td>\n",
       "      <td>0.301831</td>\n",
       "      <td>0.940554</td>\n",
       "    </tr>\n",
       "  </tbody>\n",
       "</table>\n",
       "<p>100 rows × 4 columns</p>\n",
       "</div>"
      ],
      "text/plain": [
       "         loss  accuracy  val_loss  val_accuracy\n",
       "1    0.217416  0.939147  0.153603      0.957655\n",
       "2    0.150304  0.957349  0.144475      0.957655\n",
       "3    0.143223  0.957349  0.142494      0.957655\n",
       "4    0.138641  0.957349  0.143137      0.956840\n",
       "5    0.137385  0.957620  0.142234      0.957655\n",
       "..        ...       ...       ...           ...\n",
       "96   0.052885  0.976093  0.285290      0.939739\n",
       "97   0.049479  0.981527  0.295651      0.943811\n",
       "98   0.048004  0.980168  0.293385      0.935668\n",
       "99   0.048748  0.980712  0.300065      0.929967\n",
       "100  0.047637  0.980712  0.301831      0.940554\n",
       "\n",
       "[100 rows x 4 columns]"
      ]
     },
     "execution_count": 36,
     "metadata": {},
     "output_type": "execute_result"
    }
   ],
   "source": [
    "# Create a DataFrame containing training history\n",
    "deep_history_df = pd.DataFrame(fit_model_deep.history, index=range(1,len(fit_model_deep.history[\"loss\"])+1))\n",
    "deep_history_df"
   ]
  },
  {
   "cell_type": "code",
   "execution_count": 37,
   "id": "4c577bab",
   "metadata": {},
   "outputs": [
    {
     "data": {
      "image/png": "[encoded data removed]",
      "text/plain": [
       "<Figure size 432x288 with 1 Axes>"
      ]
     },
     "metadata": {
      "needs_background": "light"
     },
     "output_type": "display_data"
    }
   ],
   "source": [
    "#Plot the history\n",
    "deep_history_plot = deep_history_df.plot(title = \"Deep Learning History\",colormap= \"viridis\")\n"
   ]
  },
  {
   "cell_type": "code",
   "execution_count": 38,
   "id": "666e3645",
   "metadata": {},
   "outputs": [
    {
     "data": {
      "text/plain": [
       "<AxesSubplot:>"
      ]
     },
     "execution_count": 38,
     "metadata": {},
     "output_type": "execute_result"
    },
    {
     "data": {
      "image/png": "[encoded data removed]",
      "text/plain": [
       "<Figure size 432x288 with 1 Axes>"
      ]
     },
     "metadata": {
      "needs_background": "light"
     },
     "output_type": "display_data"
    }
   ],
   "source": [
    "# Plot the loss\n",
    "deep_history_df.plot(y=[\"loss\", \"val_loss\"], colormap= \"viridis\")"
   ]
  },
  {
   "cell_type": "code",
   "execution_count": 39,
   "id": "b3de5eff",
   "metadata": {},
   "outputs": [
    {
     "data": {
      "text/plain": [
       "<AxesSubplot:>"
      ]
     },
     "execution_count": 39,
     "metadata": {},
     "output_type": "execute_result"
    },
    {
     "data": {
      "image/png": "[encoded data removed]",
      "text/plain": [
       "<Figure size 432x288 with 1 Axes>"
      ]
     },
     "metadata": {
      "needs_background": "light"
     },
     "output_type": "display_data"
    }
   ],
   "source": [
    "# Plot the accuracy\n",
    "deep_history_df.plot(y=[\"accuracy\", \"val_accuracy\"], colormap= \"viridis\")"
   ]
  },
  {
   "cell_type": "code",
   "execution_count": 40,
   "id": "07538d00",
   "metadata": {},
   "outputs": [
    {
     "name": "stdout",
     "output_type": "stream",
     "text": [
      " The loss for the deep learning model is: 0.3018311858177185, The accuracy is: 0.9405537247657776\n"
     ]
    }
   ],
   "source": [
    "# Evaluate the model using the test data\n",
    "dl_model_loss, dl_model_accuracy = deep_nn_model.evaluate(X_test_scaled,y_test,verbose=0)\n",
    "print(f\" The loss for the deep learning model is: {dl_model_loss}, The accuracy is: {dl_model_accuracy}\")"
   ]
  },
  {
   "cell_type": "code",
   "execution_count": 41,
   "id": "a952527b",
   "metadata": {},
   "outputs": [],
   "source": [
    "#Y_pred: flatten & Convert prediction probabilities to binary format\n",
    "y_pred_dl = deep_nn_model.predict(X_test_scaled)\n",
    "y_pred_dl = y_pred_dl.flatten()\n",
    "y_pred_dl_tf=tf.round(y_pred_dl)"
   ]
  },
  {
   "cell_type": "code",
   "execution_count": 42,
   "id": "036d2540",
   "metadata": {},
   "outputs": [
    {
     "name": "stdout",
     "output_type": "stream",
     "text": [
      "[[   2   50]\n",
      " [  23 1153]]\n"
     ]
    },
    {
     "data": {
      "text/plain": [
       "<sklearn.metrics._plot.confusion_matrix.ConfusionMatrixDisplay at 0x1f2d69d5208>"
      ]
     },
     "execution_count": 42,
     "metadata": {},
     "output_type": "execute_result"
    },
    {
     "data": {
      "image/png": "[encoded data removed]",
      "text/plain": [
       "<Figure size 432x288 with 2 Axes>"
      ]
     },
     "metadata": {
      "needs_background": "light"
     },
     "output_type": "display_data"
    }
   ],
   "source": [
    "# Display the confusion matrix\n",
    "dl_nn_cm = confusion_matrix(y_test, y_pred_dl_tf, labels=[1,0])\n",
    "print (dl_nn_cm)\n",
    "dl_disp = ConfusionMatrixDisplay(confusion_matrix=dl_nn_cm, display_labels=[1,0])\n",
    "dl_disp.plot()\n",
    "dl_disp.ax_.set_title(\"Deep Learning Confusion Matrix\")\n",
    "dl_disp"
   ]
  },
  {
   "cell_type": "code",
   "execution_count": 43,
   "id": "cee11ed2",
   "metadata": {},
   "outputs": [
    {
     "name": "stdout",
     "output_type": "stream",
     "text": [
      "Accuracy Score of the Deep Learning Model: 0.9405537459283387\n",
      "Recall Score of the Deep Learning Model: 0.038461538461538464\n",
      "Specifity Score of the Deep Learning Model: 0.9897959183673469\n",
      "Balanced Accuracy Score of the Multiple Perceptron Model: 0.5094518576661434\n",
      "Precision Score of the Deep Learning Model: 0.08\n",
      "F1 Score Score of the Deep Learning Model: 0.05194805194805195\n",
      "Loss of the Deep Learning Model: 0.3018311858177185\n"
     ]
    },
    {
     "data": {
      "text/html": [
       "<div>\n",
       "<style scoped>\n",
       "    .dataframe tbody tr th:only-of-type {\n",
       "        vertical-align: middle;\n",
       "    }\n",
       "\n",
       "    .dataframe tbody tr th {\n",
       "        vertical-align: top;\n",
       "    }\n",
       "\n",
       "    .dataframe thead th {\n",
       "        text-align: right;\n",
       "    }\n",
       "</style>\n",
       "<table border=\"1\" class=\"dataframe\">\n",
       "  <thead>\n",
       "    <tr style=\"text-align: right;\">\n",
       "      <th></th>\n",
       "      <th>Model Type</th>\n",
       "      <th>Accuracy</th>\n",
       "      <th>Recall</th>\n",
       "      <th>Specificity</th>\n",
       "      <th>Balanced Accuracy</th>\n",
       "      <th>Precision</th>\n",
       "      <th>F1 Score</th>\n",
       "      <th>Loss</th>\n",
       "    </tr>\n",
       "  </thead>\n",
       "  <tbody>\n",
       "    <tr>\n",
       "      <th>0</th>\n",
       "      <td>Deep Learning</td>\n",
       "      <td>0.940554</td>\n",
       "      <td>0.038462</td>\n",
       "      <td>0.989796</td>\n",
       "      <td>0.509452</td>\n",
       "      <td>0.08</td>\n",
       "      <td>0.051948</td>\n",
       "      <td>0.301831</td>\n",
       "    </tr>\n",
       "  </tbody>\n",
       "</table>\n",
       "</div>"
      ],
      "text/plain": [
       "      Model Type  Accuracy    Recall  Specificity  Balanced Accuracy  \\\n",
       "0  Deep Learning  0.940554  0.038462     0.989796           0.509452   \n",
       "\n",
       "   Precision  F1 Score      Loss  \n",
       "0       0.08  0.051948  0.301831  "
      ]
     },
     "execution_count": 43,
     "metadata": {},
     "output_type": "execute_result"
    }
   ],
   "source": [
    "# Advanced Classification Metrics\n",
    "# Accuracy\n",
    "dl_accuracy_score = accuracy_score(y_test, y_pred_dl_tf)\n",
    "print(f'Accuracy Score of the Deep Learning Model: {dl_accuracy_score}')\n",
    "\n",
    "## Recall/Sensitivity\n",
    "dl_recall_score = recall_score(y_test, y_pred_dl_tf)\n",
    "print(f'Recall Score of the Deep Learning Model: {dl_recall_score}')\n",
    "\n",
    "# Specificity\n",
    "dl_specificity_score = 1164 / 1176\n",
    "print(f'Specifity Score of the Deep Learning Model: {dl_specificity_score}')\n",
    "\n",
    "# Balanced Accuracy Score\n",
    "dl_bas = balanced_accuracy_score(y_test, y_pred_dl_tf)\n",
    "print(f'Balanced Accuracy Score of the Multiple Perceptron Model: {dl_bas}')\n",
    "\n",
    "# Precision\n",
    "dl_precision_score = precision_score(y_test, y_pred_dl_tf)\n",
    "print(f'Precision Score of the Deep Learning Model: {dl_precision_score}')     \n",
    "      \n",
    "# F1 Score\n",
    "dl_f1_score = f1_score(y_test, y_pred_dl_tf)\n",
    "print(f'F1 Score Score of the Deep Learning Model: {dl_f1_score}')\n",
    "\n",
    "# Loss Score\n",
    "print(f'Loss of the Deep Learning Model: {dl_model_loss}')\n",
    "\n",
    "# Advanced Classification Metrics DF\n",
    "dl_acm = {\"Model Type\": [\"Deep Learning\"], \"Accuracy\":[dl_accuracy_score], \"Recall\": [dl_recall_score], \"Specificity\":[dl_specificity_score], \n",
    "          \"Balanced Accuracy\": [dl_bas], \"Precision\":[dl_precision_score], \"F1 Score\":[dl_f1_score], \"Loss\": [dl_model_loss]}\n",
    "dl_acm_df = pd.DataFrame(data=dl_acm)\n",
    "dl_acm_df"
   ]
  },
  {
   "cell_type": "markdown",
   "id": "2a58640b",
   "metadata": {},
   "source": [
    "## Comparison of the Models"
   ]
  },
  {
   "cell_type": "code",
   "execution_count": 44,
   "id": "7002dc78",
   "metadata": {},
   "outputs": [
    {
     "data": {
      "image/png": "[encoded data removed]",
      "text/plain": [
       "<Figure size 432x288 with 1 Axes>"
      ]
     },
     "metadata": {
      "needs_background": "light"
     },
     "output_type": "display_data"
    },
    {
     "data": {
      "image/png": "[encoded data removed]",
      "text/plain": [
       "<Figure size 432x288 with 1 Axes>"
      ]
     },
     "metadata": {
      "needs_background": "light"
     },
     "output_type": "display_data"
    },
    {
     "data": {
      "image/png": "[encoded data removed]",
      "text/plain": [
       "<Figure size 432x288 with 1 Axes>"
      ]
     },
     "metadata": {
      "needs_background": "light"
     },
     "output_type": "display_data"
    }
   ],
   "source": [
    "nn_history_plot = nn_history_df.plot(title = \"Single Perceptron History\",colormap= \"viridis\")\n",
    "multi_history_plotf = multi_history_df.plot(title = \"Multiple Perceptron History\",colormap= \"viridis\")\n",
    "deep_history_plot = deep_history_df.plot(title = \"Deep Learning History\",colormap= \"viridis\")"
   ]
  },
  {
   "cell_type": "code",
   "execution_count": 45,
   "id": "4c5a63d0",
   "metadata": {},
   "outputs": [
    {
     "data": {
      "text/plain": [
       "<sklearn.metrics._plot.confusion_matrix.ConfusionMatrixDisplay at 0x1f2d69d5208>"
      ]
     },
     "execution_count": 45,
     "metadata": {},
     "output_type": "execute_result"
    },
    {
     "data": {
      "image/png": "[encoded data removed]",
      "text/plain": [
       "<Figure size 432x288 with 2 Axes>"
      ]
     },
     "metadata": {
      "needs_background": "light"
     },
     "output_type": "display_data"
    },
    {
     "data": {
      "image/png": "[encoded data removed]",
      "text/plain": [
       "<Figure size 432x288 with 2 Axes>"
      ]
     },
     "metadata": {
      "needs_background": "light"
     },
     "output_type": "display_data"
    },
    {
     "data": {
      "image/png": "[encoded data removed]",
      "text/plain": [
       "<Figure size 432x288 with 2 Axes>"
      ]
     },
     "metadata": {
      "needs_background": "light"
     },
     "output_type": "display_data"
    }
   ],
   "source": [
    "# Single Perceptron Confusion Matrix\n",
    "nn_disp.plot()\n",
    "nn_disp.ax_.set_title(\"Single Perceptron Confusion Matrix\")\n",
    "\n",
    "# Multiple Perceptron Confusion Matrix\n",
    "multi_disp.plot()\n",
    "multi_disp.ax_.set_title(\"Multiple Perceptron Confusion Matrix\")\n",
    "\n",
    "# Deep Learning Confusion Matrix\n",
    "dl_disp.plot()\n",
    "dl_disp.ax_.set_title(\"Deep Learning Confusion Matrix\")\n",
    "dl_disp"
   ]
  },
  {
   "cell_type": "code",
   "execution_count": 46,
   "id": "ebbe430f",
   "metadata": {
    "scrolled": true
   },
   "outputs": [
    {
     "data": {
      "text/html": [
       "<div>\n",
       "<style scoped>\n",
       "    .dataframe tbody tr th:only-of-type {\n",
       "        vertical-align: middle;\n",
       "    }\n",
       "\n",
       "    .dataframe tbody tr th {\n",
       "        vertical-align: top;\n",
       "    }\n",
       "\n",
       "    .dataframe thead th {\n",
       "        text-align: right;\n",
       "    }\n",
       "</style>\n",
       "<table border=\"1\" class=\"dataframe\">\n",
       "  <thead>\n",
       "    <tr style=\"text-align: right;\">\n",
       "      <th></th>\n",
       "      <th>Model Type</th>\n",
       "      <th>Accuracy</th>\n",
       "      <th>Recall</th>\n",
       "      <th>Specificity</th>\n",
       "      <th>Balanced Accuracy</th>\n",
       "      <th>Precision</th>\n",
       "      <th>F1 Score</th>\n",
       "      <th>Loss</th>\n",
       "    </tr>\n",
       "  </thead>\n",
       "  <tbody>\n",
       "    <tr>\n",
       "      <th>0</th>\n",
       "      <td>Single Perceptron</td>\n",
       "      <td>0.758958</td>\n",
       "      <td>0.769231</td>\n",
       "      <td>0.715136</td>\n",
       "      <td>0.763867</td>\n",
       "      <td>0.123457</td>\n",
       "      <td>0.212766</td>\n",
       "      <td>0.470768</td>\n",
       "    </tr>\n",
       "    <tr>\n",
       "      <th>1</th>\n",
       "      <td>Multi Perceptron</td>\n",
       "      <td>0.804560</td>\n",
       "      <td>0.615385</td>\n",
       "      <td>0.807823</td>\n",
       "      <td>0.714155</td>\n",
       "      <td>0.126984</td>\n",
       "      <td>0.210526</td>\n",
       "      <td>0.398965</td>\n",
       "    </tr>\n",
       "    <tr>\n",
       "      <th>2</th>\n",
       "      <td>Deep Learning</td>\n",
       "      <td>0.940554</td>\n",
       "      <td>0.038462</td>\n",
       "      <td>0.989796</td>\n",
       "      <td>0.509452</td>\n",
       "      <td>0.080000</td>\n",
       "      <td>0.051948</td>\n",
       "      <td>0.301831</td>\n",
       "    </tr>\n",
       "  </tbody>\n",
       "</table>\n",
       "</div>"
      ],
      "text/plain": [
       "          Model Type  Accuracy    Recall  Specificity  Balanced Accuracy  \\\n",
       "0  Single Perceptron  0.758958  0.769231     0.715136           0.763867   \n",
       "1   Multi Perceptron  0.804560  0.615385     0.807823           0.714155   \n",
       "2      Deep Learning  0.940554  0.038462     0.989796           0.509452   \n",
       "\n",
       "   Precision  F1 Score      Loss  \n",
       "0   0.123457  0.212766  0.470768  \n",
       "1   0.126984  0.210526  0.398965  \n",
       "2   0.080000  0.051948  0.301831  "
      ]
     },
     "execution_count": 46,
     "metadata": {},
     "output_type": "execute_result"
    }
   ],
   "source": [
    "# Total Advanced Classification Metrics DF\n",
    "total_acm = ({\"Model Type\": \"Single Perceptron\", \"Accuracy\":nn_accuracy_score, \"Recall\": nn_recall_score, \"Specificity\":nn_specificity_score, \n",
    "          \"Balanced Accuracy\": nn_bas, \"Precision\":nn_precision_score, \"F1 Score\":nn_f1_score, \"Loss\": nn_model_loss }, {\"Model Type\": \"Multi Perceptron\", \"Accuracy\":multi_accuracy_score, \"Recall\": multi_recall_score, \"Specificity\":multi_specificity_score, \n",
    "          \"Balanced Accuracy\": multi_bas, \"Precision\":multi_precision_score, \"F1 Score\":multi_f1_score, \"Loss\": multi_model_loss}, {\"Model Type\": \"Deep Learning\", \"Accuracy\":dl_accuracy_score, \"Recall\": dl_recall_score, \"Specificity\":dl_specificity_score, \n",
    "          \"Balanced Accuracy\": dl_bas, \"Precision\":dl_precision_score, \"F1 Score\":dl_f1_score, \"Loss\": dl_model_loss})\n",
    "total_acm_df = pd.DataFrame(data=total_acm)\n",
    "total_acm_df"
   ]
  },
  {
   "cell_type": "markdown",
   "id": "4f13c394",
   "metadata": {},
   "source": [
    "## 5 Epochs"
   ]
  },
  {
   "cell_type": "code",
   "execution_count": 127,
   "id": "46476129",
   "metadata": {},
   "outputs": [
    {
     "name": "stdout",
     "output_type": "stream",
     "text": [
      "Model: \"sequential_13\"\n",
      "_________________________________________________________________\n",
      " Layer (type)                Output Shape              Param #   \n",
      "=================================================================\n",
      " dense_37 (Dense)            (None, 3000)              66000     \n",
      "                                                                 \n",
      " dense_38 (Dense)            (None, 1500)              4501500   \n",
      "                                                                 \n",
      " dense_39 (Dense)            (None, 800)               1200800   \n",
      "                                                                 \n",
      " dense_40 (Dense)            (None, 1)                 801       \n",
      "                                                                 \n",
      "=================================================================\n",
      "Total params: 5,769,101\n",
      "Trainable params: 5,769,101\n",
      "Non-trainable params: 0\n",
      "_________________________________________________________________\n"
     ]
    }
   ],
   "source": [
    "# Define the model - deep neural net\n",
    "number_input_features = len(X_train[0])\n",
    "hidden_nodes_layer1 = 3000\n",
    "hidden_nodes_layer2 = 1500\n",
    "hidden_nodes_layer3 = 800\n",
    "\n",
    "deep_nn_model_5 = tf.keras.models.Sequential()\n",
    "\n",
    "# First hidden layer\n",
    "deep_nn_model_5.add(\n",
    "    tf.keras.layers.Dense(units=hidden_nodes_layer1, input_dim=number_input_features, activation=\"relu\")\n",
    ")\n",
    "\n",
    "# Second hidden layer\n",
    "deep_nn_model_5.add(tf.keras.layers.Dense(units=hidden_nodes_layer2, activation=\"relu\"))\n",
    "\n",
    "# Third hidden layer\n",
    "deep_nn_model_5.add(tf.keras.layers.Dense(units=hidden_nodes_layer3, activation=\"relu\"))\n",
    "\n",
    "# Output layer\n",
    "deep_nn_model_5.add(tf.keras.layers.Dense(units=1, activation=\"sigmoid\"))\n",
    "\n",
    "# Check the structure of the model\n",
    "deep_nn_model_5.summary()\n",
    "\n",
    "\n",
    "# Compile the model\n",
    "deep_nn_model_5.compile(loss=\"binary_crossentropy\", optimizer=\"adam\", metrics=[\"accuracy\"])"
   ]
  },
  {
   "cell_type": "code",
   "execution_count": 128,
   "id": "20ab021d",
   "metadata": {
    "scrolled": true
   },
   "outputs": [
    {
     "name": "stdout",
     "output_type": "stream",
     "text": [
      "Epoch 1/20\n",
      "116/116 [==============================] - 13s 98ms/step - loss: 0.1818 - accuracy: 0.9503 - val_loss: 0.2053 - val_accuracy: 0.9577\n",
      "Epoch 2/20\n",
      "116/116 [==============================] - 8s 70ms/step - loss: 0.1595 - accuracy: 0.9573 - val_loss: 0.1451 - val_accuracy: 0.9577\n",
      "Epoch 3/20\n",
      "116/116 [==============================] - 8s 71ms/step - loss: 0.1458 - accuracy: 0.9573 - val_loss: 0.1503 - val_accuracy: 0.9577\n",
      "Epoch 4/20\n",
      "116/116 [==============================] - 8s 65ms/step - loss: 0.1418 - accuracy: 0.9573 - val_loss: 0.1439 - val_accuracy: 0.9577\n",
      "Epoch 5/20\n",
      "116/116 [==============================] - 8s 66ms/step - loss: 0.1362 - accuracy: 0.9579 - val_loss: 0.1616 - val_accuracy: 0.9577\n",
      "Epoch 6/20\n",
      "116/116 [==============================] - 6s 55ms/step - loss: 0.1363 - accuracy: 0.9573 - val_loss: 0.1533 - val_accuracy: 0.9585\n",
      "Epoch 7/20\n",
      "116/116 [==============================] - 7s 58ms/step - loss: 0.1369 - accuracy: 0.9571 - val_loss: 0.1488 - val_accuracy: 0.9585\n",
      "Epoch 8/20\n",
      "116/116 [==============================] - 7s 62ms/step - loss: 0.1389 - accuracy: 0.9582 - val_loss: 0.1691 - val_accuracy: 0.9568\n",
      "Epoch 9/20\n",
      "116/116 [==============================] - 8s 72ms/step - loss: 0.1359 - accuracy: 0.9573 - val_loss: 0.1482 - val_accuracy: 0.9577\n",
      "Epoch 10/20\n",
      "116/116 [==============================] - 9s 77ms/step - loss: 0.1312 - accuracy: 0.9584 - val_loss: 0.1495 - val_accuracy: 0.9552\n",
      "Epoch 11/20\n",
      "116/116 [==============================] - 5s 46ms/step - loss: 0.1280 - accuracy: 0.9573 - val_loss: 0.1465 - val_accuracy: 0.9577\n",
      "Epoch 12/20\n",
      "116/116 [==============================] - 5s 45ms/step - loss: 0.1286 - accuracy: 0.9582 - val_loss: 0.1585 - val_accuracy: 0.9568\n",
      "Epoch 13/20\n",
      "116/116 [==============================] - 5s 43ms/step - loss: 0.1247 - accuracy: 0.9584 - val_loss: 0.1505 - val_accuracy: 0.9577\n",
      "Epoch 14/20\n",
      "116/116 [==============================] - 6s 48ms/step - loss: 0.1194 - accuracy: 0.9593 - val_loss: 0.1565 - val_accuracy: 0.9568\n",
      "Epoch 15/20\n",
      "116/116 [==============================] - 5s 43ms/step - loss: 0.1166 - accuracy: 0.9587 - val_loss: 0.1918 - val_accuracy: 0.9577\n",
      "Epoch 16/20\n",
      "116/116 [==============================] - 5s 43ms/step - loss: 0.1202 - accuracy: 0.9593 - val_loss: 0.1671 - val_accuracy: 0.9593\n",
      "Epoch 17/20\n",
      "116/116 [==============================] - 5s 43ms/step - loss: 0.1077 - accuracy: 0.9620 - val_loss: 0.2278 - val_accuracy: 0.9568\n",
      "Epoch 18/20\n",
      "116/116 [==============================] - 5s 43ms/step - loss: 0.1151 - accuracy: 0.9609 - val_loss: 0.1633 - val_accuracy: 0.9568\n",
      "Epoch 19/20\n",
      "116/116 [==============================] - 5s 43ms/step - loss: 0.1057 - accuracy: 0.9620 - val_loss: 0.1978 - val_accuracy: 0.9381\n",
      "Epoch 20/20\n",
      "116/116 [==============================] - 5s 44ms/step - loss: 0.1054 - accuracy: 0.9633 - val_loss: 0.1776 - val_accuracy: 0.9528\n"
     ]
    }
   ],
   "source": [
    "# Train the model\n",
    "fit_model_deep_5 = deep_nn_model_5.fit(X_train_scaled, y_train, validation_data = (X_test_scaled, y_test), epochs=20)\n",
    "\n",
    "# Create a DataFrame containing training history\n",
    "deep_history_df_5 = pd.DataFrame(fit_model_deep_5.history, index=range(1,len(fit_model_deep_5.history[\"loss\"])+1))"
   ]
  },
  {
   "cell_type": "code",
   "execution_count": 129,
   "id": "2718d997",
   "metadata": {
    "scrolled": true
   },
   "outputs": [
    {
     "data": {
      "image/png": "[encoded data removed]",
      "text/plain": [
       "<Figure size 432x288 with 1 Axes>"
      ]
     },
     "metadata": {
      "needs_background": "light"
     },
     "output_type": "display_data"
    }
   ],
   "source": [
    "#Plot the history\n",
    "deep_history_plot_5 = deep_history_df_5.plot(title = \"Deep Learning History- Five Epochs\",colormap= \"viridis\")"
   ]
  },
  {
   "cell_type": "code",
   "execution_count": 130,
   "id": "14b26b6d",
   "metadata": {},
   "outputs": [
    {
     "name": "stdout",
     "output_type": "stream",
     "text": [
      " The loss for the deep learning model is: 0.3018311858177185, The accuracy is: 0.9405537247657776\n"
     ]
    }
   ],
   "source": [
    "# Evaluate the model using the test data\n",
    "dl_model_5_loss, dl_model_5_accuracy = deep_nn_model_5.evaluate(X_test_scaled,y_test,verbose=0)\n",
    "print(f\" The loss for the deep learning model is: {dl_model_loss}, The accuracy is: {dl_model_accuracy}\")"
   ]
  },
  {
   "cell_type": "code",
   "execution_count": 131,
   "id": "37349f4c",
   "metadata": {},
   "outputs": [
    {
     "name": "stdout",
     "output_type": "stream",
     "text": [
      "tf.Tensor([0. 0. 0. ... 0. 0. 0.], shape=(1228,), dtype=float32)\n"
     ]
    },
    {
     "data": {
      "text/plain": [
       "<sklearn.metrics._plot.confusion_matrix.ConfusionMatrixDisplay at 0x1f2da771f88>"
      ]
     },
     "execution_count": 131,
     "metadata": {},
     "output_type": "execute_result"
    },
    {
     "data": {
      "image/png": "[encoded data removed]",
      "text/plain": [
       "<Figure size 432x288 with 2 Axes>"
      ]
     },
     "metadata": {
      "needs_background": "light"
     },
     "output_type": "display_data"
    }
   ],
   "source": [
    "#Y_pred: flatten & Convert prediction probabilities to binary format\n",
    "y_pred_dl_5 = deep_nn_model_5.predict(X_test_scaled)\n",
    "y_pred_dl_5 = y_pred_dl_5.flatten()\n",
    "y_pred_dl_5_tf=tf.round(y_pred_dl_5)\n",
    "\n",
    "# Display the confusion matrix\n",
    "dl_5_nn_cm = confusion_matrix(y_test, y_pred_dl_5_tf, labels=[1,0])\n",
    "print (y_pred_dl_5_tf)\n",
    "dl_5_disp = ConfusionMatrixDisplay(confusion_matrix=dl_5_nn_cm, display_labels=[1,0])\n",
    "dl_5_disp.plot()\n",
    "dl_5_disp.ax_.set_title(\"Deep Learning Confusion Matrix\")\n",
    "dl_5_disp"
   ]
  },
  {
   "cell_type": "code",
   "execution_count": 132,
   "id": "f5983d8e",
   "metadata": {},
   "outputs": [
    {
     "name": "stdout",
     "output_type": "stream",
     "text": [
      "Accuracy Score of the Deep Learning Model: 0.9527687296416938\n",
      "Recall Score of the Deep Learning Model: 0.07692307692307693\n",
      "Specifity Score of the Deep Learning Model: 0.9897959183673469\n",
      "Balanced Accuracy Score of the Multiple Perceptron Model: 0.5342098377812664\n",
      "Precision Score of the Deep Learning Model: 0.2857142857142857\n",
      "F1 Score Score of the Deep Learning Model: 0.12121212121212123\n",
      "Loss of the Deep Learning Model: 0.17756937444210052\n"
     ]
    },
    {
     "data": {
      "text/html": [
       "<div>\n",
       "<style scoped>\n",
       "    .dataframe tbody tr th:only-of-type {\n",
       "        vertical-align: middle;\n",
       "    }\n",
       "\n",
       "    .dataframe tbody tr th {\n",
       "        vertical-align: top;\n",
       "    }\n",
       "\n",
       "    .dataframe thead th {\n",
       "        text-align: right;\n",
       "    }\n",
       "</style>\n",
       "<table border=\"1\" class=\"dataframe\">\n",
       "  <thead>\n",
       "    <tr style=\"text-align: right;\">\n",
       "      <th></th>\n",
       "      <th>Model Type</th>\n",
       "      <th>Accuracy</th>\n",
       "      <th>Recall</th>\n",
       "      <th>Specificity</th>\n",
       "      <th>Balanced Accuracy</th>\n",
       "      <th>Precision</th>\n",
       "      <th>F1 Score</th>\n",
       "      <th>Loss</th>\n",
       "    </tr>\n",
       "  </thead>\n",
       "  <tbody>\n",
       "    <tr>\n",
       "      <th>0</th>\n",
       "      <td>Deep Learning- 5 Epochs</td>\n",
       "      <td>0.952769</td>\n",
       "      <td>0.076923</td>\n",
       "      <td>0.989796</td>\n",
       "      <td>0.53421</td>\n",
       "      <td>0.285714</td>\n",
       "      <td>0.121212</td>\n",
       "      <td>0.177569</td>\n",
       "    </tr>\n",
       "  </tbody>\n",
       "</table>\n",
       "</div>"
      ],
      "text/plain": [
       "                Model Type  Accuracy    Recall  Specificity  \\\n",
       "0  Deep Learning- 5 Epochs  0.952769  0.076923     0.989796   \n",
       "\n",
       "   Balanced Accuracy  Precision  F1 Score      Loss  \n",
       "0            0.53421   0.285714  0.121212  0.177569  "
      ]
     },
     "execution_count": 132,
     "metadata": {},
     "output_type": "execute_result"
    }
   ],
   "source": [
    "# Advanced Classification Metrics\n",
    "# Accuracy\n",
    "dl_5_accuracy_score = accuracy_score(y_test, y_pred_dl_5_tf)\n",
    "print(f'Accuracy Score of the Deep Learning Model: {dl_5_accuracy_score}')\n",
    "\n",
    "## Recall/Sensitivity\n",
    "dl_5_recall_score = recall_score(y_test, y_pred_dl_5_tf)\n",
    "print(f'Recall Score of the Deep Learning Model: {dl_5_recall_score}')\n",
    "\n",
    "# Specificity\n",
    "dl_5_specificity_score = 1164 / 1176\n",
    "print(f'Specifity Score of the Deep Learning Model: {dl_5_specificity_score}')\n",
    "\n",
    "# Balanced Accuracy Score\n",
    "dl_5_bas = balanced_accuracy_score(y_test, y_pred_dl_5_tf)\n",
    "print(f'Balanced Accuracy Score of the Multiple Perceptron Model: {dl_5_bas}')\n",
    "\n",
    "# Precision\n",
    "dl_5_precision_score = precision_score(y_test, y_pred_dl_5_tf)\n",
    "print(f'Precision Score of the Deep Learning Model: {dl_5_precision_score}')     \n",
    "      \n",
    "# F1 Score\n",
    "dl_5_f1_score = f1_score(y_test, y_pred_dl_5_tf)\n",
    "print(f'F1 Score Score of the Deep Learning Model: {dl_5_f1_score}')\n",
    "\n",
    "# Loss Score\n",
    "print(f'Loss of the Deep Learning Model: {dl_model_5_loss}')\n",
    "\n",
    "# Advanced Classification Metrics DF\n",
    "dl_5_acm = {\"Model Type\": [\"Deep Learning- 5 Epochs\"], \"Accuracy\":[dl_5_accuracy_score], \"Recall\": [dl_5_recall_score], \"Specificity\":[dl_5_specificity_score], \n",
    "          \"Balanced Accuracy\": [dl_5_bas], \"Precision\":[dl_5_precision_score], \"F1 Score\":[dl_5_f1_score], \"Loss\": [dl_model_5_loss]}\n",
    "dl_5_acm_df = pd.DataFrame(data=dl_5_acm)\n",
    "dl_5_acm_df"
   ]
  },
  {
   "cell_type": "code",
   "execution_count": 134,
   "id": "d1efa397",
   "metadata": {},
   "outputs": [
    {
     "data": {
      "text/html": [
       "<div>\n",
       "<style scoped>\n",
       "    .dataframe tbody tr th:only-of-type {\n",
       "        vertical-align: middle;\n",
       "    }\n",
       "\n",
       "    .dataframe tbody tr th {\n",
       "        vertical-align: top;\n",
       "    }\n",
       "\n",
       "    .dataframe thead th {\n",
       "        text-align: right;\n",
       "    }\n",
       "</style>\n",
       "<table border=\"1\" class=\"dataframe\">\n",
       "  <thead>\n",
       "    <tr style=\"text-align: right;\">\n",
       "      <th></th>\n",
       "      <th>Model Type</th>\n",
       "      <th>Accuracy</th>\n",
       "      <th>Recall</th>\n",
       "      <th>Specificity</th>\n",
       "      <th>Balanced Accuracy</th>\n",
       "      <th>Precision</th>\n",
       "      <th>F1 Score</th>\n",
       "      <th>Loss</th>\n",
       "    </tr>\n",
       "  </thead>\n",
       "  <tbody>\n",
       "    <tr>\n",
       "      <th>0</th>\n",
       "      <td>Single Perceptron</td>\n",
       "      <td>0.758958</td>\n",
       "      <td>0.769231</td>\n",
       "      <td>0.715136</td>\n",
       "      <td>0.763867</td>\n",
       "      <td>0.123457</td>\n",
       "      <td>0.212766</td>\n",
       "      <td>0.470768</td>\n",
       "    </tr>\n",
       "    <tr>\n",
       "      <th>1</th>\n",
       "      <td>Multi Perceptron</td>\n",
       "      <td>0.804560</td>\n",
       "      <td>0.615385</td>\n",
       "      <td>0.807823</td>\n",
       "      <td>0.714155</td>\n",
       "      <td>0.126984</td>\n",
       "      <td>0.210526</td>\n",
       "      <td>0.398965</td>\n",
       "    </tr>\n",
       "    <tr>\n",
       "      <th>2</th>\n",
       "      <td>Deep Learning</td>\n",
       "      <td>0.940554</td>\n",
       "      <td>0.038462</td>\n",
       "      <td>0.989796</td>\n",
       "      <td>0.509452</td>\n",
       "      <td>0.080000</td>\n",
       "      <td>0.051948</td>\n",
       "      <td>0.301831</td>\n",
       "    </tr>\n",
       "    <tr>\n",
       "      <th>3</th>\n",
       "      <td>Deep Learning- 5 Epochs</td>\n",
       "      <td>0.952769</td>\n",
       "      <td>0.076923</td>\n",
       "      <td>0.989796</td>\n",
       "      <td>0.534210</td>\n",
       "      <td>0.285714</td>\n",
       "      <td>0.121212</td>\n",
       "      <td>0.177569</td>\n",
       "    </tr>\n",
       "  </tbody>\n",
       "</table>\n",
       "</div>"
      ],
      "text/plain": [
       "                Model Type  Accuracy    Recall  Specificity  \\\n",
       "0        Single Perceptron  0.758958  0.769231     0.715136   \n",
       "1         Multi Perceptron  0.804560  0.615385     0.807823   \n",
       "2            Deep Learning  0.940554  0.038462     0.989796   \n",
       "3  Deep Learning- 5 Epochs  0.952769  0.076923     0.989796   \n",
       "\n",
       "   Balanced Accuracy  Precision  F1 Score      Loss  \n",
       "0           0.763867   0.123457  0.212766  0.470768  \n",
       "1           0.714155   0.126984  0.210526  0.398965  \n",
       "2           0.509452   0.080000  0.051948  0.301831  \n",
       "3           0.534210   0.285714  0.121212  0.177569  "
      ]
     },
     "execution_count": 134,
     "metadata": {},
     "output_type": "execute_result"
    }
   ],
   "source": [
    "# Total Advanced Classification Metrics DF\n",
    "total_acm_5 = ({\"Model Type\": \"Single Perceptron\", \"Accuracy\":nn_accuracy_score, \"Recall\": nn_recall_score, \"Specificity\":nn_specificity_score, \n",
    "          \"Balanced Accuracy\": nn_bas, \"Precision\":nn_precision_score, \"F1 Score\":nn_f1_score, \"Loss\": nn_model_loss }, {\"Model Type\": \"Multi Perceptron\", \"Accuracy\":multi_accuracy_score, \"Recall\": multi_recall_score, \"Specificity\":multi_specificity_score, \n",
    "          \"Balanced Accuracy\": multi_bas, \"Precision\":multi_precision_score, \"F1 Score\":multi_f1_score, \"Loss\": multi_model_loss}, {\"Model Type\": \"Deep Learning\", \"Accuracy\":dl_accuracy_score, \"Recall\": dl_recall_score, \"Specificity\":dl_specificity_score, \n",
    "          \"Balanced Accuracy\": dl_bas, \"Precision\":dl_precision_score, \"F1 Score\":dl_f1_score, \"Loss\": dl_model_loss}, {\"Model Type\": \"Deep Learning- 5 Epochs\", \"Accuracy\":dl_5_accuracy_score, \"Recall\": dl_5_recall_score, \"Specificity\":dl_5_specificity_score, \n",
    "          \"Balanced Accuracy\": dl_5_bas, \"Precision\":dl_5_precision_score, \"F1 Score\":dl_5_f1_score, \"Loss\": dl_model_5_loss})\n",
    "total_acm_5_df = pd.DataFrame(data=total_acm_5)\n",
    "total_acm_5_df"
   ]
  },
  {
   "cell_type": "code",
   "execution_count": null,
   "id": "d93dc4c0",
   "metadata": {},
   "outputs": [],
   "source": []
  }
 ],
 "metadata": {
  "kernelspec": {
   "display_name": "mlenv",
   "language": "python",
   "name": "mlenv"
  },
  "language_info": {
   "codemirror_mode": {
    "name": "ipython",
    "version": 3
   },
   "file_extension": ".py",
   "mimetype": "text/x-python",
   "name": "python",
   "nbconvert_exporter": "python",
   "pygments_lexer": "ipython3",
   "version": "3.7.11"
  }
 },
 "nbformat": 4,
 "nbformat_minor": 5
}
