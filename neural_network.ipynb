{
 "cells": [
  {
   "cell_type": "markdown",
   "id": "1611a70b",
   "metadata": {},
   "source": [
    "## Import Libraries and Dependencies"
   ]
  },
  {
   "cell_type": "code",
   "execution_count": 110,
   "id": "c0cf552c",
   "metadata": {},
   "outputs": [],
   "source": [
    "# Import our dependencies\n",
    "from pathlib import Path\n",
    "import numpy as np\n",
    "import pandas as pd\n",
    "\n",
    "from sklearn.preprocessing import StandardScaler, OneHotEncoder\n",
    "from sklearn.model_selection import train_test_split\n",
    "from imblearn.over_sampling import SMOTE, ADASYN\n",
    "from collections import Counter\n",
    "\n",
    "import tensorflow as tf\n",
    "\n",
    "from sklearn.metrics import f1_score, accuracy_score, precision_score, recall_score, balanced_accuracy_score, classification_report, confusion_matrix, ConfusionMatrixDisplay"
   ]
  },
  {
   "cell_type": "code",
   "execution_count": 111,
   "id": "91450368",
   "metadata": {
    "scrolled": false
   },
   "outputs": [
    {
     "name": "stdout",
     "output_type": "stream",
     "text": [
      "(4909, 11)\n"
     ]
    },
    {
     "data": {
      "text/html": [
       "<div>\n",
       "<style scoped>\n",
       "    .dataframe tbody tr th:only-of-type {\n",
       "        vertical-align: middle;\n",
       "    }\n",
       "\n",
       "    .dataframe tbody tr th {\n",
       "        vertical-align: top;\n",
       "    }\n",
       "\n",
       "    .dataframe thead th {\n",
       "        text-align: right;\n",
       "    }\n",
       "</style>\n",
       "<table border=\"1\" class=\"dataframe\">\n",
       "  <thead>\n",
       "    <tr style=\"text-align: right;\">\n",
       "      <th></th>\n",
       "      <th>gender</th>\n",
       "      <th>age</th>\n",
       "      <th>hypertension</th>\n",
       "      <th>heart_disease</th>\n",
       "      <th>ever_married</th>\n",
       "      <th>work_type</th>\n",
       "      <th>Residence_type</th>\n",
       "      <th>avg_glucose_level</th>\n",
       "      <th>bmi</th>\n",
       "      <th>smoking_status</th>\n",
       "      <th>stroke</th>\n",
       "    </tr>\n",
       "    <tr>\n",
       "      <th>id</th>\n",
       "      <th></th>\n",
       "      <th></th>\n",
       "      <th></th>\n",
       "      <th></th>\n",
       "      <th></th>\n",
       "      <th></th>\n",
       "      <th></th>\n",
       "      <th></th>\n",
       "      <th></th>\n",
       "      <th></th>\n",
       "      <th></th>\n",
       "    </tr>\n",
       "  </thead>\n",
       "  <tbody>\n",
       "    <tr>\n",
       "      <th>9046</th>\n",
       "      <td>Male</td>\n",
       "      <td>67.0</td>\n",
       "      <td>0</td>\n",
       "      <td>1</td>\n",
       "      <td>Yes</td>\n",
       "      <td>Private</td>\n",
       "      <td>Urban</td>\n",
       "      <td>228.69</td>\n",
       "      <td>36.6</td>\n",
       "      <td>formerly smoked</td>\n",
       "      <td>1</td>\n",
       "    </tr>\n",
       "    <tr>\n",
       "      <th>31112</th>\n",
       "      <td>Male</td>\n",
       "      <td>80.0</td>\n",
       "      <td>0</td>\n",
       "      <td>1</td>\n",
       "      <td>Yes</td>\n",
       "      <td>Private</td>\n",
       "      <td>Rural</td>\n",
       "      <td>105.92</td>\n",
       "      <td>32.5</td>\n",
       "      <td>never smoked</td>\n",
       "      <td>1</td>\n",
       "    </tr>\n",
       "    <tr>\n",
       "      <th>60182</th>\n",
       "      <td>Female</td>\n",
       "      <td>49.0</td>\n",
       "      <td>0</td>\n",
       "      <td>0</td>\n",
       "      <td>Yes</td>\n",
       "      <td>Private</td>\n",
       "      <td>Urban</td>\n",
       "      <td>171.23</td>\n",
       "      <td>34.4</td>\n",
       "      <td>smokes</td>\n",
       "      <td>1</td>\n",
       "    </tr>\n",
       "    <tr>\n",
       "      <th>1665</th>\n",
       "      <td>Female</td>\n",
       "      <td>79.0</td>\n",
       "      <td>1</td>\n",
       "      <td>0</td>\n",
       "      <td>Yes</td>\n",
       "      <td>Self-employed</td>\n",
       "      <td>Rural</td>\n",
       "      <td>174.12</td>\n",
       "      <td>24.0</td>\n",
       "      <td>never smoked</td>\n",
       "      <td>1</td>\n",
       "    </tr>\n",
       "    <tr>\n",
       "      <th>56669</th>\n",
       "      <td>Male</td>\n",
       "      <td>81.0</td>\n",
       "      <td>0</td>\n",
       "      <td>0</td>\n",
       "      <td>Yes</td>\n",
       "      <td>Private</td>\n",
       "      <td>Urban</td>\n",
       "      <td>186.21</td>\n",
       "      <td>29.0</td>\n",
       "      <td>formerly smoked</td>\n",
       "      <td>1</td>\n",
       "    </tr>\n",
       "    <tr>\n",
       "      <th>...</th>\n",
       "      <td>...</td>\n",
       "      <td>...</td>\n",
       "      <td>...</td>\n",
       "      <td>...</td>\n",
       "      <td>...</td>\n",
       "      <td>...</td>\n",
       "      <td>...</td>\n",
       "      <td>...</td>\n",
       "      <td>...</td>\n",
       "      <td>...</td>\n",
       "      <td>...</td>\n",
       "    </tr>\n",
       "    <tr>\n",
       "      <th>14180</th>\n",
       "      <td>Female</td>\n",
       "      <td>13.0</td>\n",
       "      <td>0</td>\n",
       "      <td>0</td>\n",
       "      <td>No</td>\n",
       "      <td>children</td>\n",
       "      <td>Rural</td>\n",
       "      <td>103.08</td>\n",
       "      <td>18.6</td>\n",
       "      <td>Unknown</td>\n",
       "      <td>0</td>\n",
       "    </tr>\n",
       "    <tr>\n",
       "      <th>44873</th>\n",
       "      <td>Female</td>\n",
       "      <td>81.0</td>\n",
       "      <td>0</td>\n",
       "      <td>0</td>\n",
       "      <td>Yes</td>\n",
       "      <td>Self-employed</td>\n",
       "      <td>Urban</td>\n",
       "      <td>125.20</td>\n",
       "      <td>40.0</td>\n",
       "      <td>never smoked</td>\n",
       "      <td>0</td>\n",
       "    </tr>\n",
       "    <tr>\n",
       "      <th>19723</th>\n",
       "      <td>Female</td>\n",
       "      <td>35.0</td>\n",
       "      <td>0</td>\n",
       "      <td>0</td>\n",
       "      <td>Yes</td>\n",
       "      <td>Self-employed</td>\n",
       "      <td>Rural</td>\n",
       "      <td>82.99</td>\n",
       "      <td>30.6</td>\n",
       "      <td>never smoked</td>\n",
       "      <td>0</td>\n",
       "    </tr>\n",
       "    <tr>\n",
       "      <th>37544</th>\n",
       "      <td>Male</td>\n",
       "      <td>51.0</td>\n",
       "      <td>0</td>\n",
       "      <td>0</td>\n",
       "      <td>Yes</td>\n",
       "      <td>Private</td>\n",
       "      <td>Rural</td>\n",
       "      <td>166.29</td>\n",
       "      <td>25.6</td>\n",
       "      <td>formerly smoked</td>\n",
       "      <td>0</td>\n",
       "    </tr>\n",
       "    <tr>\n",
       "      <th>44679</th>\n",
       "      <td>Female</td>\n",
       "      <td>44.0</td>\n",
       "      <td>0</td>\n",
       "      <td>0</td>\n",
       "      <td>Yes</td>\n",
       "      <td>Govt_job</td>\n",
       "      <td>Urban</td>\n",
       "      <td>85.28</td>\n",
       "      <td>26.2</td>\n",
       "      <td>Unknown</td>\n",
       "      <td>0</td>\n",
       "    </tr>\n",
       "  </tbody>\n",
       "</table>\n",
       "<p>4909 rows × 11 columns</p>\n",
       "</div>"
      ],
      "text/plain": [
       "       gender   age  hypertension  heart_disease ever_married      work_type  \\\n",
       "id                                                                             \n",
       "9046     Male  67.0             0              1          Yes        Private   \n",
       "31112    Male  80.0             0              1          Yes        Private   \n",
       "60182  Female  49.0             0              0          Yes        Private   \n",
       "1665   Female  79.0             1              0          Yes  Self-employed   \n",
       "56669    Male  81.0             0              0          Yes        Private   \n",
       "...       ...   ...           ...            ...          ...            ...   \n",
       "14180  Female  13.0             0              0           No       children   \n",
       "44873  Female  81.0             0              0          Yes  Self-employed   \n",
       "19723  Female  35.0             0              0          Yes  Self-employed   \n",
       "37544    Male  51.0             0              0          Yes        Private   \n",
       "44679  Female  44.0             0              0          Yes       Govt_job   \n",
       "\n",
       "      Residence_type  avg_glucose_level   bmi   smoking_status  stroke  \n",
       "id                                                                      \n",
       "9046           Urban             228.69  36.6  formerly smoked       1  \n",
       "31112          Rural             105.92  32.5     never smoked       1  \n",
       "60182          Urban             171.23  34.4           smokes       1  \n",
       "1665           Rural             174.12  24.0     never smoked       1  \n",
       "56669          Urban             186.21  29.0  formerly smoked       1  \n",
       "...              ...                ...   ...              ...     ...  \n",
       "14180          Rural             103.08  18.6          Unknown       0  \n",
       "44873          Urban             125.20  40.0     never smoked       0  \n",
       "19723          Rural              82.99  30.6     never smoked       0  \n",
       "37544          Rural             166.29  25.6  formerly smoked       0  \n",
       "44679          Urban              85.28  26.2          Unknown       0  \n",
       "\n",
       "[4909 rows x 11 columns]"
      ]
     },
     "execution_count": 111,
     "metadata": {},
     "output_type": "execute_result"
    }
   ],
   "source": [
    "# Load the data\n",
    "file_path = Path(\"resources/processed_stroke_db_w_cat.csv\")\n",
    "df = pd.read_csv(file_path, index_col=[0])\n",
    "print(df.shape)\n",
    "df"
   ]
  },
  {
   "cell_type": "markdown",
   "id": "23309e46",
   "metadata": {},
   "source": [
    "## Process Data"
   ]
  },
  {
   "cell_type": "markdown",
   "id": "f0864b02",
   "metadata": {},
   "source": [
    "### One-hot Encoding for Categotical Data & StandScaler for Numerical Data"
   ]
  },
  {
   "cell_type": "code",
   "execution_count": 112,
   "id": "24b1316b",
   "metadata": {
    "scrolled": true
   },
   "outputs": [
    {
     "name": "stdout",
     "output_type": "stream",
     "text": [
      "['gender', 'ever_married', 'work_type', 'Residence_type', 'smoking_status']\n",
      "gender            3\n",
      "ever_married      2\n",
      "work_type         5\n",
      "Residence_type    2\n",
      "smoking_status    4\n",
      "dtype: int64\n"
     ]
    }
   ],
   "source": [
    "# Generate categorical variable list\n",
    "cat_labels= df.dtypes[df.dtypes == \"object\"].index.tolist()\n",
    "print(cat_labels)\n",
    "\n",
    "# Check the number of unique values in each column\n",
    "print(df[cat_labels].nunique())"
   ]
  },
  {
   "cell_type": "code",
   "execution_count": 113,
   "id": "c757f63a",
   "metadata": {},
   "outputs": [
    {
     "name": "stdout",
     "output_type": "stream",
     "text": [
      "(4909, 16)\n"
     ]
    },
    {
     "data": {
      "text/html": [
       "<div>\n",
       "<style scoped>\n",
       "    .dataframe tbody tr th:only-of-type {\n",
       "        vertical-align: middle;\n",
       "    }\n",
       "\n",
       "    .dataframe tbody tr th {\n",
       "        vertical-align: top;\n",
       "    }\n",
       "\n",
       "    .dataframe thead th {\n",
       "        text-align: right;\n",
       "    }\n",
       "</style>\n",
       "<table border=\"1\" class=\"dataframe\">\n",
       "  <thead>\n",
       "    <tr style=\"text-align: right;\">\n",
       "      <th></th>\n",
       "      <th>gender_Female</th>\n",
       "      <th>gender_Male</th>\n",
       "      <th>gender_Other</th>\n",
       "      <th>ever_married_No</th>\n",
       "      <th>ever_married_Yes</th>\n",
       "      <th>work_type_Govt_job</th>\n",
       "      <th>work_type_Never_worked</th>\n",
       "      <th>work_type_Private</th>\n",
       "      <th>work_type_Self-employed</th>\n",
       "      <th>work_type_children</th>\n",
       "      <th>Residence_type_Rural</th>\n",
       "      <th>Residence_type_Urban</th>\n",
       "      <th>smoking_status_Unknown</th>\n",
       "      <th>smoking_status_formerly smoked</th>\n",
       "      <th>smoking_status_never smoked</th>\n",
       "      <th>smoking_status_smokes</th>\n",
       "    </tr>\n",
       "    <tr>\n",
       "      <th>id</th>\n",
       "      <th></th>\n",
       "      <th></th>\n",
       "      <th></th>\n",
       "      <th></th>\n",
       "      <th></th>\n",
       "      <th></th>\n",
       "      <th></th>\n",
       "      <th></th>\n",
       "      <th></th>\n",
       "      <th></th>\n",
       "      <th></th>\n",
       "      <th></th>\n",
       "      <th></th>\n",
       "      <th></th>\n",
       "      <th></th>\n",
       "      <th></th>\n",
       "    </tr>\n",
       "  </thead>\n",
       "  <tbody>\n",
       "    <tr>\n",
       "      <th>9046</th>\n",
       "      <td>0.0</td>\n",
       "      <td>1.0</td>\n",
       "      <td>0.0</td>\n",
       "      <td>0.0</td>\n",
       "      <td>1.0</td>\n",
       "      <td>0.0</td>\n",
       "      <td>0.0</td>\n",
       "      <td>1.0</td>\n",
       "      <td>0.0</td>\n",
       "      <td>0.0</td>\n",
       "      <td>0.0</td>\n",
       "      <td>1.0</td>\n",
       "      <td>0.0</td>\n",
       "      <td>1.0</td>\n",
       "      <td>0.0</td>\n",
       "      <td>0.0</td>\n",
       "    </tr>\n",
       "    <tr>\n",
       "      <th>31112</th>\n",
       "      <td>0.0</td>\n",
       "      <td>1.0</td>\n",
       "      <td>0.0</td>\n",
       "      <td>0.0</td>\n",
       "      <td>1.0</td>\n",
       "      <td>0.0</td>\n",
       "      <td>0.0</td>\n",
       "      <td>1.0</td>\n",
       "      <td>0.0</td>\n",
       "      <td>0.0</td>\n",
       "      <td>1.0</td>\n",
       "      <td>0.0</td>\n",
       "      <td>0.0</td>\n",
       "      <td>0.0</td>\n",
       "      <td>1.0</td>\n",
       "      <td>0.0</td>\n",
       "    </tr>\n",
       "    <tr>\n",
       "      <th>60182</th>\n",
       "      <td>1.0</td>\n",
       "      <td>0.0</td>\n",
       "      <td>0.0</td>\n",
       "      <td>0.0</td>\n",
       "      <td>1.0</td>\n",
       "      <td>0.0</td>\n",
       "      <td>0.0</td>\n",
       "      <td>1.0</td>\n",
       "      <td>0.0</td>\n",
       "      <td>0.0</td>\n",
       "      <td>0.0</td>\n",
       "      <td>1.0</td>\n",
       "      <td>0.0</td>\n",
       "      <td>0.0</td>\n",
       "      <td>0.0</td>\n",
       "      <td>1.0</td>\n",
       "    </tr>\n",
       "    <tr>\n",
       "      <th>1665</th>\n",
       "      <td>1.0</td>\n",
       "      <td>0.0</td>\n",
       "      <td>0.0</td>\n",
       "      <td>0.0</td>\n",
       "      <td>1.0</td>\n",
       "      <td>0.0</td>\n",
       "      <td>0.0</td>\n",
       "      <td>0.0</td>\n",
       "      <td>1.0</td>\n",
       "      <td>0.0</td>\n",
       "      <td>1.0</td>\n",
       "      <td>0.0</td>\n",
       "      <td>0.0</td>\n",
       "      <td>0.0</td>\n",
       "      <td>1.0</td>\n",
       "      <td>0.0</td>\n",
       "    </tr>\n",
       "    <tr>\n",
       "      <th>56669</th>\n",
       "      <td>0.0</td>\n",
       "      <td>1.0</td>\n",
       "      <td>0.0</td>\n",
       "      <td>0.0</td>\n",
       "      <td>1.0</td>\n",
       "      <td>0.0</td>\n",
       "      <td>0.0</td>\n",
       "      <td>1.0</td>\n",
       "      <td>0.0</td>\n",
       "      <td>0.0</td>\n",
       "      <td>0.0</td>\n",
       "      <td>1.0</td>\n",
       "      <td>0.0</td>\n",
       "      <td>1.0</td>\n",
       "      <td>0.0</td>\n",
       "      <td>0.0</td>\n",
       "    </tr>\n",
       "  </tbody>\n",
       "</table>\n",
       "</div>"
      ],
      "text/plain": [
       "       gender_Female  gender_Male  gender_Other  ever_married_No  \\\n",
       "id                                                                 \n",
       "9046             0.0          1.0           0.0              0.0   \n",
       "31112            0.0          1.0           0.0              0.0   \n",
       "60182            1.0          0.0           0.0              0.0   \n",
       "1665             1.0          0.0           0.0              0.0   \n",
       "56669            0.0          1.0           0.0              0.0   \n",
       "\n",
       "       ever_married_Yes  work_type_Govt_job  work_type_Never_worked  \\\n",
       "id                                                                    \n",
       "9046                1.0                 0.0                     0.0   \n",
       "31112               1.0                 0.0                     0.0   \n",
       "60182               1.0                 0.0                     0.0   \n",
       "1665                1.0                 0.0                     0.0   \n",
       "56669               1.0                 0.0                     0.0   \n",
       "\n",
       "       work_type_Private  work_type_Self-employed  work_type_children  \\\n",
       "id                                                                      \n",
       "9046                 1.0                      0.0                 0.0   \n",
       "31112                1.0                      0.0                 0.0   \n",
       "60182                1.0                      0.0                 0.0   \n",
       "1665                 0.0                      1.0                 0.0   \n",
       "56669                1.0                      0.0                 0.0   \n",
       "\n",
       "       Residence_type_Rural  Residence_type_Urban  smoking_status_Unknown  \\\n",
       "id                                                                          \n",
       "9046                    0.0                   1.0                     0.0   \n",
       "31112                   1.0                   0.0                     0.0   \n",
       "60182                   0.0                   1.0                     0.0   \n",
       "1665                    1.0                   0.0                     0.0   \n",
       "56669                   0.0                   1.0                     0.0   \n",
       "\n",
       "       smoking_status_formerly smoked  smoking_status_never smoked  \\\n",
       "id                                                                   \n",
       "9046                              1.0                          0.0   \n",
       "31112                             0.0                          1.0   \n",
       "60182                             0.0                          0.0   \n",
       "1665                              0.0                          1.0   \n",
       "56669                             1.0                          0.0   \n",
       "\n",
       "       smoking_status_smokes  \n",
       "id                            \n",
       "9046                     0.0  \n",
       "31112                    0.0  \n",
       "60182                    1.0  \n",
       "1665                     0.0  \n",
       "56669                    0.0  "
      ]
     },
     "execution_count": 113,
     "metadata": {},
     "output_type": "execute_result"
    }
   ],
   "source": [
    "# Create the OneHotEncoder instance\n",
    "enc = OneHotEncoder(sparse=False)\n",
    "\n",
    "# Fit and transform the OneHotEncoder using the categorical variable list\n",
    "encode_df = pd.DataFrame(enc.fit_transform(df[cat_labels]))\n",
    "\n",
    "encode_df.index = df.index\n",
    "\n",
    "# Add the encoded variable names to the DataFrame\n",
    "encode_df.columns = enc.get_feature_names(cat_labels)\n",
    "print(encode_df.shape)\n",
    "encode_df.head()"
   ]
  },
  {
   "cell_type": "code",
   "execution_count": 114,
   "id": "350453ea",
   "metadata": {},
   "outputs": [
    {
     "name": "stderr",
     "output_type": "stream",
     "text": [
      "C:\\Users\\Kristen\\anaconda3\\envs\\mlenv\\lib\\site-packages\\ipykernel_launcher.py:3: FutureWarning: In a future version of pandas all arguments of DataFrame.drop except for the argument 'labels' will be keyword-only\n",
      "  This is separate from the ipykernel package so we can avoid doing imports until\n"
     ]
    },
    {
     "data": {
      "text/plain": [
       "(4909, 22)"
      ]
     },
     "execution_count": 114,
     "metadata": {},
     "output_type": "execute_result"
    }
   ],
   "source": [
    "# Merge one-hot encoded features and drop the originals\n",
    "df = df.merge(encode_df,left_index=True, right_index=True)\n",
    "df = df.drop(cat_labels,1)\n",
    "df.shape"
   ]
  },
  {
   "cell_type": "markdown",
   "id": "97d0be78",
   "metadata": {},
   "source": [
    "### Split, Oversample, Resample Data"
   ]
  },
  {
   "cell_type": "code",
   "execution_count": 115,
   "id": "2d4c2e85",
   "metadata": {
    "scrolled": true
   },
   "outputs": [
    {
     "name": "stderr",
     "output_type": "stream",
     "text": [
      "C:\\Users\\Kristen\\anaconda3\\envs\\mlenv\\lib\\site-packages\\ipykernel_launcher.py:3: FutureWarning: In a future version of pandas all arguments of DataFrame.drop except for the argument 'labels' will be keyword-only\n",
      "  This is separate from the ipykernel package so we can avoid doing imports until\n"
     ]
    }
   ],
   "source": [
    "# Split the preprocessed data into the features and target arrays\n",
    "y = df[\"stroke\"].values\n",
    "X = df.drop([\"stroke\"],1).values"
   ]
  },
  {
   "cell_type": "code",
   "execution_count": 116,
   "id": "e61bb187",
   "metadata": {},
   "outputs": [],
   "source": [
    "# Split the preprocessed data into a training and testing dataset\n",
    "X_train, X_test, y_train, y_test = train_test_split(X, y, random_state=12, stratify=y)"
   ]
  },
  {
   "cell_type": "code",
   "execution_count": 117,
   "id": "ec3ec7fb",
   "metadata": {},
   "outputs": [
    {
     "data": {
      "text/plain": [
       "(3681, 21)"
      ]
     },
     "execution_count": 117,
     "metadata": {},
     "output_type": "execute_result"
    }
   ],
   "source": [
    "# Create the StandardScaler instance\n",
    "scaler = StandardScaler()\n",
    "\n",
    "# Fit the StandardScaler\n",
    "X_scaler = scaler.fit(X_train)\n",
    "\n",
    "# Scale the data\n",
    "X_train_scaled = X_scaler.transform(X_train)\n",
    "X_test_scaled = X_scaler.transform(X_test)\n",
    "X_train_scaled.shape"
   ]
  },
  {
   "cell_type": "code",
   "execution_count": 118,
   "id": "01248a5b",
   "metadata": {},
   "outputs": [
    {
     "data": {
      "text/plain": [
       "Counter({0: 3524, 1: 3542})"
      ]
     },
     "execution_count": 118,
     "metadata": {},
     "output_type": "execute_result"
    }
   ],
   "source": [
    "# Apply sampling technique to balance the minority class\n",
    "\n",
    "# Option One: Resample the training data with SMOTE- Instantiate the model\n",
    "# smote = SMOTE(random_state=1)\n",
    "\n",
    "\n",
    "# Option Two: Resample the training data with ADASYN- Instantiate the model\n",
    "smote = ADASYN(random_state=1)\n",
    "\n",
    "\n",
    "# Resample the targets\n",
    "X_resampled, y_resampled = smote.fit_resample(X_train_scaled, y_train)\n",
    "Counter(y_resampled)"
   ]
  },
  {
   "cell_type": "markdown",
   "id": "57b08d8f",
   "metadata": {},
   "source": [
    "## Single Perceptron Model"
   ]
  },
  {
   "cell_type": "markdown",
   "id": "732cf3c4",
   "metadata": {},
   "source": [
    "### Train, Fit, Evaluate, Predict Model"
   ]
  },
  {
   "cell_type": "code",
   "execution_count": 119,
   "id": "5d2f3c7a",
   "metadata": {
    "scrolled": true
   },
   "outputs": [
    {
     "name": "stdout",
     "output_type": "stream",
     "text": [
      "Model: \"sequential_6\"\n",
      "_________________________________________________________________\n",
      " Layer (type)                Output Shape              Param #   \n",
      "=================================================================\n",
      " dense_14 (Dense)            (None, 1)                 22        \n",
      "                                                                 \n",
      " dense_15 (Dense)            (None, 1)                 2         \n",
      "                                                                 \n",
      "=================================================================\n",
      "Total params: 24\n",
      "Trainable params: 24\n",
      "Non-trainable params: 0\n",
      "_________________________________________________________________\n"
     ]
    }
   ],
   "source": [
    "# Create the Keras Sequential model\n",
    "nn_model = tf.keras.models.Sequential()\n",
    "\n",
    "# Add our first Dense layer, including the input layer\n",
    "nn_model.add(tf.keras.layers.Dense(units=1, activation=\"relu\", input_dim=21))\n",
    "\n",
    "# Add the output layer that uses a probability activation function\n",
    "nn_model.add(tf.keras.layers.Dense(units=1, activation=\"sigmoid\"))\n",
    "\n",
    "# Check the structure of the Sequential model\n",
    "nn_model.summary()"
   ]
  },
  {
   "cell_type": "code",
   "execution_count": 120,
   "id": "c26f2a30",
   "metadata": {},
   "outputs": [],
   "source": [
    "# Compile the Sequential model together and customize metrics\n",
    "nn_model.compile(loss=\"binary_crossentropy\", optimizer=\"adam\", metrics=[\"accuracy\"])"
   ]
  },
  {
   "cell_type": "code",
   "execution_count": 121,
   "id": "363453f8",
   "metadata": {
    "scrolled": true
   },
   "outputs": [
    {
     "name": "stdout",
     "output_type": "stream",
     "text": [
      "Epoch 1/100\n",
      "221/221 [==============================] - 1s 1ms/step - loss: 0.6750 - accuracy: 0.6194 - val_loss: 0.5991 - val_accuracy: 0.5936\n",
      "Epoch 2/100\n",
      "221/221 [==============================] - 0s 1ms/step - loss: 0.6207 - accuracy: 0.6952 - val_loss: 0.5279 - val_accuracy: 0.5782\n",
      "Epoch 3/100\n",
      "221/221 [==============================] - 0s 1ms/step - loss: 0.5811 - accuracy: 0.7174 - val_loss: 0.4947 - val_accuracy: 0.6099\n",
      "Epoch 4/100\n",
      "221/221 [==============================] - 0s 2ms/step - loss: 0.5569 - accuracy: 0.7293 - val_loss: 0.4791 - val_accuracy: 0.6336\n",
      "Epoch 5/100\n",
      "221/221 [==============================] - 0s 2ms/step - loss: 0.5372 - accuracy: 0.7406 - val_loss: 0.4621 - val_accuracy: 0.6645\n",
      "Epoch 6/100\n",
      "221/221 [==============================] - 0s 2ms/step - loss: 0.5205 - accuracy: 0.7522 - val_loss: 0.4551 - val_accuracy: 0.6783\n",
      "Epoch 7/100\n",
      "221/221 [==============================] - 0s 1ms/step - loss: 0.5063 - accuracy: 0.7605 - val_loss: 0.4477 - val_accuracy: 0.6897\n",
      "Epoch 8/100\n",
      "221/221 [==============================] - 0s 1ms/step - loss: 0.4928 - accuracy: 0.7696 - val_loss: 0.4386 - val_accuracy: 0.7093\n",
      "Epoch 9/100\n",
      "221/221 [==============================] - 0s 1ms/step - loss: 0.4802 - accuracy: 0.7781 - val_loss: 0.4348 - val_accuracy: 0.7174\n",
      "Epoch 10/100\n",
      "221/221 [==============================] - 0s 1ms/step - loss: 0.4729 - accuracy: 0.7845 - val_loss: 0.4262 - val_accuracy: 0.7313\n",
      "Epoch 11/100\n",
      "221/221 [==============================] - 0s 1ms/step - loss: 0.4689 - accuracy: 0.7873 - val_loss: 0.4352 - val_accuracy: 0.7296\n",
      "Epoch 12/100\n",
      "221/221 [==============================] - 0s 1ms/step - loss: 0.4664 - accuracy: 0.7897 - val_loss: 0.4425 - val_accuracy: 0.7280\n",
      "Epoch 13/100\n",
      "221/221 [==============================] - 0s 1ms/step - loss: 0.4650 - accuracy: 0.7910 - val_loss: 0.4446 - val_accuracy: 0.7288\n",
      "Epoch 14/100\n",
      "221/221 [==============================] - 0s 1ms/step - loss: 0.4641 - accuracy: 0.7900 - val_loss: 0.4542 - val_accuracy: 0.7256\n",
      "Epoch 15/100\n",
      "221/221 [==============================] - 0s 1ms/step - loss: 0.4633 - accuracy: 0.7898 - val_loss: 0.4574 - val_accuracy: 0.7256\n",
      "Epoch 16/100\n",
      "221/221 [==============================] - 0s 1ms/step - loss: 0.4629 - accuracy: 0.7896 - val_loss: 0.4606 - val_accuracy: 0.7256\n",
      "Epoch 17/100\n",
      "221/221 [==============================] - 0s 1ms/step - loss: 0.4626 - accuracy: 0.7910 - val_loss: 0.4588 - val_accuracy: 0.7280\n",
      "Epoch 18/100\n",
      "221/221 [==============================] - 0s 1ms/step - loss: 0.4624 - accuracy: 0.7894 - val_loss: 0.4710 - val_accuracy: 0.7215\n",
      "Epoch 19/100\n",
      "221/221 [==============================] - 0s 1ms/step - loss: 0.4623 - accuracy: 0.7900 - val_loss: 0.4654 - val_accuracy: 0.7231\n",
      "Epoch 20/100\n",
      "221/221 [==============================] - 0s 1ms/step - loss: 0.4622 - accuracy: 0.7901 - val_loss: 0.4650 - val_accuracy: 0.7248\n",
      "Epoch 21/100\n",
      "221/221 [==============================] - 0s 1ms/step - loss: 0.4622 - accuracy: 0.7888 - val_loss: 0.4665 - val_accuracy: 0.7248\n",
      "Epoch 22/100\n",
      "221/221 [==============================] - 0s 1ms/step - loss: 0.4621 - accuracy: 0.7901 - val_loss: 0.4648 - val_accuracy: 0.7264\n",
      "Epoch 23/100\n",
      "221/221 [==============================] - 0s 1ms/step - loss: 0.4621 - accuracy: 0.7904 - val_loss: 0.4656 - val_accuracy: 0.7256\n",
      "Epoch 24/100\n",
      "221/221 [==============================] - 0s 1ms/step - loss: 0.4619 - accuracy: 0.7903 - val_loss: 0.4696 - val_accuracy: 0.7248\n",
      "Epoch 25/100\n",
      "221/221 [==============================] - 0s 1ms/step - loss: 0.4620 - accuracy: 0.7903 - val_loss: 0.4762 - val_accuracy: 0.7207\n",
      "Epoch 26/100\n",
      "221/221 [==============================] - 0s 1ms/step - loss: 0.4619 - accuracy: 0.7898 - val_loss: 0.4636 - val_accuracy: 0.7272\n",
      "Epoch 27/100\n",
      "221/221 [==============================] - 0s 1ms/step - loss: 0.4619 - accuracy: 0.7910 - val_loss: 0.4683 - val_accuracy: 0.7248\n",
      "Epoch 28/100\n",
      "221/221 [==============================] - 0s 1ms/step - loss: 0.4619 - accuracy: 0.7898 - val_loss: 0.4719 - val_accuracy: 0.7207\n",
      "Epoch 29/100\n",
      "221/221 [==============================] - 0s 1ms/step - loss: 0.4619 - accuracy: 0.7881 - val_loss: 0.4697 - val_accuracy: 0.7239\n",
      "Epoch 30/100\n",
      "221/221 [==============================] - 0s 1ms/step - loss: 0.4620 - accuracy: 0.7898 - val_loss: 0.4645 - val_accuracy: 0.7272\n",
      "Epoch 31/100\n",
      "221/221 [==============================] - 0s 1ms/step - loss: 0.4620 - accuracy: 0.7897 - val_loss: 0.4731 - val_accuracy: 0.7215\n",
      "Epoch 32/100\n",
      "221/221 [==============================] - 0s 1ms/step - loss: 0.4618 - accuracy: 0.7891 - val_loss: 0.4662 - val_accuracy: 0.7248\n",
      "Epoch 33/100\n",
      "221/221 [==============================] - 0s 1ms/step - loss: 0.4620 - accuracy: 0.7920 - val_loss: 0.4690 - val_accuracy: 0.7248\n",
      "Epoch 34/100\n",
      "221/221 [==============================] - 0s 1ms/step - loss: 0.4619 - accuracy: 0.7913 - val_loss: 0.4711 - val_accuracy: 0.7231\n",
      "Epoch 35/100\n",
      "221/221 [==============================] - 0s 1ms/step - loss: 0.4620 - accuracy: 0.7890 - val_loss: 0.4689 - val_accuracy: 0.7231\n",
      "Epoch 36/100\n",
      "221/221 [==============================] - 0s 1ms/step - loss: 0.4619 - accuracy: 0.7904 - val_loss: 0.4728 - val_accuracy: 0.7223\n",
      "Epoch 37/100\n",
      "221/221 [==============================] - 0s 1ms/step - loss: 0.4619 - accuracy: 0.7896 - val_loss: 0.4650 - val_accuracy: 0.7248\n",
      "Epoch 38/100\n",
      "221/221 [==============================] - 0s 1ms/step - loss: 0.4621 - accuracy: 0.7896 - val_loss: 0.4694 - val_accuracy: 0.7239\n",
      "Epoch 39/100\n",
      "221/221 [==============================] - 0s 1ms/step - loss: 0.4618 - accuracy: 0.7898 - val_loss: 0.4683 - val_accuracy: 0.7231\n",
      "Epoch 40/100\n",
      "221/221 [==============================] - 0s 1ms/step - loss: 0.4620 - accuracy: 0.7913 - val_loss: 0.4696 - val_accuracy: 0.7223\n",
      "Epoch 41/100\n",
      "221/221 [==============================] - 0s 1ms/step - loss: 0.4620 - accuracy: 0.7893 - val_loss: 0.4737 - val_accuracy: 0.7199\n",
      "Epoch 42/100\n",
      "221/221 [==============================] - 0s 1ms/step - loss: 0.4620 - accuracy: 0.7897 - val_loss: 0.4686 - val_accuracy: 0.7231\n",
      "Epoch 43/100\n",
      "221/221 [==============================] - 0s 1ms/step - loss: 0.4618 - accuracy: 0.7901 - val_loss: 0.4623 - val_accuracy: 0.7264\n",
      "Epoch 44/100\n",
      "221/221 [==============================] - 0s 2ms/step - loss: 0.4620 - accuracy: 0.7920 - val_loss: 0.4727 - val_accuracy: 0.7207\n",
      "Epoch 45/100\n",
      "221/221 [==============================] - 0s 2ms/step - loss: 0.4619 - accuracy: 0.7890 - val_loss: 0.4675 - val_accuracy: 0.7248\n",
      "Epoch 46/100\n",
      "221/221 [==============================] - 1s 3ms/step - loss: 0.4617 - accuracy: 0.7903 - val_loss: 0.4816 - val_accuracy: 0.7134\n",
      "Epoch 47/100\n",
      "221/221 [==============================] - 0s 1ms/step - loss: 0.4619 - accuracy: 0.7897 - val_loss: 0.4666 - val_accuracy: 0.7248\n",
      "Epoch 48/100\n",
      "221/221 [==============================] - 0s 1ms/step - loss: 0.4618 - accuracy: 0.7904 - val_loss: 0.4668 - val_accuracy: 0.7239\n",
      "Epoch 49/100\n",
      "221/221 [==============================] - 0s 2ms/step - loss: 0.4619 - accuracy: 0.7904 - val_loss: 0.4661 - val_accuracy: 0.7248\n",
      "Epoch 50/100\n",
      "221/221 [==============================] - 0s 1ms/step - loss: 0.4618 - accuracy: 0.7900 - val_loss: 0.4636 - val_accuracy: 0.7256\n",
      "Epoch 51/100\n",
      "221/221 [==============================] - 0s 1ms/step - loss: 0.4620 - accuracy: 0.7903 - val_loss: 0.4670 - val_accuracy: 0.7248\n",
      "Epoch 52/100\n",
      "221/221 [==============================] - 0s 1ms/step - loss: 0.4619 - accuracy: 0.7893 - val_loss: 0.4659 - val_accuracy: 0.7256\n",
      "Epoch 53/100\n",
      "221/221 [==============================] - 0s 1ms/step - loss: 0.4618 - accuracy: 0.7917 - val_loss: 0.4682 - val_accuracy: 0.7248\n",
      "Epoch 54/100\n",
      "221/221 [==============================] - 0s 1ms/step - loss: 0.4619 - accuracy: 0.7884 - val_loss: 0.4705 - val_accuracy: 0.7223\n",
      "Epoch 55/100\n",
      "221/221 [==============================] - 0s 1ms/step - loss: 0.4618 - accuracy: 0.7908 - val_loss: 0.4711 - val_accuracy: 0.7231\n",
      "Epoch 56/100\n",
      "221/221 [==============================] - 0s 1ms/step - loss: 0.4619 - accuracy: 0.7905 - val_loss: 0.4719 - val_accuracy: 0.7215\n",
      "Epoch 57/100\n",
      "221/221 [==============================] - 0s 1ms/step - loss: 0.4618 - accuracy: 0.7894 - val_loss: 0.4701 - val_accuracy: 0.7223\n"
     ]
    },
    {
     "name": "stdout",
     "output_type": "stream",
     "text": [
      "Epoch 58/100\n",
      "221/221 [==============================] - 0s 1ms/step - loss: 0.4618 - accuracy: 0.7903 - val_loss: 0.4646 - val_accuracy: 0.7256\n",
      "Epoch 59/100\n",
      "221/221 [==============================] - 0s 2ms/step - loss: 0.4619 - accuracy: 0.7920 - val_loss: 0.4714 - val_accuracy: 0.7215\n",
      "Epoch 60/100\n",
      "221/221 [==============================] - 0s 1ms/step - loss: 0.4619 - accuracy: 0.7886 - val_loss: 0.4674 - val_accuracy: 0.7248\n",
      "Epoch 61/100\n",
      "221/221 [==============================] - 0s 1ms/step - loss: 0.4619 - accuracy: 0.7897 - val_loss: 0.4710 - val_accuracy: 0.7223\n",
      "Epoch 62/100\n",
      "221/221 [==============================] - 0s 1ms/step - loss: 0.4619 - accuracy: 0.7884 - val_loss: 0.4720 - val_accuracy: 0.7215\n",
      "Epoch 63/100\n",
      "221/221 [==============================] - 0s 1ms/step - loss: 0.4619 - accuracy: 0.7904 - val_loss: 0.4716 - val_accuracy: 0.7215\n",
      "Epoch 64/100\n",
      "221/221 [==============================] - 0s 1ms/step - loss: 0.4619 - accuracy: 0.7901 - val_loss: 0.4740 - val_accuracy: 0.7199\n",
      "Epoch 65/100\n",
      "221/221 [==============================] - 0s 1ms/step - loss: 0.4618 - accuracy: 0.7904 - val_loss: 0.4717 - val_accuracy: 0.7223\n",
      "Epoch 66/100\n",
      "221/221 [==============================] - 0s 1ms/step - loss: 0.4618 - accuracy: 0.7888 - val_loss: 0.4742 - val_accuracy: 0.7215\n",
      "Epoch 67/100\n",
      "221/221 [==============================] - 0s 1ms/step - loss: 0.4619 - accuracy: 0.7898 - val_loss: 0.4723 - val_accuracy: 0.7215\n",
      "Epoch 68/100\n",
      "221/221 [==============================] - 0s 1ms/step - loss: 0.4619 - accuracy: 0.7901 - val_loss: 0.4660 - val_accuracy: 0.7248\n",
      "Epoch 69/100\n",
      "221/221 [==============================] - 0s 1ms/step - loss: 0.4619 - accuracy: 0.7897 - val_loss: 0.4687 - val_accuracy: 0.7239\n",
      "Epoch 70/100\n",
      "221/221 [==============================] - 0s 1ms/step - loss: 0.4619 - accuracy: 0.7913 - val_loss: 0.4748 - val_accuracy: 0.7199\n",
      "Epoch 71/100\n",
      "221/221 [==============================] - 0s 1ms/step - loss: 0.4620 - accuracy: 0.7890 - val_loss: 0.4673 - val_accuracy: 0.7248\n",
      "Epoch 72/100\n",
      "221/221 [==============================] - 0s 1ms/step - loss: 0.4619 - accuracy: 0.7903 - val_loss: 0.4684 - val_accuracy: 0.7248\n",
      "Epoch 73/100\n",
      "221/221 [==============================] - 0s 1ms/step - loss: 0.4619 - accuracy: 0.7898 - val_loss: 0.4658 - val_accuracy: 0.7248\n",
      "Epoch 74/100\n",
      "221/221 [==============================] - 0s 1ms/step - loss: 0.4618 - accuracy: 0.7913 - val_loss: 0.4674 - val_accuracy: 0.7239\n",
      "Epoch 75/100\n",
      "221/221 [==============================] - 0s 1ms/step - loss: 0.4619 - accuracy: 0.7900 - val_loss: 0.4692 - val_accuracy: 0.7239\n",
      "Epoch 76/100\n",
      "221/221 [==============================] - 0s 1ms/step - loss: 0.4618 - accuracy: 0.7893 - val_loss: 0.4664 - val_accuracy: 0.7248\n",
      "Epoch 77/100\n",
      "221/221 [==============================] - 0s 1ms/step - loss: 0.4619 - accuracy: 0.7910 - val_loss: 0.4758 - val_accuracy: 0.7182\n",
      "Epoch 78/100\n",
      "221/221 [==============================] - 0s 1ms/step - loss: 0.4619 - accuracy: 0.7905 - val_loss: 0.4739 - val_accuracy: 0.7182\n",
      "Epoch 79/100\n",
      "221/221 [==============================] - 0s 1ms/step - loss: 0.4618 - accuracy: 0.7908 - val_loss: 0.4765 - val_accuracy: 0.7166\n",
      "Epoch 80/100\n",
      "221/221 [==============================] - 0s 1ms/step - loss: 0.4619 - accuracy: 0.7880 - val_loss: 0.4645 - val_accuracy: 0.7280\n",
      "Epoch 81/100\n",
      "221/221 [==============================] - 0s 1ms/step - loss: 0.4619 - accuracy: 0.7901 - val_loss: 0.4715 - val_accuracy: 0.7207\n",
      "Epoch 82/100\n",
      "221/221 [==============================] - 0s 1ms/step - loss: 0.4618 - accuracy: 0.7903 - val_loss: 0.4705 - val_accuracy: 0.7231\n",
      "Epoch 83/100\n",
      "221/221 [==============================] - 0s 1ms/step - loss: 0.4620 - accuracy: 0.7897 - val_loss: 0.4724 - val_accuracy: 0.7207\n",
      "Epoch 84/100\n",
      "221/221 [==============================] - 0s 1ms/step - loss: 0.4619 - accuracy: 0.7905 - val_loss: 0.4757 - val_accuracy: 0.7182\n",
      "Epoch 85/100\n",
      "221/221 [==============================] - 0s 1ms/step - loss: 0.4619 - accuracy: 0.7898 - val_loss: 0.4687 - val_accuracy: 0.7248\n",
      "Epoch 86/100\n",
      "221/221 [==============================] - 0s 1ms/step - loss: 0.4619 - accuracy: 0.7907 - val_loss: 0.4729 - val_accuracy: 0.7223\n",
      "Epoch 87/100\n",
      "221/221 [==============================] - 0s 1ms/step - loss: 0.4619 - accuracy: 0.7901 - val_loss: 0.4742 - val_accuracy: 0.7215\n",
      "Epoch 88/100\n",
      "221/221 [==============================] - 0s 1ms/step - loss: 0.4620 - accuracy: 0.7896 - val_loss: 0.4734 - val_accuracy: 0.7199\n",
      "Epoch 89/100\n",
      "221/221 [==============================] - 0s 1ms/step - loss: 0.4619 - accuracy: 0.7886 - val_loss: 0.4679 - val_accuracy: 0.7256\n",
      "Epoch 90/100\n",
      "221/221 [==============================] - 0s 1ms/step - loss: 0.4619 - accuracy: 0.7903 - val_loss: 0.4736 - val_accuracy: 0.7215\n",
      "Epoch 91/100\n",
      "221/221 [==============================] - 0s 1ms/step - loss: 0.4618 - accuracy: 0.7896 - val_loss: 0.4734 - val_accuracy: 0.7199\n",
      "Epoch 92/100\n",
      "221/221 [==============================] - 0s 2ms/step - loss: 0.4619 - accuracy: 0.7911 - val_loss: 0.4734 - val_accuracy: 0.7199\n",
      "Epoch 93/100\n",
      "221/221 [==============================] - 0s 1ms/step - loss: 0.4619 - accuracy: 0.7897 - val_loss: 0.4755 - val_accuracy: 0.7166\n",
      "Epoch 94/100\n",
      "221/221 [==============================] - 0s 1ms/step - loss: 0.4619 - accuracy: 0.7900 - val_loss: 0.4680 - val_accuracy: 0.7264\n",
      "Epoch 95/100\n",
      "221/221 [==============================] - 0s 1ms/step - loss: 0.4619 - accuracy: 0.7884 - val_loss: 0.4708 - val_accuracy: 0.7223\n",
      "Epoch 96/100\n",
      "221/221 [==============================] - 0s 1ms/step - loss: 0.4617 - accuracy: 0.7911 - val_loss: 0.4725 - val_accuracy: 0.7223\n",
      "Epoch 97/100\n",
      "221/221 [==============================] - 0s 1ms/step - loss: 0.4619 - accuracy: 0.7901 - val_loss: 0.4703 - val_accuracy: 0.7215\n",
      "Epoch 98/100\n",
      "221/221 [==============================] - 0s 1ms/step - loss: 0.4619 - accuracy: 0.7908 - val_loss: 0.4760 - val_accuracy: 0.7174\n",
      "Epoch 99/100\n",
      "221/221 [==============================] - 0s 2ms/step - loss: 0.4619 - accuracy: 0.7894 - val_loss: 0.4699 - val_accuracy: 0.7215\n",
      "Epoch 100/100\n",
      "221/221 [==============================] - 0s 1ms/step - loss: 0.4620 - accuracy: 0.7907 - val_loss: 0.4701 - val_accuracy: 0.7223\n"
     ]
    }
   ],
   "source": [
    "# Fit the model to the training data\n",
    "fit_model = nn_model.fit(X_resampled, y_resampled, validation_data = (X_test_scaled, y_test), epochs=100)"
   ]
  },
  {
   "cell_type": "code",
   "execution_count": 122,
   "id": "39f6a2f5",
   "metadata": {},
   "outputs": [
    {
     "data": {
      "text/html": [
       "<div>\n",
       "<style scoped>\n",
       "    .dataframe tbody tr th:only-of-type {\n",
       "        vertical-align: middle;\n",
       "    }\n",
       "\n",
       "    .dataframe tbody tr th {\n",
       "        vertical-align: top;\n",
       "    }\n",
       "\n",
       "    .dataframe thead th {\n",
       "        text-align: right;\n",
       "    }\n",
       "</style>\n",
       "<table border=\"1\" class=\"dataframe\">\n",
       "  <thead>\n",
       "    <tr style=\"text-align: right;\">\n",
       "      <th></th>\n",
       "      <th>loss</th>\n",
       "      <th>accuracy</th>\n",
       "      <th>val_loss</th>\n",
       "      <th>val_accuracy</th>\n",
       "    </tr>\n",
       "  </thead>\n",
       "  <tbody>\n",
       "    <tr>\n",
       "      <th>1</th>\n",
       "      <td>0.674976</td>\n",
       "      <td>0.619445</td>\n",
       "      <td>0.599076</td>\n",
       "      <td>0.593648</td>\n",
       "    </tr>\n",
       "    <tr>\n",
       "      <th>2</th>\n",
       "      <td>0.620690</td>\n",
       "      <td>0.695160</td>\n",
       "      <td>0.527900</td>\n",
       "      <td>0.578176</td>\n",
       "    </tr>\n",
       "    <tr>\n",
       "      <th>3</th>\n",
       "      <td>0.581142</td>\n",
       "      <td>0.717379</td>\n",
       "      <td>0.494693</td>\n",
       "      <td>0.609935</td>\n",
       "    </tr>\n",
       "    <tr>\n",
       "      <th>4</th>\n",
       "      <td>0.556869</td>\n",
       "      <td>0.729267</td>\n",
       "      <td>0.479115</td>\n",
       "      <td>0.633550</td>\n",
       "    </tr>\n",
       "    <tr>\n",
       "      <th>5</th>\n",
       "      <td>0.537212</td>\n",
       "      <td>0.740589</td>\n",
       "      <td>0.462092</td>\n",
       "      <td>0.664495</td>\n",
       "    </tr>\n",
       "    <tr>\n",
       "      <th>...</th>\n",
       "      <td>...</td>\n",
       "      <td>...</td>\n",
       "      <td>...</td>\n",
       "      <td>...</td>\n",
       "    </tr>\n",
       "    <tr>\n",
       "      <th>96</th>\n",
       "      <td>0.461721</td>\n",
       "      <td>0.791112</td>\n",
       "      <td>0.472473</td>\n",
       "      <td>0.722313</td>\n",
       "    </tr>\n",
       "    <tr>\n",
       "      <th>97</th>\n",
       "      <td>0.461886</td>\n",
       "      <td>0.790122</td>\n",
       "      <td>0.470279</td>\n",
       "      <td>0.721498</td>\n",
       "    </tr>\n",
       "    <tr>\n",
       "      <th>98</th>\n",
       "      <td>0.461870</td>\n",
       "      <td>0.790829</td>\n",
       "      <td>0.476006</td>\n",
       "      <td>0.717427</td>\n",
       "    </tr>\n",
       "    <tr>\n",
       "      <th>99</th>\n",
       "      <td>0.461861</td>\n",
       "      <td>0.789414</td>\n",
       "      <td>0.469893</td>\n",
       "      <td>0.721498</td>\n",
       "    </tr>\n",
       "    <tr>\n",
       "      <th>100</th>\n",
       "      <td>0.461983</td>\n",
       "      <td>0.790688</td>\n",
       "      <td>0.470068</td>\n",
       "      <td>0.722313</td>\n",
       "    </tr>\n",
       "  </tbody>\n",
       "</table>\n",
       "<p>100 rows × 4 columns</p>\n",
       "</div>"
      ],
      "text/plain": [
       "         loss  accuracy  val_loss  val_accuracy\n",
       "1    0.674976  0.619445  0.599076      0.593648\n",
       "2    0.620690  0.695160  0.527900      0.578176\n",
       "3    0.581142  0.717379  0.494693      0.609935\n",
       "4    0.556869  0.729267  0.479115      0.633550\n",
       "5    0.537212  0.740589  0.462092      0.664495\n",
       "..        ...       ...       ...           ...\n",
       "96   0.461721  0.791112  0.472473      0.722313\n",
       "97   0.461886  0.790122  0.470279      0.721498\n",
       "98   0.461870  0.790829  0.476006      0.717427\n",
       "99   0.461861  0.789414  0.469893      0.721498\n",
       "100  0.461983  0.790688  0.470068      0.722313\n",
       "\n",
       "[100 rows x 4 columns]"
      ]
     },
     "execution_count": 122,
     "metadata": {},
     "output_type": "execute_result"
    }
   ],
   "source": [
    "# Create a DataFrame containing training history\n",
    "nn_history_df = pd.DataFrame(fit_model.history, index=range(1,len(fit_model.history[\"loss\"])+1))\n",
    "nn_history_df"
   ]
  },
  {
   "cell_type": "code",
   "execution_count": 123,
   "id": "681ef2d2",
   "metadata": {},
   "outputs": [
    {
     "data": {
      "image/png": "[encoded data removed]",
      "text/plain": [
       "<Figure size 432x288 with 1 Axes>"
      ]
     },
     "metadata": {
      "needs_background": "light"
     },
     "output_type": "display_data"
    }
   ],
   "source": [
    "# Plot the history\n",
    "nn_history_plot = nn_history_df.plot(title = \"Single Perceptron History\",colormap= \"viridis\")"
   ]
  },
  {
   "cell_type": "code",
   "execution_count": 124,
   "id": "44cbd379",
   "metadata": {},
   "outputs": [
    {
     "data": {
      "text/plain": [
       "<AxesSubplot:>"
      ]
     },
     "execution_count": 124,
     "metadata": {},
     "output_type": "execute_result"
    },
    {
     "data": {
      "image/png": "[encoded data removed]",
      "text/plain": [
       "<Figure size 432x288 with 1 Axes>"
      ]
     },
     "metadata": {
      "needs_background": "light"
     },
     "output_type": "display_data"
    }
   ],
   "source": [
    "# Plot the loss\n",
    "nn_history_df.plot(y=[\"loss\", \"val_loss\"], colormap= \"viridis\")"
   ]
  },
  {
   "cell_type": "code",
   "execution_count": 125,
   "id": "cd8cd5e6",
   "metadata": {},
   "outputs": [
    {
     "data": {
      "text/plain": [
       "<AxesSubplot:>"
      ]
     },
     "execution_count": 125,
     "metadata": {},
     "output_type": "execute_result"
    },
    {
     "data": {
      "image/png": "[encoded data removed]",
      "text/plain": [
       "<Figure size 432x288 with 1 Axes>"
      ]
     },
     "metadata": {
      "needs_background": "light"
     },
     "output_type": "display_data"
    }
   ],
   "source": [
    "# Plot the accuracy\n",
    "nn_history_df.plot(y=[\"accuracy\", \"val_accuracy\"], colormap= \"viridis\")"
   ]
  },
  {
   "cell_type": "code",
   "execution_count": 126,
   "id": "084220c7",
   "metadata": {},
   "outputs": [
    {
     "name": "stdout",
     "output_type": "stream",
     "text": [
      " The loss for the single perceptron model is: 0.47006842494010925, The accuracy is: 0.7223126888275146\n"
     ]
    }
   ],
   "source": [
    "# Evaluate the model using the test data\n",
    "nn_model_loss,nn_model_accuracy = nn_model.evaluate(X_test_scaled,y_test,verbose=0)\n",
    "print(f\" The loss for the single perceptron model is: {nn_model_loss}, The accuracy is: {nn_model_accuracy}\")"
   ]
  },
  {
   "cell_type": "code",
   "execution_count": 127,
   "id": "f0670eec",
   "metadata": {
    "scrolled": true
   },
   "outputs": [],
   "source": [
    "# Y_pred: flatten & convert prediction probabilities to binary format so it can be passed through confusion matrix\n",
    "y_pred_nn = nn_model.predict(X_test_scaled)\n",
    "y_pred_nn = y_pred_nn.flatten()\n",
    "y_pred_nn_tf=tf.round(y_pred_nn)"
   ]
  },
  {
   "cell_type": "code",
   "execution_count": 128,
   "id": "620c09a1",
   "metadata": {
    "scrolled": true
   },
   "outputs": [
    {
     "data": {
      "text/plain": [
       "<sklearn.metrics._plot.confusion_matrix.ConfusionMatrixDisplay at 0x29b82787fc8>"
      ]
     },
     "execution_count": 128,
     "metadata": {},
     "output_type": "execute_result"
    },
    {
     "data": {
      "image/png": "[encoded data removed]",
      "text/plain": [
       "<Figure size 432x288 with 2 Axes>"
      ]
     },
     "metadata": {
      "needs_background": "light"
     },
     "output_type": "display_data"
    }
   ],
   "source": [
    "# Display the confusion matrix\n",
    "nn_cm = confusion_matrix(y_test, y_pred_nn_tf, labels=[1,0])\n",
    "\n",
    "nn_disp = ConfusionMatrixDisplay(confusion_matrix=nn_cm, display_labels=[1,0])\n",
    "nn_disp.plot()\n",
    "nn_disp.ax_.set_title(\"Single Perceptron Confusion Matrix\")\n",
    "nn_disp"
   ]
  },
  {
   "cell_type": "code",
   "execution_count": 157,
   "id": "0e329dd0",
   "metadata": {},
   "outputs": [
    {
     "name": "stdout",
     "output_type": "stream",
     "text": [
      "Accuracy Score of the Single Perceptron Model: 0.7223127035830619\n",
      "Recall Score of the Single Perceptron Model: 0.8846153846153846\n",
      "Specifity Score of the Deep Learning Model: 0.7151360544217688\n",
      "Balanced Accuracy Score of the Single Perceptron Model: 0.7998757195185766\n",
      "Precision Score of the Single Perceptron Model: 0.12073490813648294\n",
      "F1 Score Score of the Single Perceptron Model: 0.21247113163972284\n",
      "Loss of the Multiple Perceptron Model: 0.47006842494010925\n"
     ]
    },
    {
     "data": {
      "text/html": [
       "<div>\n",
       "<style scoped>\n",
       "    .dataframe tbody tr th:only-of-type {\n",
       "        vertical-align: middle;\n",
       "    }\n",
       "\n",
       "    .dataframe tbody tr th {\n",
       "        vertical-align: top;\n",
       "    }\n",
       "\n",
       "    .dataframe thead th {\n",
       "        text-align: right;\n",
       "    }\n",
       "</style>\n",
       "<table border=\"1\" class=\"dataframe\">\n",
       "  <thead>\n",
       "    <tr style=\"text-align: right;\">\n",
       "      <th></th>\n",
       "      <th>Model Type</th>\n",
       "      <th>Accuracy</th>\n",
       "      <th>Recall</th>\n",
       "      <th>Specificity</th>\n",
       "      <th>Balanced Accuracy</th>\n",
       "      <th>Precision</th>\n",
       "      <th>F1 Score</th>\n",
       "      <th>Loss</th>\n",
       "    </tr>\n",
       "  </thead>\n",
       "  <tbody>\n",
       "    <tr>\n",
       "      <th>0</th>\n",
       "      <td>Single Perceptron</td>\n",
       "      <td>0.722313</td>\n",
       "      <td>0.884615</td>\n",
       "      <td>0.715136</td>\n",
       "      <td>0.799876</td>\n",
       "      <td>0.120735</td>\n",
       "      <td>0.212471</td>\n",
       "      <td>0.470068</td>\n",
       "    </tr>\n",
       "  </tbody>\n",
       "</table>\n",
       "</div>"
      ],
      "text/plain": [
       "          Model Type  Accuracy    Recall  Specificity  Balanced Accuracy  \\\n",
       "0  Single Perceptron  0.722313  0.884615     0.715136           0.799876   \n",
       "\n",
       "   Precision  F1 Score      Loss  \n",
       "0   0.120735  0.212471  0.470068  "
      ]
     },
     "execution_count": 157,
     "metadata": {},
     "output_type": "execute_result"
    }
   ],
   "source": [
    "# Advanced Classification Metrics\n",
    "# Accuracy\n",
    "nn_accuracy_score = accuracy_score(y_test, y_pred_nn_tf)\n",
    "print(f'Accuracy Score of the Single Perceptron Model: {nn_accuracy_score}')\n",
    "\n",
    "# Recall\n",
    "nn_recall_score = recall_score(y_test, y_pred_nn_tf)\n",
    "print(f'Recall Score of the Single Perceptron Model: {nn_recall_score}')\n",
    "\n",
    "# Specificity\n",
    "nn_specificity_score = 841 / 1176\n",
    "print(f'Specifity Score of the Deep Learning Model: {nn_specificity_score}')\n",
    "\n",
    "# Balanced Accuracy Score\n",
    "nn_bas = balanced_accuracy_score(y_test, y_pred_nn_tf)\n",
    "print(f'Balanced Accuracy Score of the Single Perceptron Model: {nn_bas}')\n",
    "\n",
    "# Precision\n",
    "nn_precision_score = precision_score(y_test, y_pred_nn_tf)\n",
    "print(f'Precision Score of the Single Perceptron Model: {nn_precision_score}')     \n",
    "   \n",
    "# F1 Score\n",
    "nn_f1_score = f1_score(y_test, y_pred_nn_tf)\n",
    "print(f'F1 Score Score of the Single Perceptron Model: {nn_f1_score}')\n",
    "\n",
    "# Loss Score\n",
    "print(f'Loss of the Multiple Perceptron Model: {nn_model_loss}')\n",
    "\n",
    "# Advanced Classification Metrics DF\n",
    "nn_acm = {\"Model Type\": [\"Single Perceptron\"], \"Accuracy\":[nn_accuracy_score], \"Recall\": [nn_recall_score], \"Specificity\":[nn_specificity_score], \n",
    "          \"Balanced Accuracy\": [nn_bas], \"Precision\":[nn_precision_score], \"F1 Score\":[nn_f1_score], \"Loss\": [nn_model_loss]}\n",
    "nn_acm_df = pd.DataFrame(data=nn_acm)\n",
    "nn_acm_df"
   ]
  },
  {
   "cell_type": "markdown",
   "id": "a3498c6a",
   "metadata": {},
   "source": [
    "## Multi-Perceptron Model"
   ]
  },
  {
   "cell_type": "code",
   "execution_count": 130,
   "id": "2ed14fc6",
   "metadata": {},
   "outputs": [],
   "source": [
    "# Generate our new Sequential model\n",
    "multi_nn_model = tf.keras.models.Sequential()\n",
    "\n",
    "# Add the input and hidden layer\n",
    "number_inputs = 21\n",
    "number_hidden_nodes = 6\n",
    "\n",
    "multi_nn_model.add(tf.keras.layers.Dense(units=number_hidden_nodes, activation=\"relu\", input_dim=number_inputs))\n",
    "\n",
    "# Add the output layer that uses a probability activation function\n",
    "multi_nn_model.add(tf.keras.layers.Dense(units=1, activation=\"sigmoid\"))"
   ]
  },
  {
   "cell_type": "code",
   "execution_count": 131,
   "id": "29d31da7",
   "metadata": {},
   "outputs": [],
   "source": [
    "# Compile the Sequential model together and customize metrics\n",
    "multi_nn_model.compile(loss=\"binary_crossentropy\", optimizer=\"adam\", metrics=[\"accuracy\"])"
   ]
  },
  {
   "cell_type": "code",
   "execution_count": 132,
   "id": "cb220d40",
   "metadata": {
    "scrolled": true
   },
   "outputs": [
    {
     "name": "stdout",
     "output_type": "stream",
     "text": [
      "Epoch 1/100\n",
      "221/221 [==============================] - 1s 2ms/step - loss: 0.8888 - accuracy: 0.5102 - val_loss: 0.4190 - val_accuracy: 0.8314\n",
      "Epoch 2/100\n",
      "221/221 [==============================] - 0s 1ms/step - loss: 0.5859 - accuracy: 0.7014 - val_loss: 0.4199 - val_accuracy: 0.7606\n",
      "Epoch 3/100\n",
      "221/221 [==============================] - 0s 1ms/step - loss: 0.5308 - accuracy: 0.7685 - val_loss: 0.4030 - val_accuracy: 0.7476\n",
      "Epoch 4/100\n",
      "221/221 [==============================] - 0s 1ms/step - loss: 0.5022 - accuracy: 0.7952 - val_loss: 0.3877 - val_accuracy: 0.7443\n",
      "Epoch 5/100\n",
      "221/221 [==============================] - 0s 1ms/step - loss: 0.4823 - accuracy: 0.8047 - val_loss: 0.3861 - val_accuracy: 0.7484\n",
      "Epoch 6/100\n",
      "221/221 [==============================] - 0s 1ms/step - loss: 0.4672 - accuracy: 0.8054 - val_loss: 0.3844 - val_accuracy: 0.7508\n",
      "Epoch 7/100\n",
      "221/221 [==============================] - 0s 1ms/step - loss: 0.4552 - accuracy: 0.8037 - val_loss: 0.3900 - val_accuracy: 0.7435\n",
      "Epoch 8/100\n",
      "221/221 [==============================] - 0s 1ms/step - loss: 0.4453 - accuracy: 0.8065 - val_loss: 0.3859 - val_accuracy: 0.7508\n",
      "Epoch 9/100\n",
      "221/221 [==============================] - 0s 1ms/step - loss: 0.4374 - accuracy: 0.8078 - val_loss: 0.3922 - val_accuracy: 0.7443\n",
      "Epoch 10/100\n",
      "221/221 [==============================] - 0s 1ms/step - loss: 0.4305 - accuracy: 0.8115 - val_loss: 0.3990 - val_accuracy: 0.7370\n",
      "Epoch 11/100\n",
      "221/221 [==============================] - 0s 2ms/step - loss: 0.4248 - accuracy: 0.8133 - val_loss: 0.3967 - val_accuracy: 0.7435\n",
      "Epoch 12/100\n",
      "221/221 [==============================] - 1s 2ms/step - loss: 0.4199 - accuracy: 0.8147 - val_loss: 0.3946 - val_accuracy: 0.7492\n",
      "Epoch 13/100\n",
      "221/221 [==============================] - 0s 1ms/step - loss: 0.4153 - accuracy: 0.8159 - val_loss: 0.3912 - val_accuracy: 0.7549\n",
      "Epoch 14/100\n",
      "221/221 [==============================] - 0s 1ms/step - loss: 0.4116 - accuracy: 0.8181 - val_loss: 0.3922 - val_accuracy: 0.7606\n",
      "Epoch 15/100\n",
      "221/221 [==============================] - 0s 1ms/step - loss: 0.4074 - accuracy: 0.8189 - val_loss: 0.3952 - val_accuracy: 0.7557\n",
      "Epoch 16/100\n",
      "221/221 [==============================] - 0s 1ms/step - loss: 0.4033 - accuracy: 0.8197 - val_loss: 0.4014 - val_accuracy: 0.7557\n",
      "Epoch 17/100\n",
      "221/221 [==============================] - 0s 1ms/step - loss: 0.3993 - accuracy: 0.8204 - val_loss: 0.4030 - val_accuracy: 0.7533\n",
      "Epoch 18/100\n",
      "221/221 [==============================] - 0s 1ms/step - loss: 0.3957 - accuracy: 0.8220 - val_loss: 0.3912 - val_accuracy: 0.7638\n",
      "Epoch 19/100\n",
      "221/221 [==============================] - 0s 1ms/step - loss: 0.3922 - accuracy: 0.8227 - val_loss: 0.3853 - val_accuracy: 0.7679\n",
      "Epoch 20/100\n",
      "221/221 [==============================] - 0s 1ms/step - loss: 0.3896 - accuracy: 0.8238 - val_loss: 0.3903 - val_accuracy: 0.7647\n",
      "Epoch 21/100\n",
      "221/221 [==============================] - 0s 1ms/step - loss: 0.3870 - accuracy: 0.8254 - val_loss: 0.4001 - val_accuracy: 0.7614\n",
      "Epoch 22/100\n",
      "221/221 [==============================] - 0s 1ms/step - loss: 0.3851 - accuracy: 0.8272 - val_loss: 0.3829 - val_accuracy: 0.7728\n",
      "Epoch 23/100\n",
      "221/221 [==============================] - 0s 1ms/step - loss: 0.3833 - accuracy: 0.8271 - val_loss: 0.3929 - val_accuracy: 0.7712\n",
      "Epoch 24/100\n",
      "221/221 [==============================] - 0s 1ms/step - loss: 0.3814 - accuracy: 0.8286 - val_loss: 0.3936 - val_accuracy: 0.7704\n",
      "Epoch 25/100\n",
      "221/221 [==============================] - 0s 1ms/step - loss: 0.3797 - accuracy: 0.8285 - val_loss: 0.3981 - val_accuracy: 0.7687\n",
      "Epoch 26/100\n",
      "221/221 [==============================] - 0s 1ms/step - loss: 0.3779 - accuracy: 0.8302 - val_loss: 0.3839 - val_accuracy: 0.7818\n",
      "Epoch 27/100\n",
      "221/221 [==============================] - 0s 1ms/step - loss: 0.3770 - accuracy: 0.8310 - val_loss: 0.3970 - val_accuracy: 0.7663\n",
      "Epoch 28/100\n",
      "221/221 [==============================] - 0s 1ms/step - loss: 0.3754 - accuracy: 0.8343 - val_loss: 0.3958 - val_accuracy: 0.7744\n",
      "Epoch 29/100\n",
      "221/221 [==============================] - 0s 1ms/step - loss: 0.3743 - accuracy: 0.8331 - val_loss: 0.4001 - val_accuracy: 0.7744\n",
      "Epoch 30/100\n",
      "221/221 [==============================] - 0s 1ms/step - loss: 0.3730 - accuracy: 0.8339 - val_loss: 0.3975 - val_accuracy: 0.7744\n",
      "Epoch 31/100\n",
      "221/221 [==============================] - 0s 1ms/step - loss: 0.3714 - accuracy: 0.8346 - val_loss: 0.4121 - val_accuracy: 0.7679\n",
      "Epoch 32/100\n",
      "221/221 [==============================] - 0s 1ms/step - loss: 0.3705 - accuracy: 0.8344 - val_loss: 0.4008 - val_accuracy: 0.7736\n",
      "Epoch 33/100\n",
      "221/221 [==============================] - 0s 1ms/step - loss: 0.3689 - accuracy: 0.8363 - val_loss: 0.3987 - val_accuracy: 0.7793\n",
      "Epoch 34/100\n",
      "221/221 [==============================] - 0s 1ms/step - loss: 0.3675 - accuracy: 0.8380 - val_loss: 0.4040 - val_accuracy: 0.7785\n",
      "Epoch 35/100\n",
      "221/221 [==============================] - 0s 1ms/step - loss: 0.3665 - accuracy: 0.8364 - val_loss: 0.4041 - val_accuracy: 0.7761\n",
      "Epoch 36/100\n",
      "221/221 [==============================] - 0s 1ms/step - loss: 0.3653 - accuracy: 0.8394 - val_loss: 0.3912 - val_accuracy: 0.7818\n",
      "Epoch 37/100\n",
      "221/221 [==============================] - 0s 1ms/step - loss: 0.3641 - accuracy: 0.8389 - val_loss: 0.3949 - val_accuracy: 0.7785\n",
      "Epoch 38/100\n",
      "221/221 [==============================] - 0s 1ms/step - loss: 0.3631 - accuracy: 0.8415 - val_loss: 0.3934 - val_accuracy: 0.7809\n",
      "Epoch 39/100\n",
      "221/221 [==============================] - 0s 1ms/step - loss: 0.3625 - accuracy: 0.8406 - val_loss: 0.3851 - val_accuracy: 0.7875\n",
      "Epoch 40/100\n",
      "221/221 [==============================] - 0s 1ms/step - loss: 0.3617 - accuracy: 0.8404 - val_loss: 0.4039 - val_accuracy: 0.7720\n",
      "Epoch 41/100\n",
      "221/221 [==============================] - 0s 1ms/step - loss: 0.3608 - accuracy: 0.8398 - val_loss: 0.3977 - val_accuracy: 0.7785\n",
      "Epoch 42/100\n",
      "221/221 [==============================] - 0s 1ms/step - loss: 0.3600 - accuracy: 0.8422 - val_loss: 0.4019 - val_accuracy: 0.7785\n",
      "Epoch 43/100\n",
      "221/221 [==============================] - 0s 1ms/step - loss: 0.3591 - accuracy: 0.8436 - val_loss: 0.4112 - val_accuracy: 0.7712\n",
      "Epoch 44/100\n",
      "221/221 [==============================] - 0s 1ms/step - loss: 0.3582 - accuracy: 0.8425 - val_loss: 0.3913 - val_accuracy: 0.7826\n",
      "Epoch 45/100\n",
      "221/221 [==============================] - 0s 1ms/step - loss: 0.3579 - accuracy: 0.8421 - val_loss: 0.4002 - val_accuracy: 0.7818\n",
      "Epoch 46/100\n",
      "221/221 [==============================] - 0s 1ms/step - loss: 0.3569 - accuracy: 0.8421 - val_loss: 0.4128 - val_accuracy: 0.7728\n",
      "Epoch 47/100\n",
      "221/221 [==============================] - 0s 1ms/step - loss: 0.3560 - accuracy: 0.8435 - val_loss: 0.3976 - val_accuracy: 0.7834\n",
      "Epoch 48/100\n",
      "221/221 [==============================] - 0s 1ms/step - loss: 0.3554 - accuracy: 0.8426 - val_loss: 0.3993 - val_accuracy: 0.7809\n",
      "Epoch 49/100\n",
      "221/221 [==============================] - 0s 1ms/step - loss: 0.3547 - accuracy: 0.8440 - val_loss: 0.4048 - val_accuracy: 0.7826\n",
      "Epoch 50/100\n",
      "221/221 [==============================] - 0s 1ms/step - loss: 0.3536 - accuracy: 0.8423 - val_loss: 0.3904 - val_accuracy: 0.7850\n",
      "Epoch 51/100\n",
      "221/221 [==============================] - 0s 1ms/step - loss: 0.3529 - accuracy: 0.8446 - val_loss: 0.3954 - val_accuracy: 0.7842\n",
      "Epoch 52/100\n",
      "221/221 [==============================] - 0s 1ms/step - loss: 0.3524 - accuracy: 0.8466 - val_loss: 0.4059 - val_accuracy: 0.7818\n",
      "Epoch 53/100\n",
      "221/221 [==============================] - 0s 1ms/step - loss: 0.3515 - accuracy: 0.8457 - val_loss: 0.4077 - val_accuracy: 0.7834\n",
      "Epoch 54/100\n",
      "221/221 [==============================] - 0s 1ms/step - loss: 0.3510 - accuracy: 0.8459 - val_loss: 0.4064 - val_accuracy: 0.7834\n",
      "Epoch 55/100\n",
      "221/221 [==============================] - 0s 1ms/step - loss: 0.3504 - accuracy: 0.8462 - val_loss: 0.4070 - val_accuracy: 0.7801\n",
      "Epoch 56/100\n",
      "221/221 [==============================] - 0s 1ms/step - loss: 0.3498 - accuracy: 0.8479 - val_loss: 0.4011 - val_accuracy: 0.7850\n",
      "Epoch 57/100\n",
      "221/221 [==============================] - 0s 1ms/step - loss: 0.3492 - accuracy: 0.8474 - val_loss: 0.3984 - val_accuracy: 0.7866\n"
     ]
    },
    {
     "name": "stdout",
     "output_type": "stream",
     "text": [
      "Epoch 58/100\n",
      "221/221 [==============================] - 0s 1ms/step - loss: 0.3488 - accuracy: 0.8460 - val_loss: 0.3988 - val_accuracy: 0.7850\n",
      "Epoch 59/100\n",
      "221/221 [==============================] - 0s 1ms/step - loss: 0.3479 - accuracy: 0.8490 - val_loss: 0.4014 - val_accuracy: 0.7850\n",
      "Epoch 60/100\n",
      "221/221 [==============================] - 0s 1ms/step - loss: 0.3475 - accuracy: 0.8483 - val_loss: 0.4000 - val_accuracy: 0.7858\n",
      "Epoch 61/100\n",
      "221/221 [==============================] - 0s 1ms/step - loss: 0.3470 - accuracy: 0.8486 - val_loss: 0.3948 - val_accuracy: 0.7891\n",
      "Epoch 62/100\n",
      "221/221 [==============================] - 0s 1ms/step - loss: 0.3466 - accuracy: 0.8507 - val_loss: 0.4021 - val_accuracy: 0.7875\n",
      "Epoch 63/100\n",
      "221/221 [==============================] - 0s 1ms/step - loss: 0.3462 - accuracy: 0.8484 - val_loss: 0.4015 - val_accuracy: 0.7883\n",
      "Epoch 64/100\n",
      "221/221 [==============================] - 0s 1ms/step - loss: 0.3458 - accuracy: 0.8496 - val_loss: 0.4113 - val_accuracy: 0.7785\n",
      "Epoch 65/100\n",
      "221/221 [==============================] - 0s 1ms/step - loss: 0.3451 - accuracy: 0.8506 - val_loss: 0.3928 - val_accuracy: 0.7891\n",
      "Epoch 66/100\n",
      "221/221 [==============================] - 0s 1ms/step - loss: 0.3452 - accuracy: 0.8507 - val_loss: 0.3945 - val_accuracy: 0.7907\n",
      "Epoch 67/100\n",
      "221/221 [==============================] - 0s 1ms/step - loss: 0.3448 - accuracy: 0.8508 - val_loss: 0.3972 - val_accuracy: 0.7866\n",
      "Epoch 68/100\n",
      "221/221 [==============================] - 0s 1ms/step - loss: 0.3443 - accuracy: 0.8520 - val_loss: 0.4112 - val_accuracy: 0.7809\n",
      "Epoch 69/100\n",
      "221/221 [==============================] - 0s 1ms/step - loss: 0.3442 - accuracy: 0.8541 - val_loss: 0.4108 - val_accuracy: 0.7809\n",
      "Epoch 70/100\n",
      "221/221 [==============================] - 0s 1ms/step - loss: 0.3436 - accuracy: 0.8514 - val_loss: 0.3976 - val_accuracy: 0.7907\n",
      "Epoch 71/100\n",
      "221/221 [==============================] - 0s 2ms/step - loss: 0.3434 - accuracy: 0.8527 - val_loss: 0.4054 - val_accuracy: 0.7842\n",
      "Epoch 72/100\n",
      "221/221 [==============================] - 0s 2ms/step - loss: 0.3431 - accuracy: 0.8532 - val_loss: 0.4003 - val_accuracy: 0.7891\n",
      "Epoch 73/100\n",
      "221/221 [==============================] - 0s 2ms/step - loss: 0.3426 - accuracy: 0.8541 - val_loss: 0.3996 - val_accuracy: 0.7891\n",
      "Epoch 74/100\n",
      "221/221 [==============================] - 0s 2ms/step - loss: 0.3422 - accuracy: 0.8530 - val_loss: 0.4065 - val_accuracy: 0.7850\n",
      "Epoch 75/100\n",
      "221/221 [==============================] - 0s 2ms/step - loss: 0.3418 - accuracy: 0.8541 - val_loss: 0.3963 - val_accuracy: 0.7883\n",
      "Epoch 76/100\n",
      "221/221 [==============================] - 0s 2ms/step - loss: 0.3415 - accuracy: 0.8511 - val_loss: 0.4057 - val_accuracy: 0.7866\n",
      "Epoch 77/100\n",
      "221/221 [==============================] - 0s 2ms/step - loss: 0.3412 - accuracy: 0.8545 - val_loss: 0.4168 - val_accuracy: 0.7801\n",
      "Epoch 78/100\n",
      "221/221 [==============================] - 0s 2ms/step - loss: 0.3409 - accuracy: 0.8525 - val_loss: 0.4069 - val_accuracy: 0.7866\n",
      "Epoch 79/100\n",
      "221/221 [==============================] - 0s 2ms/step - loss: 0.3405 - accuracy: 0.8538 - val_loss: 0.4029 - val_accuracy: 0.7883\n",
      "Epoch 80/100\n",
      "221/221 [==============================] - 0s 2ms/step - loss: 0.3399 - accuracy: 0.8547 - val_loss: 0.3939 - val_accuracy: 0.7932\n",
      "Epoch 81/100\n",
      "221/221 [==============================] - 0s 2ms/step - loss: 0.3398 - accuracy: 0.8545 - val_loss: 0.4132 - val_accuracy: 0.7842\n",
      "Epoch 82/100\n",
      "221/221 [==============================] - 0s 2ms/step - loss: 0.3394 - accuracy: 0.8528 - val_loss: 0.4113 - val_accuracy: 0.7842\n",
      "Epoch 83/100\n",
      "221/221 [==============================] - 0s 2ms/step - loss: 0.3389 - accuracy: 0.8528 - val_loss: 0.4056 - val_accuracy: 0.7932\n",
      "Epoch 84/100\n",
      "221/221 [==============================] - 0s 2ms/step - loss: 0.3388 - accuracy: 0.8549 - val_loss: 0.4051 - val_accuracy: 0.7907\n",
      "Epoch 85/100\n",
      "221/221 [==============================] - 0s 1ms/step - loss: 0.3379 - accuracy: 0.8552 - val_loss: 0.4008 - val_accuracy: 0.7923\n",
      "Epoch 86/100\n",
      "221/221 [==============================] - 0s 2ms/step - loss: 0.3375 - accuracy: 0.8552 - val_loss: 0.3992 - val_accuracy: 0.7940\n",
      "Epoch 87/100\n",
      "221/221 [==============================] - 0s 1ms/step - loss: 0.3371 - accuracy: 0.8548 - val_loss: 0.3929 - val_accuracy: 0.7997\n",
      "Epoch 88/100\n",
      "221/221 [==============================] - 0s 1ms/step - loss: 0.3370 - accuracy: 0.8558 - val_loss: 0.4064 - val_accuracy: 0.7923\n",
      "Epoch 89/100\n",
      "221/221 [==============================] - 0s 1ms/step - loss: 0.3364 - accuracy: 0.8554 - val_loss: 0.3991 - val_accuracy: 0.7972\n",
      "Epoch 90/100\n",
      "221/221 [==============================] - 0s 2ms/step - loss: 0.3357 - accuracy: 0.8552 - val_loss: 0.3904 - val_accuracy: 0.7989\n",
      "Epoch 91/100\n",
      "221/221 [==============================] - 0s 1ms/step - loss: 0.3354 - accuracy: 0.8565 - val_loss: 0.4045 - val_accuracy: 0.7940\n",
      "Epoch 92/100\n",
      "221/221 [==============================] - 0s 1ms/step - loss: 0.3349 - accuracy: 0.8579 - val_loss: 0.3930 - val_accuracy: 0.7989\n",
      "Epoch 93/100\n",
      "221/221 [==============================] - 0s 1ms/step - loss: 0.3349 - accuracy: 0.8555 - val_loss: 0.4083 - val_accuracy: 0.7899\n",
      "Epoch 94/100\n",
      "221/221 [==============================] - 0s 1ms/step - loss: 0.3344 - accuracy: 0.8561 - val_loss: 0.4004 - val_accuracy: 0.7932\n",
      "Epoch 95/100\n",
      "221/221 [==============================] - 0s 1ms/step - loss: 0.3338 - accuracy: 0.8549 - val_loss: 0.3932 - val_accuracy: 0.7989\n",
      "Epoch 96/100\n",
      "221/221 [==============================] - 0s 1ms/step - loss: 0.3335 - accuracy: 0.8538 - val_loss: 0.4062 - val_accuracy: 0.7923\n",
      "Epoch 97/100\n",
      "221/221 [==============================] - 0s 1ms/step - loss: 0.3329 - accuracy: 0.8551 - val_loss: 0.4008 - val_accuracy: 0.7980\n",
      "Epoch 98/100\n",
      "221/221 [==============================] - 0s 1ms/step - loss: 0.3324 - accuracy: 0.8562 - val_loss: 0.4004 - val_accuracy: 0.7964\n",
      "Epoch 99/100\n",
      "221/221 [==============================] - 0s 1ms/step - loss: 0.3322 - accuracy: 0.8562 - val_loss: 0.4144 - val_accuracy: 0.7891\n",
      "Epoch 100/100\n",
      "221/221 [==============================] - 0s 1ms/step - loss: 0.3319 - accuracy: 0.8535 - val_loss: 0.4072 - val_accuracy: 0.7956\n"
     ]
    }
   ],
   "source": [
    "# Fit the model to the training data\n",
    "fit_model_multi = multi_nn_model.fit(X_resampled, y_resampled, validation_data = (X_test_scaled, y_test), epochs=100, shuffle=True)"
   ]
  },
  {
   "cell_type": "code",
   "execution_count": 133,
   "id": "b9683809",
   "metadata": {},
   "outputs": [
    {
     "data": {
      "text/html": [
       "<div>\n",
       "<style scoped>\n",
       "    .dataframe tbody tr th:only-of-type {\n",
       "        vertical-align: middle;\n",
       "    }\n",
       "\n",
       "    .dataframe tbody tr th {\n",
       "        vertical-align: top;\n",
       "    }\n",
       "\n",
       "    .dataframe thead th {\n",
       "        text-align: right;\n",
       "    }\n",
       "</style>\n",
       "<table border=\"1\" class=\"dataframe\">\n",
       "  <thead>\n",
       "    <tr style=\"text-align: right;\">\n",
       "      <th></th>\n",
       "      <th>loss</th>\n",
       "      <th>accuracy</th>\n",
       "      <th>val_loss</th>\n",
       "      <th>val_accuracy</th>\n",
       "    </tr>\n",
       "  </thead>\n",
       "  <tbody>\n",
       "    <tr>\n",
       "      <th>1</th>\n",
       "      <td>0.888792</td>\n",
       "      <td>0.510190</td>\n",
       "      <td>0.418977</td>\n",
       "      <td>0.831433</td>\n",
       "    </tr>\n",
       "    <tr>\n",
       "      <th>2</th>\n",
       "      <td>0.585949</td>\n",
       "      <td>0.701387</td>\n",
       "      <td>0.419943</td>\n",
       "      <td>0.760586</td>\n",
       "    </tr>\n",
       "    <tr>\n",
       "      <th>3</th>\n",
       "      <td>0.530838</td>\n",
       "      <td>0.768469</td>\n",
       "      <td>0.402979</td>\n",
       "      <td>0.747557</td>\n",
       "    </tr>\n",
       "    <tr>\n",
       "      <th>4</th>\n",
       "      <td>0.502196</td>\n",
       "      <td>0.795217</td>\n",
       "      <td>0.387697</td>\n",
       "      <td>0.744300</td>\n",
       "    </tr>\n",
       "    <tr>\n",
       "      <th>5</th>\n",
       "      <td>0.482267</td>\n",
       "      <td>0.804699</td>\n",
       "      <td>0.386145</td>\n",
       "      <td>0.748371</td>\n",
       "    </tr>\n",
       "    <tr>\n",
       "      <th>...</th>\n",
       "      <td>...</td>\n",
       "      <td>...</td>\n",
       "      <td>...</td>\n",
       "      <td>...</td>\n",
       "    </tr>\n",
       "    <tr>\n",
       "      <th>96</th>\n",
       "      <td>0.333546</td>\n",
       "      <td>0.853807</td>\n",
       "      <td>0.406177</td>\n",
       "      <td>0.792345</td>\n",
       "    </tr>\n",
       "    <tr>\n",
       "      <th>97</th>\n",
       "      <td>0.332927</td>\n",
       "      <td>0.855081</td>\n",
       "      <td>0.400810</td>\n",
       "      <td>0.798046</td>\n",
       "    </tr>\n",
       "    <tr>\n",
       "      <th>98</th>\n",
       "      <td>0.332383</td>\n",
       "      <td>0.856213</td>\n",
       "      <td>0.400429</td>\n",
       "      <td>0.796417</td>\n",
       "    </tr>\n",
       "    <tr>\n",
       "      <th>99</th>\n",
       "      <td>0.332244</td>\n",
       "      <td>0.856213</td>\n",
       "      <td>0.414374</td>\n",
       "      <td>0.789088</td>\n",
       "    </tr>\n",
       "    <tr>\n",
       "      <th>100</th>\n",
       "      <td>0.331914</td>\n",
       "      <td>0.853524</td>\n",
       "      <td>0.407208</td>\n",
       "      <td>0.795603</td>\n",
       "    </tr>\n",
       "  </tbody>\n",
       "</table>\n",
       "<p>100 rows × 4 columns</p>\n",
       "</div>"
      ],
      "text/plain": [
       "         loss  accuracy  val_loss  val_accuracy\n",
       "1    0.888792  0.510190  0.418977      0.831433\n",
       "2    0.585949  0.701387  0.419943      0.760586\n",
       "3    0.530838  0.768469  0.402979      0.747557\n",
       "4    0.502196  0.795217  0.387697      0.744300\n",
       "5    0.482267  0.804699  0.386145      0.748371\n",
       "..        ...       ...       ...           ...\n",
       "96   0.333546  0.853807  0.406177      0.792345\n",
       "97   0.332927  0.855081  0.400810      0.798046\n",
       "98   0.332383  0.856213  0.400429      0.796417\n",
       "99   0.332244  0.856213  0.414374      0.789088\n",
       "100  0.331914  0.853524  0.407208      0.795603\n",
       "\n",
       "[100 rows x 4 columns]"
      ]
     },
     "execution_count": 133,
     "metadata": {},
     "output_type": "execute_result"
    }
   ],
   "source": [
    "# Create a DataFrame containing training history\n",
    "multi_history_df = pd.DataFrame(fit_model_multi.history, index=range(1,len(fit_model_multi.history[\"loss\"])+1))\n",
    "multi_history_df"
   ]
  },
  {
   "cell_type": "code",
   "execution_count": 134,
   "id": "8df6dfb7",
   "metadata": {},
   "outputs": [
    {
     "data": {
      "image/png": "[encoded data removed]",
      "text/plain": [
       "<Figure size 432x288 with 1 Axes>"
      ]
     },
     "metadata": {
      "needs_background": "light"
     },
     "output_type": "display_data"
    }
   ],
   "source": [
    "# Plot the history\n",
    "multi_history_plotf = multi_history_df.plot(title = \"Multiple Perceptron History\",colormap= \"viridis\")"
   ]
  },
  {
   "cell_type": "code",
   "execution_count": 135,
   "id": "7ff48892",
   "metadata": {
    "scrolled": true
   },
   "outputs": [
    {
     "data": {
      "text/plain": [
       "<AxesSubplot:>"
      ]
     },
     "execution_count": 135,
     "metadata": {},
     "output_type": "execute_result"
    },
    {
     "data": {
      "image/png": "[encoded data removed]",
      "text/plain": [
       "<Figure size 432x288 with 1 Axes>"
      ]
     },
     "metadata": {
      "needs_background": "light"
     },
     "output_type": "display_data"
    }
   ],
   "source": [
    "# Plot the loss\n",
    "multi_history_df.plot(y=[\"loss\", \"val_loss\"], colormap= \"viridis\")"
   ]
  },
  {
   "cell_type": "code",
   "execution_count": 136,
   "id": "05f4a9e6",
   "metadata": {},
   "outputs": [
    {
     "data": {
      "text/plain": [
       "<AxesSubplot:>"
      ]
     },
     "execution_count": 136,
     "metadata": {},
     "output_type": "execute_result"
    },
    {
     "data": {
      "image/png": "[encoded data removed]",
      "text/plain": [
       "<Figure size 432x288 with 1 Axes>"
      ]
     },
     "metadata": {
      "needs_background": "light"
     },
     "output_type": "display_data"
    }
   ],
   "source": [
    "# Plot the accuracy\n",
    "multi_history_df.plot(y=[\"accuracy\", \"val_accuracy\"], colormap= \"viridis\")"
   ]
  },
  {
   "cell_type": "code",
   "execution_count": 137,
   "id": "fa7e44c7",
   "metadata": {
    "scrolled": true
   },
   "outputs": [
    {
     "name": "stdout",
     "output_type": "stream",
     "text": [
      " The loss for the multiple perceptron model is: 0.40720847249031067, The accuracy is: 0.7956026196479797\n"
     ]
    }
   ],
   "source": [
    "# Evaluate the model using the test data\n",
    "multi_model_loss, multi_model_accuracy = multi_nn_model.evaluate(X_test_scaled,y_test,verbose=0)\n",
    "print(f\" The loss for the multiple perceptron model is: {multi_model_loss}, The accuracy is: {multi_model_accuracy}\")"
   ]
  },
  {
   "cell_type": "code",
   "execution_count": 138,
   "id": "1c5ed29e",
   "metadata": {},
   "outputs": [],
   "source": [
    "#Y_pred: flatten & Convert prediction probabilities to binary format\n",
    "y_pred_multi = multi_nn_model.predict(X_test_scaled)\n",
    "y_pred_multi = y_pred_multi.flatten()\n",
    "y_pred_multi_tf = tf.round(y_pred_multi)"
   ]
  },
  {
   "cell_type": "code",
   "execution_count": 139,
   "id": "419f1873",
   "metadata": {
    "scrolled": true
   },
   "outputs": [
    {
     "data": {
      "text/plain": [
       "<sklearn.metrics._plot.confusion_matrix.ConfusionMatrixDisplay at 0x29b8baa0f88>"
      ]
     },
     "execution_count": 139,
     "metadata": {},
     "output_type": "execute_result"
    },
    {
     "data": {
      "image/png": "[encoded data removed]",
      "text/plain": [
       "<Figure size 432x288 with 2 Axes>"
      ]
     },
     "metadata": {
      "needs_background": "light"
     },
     "output_type": "display_data"
    }
   ],
   "source": [
    "# Display the confusion matrix\n",
    "multi_nn_cm = confusion_matrix(y_test, y_pred_multi_tf, labels=[1,0])\n",
    "\n",
    "multi_disp = ConfusionMatrixDisplay(confusion_matrix=multi_nn_cm, display_labels=[1,0])\n",
    "multi_disp.plot()\n",
    "multi_disp.ax_.set_title(\"Multiple Perceptron Confusion Matrix\")\n",
    "multi_disp"
   ]
  },
  {
   "cell_type": "code",
   "execution_count": 156,
   "id": "d2edb679",
   "metadata": {},
   "outputs": [
    {
     "name": "stdout",
     "output_type": "stream",
     "text": [
      "Accuracy Score of the Multiple Perceptron Model: 0.7956026058631922\n",
      "Recall Score of the Multiple Perceptron Model: 0.5192307692307693\n",
      "Specifity Score of the Deep Learning Model: 0.8078231292517006\n",
      "Balanced Accuracy Score of the Multiple Perceptron Model: 0.663526949241235\n",
      "Precision Score of the Multiple Perceptron Model: 0.1067193675889328\n",
      "F1 Score Score of the Multiple Perceptron Model: 0.17704918032786887\n",
      "Loss of the Multiple Perceptron Model: 0.40720847249031067\n"
     ]
    },
    {
     "data": {
      "text/html": [
       "<div>\n",
       "<style scoped>\n",
       "    .dataframe tbody tr th:only-of-type {\n",
       "        vertical-align: middle;\n",
       "    }\n",
       "\n",
       "    .dataframe tbody tr th {\n",
       "        vertical-align: top;\n",
       "    }\n",
       "\n",
       "    .dataframe thead th {\n",
       "        text-align: right;\n",
       "    }\n",
       "</style>\n",
       "<table border=\"1\" class=\"dataframe\">\n",
       "  <thead>\n",
       "    <tr style=\"text-align: right;\">\n",
       "      <th></th>\n",
       "      <th>Model Type</th>\n",
       "      <th>Accuracy</th>\n",
       "      <th>Recall</th>\n",
       "      <th>Specificity</th>\n",
       "      <th>Balanced Accuracy</th>\n",
       "      <th>Precision</th>\n",
       "      <th>F1 Score</th>\n",
       "      <th>Loss</th>\n",
       "    </tr>\n",
       "  </thead>\n",
       "  <tbody>\n",
       "    <tr>\n",
       "      <th>0</th>\n",
       "      <td>Multi Perceptron</td>\n",
       "      <td>0.795603</td>\n",
       "      <td>0.519231</td>\n",
       "      <td>0.807823</td>\n",
       "      <td>0.663527</td>\n",
       "      <td>0.106719</td>\n",
       "      <td>0.177049</td>\n",
       "      <td>0.407208</td>\n",
       "    </tr>\n",
       "  </tbody>\n",
       "</table>\n",
       "</div>"
      ],
      "text/plain": [
       "         Model Type  Accuracy    Recall  Specificity  Balanced Accuracy  \\\n",
       "0  Multi Perceptron  0.795603  0.519231     0.807823           0.663527   \n",
       "\n",
       "   Precision  F1 Score      Loss  \n",
       "0   0.106719  0.177049  0.407208  "
      ]
     },
     "execution_count": 156,
     "metadata": {},
     "output_type": "execute_result"
    }
   ],
   "source": [
    "# Advanced Classification Metrics\n",
    "# Accuracy\n",
    "multi_accuracy_score = accuracy_score(y_test, y_pred_multi_tf)\n",
    "print(f'Accuracy Score of the Multiple Perceptron Model: {multi_accuracy_score}')\n",
    "\n",
    "# Recall/ Sensitivity\n",
    "multi_recall_score = recall_score(y_test, y_pred_multi_tf)\n",
    "print(f'Recall Score of the Multiple Perceptron Model: {multi_recall_score}')\n",
    "\n",
    "# Specificity\n",
    "multi_specificity_score = 950 / 1176\n",
    "print(f'Specifity Score of the Deep Learning Model: {multi_specificity_score}')\n",
    "\n",
    "# Balanced Accuracy Score\n",
    "multi_bas = balanced_accuracy_score(y_test, y_pred_multi_tf)\n",
    "print(f'Balanced Accuracy Score of the Multiple Perceptron Model: {multi_bas}')\n",
    "\n",
    "# Precision\n",
    "multi_precision_score = precision_score(y_test, y_pred_multi_tf)\n",
    "print(f'Precision Score of the Multiple Perceptron Model: {multi_precision_score}')     \n",
    "      \n",
    "# F1 Score\n",
    "multi_f1_score = f1_score(y_test, y_pred_multi_tf)\n",
    "print(f'F1 Score Score of the Multiple Perceptron Model: {multi_f1_score}')\n",
    "\n",
    "# Loss Score\n",
    "print(f'Loss of the Multiple Perceptron Model: {multi_model_loss}')\n",
    "\n",
    "# Advanced Classification Metrics DF\n",
    "multi_acm = {\"Model Type\": [\"Multi Perceptron\"], \"Accuracy\":[multi_accuracy_score], \"Recall\": [multi_recall_score], \"Specificity\":[multi_specificity_score], \n",
    "          \"Balanced Accuracy\": [multi_bas], \"Precision\":[multi_precision_score], \"F1 Score\":[multi_f1_score], \"Loss\": [multi_model_loss]}\n",
    "multi_acm_df = pd.DataFrame(data=multi_acm)\n",
    "multi_acm_df"
   ]
  },
  {
   "cell_type": "markdown",
   "id": "10c8ce22",
   "metadata": {},
   "source": [
    "## Deep Learning- Feedforward Neural Network"
   ]
  },
  {
   "cell_type": "code",
   "execution_count": 141,
   "id": "108a2466",
   "metadata": {},
   "outputs": [
    {
     "name": "stdout",
     "output_type": "stream",
     "text": [
      "Model: \"sequential_8\"\n",
      "_________________________________________________________________\n",
      " Layer (type)                Output Shape              Param #   \n",
      "=================================================================\n",
      " dense_18 (Dense)            (None, 80)                1760      \n",
      "                                                                 \n",
      " dense_19 (Dense)            (None, 50)                4050      \n",
      "                                                                 \n",
      " dense_20 (Dense)            (None, 1)                 51        \n",
      "                                                                 \n",
      "=================================================================\n",
      "Total params: 5,861\n",
      "Trainable params: 5,861\n",
      "Non-trainable params: 0\n",
      "_________________________________________________________________\n"
     ]
    }
   ],
   "source": [
    "# Define the model - deep neural net\n",
    "number_input_features = len(X_train[0])\n",
    "hidden_nodes_layer1 = 80\n",
    "hidden_nodes_layer2 = 50\n",
    "\n",
    "deep_nn_model = tf.keras.models.Sequential()\n",
    "\n",
    "# First hidden layer\n",
    "deep_nn_model.add(\n",
    "    tf.keras.layers.Dense(units=hidden_nodes_layer1, input_dim=number_input_features, activation=\"relu\")\n",
    ")\n",
    "\n",
    "# Second hidden layer\n",
    "deep_nn_model.add(tf.keras.layers.Dense(units=hidden_nodes_layer2, activation=\"relu\"))\n",
    "\n",
    "# Output layer\n",
    "deep_nn_model.add(tf.keras.layers.Dense(units=1, activation=\"sigmoid\"))\n",
    "\n",
    "# Check the structure of the model\n",
    "deep_nn_model.summary()"
   ]
  },
  {
   "cell_type": "code",
   "execution_count": 142,
   "id": "f430848f",
   "metadata": {},
   "outputs": [],
   "source": [
    "# Compile the model\n",
    "deep_nn_model.compile(loss=\"binary_crossentropy\", optimizer=\"adam\", metrics=[\"accuracy\"])"
   ]
  },
  {
   "cell_type": "code",
   "execution_count": 143,
   "id": "31441fb7",
   "metadata": {
    "scrolled": true
   },
   "outputs": [
    {
     "name": "stdout",
     "output_type": "stream",
     "text": [
      "Epoch 1/100\n",
      "116/116 [==============================] - 1s 3ms/step - loss: 0.1933 - accuracy: 0.9576 - val_loss: 0.1486 - val_accuracy: 0.9577\n",
      "Epoch 2/100\n",
      "116/116 [==============================] - 0s 2ms/step - loss: 0.1484 - accuracy: 0.9573 - val_loss: 0.1456 - val_accuracy: 0.9577\n",
      "Epoch 3/100\n",
      "116/116 [==============================] - 0s 3ms/step - loss: 0.1423 - accuracy: 0.9573 - val_loss: 0.1408 - val_accuracy: 0.9577\n",
      "Epoch 4/100\n",
      "116/116 [==============================] - 0s 3ms/step - loss: 0.1389 - accuracy: 0.9573 - val_loss: 0.1418 - val_accuracy: 0.9577\n",
      "Epoch 5/100\n",
      "116/116 [==============================] - 0s 3ms/step - loss: 0.1354 - accuracy: 0.9573 - val_loss: 0.1407 - val_accuracy: 0.9577\n",
      "Epoch 6/100\n",
      "116/116 [==============================] - 0s 2ms/step - loss: 0.1343 - accuracy: 0.9573 - val_loss: 0.1414 - val_accuracy: 0.9568\n",
      "Epoch 7/100\n",
      "116/116 [==============================] - 0s 2ms/step - loss: 0.1309 - accuracy: 0.9579 - val_loss: 0.1430 - val_accuracy: 0.9577\n",
      "Epoch 8/100\n",
      "116/116 [==============================] - 0s 2ms/step - loss: 0.1291 - accuracy: 0.9579 - val_loss: 0.1433 - val_accuracy: 0.9593\n",
      "Epoch 9/100\n",
      "116/116 [==============================] - 0s 2ms/step - loss: 0.1286 - accuracy: 0.9584 - val_loss: 0.1417 - val_accuracy: 0.9577\n",
      "Epoch 10/100\n",
      "116/116 [==============================] - 0s 2ms/step - loss: 0.1263 - accuracy: 0.9582 - val_loss: 0.1470 - val_accuracy: 0.9568\n",
      "Epoch 11/100\n",
      "116/116 [==============================] - 0s 2ms/step - loss: 0.1262 - accuracy: 0.9593 - val_loss: 0.1465 - val_accuracy: 0.9577\n",
      "Epoch 12/100\n",
      "116/116 [==============================] - 0s 2ms/step - loss: 0.1230 - accuracy: 0.9595 - val_loss: 0.1456 - val_accuracy: 0.9585\n",
      "Epoch 13/100\n",
      "116/116 [==============================] - 0s 2ms/step - loss: 0.1216 - accuracy: 0.9595 - val_loss: 0.1495 - val_accuracy: 0.9577\n",
      "Epoch 14/100\n",
      "116/116 [==============================] - 0s 2ms/step - loss: 0.1206 - accuracy: 0.9595 - val_loss: 0.1498 - val_accuracy: 0.9577\n",
      "Epoch 15/100\n",
      "116/116 [==============================] - 0s 2ms/step - loss: 0.1200 - accuracy: 0.9612 - val_loss: 0.1501 - val_accuracy: 0.9585\n",
      "Epoch 16/100\n",
      "116/116 [==============================] - 0s 2ms/step - loss: 0.1181 - accuracy: 0.9601 - val_loss: 0.1515 - val_accuracy: 0.9544\n",
      "Epoch 17/100\n",
      "116/116 [==============================] - 0s 2ms/step - loss: 0.1186 - accuracy: 0.9603 - val_loss: 0.1533 - val_accuracy: 0.9568\n",
      "Epoch 18/100\n",
      "116/116 [==============================] - 0s 2ms/step - loss: 0.1156 - accuracy: 0.9601 - val_loss: 0.1507 - val_accuracy: 0.9552\n",
      "Epoch 19/100\n",
      "116/116 [==============================] - 0s 2ms/step - loss: 0.1140 - accuracy: 0.9603 - val_loss: 0.1529 - val_accuracy: 0.9544\n",
      "Epoch 20/100\n",
      "116/116 [==============================] - 0s 2ms/step - loss: 0.1118 - accuracy: 0.9614 - val_loss: 0.1600 - val_accuracy: 0.9560\n",
      "Epoch 21/100\n",
      "116/116 [==============================] - 0s 2ms/step - loss: 0.1114 - accuracy: 0.9603 - val_loss: 0.1537 - val_accuracy: 0.9528\n",
      "Epoch 22/100\n",
      "116/116 [==============================] - 0s 2ms/step - loss: 0.1087 - accuracy: 0.9622 - val_loss: 0.1571 - val_accuracy: 0.9560\n",
      "Epoch 23/100\n",
      "116/116 [==============================] - 0s 2ms/step - loss: 0.1084 - accuracy: 0.9631 - val_loss: 0.1581 - val_accuracy: 0.9536\n",
      "Epoch 24/100\n",
      "116/116 [==============================] - 0s 2ms/step - loss: 0.1082 - accuracy: 0.9631 - val_loss: 0.1616 - val_accuracy: 0.9560\n",
      "Epoch 25/100\n",
      "116/116 [==============================] - 0s 2ms/step - loss: 0.1044 - accuracy: 0.9622 - val_loss: 0.1612 - val_accuracy: 0.9560\n",
      "Epoch 26/100\n",
      "116/116 [==============================] - 0s 2ms/step - loss: 0.1053 - accuracy: 0.9622 - val_loss: 0.1624 - val_accuracy: 0.9568\n",
      "Epoch 27/100\n",
      "116/116 [==============================] - 0s 2ms/step - loss: 0.1021 - accuracy: 0.9650 - val_loss: 0.1676 - val_accuracy: 0.9560\n",
      "Epoch 28/100\n",
      "116/116 [==============================] - 0s 2ms/step - loss: 0.1016 - accuracy: 0.9633 - val_loss: 0.1682 - val_accuracy: 0.9511\n",
      "Epoch 29/100\n",
      "116/116 [==============================] - 0s 2ms/step - loss: 0.1004 - accuracy: 0.9647 - val_loss: 0.1655 - val_accuracy: 0.9511\n",
      "Epoch 30/100\n",
      "116/116 [==============================] - 0s 2ms/step - loss: 0.0989 - accuracy: 0.9633 - val_loss: 0.1701 - val_accuracy: 0.9528\n",
      "Epoch 31/100\n",
      "116/116 [==============================] - 0s 2ms/step - loss: 0.1035 - accuracy: 0.9660 - val_loss: 0.1726 - val_accuracy: 0.9520\n",
      "Epoch 32/100\n",
      "116/116 [==============================] - 0s 2ms/step - loss: 0.0970 - accuracy: 0.9658 - val_loss: 0.1737 - val_accuracy: 0.9560\n",
      "Epoch 33/100\n",
      "116/116 [==============================] - 0s 2ms/step - loss: 0.0959 - accuracy: 0.9647 - val_loss: 0.1776 - val_accuracy: 0.9536\n",
      "Epoch 34/100\n",
      "116/116 [==============================] - 0s 2ms/step - loss: 0.0930 - accuracy: 0.9641 - val_loss: 0.1757 - val_accuracy: 0.9511\n",
      "Epoch 35/100\n",
      "116/116 [==============================] - 0s 2ms/step - loss: 0.0917 - accuracy: 0.9669 - val_loss: 0.1818 - val_accuracy: 0.9552\n",
      "Epoch 36/100\n",
      "116/116 [==============================] - 0s 2ms/step - loss: 0.0908 - accuracy: 0.9658 - val_loss: 0.1847 - val_accuracy: 0.9528\n",
      "Epoch 37/100\n",
      "116/116 [==============================] - 0s 2ms/step - loss: 0.0880 - accuracy: 0.9669 - val_loss: 0.1881 - val_accuracy: 0.9528\n",
      "Epoch 38/100\n",
      "116/116 [==============================] - 0s 2ms/step - loss: 0.0882 - accuracy: 0.9674 - val_loss: 0.1899 - val_accuracy: 0.9536\n",
      "Epoch 39/100\n",
      "116/116 [==============================] - 0s 2ms/step - loss: 0.0871 - accuracy: 0.9663 - val_loss: 0.1925 - val_accuracy: 0.9520\n",
      "Epoch 40/100\n",
      "116/116 [==============================] - 0s 2ms/step - loss: 0.0858 - accuracy: 0.9679 - val_loss: 0.1941 - val_accuracy: 0.9520\n",
      "Epoch 41/100\n",
      "116/116 [==============================] - 0s 2ms/step - loss: 0.0842 - accuracy: 0.9701 - val_loss: 0.1996 - val_accuracy: 0.9536\n",
      "Epoch 42/100\n",
      "116/116 [==============================] - 0s 2ms/step - loss: 0.0839 - accuracy: 0.9701 - val_loss: 0.1967 - val_accuracy: 0.9520\n",
      "Epoch 43/100\n",
      "116/116 [==============================] - 0s 2ms/step - loss: 0.0839 - accuracy: 0.9674 - val_loss: 0.1978 - val_accuracy: 0.9503\n",
      "Epoch 44/100\n",
      "116/116 [==============================] - 0s 2ms/step - loss: 0.0817 - accuracy: 0.9712 - val_loss: 0.2007 - val_accuracy: 0.9511\n",
      "Epoch 45/100\n",
      "116/116 [==============================] - 0s 2ms/step - loss: 0.0799 - accuracy: 0.9704 - val_loss: 0.2088 - val_accuracy: 0.9503\n",
      "Epoch 46/100\n",
      "116/116 [==============================] - 0s 2ms/step - loss: 0.0795 - accuracy: 0.9712 - val_loss: 0.2117 - val_accuracy: 0.9495\n",
      "Epoch 47/100\n",
      "116/116 [==============================] - 0s 2ms/step - loss: 0.0789 - accuracy: 0.9707 - val_loss: 0.2083 - val_accuracy: 0.9479\n",
      "Epoch 48/100\n",
      "116/116 [==============================] - 0s 2ms/step - loss: 0.0768 - accuracy: 0.9707 - val_loss: 0.2125 - val_accuracy: 0.9536\n",
      "Epoch 49/100\n",
      "116/116 [==============================] - 0s 2ms/step - loss: 0.0766 - accuracy: 0.9750 - val_loss: 0.2146 - val_accuracy: 0.9520\n",
      "Epoch 50/100\n",
      "116/116 [==============================] - 0s 2ms/step - loss: 0.0752 - accuracy: 0.9701 - val_loss: 0.2148 - val_accuracy: 0.9520\n",
      "Epoch 51/100\n",
      "116/116 [==============================] - 0s 2ms/step - loss: 0.0745 - accuracy: 0.9726 - val_loss: 0.2218 - val_accuracy: 0.9520\n",
      "Epoch 52/100\n",
      "116/116 [==============================] - 0s 2ms/step - loss: 0.0745 - accuracy: 0.9728 - val_loss: 0.2275 - val_accuracy: 0.9471\n",
      "Epoch 53/100\n",
      "116/116 [==============================] - 0s 2ms/step - loss: 0.0903 - accuracy: 0.9666 - val_loss: 0.2211 - val_accuracy: 0.9528\n",
      "Epoch 54/100\n",
      "116/116 [==============================] - 0s 2ms/step - loss: 0.0775 - accuracy: 0.9707 - val_loss: 0.2205 - val_accuracy: 0.9560\n",
      "Epoch 55/100\n",
      "116/116 [==============================] - 0s 2ms/step - loss: 0.0752 - accuracy: 0.9709 - val_loss: 0.2223 - val_accuracy: 0.9511\n",
      "Epoch 56/100\n",
      "116/116 [==============================] - 0s 2ms/step - loss: 0.0719 - accuracy: 0.9747 - val_loss: 0.2187 - val_accuracy: 0.9495\n",
      "Epoch 57/100\n",
      "116/116 [==============================] - 0s 2ms/step - loss: 0.0714 - accuracy: 0.9750 - val_loss: 0.2228 - val_accuracy: 0.9495\n"
     ]
    },
    {
     "name": "stdout",
     "output_type": "stream",
     "text": [
      "Epoch 58/100\n",
      "116/116 [==============================] - 0s 2ms/step - loss: 0.0691 - accuracy: 0.9745 - val_loss: 0.2238 - val_accuracy: 0.9487\n",
      "Epoch 59/100\n",
      "116/116 [==============================] - 0s 2ms/step - loss: 0.0679 - accuracy: 0.9745 - val_loss: 0.2369 - val_accuracy: 0.9503\n",
      "Epoch 60/100\n",
      "116/116 [==============================] - 0s 2ms/step - loss: 0.0683 - accuracy: 0.9742 - val_loss: 0.2388 - val_accuracy: 0.9422\n",
      "Epoch 61/100\n",
      "116/116 [==============================] - 0s 2ms/step - loss: 0.0678 - accuracy: 0.9747 - val_loss: 0.2331 - val_accuracy: 0.9487\n",
      "Epoch 62/100\n",
      "116/116 [==============================] - 0s 2ms/step - loss: 0.0679 - accuracy: 0.9736 - val_loss: 0.2413 - val_accuracy: 0.9528\n",
      "Epoch 63/100\n",
      "116/116 [==============================] - 0s 2ms/step - loss: 0.0651 - accuracy: 0.9769 - val_loss: 0.2433 - val_accuracy: 0.9487\n",
      "Epoch 64/100\n",
      "116/116 [==============================] - 0s 2ms/step - loss: 0.0642 - accuracy: 0.9769 - val_loss: 0.2402 - val_accuracy: 0.9511\n",
      "Epoch 65/100\n",
      "116/116 [==============================] - 0s 2ms/step - loss: 0.0621 - accuracy: 0.9764 - val_loss: 0.2465 - val_accuracy: 0.9503\n",
      "Epoch 66/100\n",
      "116/116 [==============================] - 0s 2ms/step - loss: 0.0622 - accuracy: 0.9783 - val_loss: 0.2473 - val_accuracy: 0.9397\n",
      "Epoch 67/100\n",
      "116/116 [==============================] - 0s 2ms/step - loss: 0.0635 - accuracy: 0.9766 - val_loss: 0.2479 - val_accuracy: 0.9495\n",
      "Epoch 68/100\n",
      "116/116 [==============================] - 0s 2ms/step - loss: 0.0621 - accuracy: 0.9766 - val_loss: 0.2514 - val_accuracy: 0.9479\n",
      "Epoch 69/100\n",
      "116/116 [==============================] - 0s 2ms/step - loss: 0.0609 - accuracy: 0.9769 - val_loss: 0.2613 - val_accuracy: 0.9495\n",
      "Epoch 70/100\n",
      "116/116 [==============================] - 0s 2ms/step - loss: 0.0619 - accuracy: 0.9775 - val_loss: 0.2599 - val_accuracy: 0.9463\n",
      "Epoch 71/100\n",
      "116/116 [==============================] - 0s 3ms/step - loss: 0.0600 - accuracy: 0.9775 - val_loss: 0.2622 - val_accuracy: 0.9471\n",
      "Epoch 72/100\n",
      "116/116 [==============================] - 0s 2ms/step - loss: 0.0582 - accuracy: 0.9785 - val_loss: 0.2700 - val_accuracy: 0.9471\n",
      "Epoch 73/100\n",
      "116/116 [==============================] - 0s 2ms/step - loss: 0.0577 - accuracy: 0.9783 - val_loss: 0.2576 - val_accuracy: 0.9479\n",
      "Epoch 74/100\n",
      "116/116 [==============================] - 0s 2ms/step - loss: 0.0585 - accuracy: 0.9783 - val_loss: 0.2681 - val_accuracy: 0.9454\n",
      "Epoch 75/100\n",
      "116/116 [==============================] - 0s 2ms/step - loss: 0.0567 - accuracy: 0.9783 - val_loss: 0.2700 - val_accuracy: 0.9536\n",
      "Epoch 76/100\n",
      "116/116 [==============================] - 0s 2ms/step - loss: 0.0598 - accuracy: 0.9772 - val_loss: 0.2695 - val_accuracy: 0.9454\n",
      "Epoch 77/100\n",
      "116/116 [==============================] - 0s 2ms/step - loss: 0.0731 - accuracy: 0.9696 - val_loss: 0.2692 - val_accuracy: 0.9406\n",
      "Epoch 78/100\n",
      "116/116 [==============================] - 0s 2ms/step - loss: 0.0604 - accuracy: 0.9772 - val_loss: 0.2762 - val_accuracy: 0.9430\n",
      "Epoch 79/100\n",
      "116/116 [==============================] - 0s 2ms/step - loss: 0.0565 - accuracy: 0.9783 - val_loss: 0.2793 - val_accuracy: 0.9528\n",
      "Epoch 80/100\n",
      "116/116 [==============================] - 0s 2ms/step - loss: 0.0551 - accuracy: 0.9796 - val_loss: 0.2753 - val_accuracy: 0.9520\n",
      "Epoch 81/100\n",
      "116/116 [==============================] - 0s 2ms/step - loss: 0.0543 - accuracy: 0.9783 - val_loss: 0.2714 - val_accuracy: 0.9463\n",
      "Epoch 82/100\n",
      "116/116 [==============================] - 0s 2ms/step - loss: 0.0519 - accuracy: 0.9804 - val_loss: 0.2820 - val_accuracy: 0.9471\n",
      "Epoch 83/100\n",
      "116/116 [==============================] - 0s 2ms/step - loss: 0.0516 - accuracy: 0.9788 - val_loss: 0.2859 - val_accuracy: 0.9479\n",
      "Epoch 84/100\n",
      "116/116 [==============================] - 0s 2ms/step - loss: 0.0527 - accuracy: 0.9807 - val_loss: 0.2921 - val_accuracy: 0.9389\n",
      "Epoch 85/100\n",
      "116/116 [==============================] - 0s 2ms/step - loss: 0.0539 - accuracy: 0.9807 - val_loss: 0.2864 - val_accuracy: 0.9438\n",
      "Epoch 86/100\n",
      "116/116 [==============================] - 0s 2ms/step - loss: 0.0506 - accuracy: 0.9799 - val_loss: 0.3004 - val_accuracy: 0.9471\n",
      "Epoch 87/100\n",
      "116/116 [==============================] - 0s 2ms/step - loss: 0.0501 - accuracy: 0.9818 - val_loss: 0.3018 - val_accuracy: 0.9463\n",
      "Epoch 88/100\n",
      "116/116 [==============================] - 0s 2ms/step - loss: 0.0491 - accuracy: 0.9807 - val_loss: 0.2934 - val_accuracy: 0.9397\n",
      "Epoch 89/100\n",
      "116/116 [==============================] - 0s 2ms/step - loss: 0.0517 - accuracy: 0.9799 - val_loss: 0.3101 - val_accuracy: 0.9495\n",
      "Epoch 90/100\n",
      "116/116 [==============================] - 0s 2ms/step - loss: 0.0489 - accuracy: 0.9823 - val_loss: 0.3033 - val_accuracy: 0.9495\n",
      "Epoch 91/100\n",
      "116/116 [==============================] - 0s 2ms/step - loss: 0.0613 - accuracy: 0.9764 - val_loss: 0.2909 - val_accuracy: 0.9406\n",
      "Epoch 92/100\n",
      "116/116 [==============================] - 0s 2ms/step - loss: 0.0526 - accuracy: 0.9807 - val_loss: 0.3109 - val_accuracy: 0.9503\n",
      "Epoch 93/100\n",
      "116/116 [==============================] - 0s 2ms/step - loss: 0.0502 - accuracy: 0.9794 - val_loss: 0.3098 - val_accuracy: 0.9406\n",
      "Epoch 94/100\n",
      "116/116 [==============================] - 0s 2ms/step - loss: 0.0496 - accuracy: 0.9818 - val_loss: 0.3118 - val_accuracy: 0.9471\n",
      "Epoch 95/100\n",
      "116/116 [==============================] - 0s 2ms/step - loss: 0.0484 - accuracy: 0.9810 - val_loss: 0.3153 - val_accuracy: 0.9471\n",
      "Epoch 96/100\n",
      "116/116 [==============================] - 0s 2ms/step - loss: 0.0477 - accuracy: 0.9823 - val_loss: 0.3163 - val_accuracy: 0.9487\n",
      "Epoch 97/100\n",
      "116/116 [==============================] - 0s 2ms/step - loss: 0.0452 - accuracy: 0.9804 - val_loss: 0.3200 - val_accuracy: 0.9520\n",
      "Epoch 98/100\n",
      "116/116 [==============================] - 0s 2ms/step - loss: 0.0476 - accuracy: 0.9813 - val_loss: 0.3231 - val_accuracy: 0.9471\n",
      "Epoch 99/100\n",
      "116/116 [==============================] - 0s 2ms/step - loss: 0.0461 - accuracy: 0.9807 - val_loss: 0.3274 - val_accuracy: 0.9438\n",
      "Epoch 100/100\n",
      "116/116 [==============================] - 0s 2ms/step - loss: 0.0454 - accuracy: 0.9834 - val_loss: 0.3366 - val_accuracy: 0.9520\n"
     ]
    }
   ],
   "source": [
    "# Train the model\n",
    "fit_model_deep = deep_nn_model.fit(X_train_scaled, y_train, validation_data = (X_test_scaled, y_test), epochs=100)"
   ]
  },
  {
   "cell_type": "code",
   "execution_count": 144,
   "id": "08746fc1",
   "metadata": {},
   "outputs": [
    {
     "data": {
      "text/html": [
       "<div>\n",
       "<style scoped>\n",
       "    .dataframe tbody tr th:only-of-type {\n",
       "        vertical-align: middle;\n",
       "    }\n",
       "\n",
       "    .dataframe tbody tr th {\n",
       "        vertical-align: top;\n",
       "    }\n",
       "\n",
       "    .dataframe thead th {\n",
       "        text-align: right;\n",
       "    }\n",
       "</style>\n",
       "<table border=\"1\" class=\"dataframe\">\n",
       "  <thead>\n",
       "    <tr style=\"text-align: right;\">\n",
       "      <th></th>\n",
       "      <th>loss</th>\n",
       "      <th>accuracy</th>\n",
       "      <th>val_loss</th>\n",
       "      <th>val_accuracy</th>\n",
       "    </tr>\n",
       "  </thead>\n",
       "  <tbody>\n",
       "    <tr>\n",
       "      <th>1</th>\n",
       "      <td>0.193261</td>\n",
       "      <td>0.957620</td>\n",
       "      <td>0.148569</td>\n",
       "      <td>0.957655</td>\n",
       "    </tr>\n",
       "    <tr>\n",
       "      <th>2</th>\n",
       "      <td>0.148364</td>\n",
       "      <td>0.957349</td>\n",
       "      <td>0.145615</td>\n",
       "      <td>0.957655</td>\n",
       "    </tr>\n",
       "    <tr>\n",
       "      <th>3</th>\n",
       "      <td>0.142333</td>\n",
       "      <td>0.957349</td>\n",
       "      <td>0.140758</td>\n",
       "      <td>0.957655</td>\n",
       "    </tr>\n",
       "    <tr>\n",
       "      <th>4</th>\n",
       "      <td>0.138931</td>\n",
       "      <td>0.957349</td>\n",
       "      <td>0.141819</td>\n",
       "      <td>0.957655</td>\n",
       "    </tr>\n",
       "    <tr>\n",
       "      <th>5</th>\n",
       "      <td>0.135392</td>\n",
       "      <td>0.957349</td>\n",
       "      <td>0.140739</td>\n",
       "      <td>0.957655</td>\n",
       "    </tr>\n",
       "    <tr>\n",
       "      <th>...</th>\n",
       "      <td>...</td>\n",
       "      <td>...</td>\n",
       "      <td>...</td>\n",
       "      <td>...</td>\n",
       "    </tr>\n",
       "    <tr>\n",
       "      <th>96</th>\n",
       "      <td>0.047705</td>\n",
       "      <td>0.982342</td>\n",
       "      <td>0.316270</td>\n",
       "      <td>0.948697</td>\n",
       "    </tr>\n",
       "    <tr>\n",
       "      <th>97</th>\n",
       "      <td>0.045231</td>\n",
       "      <td>0.980440</td>\n",
       "      <td>0.320022</td>\n",
       "      <td>0.951954</td>\n",
       "    </tr>\n",
       "    <tr>\n",
       "      <th>98</th>\n",
       "      <td>0.047587</td>\n",
       "      <td>0.981255</td>\n",
       "      <td>0.323105</td>\n",
       "      <td>0.947068</td>\n",
       "    </tr>\n",
       "    <tr>\n",
       "      <th>99</th>\n",
       "      <td>0.046094</td>\n",
       "      <td>0.980712</td>\n",
       "      <td>0.327434</td>\n",
       "      <td>0.943811</td>\n",
       "    </tr>\n",
       "    <tr>\n",
       "      <th>100</th>\n",
       "      <td>0.045420</td>\n",
       "      <td>0.983428</td>\n",
       "      <td>0.336614</td>\n",
       "      <td>0.951954</td>\n",
       "    </tr>\n",
       "  </tbody>\n",
       "</table>\n",
       "<p>100 rows × 4 columns</p>\n",
       "</div>"
      ],
      "text/plain": [
       "         loss  accuracy  val_loss  val_accuracy\n",
       "1    0.193261  0.957620  0.148569      0.957655\n",
       "2    0.148364  0.957349  0.145615      0.957655\n",
       "3    0.142333  0.957349  0.140758      0.957655\n",
       "4    0.138931  0.957349  0.141819      0.957655\n",
       "5    0.135392  0.957349  0.140739      0.957655\n",
       "..        ...       ...       ...           ...\n",
       "96   0.047705  0.982342  0.316270      0.948697\n",
       "97   0.045231  0.980440  0.320022      0.951954\n",
       "98   0.047587  0.981255  0.323105      0.947068\n",
       "99   0.046094  0.980712  0.327434      0.943811\n",
       "100  0.045420  0.983428  0.336614      0.951954\n",
       "\n",
       "[100 rows x 4 columns]"
      ]
     },
     "execution_count": 144,
     "metadata": {},
     "output_type": "execute_result"
    }
   ],
   "source": [
    "# Create a DataFrame containing training history\n",
    "deep_history_df = pd.DataFrame(fit_model_deep.history, index=range(1,len(fit_model_deep.history[\"loss\"])+1))\n",
    "deep_history_df"
   ]
  },
  {
   "cell_type": "code",
   "execution_count": 145,
   "id": "4c577bab",
   "metadata": {},
   "outputs": [
    {
     "data": {
      "image/png": "[encoded data removed]",
      "text/plain": [
       "<Figure size 432x288 with 1 Axes>"
      ]
     },
     "metadata": {
      "needs_background": "light"
     },
     "output_type": "display_data"
    }
   ],
   "source": [
    "#Plot the history\n",
    "deep_history_plot = deep_history_df.plot(title = \"Deep Learning History\",colormap= \"viridis\")\n"
   ]
  },
  {
   "cell_type": "code",
   "execution_count": 146,
   "id": "666e3645",
   "metadata": {},
   "outputs": [
    {
     "data": {
      "text/plain": [
       "<AxesSubplot:>"
      ]
     },
     "execution_count": 146,
     "metadata": {},
     "output_type": "execute_result"
    },
    {
     "data": {
      "image/png": "[encoded data removed]",
      "text/plain": [
       "<Figure size 432x288 with 1 Axes>"
      ]
     },
     "metadata": {
      "needs_background": "light"
     },
     "output_type": "display_data"
    }
   ],
   "source": [
    "# Plot the loss\n",
    "deep_history_df.plot(y=[\"loss\", \"val_loss\"], colormap= \"viridis\")"
   ]
  },
  {
   "cell_type": "code",
   "execution_count": 147,
   "id": "b3de5eff",
   "metadata": {},
   "outputs": [
    {
     "data": {
      "text/plain": [
       "<AxesSubplot:>"
      ]
     },
     "execution_count": 147,
     "metadata": {},
     "output_type": "execute_result"
    },
    {
     "data": {
      "image/png": "[encoded data removed]",
      "text/plain": [
       "<Figure size 432x288 with 1 Axes>"
      ]
     },
     "metadata": {
      "needs_background": "light"
     },
     "output_type": "display_data"
    }
   ],
   "source": [
    "# Plot the accuracy\n",
    "deep_history_df.plot(y=[\"accuracy\", \"val_accuracy\"], colormap= \"viridis\")"
   ]
  },
  {
   "cell_type": "code",
   "execution_count": 148,
   "id": "07538d00",
   "metadata": {},
   "outputs": [
    {
     "name": "stdout",
     "output_type": "stream",
     "text": [
      " The loss for the deep learning model is: 0.33661404252052307, The accuracy is: 0.9519544243812561\n"
     ]
    }
   ],
   "source": [
    "# Evaluate the model using the test data\n",
    "dl_model_loss, dl_model_accuracy = deep_nn_model.evaluate(X_test_scaled,y_test,verbose=0)\n",
    "print(f\" The loss for the deep learning model is: {dl_model_loss}, The accuracy is: {dl_model_accuracy}\")"
   ]
  },
  {
   "cell_type": "code",
   "execution_count": 149,
   "id": "a952527b",
   "metadata": {},
   "outputs": [],
   "source": [
    "#Y_pred: flatten & Convert prediction probabilities to binary format\n",
    "y_pred_dl = deep_nn_model.predict(X_test_scaled)\n",
    "y_pred_dl = y_pred_dl.flatten()\n",
    "y_pred_dl_tf=tf.round(y_pred_dl)"
   ]
  },
  {
   "cell_type": "code",
   "execution_count": 150,
   "id": "036d2540",
   "metadata": {},
   "outputs": [
    {
     "name": "stdout",
     "output_type": "stream",
     "text": [
      "[[   5   47]\n",
      " [  12 1164]]\n"
     ]
    },
    {
     "data": {
      "text/plain": [
       "<sklearn.metrics._plot.confusion_matrix.ConfusionMatrixDisplay at 0x29b8ce8cb48>"
      ]
     },
     "execution_count": 150,
     "metadata": {},
     "output_type": "execute_result"
    },
    {
     "data": {
      "image/png": "[encoded data removed]",
      "text/plain": [
       "<Figure size 432x288 with 2 Axes>"
      ]
     },
     "metadata": {
      "needs_background": "light"
     },
     "output_type": "display_data"
    }
   ],
   "source": [
    "# Display the confusion matrix\n",
    "dl_nn_cm = confusion_matrix(y_test, y_pred_dl_tf, labels=[1,0])\n",
    "print (dl_nn_cm)\n",
    "dl_disp = ConfusionMatrixDisplay(confusion_matrix=dl_nn_cm, display_labels=[1,0])\n",
    "dl_disp.plot()\n",
    "dl_disp.ax_.set_title(\"Deep Learning Confusion Matrix\")\n",
    "dl_disp"
   ]
  },
  {
   "cell_type": "code",
   "execution_count": 155,
   "id": "cee11ed2",
   "metadata": {},
   "outputs": [
    {
     "name": "stdout",
     "output_type": "stream",
     "text": [
      "Accuracy Score of the Deep Learning Model: 0.9519543973941368\n",
      "Recall Score of the Deep Learning Model: 0.09615384615384616\n",
      "Specifity Score of the Deep Learning Model: 0.9897959183673469\n",
      "Balanced Accuracy Score of the Multiple Perceptron Model: 0.5429748822605965\n",
      "Precision Score of the Deep Learning Model: 0.29411764705882354\n",
      "F1 Score Score of the Deep Learning Model: 0.14492753623188406\n",
      "Loss of the Deep Learning Model: 0.33661404252052307\n"
     ]
    },
    {
     "data": {
      "text/html": [
       "<div>\n",
       "<style scoped>\n",
       "    .dataframe tbody tr th:only-of-type {\n",
       "        vertical-align: middle;\n",
       "    }\n",
       "\n",
       "    .dataframe tbody tr th {\n",
       "        vertical-align: top;\n",
       "    }\n",
       "\n",
       "    .dataframe thead th {\n",
       "        text-align: right;\n",
       "    }\n",
       "</style>\n",
       "<table border=\"1\" class=\"dataframe\">\n",
       "  <thead>\n",
       "    <tr style=\"text-align: right;\">\n",
       "      <th></th>\n",
       "      <th>Model Type</th>\n",
       "      <th>Accuracy</th>\n",
       "      <th>Recall</th>\n",
       "      <th>Specificity</th>\n",
       "      <th>Balanced Accuracy</th>\n",
       "      <th>Precision</th>\n",
       "      <th>F1 Score</th>\n",
       "      <th>Loss</th>\n",
       "    </tr>\n",
       "  </thead>\n",
       "  <tbody>\n",
       "    <tr>\n",
       "      <th>0</th>\n",
       "      <td>Deep Learning</td>\n",
       "      <td>0.951954</td>\n",
       "      <td>0.096154</td>\n",
       "      <td>0.989796</td>\n",
       "      <td>0.542975</td>\n",
       "      <td>0.294118</td>\n",
       "      <td>0.144928</td>\n",
       "      <td>0.336614</td>\n",
       "    </tr>\n",
       "  </tbody>\n",
       "</table>\n",
       "</div>"
      ],
      "text/plain": [
       "      Model Type  Accuracy    Recall  Specificity  Balanced Accuracy  \\\n",
       "0  Deep Learning  0.951954  0.096154     0.989796           0.542975   \n",
       "\n",
       "   Precision  F1 Score      Loss  \n",
       "0   0.294118  0.144928  0.336614  "
      ]
     },
     "execution_count": 155,
     "metadata": {},
     "output_type": "execute_result"
    }
   ],
   "source": [
    "# Advanced Classification Metrics\n",
    "# Accuracy\n",
    "dl_accuracy_score = accuracy_score(y_test, y_pred_dl_tf)\n",
    "print(f'Accuracy Score of the Deep Learning Model: {dl_accuracy_score}')\n",
    "\n",
    "## Recall/Sensitivity\n",
    "dl_recall_score = recall_score(y_test, y_pred_dl_tf)\n",
    "print(f'Recall Score of the Deep Learning Model: {dl_recall_score}')\n",
    "\n",
    "# Specificity\n",
    "dl_specificity_score = 1164 / 1176\n",
    "print(f'Specifity Score of the Deep Learning Model: {dl_specificity_score}')\n",
    "\n",
    "# Balanced Accuracy Score\n",
    "dl_bas = balanced_accuracy_score(y_test, y_pred_dl_tf)\n",
    "print(f'Balanced Accuracy Score of the Multiple Perceptron Model: {dl_bas}')\n",
    "\n",
    "# Precision\n",
    "dl_precision_score = precision_score(y_test, y_pred_dl_tf)\n",
    "print(f'Precision Score of the Deep Learning Model: {dl_precision_score}')     \n",
    "      \n",
    "# F1 Score\n",
    "dl_f1_score = f1_score(y_test, y_pred_dl_tf)\n",
    "print(f'F1 Score Score of the Deep Learning Model: {dl_f1_score}')\n",
    "\n",
    "# Loss Score\n",
    "print(f'Loss of the Deep Learning Model: {dl_model_loss}')\n",
    "\n",
    "# Advanced Classification Metrics DF\n",
    "dl_acm = {\"Model Type\": [\"Deep Learning\"], \"Accuracy\":[dl_accuracy_score], \"Recall\": [dl_recall_score], \"Specificity\":[dl_specificity_score], \n",
    "          \"Balanced Accuracy\": [dl_bas], \"Precision\":[dl_precision_score], \"F1 Score\":[dl_f1_score], \"Loss\": [dl_model_loss]}\n",
    "dl_acm_df = pd.DataFrame(data=dl_acm)\n",
    "dl_acm_df"
   ]
  },
  {
   "cell_type": "markdown",
   "id": "2a58640b",
   "metadata": {},
   "source": [
    "## Comparison of the Models"
   ]
  },
  {
   "cell_type": "code",
   "execution_count": 152,
   "id": "7002dc78",
   "metadata": {},
   "outputs": [
    {
     "data": {
      "image/png": "[encoded data removed]",
      "text/plain": [
       "<Figure size 432x288 with 1 Axes>"
      ]
     },
     "metadata": {
      "needs_background": "light"
     },
     "output_type": "display_data"
    },
    {
     "data": {
      "image/png": "[encoded data removed]",
      "text/plain": [
       "<Figure size 432x288 with 1 Axes>"
      ]
     },
     "metadata": {
      "needs_background": "light"
     },
     "output_type": "display_data"
    },
    {
     "data": {
      "image/png": "[encoded data removed]",
      "text/plain": [
       "<Figure size 432x288 with 1 Axes>"
      ]
     },
     "metadata": {
      "needs_background": "light"
     },
     "output_type": "display_data"
    }
   ],
   "source": [
    "nn_history_plot = nn_history_df.plot(title = \"Single Perceptron History\",colormap= \"viridis\")\n",
    "multi_history_plotf = multi_history_df.plot(title = \"Multiple Perceptron History\",colormap= \"viridis\")\n",
    "deep_history_plot = deep_history_df.plot(title = \"Deep Learning History\",colormap= \"viridis\")"
   ]
  },
  {
   "cell_type": "code",
   "execution_count": 153,
   "id": "4c5a63d0",
   "metadata": {},
   "outputs": [
    {
     "data": {
      "text/plain": [
       "<sklearn.metrics._plot.confusion_matrix.ConfusionMatrixDisplay at 0x29b8ce8cb48>"
      ]
     },
     "execution_count": 153,
     "metadata": {},
     "output_type": "execute_result"
    },
    {
     "data": {
      "image/png": "[encoded data removed]",
      "text/plain": [
       "<Figure size 432x288 with 2 Axes>"
      ]
     },
     "metadata": {
      "needs_background": "light"
     },
     "output_type": "display_data"
    },
    {
     "data": {
      "image/png": "[encoded data removed]",
      "text/plain": [
       "<Figure size 432x288 with 2 Axes>"
      ]
     },
     "metadata": {
      "needs_background": "light"
     },
     "output_type": "display_data"
    },
    {
     "data": {
      "image/png": "[encoded data removed]",
      "text/plain": [
       "<Figure size 432x288 with 2 Axes>"
      ]
     },
     "metadata": {
      "needs_background": "light"
     },
     "output_type": "display_data"
    }
   ],
   "source": [
    "# Single Perceptron Confusion Matrix\n",
    "nn_disp.plot()\n",
    "nn_disp.ax_.set_title(\"Single Perceptron Confusion Matrix\")\n",
    "\n",
    "# Multiple Perceptron Confusion Matrix\n",
    "multi_disp.plot()\n",
    "multi_disp.ax_.set_title(\"Multiple Perceptron Confusion Matrix\")\n",
    "\n",
    "# Deep Learning Confusion Matrix\n",
    "dl_disp.plot()\n",
    "dl_disp.ax_.set_title(\"Deep Learning Confusion Matrix\")\n",
    "dl_disp"
   ]
  },
  {
   "cell_type": "code",
   "execution_count": 158,
   "id": "ebbe430f",
   "metadata": {
    "scrolled": true
   },
   "outputs": [
    {
     "data": {
      "text/html": [
       "<div>\n",
       "<style scoped>\n",
       "    .dataframe tbody tr th:only-of-type {\n",
       "        vertical-align: middle;\n",
       "    }\n",
       "\n",
       "    .dataframe tbody tr th {\n",
       "        vertical-align: top;\n",
       "    }\n",
       "\n",
       "    .dataframe thead th {\n",
       "        text-align: right;\n",
       "    }\n",
       "</style>\n",
       "<table border=\"1\" class=\"dataframe\">\n",
       "  <thead>\n",
       "    <tr style=\"text-align: right;\">\n",
       "      <th></th>\n",
       "      <th>Model Type</th>\n",
       "      <th>Accuracy</th>\n",
       "      <th>Recall</th>\n",
       "      <th>Specificity</th>\n",
       "      <th>Balanced Accuracy</th>\n",
       "      <th>Precision</th>\n",
       "      <th>F1 Score</th>\n",
       "      <th>Loss</th>\n",
       "    </tr>\n",
       "  </thead>\n",
       "  <tbody>\n",
       "    <tr>\n",
       "      <th>0</th>\n",
       "      <td>Single Perceptron</td>\n",
       "      <td>0.722313</td>\n",
       "      <td>0.884615</td>\n",
       "      <td>0.715136</td>\n",
       "      <td>0.799876</td>\n",
       "      <td>0.120735</td>\n",
       "      <td>0.212471</td>\n",
       "      <td>0.470068</td>\n",
       "    </tr>\n",
       "    <tr>\n",
       "      <th>1</th>\n",
       "      <td>Multi Perceptron</td>\n",
       "      <td>0.795603</td>\n",
       "      <td>0.519231</td>\n",
       "      <td>0.807823</td>\n",
       "      <td>0.663527</td>\n",
       "      <td>0.106719</td>\n",
       "      <td>0.177049</td>\n",
       "      <td>0.407208</td>\n",
       "    </tr>\n",
       "    <tr>\n",
       "      <th>2</th>\n",
       "      <td>Deep Learning</td>\n",
       "      <td>0.951954</td>\n",
       "      <td>0.096154</td>\n",
       "      <td>0.989796</td>\n",
       "      <td>0.542975</td>\n",
       "      <td>0.294118</td>\n",
       "      <td>0.144928</td>\n",
       "      <td>0.336614</td>\n",
       "    </tr>\n",
       "  </tbody>\n",
       "</table>\n",
       "</div>"
      ],
      "text/plain": [
       "          Model Type  Accuracy    Recall  Specificity  Balanced Accuracy  \\\n",
       "0  Single Perceptron  0.722313  0.884615     0.715136           0.799876   \n",
       "1   Multi Perceptron  0.795603  0.519231     0.807823           0.663527   \n",
       "2      Deep Learning  0.951954  0.096154     0.989796           0.542975   \n",
       "\n",
       "   Precision  F1 Score      Loss  \n",
       "0   0.120735  0.212471  0.470068  \n",
       "1   0.106719  0.177049  0.407208  \n",
       "2   0.294118  0.144928  0.336614  "
      ]
     },
     "execution_count": 158,
     "metadata": {},
     "output_type": "execute_result"
    }
   ],
   "source": [
    "# Total Advanced Classification Metrics DF\n",
    "total_acm = ({\"Model Type\": \"Single Perceptron\", \"Accuracy\":nn_accuracy_score, \"Recall\": nn_recall_score, \"Specificity\":nn_specificity_score, \n",
    "          \"Balanced Accuracy\": nn_bas, \"Precision\":nn_precision_score, \"F1 Score\":nn_f1_score, \"Loss\": nn_model_loss }, {\"Model Type\": \"Multi Perceptron\", \"Accuracy\":multi_accuracy_score, \"Recall\": multi_recall_score, \"Specificity\":multi_specificity_score, \n",
    "          \"Balanced Accuracy\": multi_bas, \"Precision\":multi_precision_score, \"F1 Score\":multi_f1_score, \"Loss\": multi_model_loss}, {\"Model Type\": \"Deep Learning\", \"Accuracy\":dl_accuracy_score, \"Recall\": dl_recall_score, \"Specificity\":dl_specificity_score, \n",
    "          \"Balanced Accuracy\": dl_bas, \"Precision\":dl_precision_score, \"F1 Score\":dl_f1_score, \"Loss\": dl_model_loss})\n",
    "total_acm_df = pd.DataFrame(data=total_acm)\n",
    "total_acm_df"
   ]
  },
  {
   "cell_type": "code",
   "execution_count": null,
   "id": "f5983d8e",
   "metadata": {},
   "outputs": [],
   "source": []
  }
 ],
 "metadata": {
  "kernelspec": {
   "display_name": "mlenv",
   "language": "python",
   "name": "mlenv"
  },
  "language_info": {
   "codemirror_mode": {
    "name": "ipython",
    "version": 3
   },
   "file_extension": ".py",
   "mimetype": "text/x-python",
   "name": "python",
   "nbconvert_exporter": "python",
   "pygments_lexer": "ipython3",
   "version": "3.7.11"
  }
 },
 "nbformat": 4,
 "nbformat_minor": 5
}
